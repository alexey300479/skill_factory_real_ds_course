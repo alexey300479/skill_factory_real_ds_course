{
 "cells": [
  {
   "cell_type": "markdown",
   "metadata": {},
   "source": [
    "### Part 1. Counting sdutents by ethnical groups with dictionary"
   ]
  },
  {
   "cell_type": "code",
   "execution_count": 1,
   "metadata": {},
   "outputs": [],
   "source": [
    "import re\n",
    "pattern = re.compile('\\d+')\n",
    "\n",
    "exams = []\n",
    "\n",
    "with open('StudentsPerformance.csv') as f:\n",
    "\n",
    "    for line in f:\n",
    "        info = line.split(',')\n",
    "        if info[0] == '\"gender\"':\n",
    "            continue\n",
    "        else:\n",
    "            new_line = []\n",
    "            for item in info:\n",
    "                search_result = pattern.search(item)\n",
    "                if search_result != None:\n",
    "                    new_line.append(int(search_result[0]))\n",
    "                else:\n",
    "                    new_line.append(item[1:-1])\n",
    "            exams.append(new_line)"
   ]
  },
  {
   "cell_type": "code",
   "execution_count": 2,
   "metadata": {},
   "outputs": [
    {
     "data": {
      "text/plain": [
       "[['female', 'group B', \"bachelor's degree\", 'standard', 'none', 72, 72, 74],\n",
       " ['female', 'group C', 'some college', 'standard', 'completed', 69, 90, 88],\n",
       " ['female', 'group B', \"master's degree\", 'standard', 'none', 90, 95, 93],\n",
       " ['male', 'group A', \"associate's degree\", 'free/reduced', 'none', 47, 57, 44],\n",
       " ['male', 'group C', 'some college', 'standard', 'none', 76, 78, 75]]"
      ]
     },
     "execution_count": 2,
     "metadata": {},
     "output_type": "execute_result"
    }
   ],
   "source": [
    "exams[:5]"
   ]
  },
  {
   "cell_type": "code",
   "execution_count": 3,
   "metadata": {},
   "outputs": [],
   "source": [
    "ethnic_groups_cnt = {result[1]:0 for result in exams}"
   ]
  },
  {
   "cell_type": "code",
   "execution_count": 4,
   "metadata": {},
   "outputs": [],
   "source": [
    "for result in exams:\n",
    "    ethnic_groups_cnt[result[1]] += 1"
   ]
  },
  {
   "cell_type": "code",
   "execution_count": 5,
   "metadata": {},
   "outputs": [
    {
     "data": {
      "text/plain": [
       "{'group B': 190, 'group C': 319, 'group A': 89, 'group D': 262, 'group E': 140}"
      ]
     },
     "execution_count": 5,
     "metadata": {},
     "output_type": "execute_result"
    }
   ],
   "source": [
    "ethnic_groups_cnt"
   ]
  },
  {
   "cell_type": "code",
   "execution_count": 6,
   "metadata": {},
   "outputs": [
    {
     "name": "stdout",
     "output_type": "stream",
     "text": [
      "Количество студентов в группе A: 89\n",
      "Количество студентов в группе B: 190\n",
      "Количество студентов в группе C: 319\n",
      "Количество студентов в группе D: 262\n",
      "Количество студентов в группе E: 140\n"
     ]
    }
   ],
   "source": [
    "ethnic_groups = sorted(ethnic_groups_cnt.keys())\n",
    "for group in ethnic_groups:\n",
    "    print(f'Количество студентов в группе {group[-1]}: {ethnic_groups_cnt[group]}')"
   ]
  },
  {
   "cell_type": "markdown",
   "metadata": {},
   "source": [
    "### Part 2. Nested dictionary creating"
   ]
  },
  {
   "cell_type": "code",
   "execution_count": 7,
   "metadata": {},
   "outputs": [],
   "source": [
    "# Creating detailed ethnic groups dictionary with empty nested dictionaries\n",
    "ethnic_groups_detailed = {group:{} for group in ethnic_groups}"
   ]
  },
  {
   "cell_type": "code",
   "execution_count": 8,
   "metadata": {},
   "outputs": [],
   "source": [
    "# Creating a sorted list of parental education levels\n",
    "parental_edication_levels = sorted({result[2] for result in exams})"
   ]
  },
  {
   "cell_type": "code",
   "execution_count": 9,
   "metadata": {},
   "outputs": [],
   "source": [
    "# Filling in nested dictionaries with zeros\n",
    "for group in ethnic_groups:\n",
    "    for level in parental_edication_levels:\n",
    "        ethnic_groups_detailed[group][level] = 0"
   ]
  },
  {
   "cell_type": "code",
   "execution_count": 10,
   "metadata": {},
   "outputs": [],
   "source": [
    "# Now just counting over all students\n",
    "for result in exams:\n",
    "    ethnic_groups_detailed[result[1]][result[2]] += 1"
   ]
  },
  {
   "cell_type": "code",
   "execution_count": 11,
   "metadata": {},
   "outputs": [
    {
     "data": {
      "text/plain": [
       "{'group A': {\"associate's degree\": 14,\n",
       "  \"bachelor's degree\": 12,\n",
       "  'high school': 18,\n",
       "  \"master's degree\": 3,\n",
       "  'some college': 18,\n",
       "  'some high school': 24},\n",
       " 'group B': {\"associate's degree\": 41,\n",
       "  \"bachelor's degree\": 20,\n",
       "  'high school': 48,\n",
       "  \"master's degree\": 6,\n",
       "  'some college': 37,\n",
       "  'some high school': 38},\n",
       " 'group C': {\"associate's degree\": 78,\n",
       "  \"bachelor's degree\": 40,\n",
       "  'high school': 64,\n",
       "  \"master's degree\": 19,\n",
       "  'some college': 69,\n",
       "  'some high school': 49},\n",
       " 'group D': {\"associate's degree\": 50,\n",
       "  \"bachelor's degree\": 28,\n",
       "  'high school': 44,\n",
       "  \"master's degree\": 23,\n",
       "  'some college': 67,\n",
       "  'some high school': 50},\n",
       " 'group E': {\"associate's degree\": 39,\n",
       "  \"bachelor's degree\": 18,\n",
       "  'high school': 22,\n",
       "  \"master's degree\": 8,\n",
       "  'some college': 35,\n",
       "  'some high school': 18}}"
      ]
     },
     "execution_count": 11,
     "metadata": {},
     "output_type": "execute_result"
    }
   ],
   "source": [
    "ethnic_groups_detailed"
   ]
  },
  {
   "cell_type": "markdown",
   "metadata": {},
   "source": [
    "### Part 3. Tests"
   ]
  },
  {
   "cell_type": "markdown",
   "metadata": {},
   "source": [
    "#### Common code. Creating a list of dictionaies with overall data fields from the original data file"
   ]
  },
  {
   "cell_type": "code",
   "execution_count": 12,
   "metadata": {},
   "outputs": [],
   "source": [
    "# Creating a lists of fields and data rows \n",
    "data_rows = []\n",
    "\n",
    "with open('StudentsPerformance.csv') as f:\n",
    "\n",
    "    for line in f:\n",
    "        info = line.split(',')\n",
    "        if info[0] == '\"gender\"':\n",
    "            data_fields = [field[1:-1] for field in info]\n",
    "            continue\n",
    "        else:\n",
    "            data_rows.append(info)"
   ]
  },
  {
   "cell_type": "code",
   "execution_count": 13,
   "metadata": {},
   "outputs": [],
   "source": [
    "# Creating the list of dictionaries\n",
    "data_dict_list = []\n",
    "\n",
    "columns_cnt = len(data_fields)\n",
    "\n",
    "for row in data_rows:\n",
    "    data_row_dict = dict(zip(data_fields, row))\n",
    "    for field in data_fields:\n",
    "        search_result = pattern.search(data_row_dict[field])\n",
    "        if search_result:\n",
    "            data_row_dict[field] = int(search_result[0])\n",
    "        else:\n",
    "            data_row_dict[field] = data_row_dict[field][1:-1]\n",
    "    data_dict_list.append(data_row_dict)"
   ]
  },
  {
   "cell_type": "code",
   "execution_count": 14,
   "metadata": {},
   "outputs": [
    {
     "data": {
      "text/plain": [
       "[{'gender': 'female',\n",
       "  'race/ethnicity': 'group B',\n",
       "  'parental level of education': \"bachelor's degree\",\n",
       "  'lunch': 'standard',\n",
       "  'test preparation course': 'none',\n",
       "  'math score': 72,\n",
       "  'reading score': 72,\n",
       "  'writing score\"': 74},\n",
       " {'gender': 'female',\n",
       "  'race/ethnicity': 'group C',\n",
       "  'parental level of education': 'some college',\n",
       "  'lunch': 'standard',\n",
       "  'test preparation course': 'completed',\n",
       "  'math score': 69,\n",
       "  'reading score': 90,\n",
       "  'writing score\"': 88},\n",
       " {'gender': 'female',\n",
       "  'race/ethnicity': 'group B',\n",
       "  'parental level of education': \"master's degree\",\n",
       "  'lunch': 'standard',\n",
       "  'test preparation course': 'none',\n",
       "  'math score': 90,\n",
       "  'reading score': 95,\n",
       "  'writing score\"': 93},\n",
       " {'gender': 'male',\n",
       "  'race/ethnicity': 'group A',\n",
       "  'parental level of education': \"associate's degree\",\n",
       "  'lunch': 'free/reduced',\n",
       "  'test preparation course': 'none',\n",
       "  'math score': 47,\n",
       "  'reading score': 57,\n",
       "  'writing score\"': 44},\n",
       " {'gender': 'male',\n",
       "  'race/ethnicity': 'group C',\n",
       "  'parental level of education': 'some college',\n",
       "  'lunch': 'standard',\n",
       "  'test preparation course': 'none',\n",
       "  'math score': 76,\n",
       "  'reading score': 78,\n",
       "  'writing score\"': 75}]"
      ]
     },
     "execution_count": 14,
     "metadata": {},
     "output_type": "execute_result"
    }
   ],
   "source": [
    "data_dict_list[:5]"
   ]
  },
  {
   "cell_type": "markdown",
   "metadata": {},
   "source": [
    "### Task 1."
   ]
  },
  {
   "cell_type": "markdown",
   "metadata": {},
   "source": [
    "Сколько мальчиков хорошо пообедали перед экзаменом (lunch = standard)?"
   ]
  },
  {
   "cell_type": "code",
   "execution_count": 15,
   "metadata": {},
   "outputs": [
    {
     "name": "stdout",
     "output_type": "stream",
     "text": [
      "Количество мальчиков, хорошо пообедавших перед экзаменом: 316\n"
     ]
    }
   ],
   "source": [
    "well_dinner_males_cnt = sum(data_row['gender'] == 'male' and data_row['lunch'] == 'standard'\n",
    "                            for data_row in data_dict_list)\n",
    "\n",
    "print(f'Количество мальчиков, хорошо пообедавших перед экзаменом: {well_dinner_males_cnt}')"
   ]
  },
  {
   "cell_type": "markdown",
   "metadata": {},
   "source": [
    "### Task 2."
   ]
  },
  {
   "cell_type": "markdown",
   "metadata": {},
   "source": [
    "Сколько мальчиков закончили подготовительные курсы (test preparation course = completed)?"
   ]
  },
  {
   "cell_type": "code",
   "execution_count": 16,
   "metadata": {},
   "outputs": [
    {
     "name": "stdout",
     "output_type": "stream",
     "text": [
      "Количество мальчиков, закончивших подготовительные курсы: 174\n"
     ]
    }
   ],
   "source": [
    "prep_courses_males_cnt = sum(data_row['gender'] == 'male' and data_row['test preparation course'] == 'completed'\n",
    "                            for data_row in data_dict_list)\n",
    "\n",
    "print(f'Количество мальчиков, закончивших подготовительные курсы: {prep_courses_males_cnt}')"
   ]
  },
  {
   "cell_type": "markdown",
   "metadata": {},
   "source": [
    "### Task 3."
   ]
  },
  {
   "cell_type": "markdown",
   "metadata": {},
   "source": [
    "У скольких девочек родители имеют степень магистра (parental level of education = master's degree)?"
   ]
  },
  {
   "cell_type": "code",
   "execution_count": 17,
   "metadata": {},
   "outputs": [
    {
     "name": "stdout",
     "output_type": "stream",
     "text": [
      "Количество девочек, чьи родители имеют степень магистра: 36\n"
     ]
    }
   ],
   "source": [
    "females_parents_masters_cnt = sum(data_row['gender'] == 'female' and\n",
    "                                  data_row['parental level of education'] == \"master's degree\"\n",
    "                                  for data_row in data_dict_list)\n",
    "print(f'Количество девочек, чьи родители имеют степень магистра: {females_parents_masters_cnt}')"
   ]
  },
  {
   "cell_type": "markdown",
   "metadata": {},
   "source": [
    "### Task 4."
   ]
  },
  {
   "cell_type": "markdown",
   "metadata": {},
   "source": [
    "Сколько абитуриентов, относящихся к этнической группе С, закончили подготовительные курсы?"
   ]
  },
  {
   "cell_type": "code",
   "execution_count": 18,
   "metadata": {},
   "outputs": [
    {
     "name": "stdout",
     "output_type": "stream",
     "text": [
      "Количество абитуриентов, относящихся к этнической группе C и прошедших подготовительные курсы: 117\n"
     ]
    }
   ],
   "source": [
    "group_c_prep_courses_students_cnt = sum(data_row['race/ethnicity'] == 'group C' and\n",
    "                                        data_row['test preparation course'] == 'completed'\n",
    "                                        for data_row in data_dict_list)\n",
    "print(f'Количество абитуриентов, относящихся к этнической группе C и прошедших подготовительные курсы: {group_c_prep_courses_students_cnt}')"
   ]
  },
  {
   "cell_type": "markdown",
   "metadata": {},
   "source": [
    "### Task 5*."
   ]
  },
  {
   "cell_type": "markdown",
   "metadata": {},
   "source": [
    "Сколько девочек, родители которых имеют степень магистра, набрали по математике больше 90 баллов?"
   ]
  },
  {
   "cell_type": "code",
   "execution_count": 19,
   "metadata": {
    "scrolled": true
   },
   "outputs": [
    {
     "name": "stdout",
     "output_type": "stream",
     "text": [
      "Количество девочек, родители которых имеют степень магистра, набравших по математике больше 90 баллов: 2\n"
     ]
    }
   ],
   "source": [
    "master_parents_females_math_more_90_cnt = sum(data_row['gender'] == 'female' and\n",
    "                                              data_row['parental level of education'] == \"master's degree\" and\n",
    "                                              data_row['math score'] > 90\n",
    "                                              for data_row in data_dict_list)\n",
    "print(f'Количество девочек, родители которых имеют степень магистра, набравших по математике больше 90 баллов: {master_parents_females_math_more_90_cnt}')"
   ]
  }
 ],
 "metadata": {
  "kernelspec": {
   "display_name": "Python 3",
   "language": "python",
   "name": "python3"
  },
  "language_info": {
   "codemirror_mode": {
    "name": "ipython",
    "version": 3
   },
   "file_extension": ".py",
   "mimetype": "text/x-python",
   "name": "python",
   "nbconvert_exporter": "python",
   "pygments_lexer": "ipython3",
   "version": "3.6.1"
  }
 },
 "nbformat": 4,
 "nbformat_minor": 2
}

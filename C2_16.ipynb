{
 "cells": [
  {
   "cell_type": "code",
   "execution_count": 1,
   "metadata": {},
   "outputs": [
    {
     "name": "stdout",
     "output_type": "stream",
     "text": [
      "Overwriting tests.py\n"
     ]
    }
   ],
   "source": [
    "%%writefile tests.py\n",
    "\n",
    "# 1\n",
    "def apply_test():\n",
    "    test_str = \"quick brown fox\"\n",
    "    assert test_str[::-1] == \"xof nworb kciuq\" \n",
    "\n",
    "# 2\n",
    "def test_value():\n",
    "    assert 3 + 3 == 6\n",
    "\n",
    "# 3\n",
    "def test_reverse():\n",
    "    assert not False \n",
    "\n",
    "# 4\n",
    "# def test_list:\n",
    "#     assertion 5 in [1, 2, 5]\n"
   ]
  },
  {
   "cell_type": "code",
   "execution_count": 2,
   "metadata": {
    "scrolled": true
   },
   "outputs": [
    {
     "name": "stdout",
     "output_type": "stream",
     "text": [
      "Traceback (most recent call last):\r\n",
      "  File \"/home/alexey300479/anaconda3/envs/pyfinance/bin/pytest\", line 7, in <module>\r\n",
      "    from py.test import main\r\n",
      "  File \"<frozen importlib._bootstrap>\", line 999, in _handle_fromlist\r\n",
      "  File \"/home/alexey300479/anaconda3/envs/pyfinance/lib/python3.6/site-packages/py/_vendored_packages/apipkg.py\", line 195, in __getattribute__\r\n",
      "    return getattr(getmod(), name)\r\n",
      "  File \"/home/alexey300479/anaconda3/envs/pyfinance/lib/python3.6/site-packages/py/_vendored_packages/apipkg.py\", line 179, in getmod\r\n",
      "    x = importobj(modpath, None)\r\n",
      "  File \"/home/alexey300479/anaconda3/envs/pyfinance/lib/python3.6/site-packages/py/_vendored_packages/apipkg.py\", line 69, in importobj\r\n",
      "    module = __import__(modpath, None, None, ['__doc__'])\r\n",
      "  File \"/home/alexey300479/anaconda3/envs/pyfinance/lib/python3.6/site-packages/pytest.py\", line 13, in <module>\r\n",
      "    from _pytest.fixtures import fixture, yield_fixture\r\n",
      "  File \"/home/alexey300479/anaconda3/envs/pyfinance/lib/python3.6/site-packages/_pytest/fixtures.py\", line 845, in <module>\r\n",
      "    class FixtureFunctionMarker(object):\r\n",
      "  File \"/home/alexey300479/anaconda3/envs/pyfinance/lib/python3.6/site-packages/_pytest/fixtures.py\", line 847, in FixtureFunctionMarker\r\n",
      "    params = attr.ib(convert=attr.converters.optional(tuple))\r\n",
      "TypeError: attrib() got an unexpected keyword argument 'convert'\r\n"
     ]
    }
   ],
   "source": [
    "!pytest tests.py"
   ]
  },
  {
   "cell_type": "code",
   "execution_count": null,
   "metadata": {},
   "outputs": [],
   "source": []
  }
 ],
 "metadata": {
  "kernelspec": {
   "display_name": "Python 3",
   "language": "python",
   "name": "python3"
  },
  "language_info": {
   "codemirror_mode": {
    "name": "ipython",
    "version": 3
   },
   "file_extension": ".py",
   "mimetype": "text/x-python",
   "name": "python",
   "nbconvert_exporter": "python",
   "pygments_lexer": "ipython3",
   "version": "3.6.1"
  }
 },
 "nbformat": 4,
 "nbformat_minor": 2
}

{
 "cells": [
  {
   "cell_type": "code",
   "execution_count": 1,
   "metadata": {},
   "outputs": [],
   "source": [
    "class DepartmentReport():\n",
    "\n",
    "    def __init__(self, company_name):\n",
    "        self.revenues = []\n",
    "        self.company_name = company_name\n",
    "\n",
    "    def add_revenue(self, revenue):\n",
    "        \n",
    "        if not hasattr(self, 'revenues'):\n",
    "            self.revenues = []\n",
    "        \n",
    "        self.revenues.append(revenue)\n",
    "    \n",
    "    def average_revenue(self):\n",
    "\n",
    "        if not hasattr(self, 'revenues'):\n",
    "            self.revenues = []\n",
    "            return 0\n",
    "        \n",
    "        average_revenue = sum(self.revenues) / len(self.revenues)\n",
    "        \n",
    "        return f'Average department revenue for {self.company_name}: {average_revenue:.0f}'"
   ]
  },
  {
   "cell_type": "code",
   "execution_count": 2,
   "metadata": {},
   "outputs": [
    {
     "name": "stdout",
     "output_type": "stream",
     "text": [
      "Average department revenue for Danon: 700000\n"
     ]
    }
   ],
   "source": [
    "report = DepartmentReport(\"Danon\")\n",
    "report.add_revenue(1_000_000)\n",
    "report.add_revenue(400_000)\n",
    "\n",
    "print(report.average_revenue())\n",
    "# => Average department revenue for Danon: 700000"
   ]
  },
  {
   "cell_type": "code",
   "execution_count": 3,
   "metadata": {},
   "outputs": [],
   "source": [
    "class User():\n",
    "    \n",
    "    def __init__(self, email, password, balance=0):\n",
    "        self.email = email\n",
    "        self.password = password\n",
    "        self.balance = balance\n",
    "    \n",
    "    def login(self, login, password):\n",
    "        if self.email == login and self.password == password:\n",
    "            return True\n",
    "        else:\n",
    "            return False\n",
    "    \n",
    "    def update_balance(self, balance_change):\n",
    "        self.balance += balance_change"
   ]
  },
  {
   "cell_type": "code",
   "execution_count": 8,
   "metadata": {},
   "outputs": [],
   "source": [
    "user = User(\"gosha@roskino.org\", \"qwerty\", 20_000)"
   ]
  },
  {
   "cell_type": "code",
   "execution_count": 9,
   "metadata": {},
   "outputs": [
    {
     "data": {
      "text/plain": [
       "False"
      ]
     },
     "execution_count": 9,
     "metadata": {},
     "output_type": "execute_result"
    }
   ],
   "source": [
    "user.login(\"gosha@roskino.org\", \"qwerty123\")\n",
    "# => False"
   ]
  },
  {
   "cell_type": "code",
   "execution_count": 6,
   "metadata": {},
   "outputs": [
    {
     "data": {
      "text/plain": [
       "True"
      ]
     },
     "execution_count": 6,
     "metadata": {},
     "output_type": "execute_result"
    }
   ],
   "source": [
    "user.login(\"gosha@roskino.org\", \"qwerty\")\n",
    "# => True"
   ]
  },
  {
   "cell_type": "code",
   "execution_count": 7,
   "metadata": {},
   "outputs": [
    {
     "name": "stdout",
     "output_type": "stream",
     "text": [
      "19400\n"
     ]
    }
   ],
   "source": [
    "user.update_balance(200)\n",
    "user.update_balance(-500)\n",
    "print(user.balance)\n",
    "# => 19700"
   ]
  },
  {
   "cell_type": "code",
   "execution_count": 25,
   "metadata": {},
   "outputs": [],
   "source": [
    "class IntDataFrame():\n",
    "    def __init__(self, items):\n",
    "        \n",
    "        self.items = []\n",
    "        \n",
    "        for item in items:\n",
    "            self.items.append(int(item))\n",
    "    \n",
    "    def count(self):\n",
    "        \n",
    "        cnt = 0\n",
    "        \n",
    "        for item in self.items:\n",
    "            if item != 0:\n",
    "                cnt += 1\n",
    "        \n",
    "        return cnt\n",
    "\n",
    "    def unique(self):\n",
    "        \n",
    "        unique = set()\n",
    "        \n",
    "        for item in self.items:\n",
    "            unique.add(item)\n",
    "        \n",
    "        unique_cnt = len(unique)\n",
    "        \n",
    "        return unique_cnt"
   ]
  },
  {
   "cell_type": "code",
   "execution_count": 26,
   "metadata": {},
   "outputs": [],
   "source": [
    "df = IntDataFrame([4.7, 4, 3, 0, 2.4, 0.3, 4])"
   ]
  },
  {
   "cell_type": "code",
   "execution_count": 27,
   "metadata": {},
   "outputs": [
    {
     "data": {
      "text/plain": [
       "5"
      ]
     },
     "execution_count": 27,
     "metadata": {},
     "output_type": "execute_result"
    }
   ],
   "source": [
    "df.count()\n",
    "# => 5"
   ]
  },
  {
   "cell_type": "code",
   "execution_count": 28,
   "metadata": {},
   "outputs": [
    {
     "data": {
      "text/plain": [
       "4"
      ]
     },
     "execution_count": 28,
     "metadata": {},
     "output_type": "execute_result"
    }
   ],
   "source": [
    "df.unique()"
   ]
  },
  {
   "cell_type": "code",
   "execution_count": null,
   "metadata": {},
   "outputs": [],
   "source": []
  }
 ],
 "metadata": {
  "kernelspec": {
   "display_name": "Python 3",
   "language": "python",
   "name": "python3"
  },
  "language_info": {
   "codemirror_mode": {
    "name": "ipython",
    "version": 3
   },
   "file_extension": ".py",
   "mimetype": "text/x-python",
   "name": "python",
   "nbconvert_exporter": "python",
   "pygments_lexer": "ipython3",
   "version": "3.6.1"
  }
 },
 "nbformat": 4,
 "nbformat_minor": 2
}

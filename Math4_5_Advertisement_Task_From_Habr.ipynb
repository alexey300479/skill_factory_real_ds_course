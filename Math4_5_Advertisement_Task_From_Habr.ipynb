{
 "cells": [
  {
   "cell_type": "markdown",
   "metadata": {},
   "source": [
    "Задача и листинги приведены в статье:\n",
    "https://habr.com/ru/post/330648/"
   ]
  },
  {
   "cell_type": "code",
   "execution_count": 35,
   "metadata": {},
   "outputs": [
    {
     "name": "stdout",
     "output_type": "stream",
     "text": [
      "Результат:\n",
      "x1 = 95.238095\n",
      "x2 = 285.71429\n",
      "Прибыль:\n",
      "3142.85714\n",
      "Время :\n",
      "0.008783102035522461\n"
     ]
    }
   ],
   "source": [
    "from pulp import *\n",
    "import time\n",
    "start = time.time()\n",
    "x1 = pulp.LpVariable(\"x1\", lowBound=0)\n",
    "x2 = pulp.LpVariable(\"x2\", lowBound=0)\n",
    "problem = pulp.LpProblem('0',pulp.LpMaximize)\n",
    "problem += 30*x1 +x2, \"Функция цели\"\n",
    "problem += 90*x1+ 5*x2 <= 10000, \"1\"\n",
    "problem +=x2 ==3*x1, \"2\"\n",
    "problem.solve()\n",
    "print (\"Результат:\")\n",
    "for variable in problem.variables():\n",
    "    print (variable.name, \"=\", variable.varValue)\n",
    "print (\"Прибыль:\")\n",
    "print (value(problem.objective))\n",
    "stop = time.time()\n",
    "print (\"Время :\")\n",
    "print(stop - start)"
   ]
  },
  {
   "cell_type": "code",
   "execution_count": 36,
   "metadata": {},
   "outputs": [
    {
     "name": "stdout",
     "output_type": "stream",
     "text": [
      "Прибыль:\n",
      "3142.857142857143\n",
      "Результат:\n",
      "[ 9.52e+01]\n",
      "[ 2.86e+02]\n",
      "\n",
      "Время :\n",
      "0.0015254020690917969\n"
     ]
    }
   ],
   "source": [
    "from cvxopt.modeling import variable, op\n",
    "import time\n",
    "start = time.time()\n",
    "x = variable(2, 'x')\n",
    "z=-(30*x[0] +1*x[1])#Функция цели\n",
    "mass1 = (90*x[0] + 5*x[1]  <= 10000) #\"1\"\n",
    "mass2 = (3*x[0] -x[1] == 0) # \"2\"\n",
    "x_non_negative = (x >= 0) #\"3\"    \n",
    "problem =op(z,[mass1,mass2,x_non_negative])\n",
    "problem.solve(solver='glpk')  \n",
    "problem.status\n",
    "print (\"Прибыль:\")\n",
    "print(abs(problem.objective.value()[0]))\n",
    "print (\"Результат:\")\n",
    "print(x.value)\n",
    "stop = time.time()\n",
    "print (\"Время :\")\n",
    "print(stop - start)"
   ]
  },
  {
   "cell_type": "code",
   "execution_count": 37,
   "metadata": {},
   "outputs": [
    {
     "name": "stdout",
     "output_type": "stream",
     "text": [
      "     con: array([-3.33784556e-10])\n",
      "     fun: -3142.8571423296826\n",
      " message: 'Optimization terminated successfully.'\n",
      "     nit: 5\n",
      "   slack: array([1.67888902e-06])\n",
      "  status: 0\n",
      " success: True\n",
      "       x: array([ 95.23809522, 285.71428567])\n",
      "Время :\n",
      "0.004968166351318359\n"
     ]
    }
   ],
   "source": [
    "from scipy.optimize import linprog\n",
    "import time\n",
    "start = time.time()\n",
    "c = [-30,-1] #Функция цели\n",
    "A_ub = [[90,5]]  #'1'   \n",
    "b_ub = [10000]#'1'   \n",
    "A_eq = [[3,-1]] #'2'   \n",
    "b_eq = [0] #'2'   \n",
    "print (linprog(c, A_ub, b_ub, A_eq, b_eq))\n",
    "stop = time.time()\n",
    "print (\"Время :\")\n",
    "print(stop - start)"
   ]
  },
  {
   "cell_type": "code",
   "execution_count": null,
   "metadata": {},
   "outputs": [],
   "source": []
  }
 ],
 "metadata": {
  "kernelspec": {
   "display_name": "Python 3",
   "language": "python",
   "name": "python3"
  },
  "language_info": {
   "codemirror_mode": {
    "name": "ipython",
    "version": 3
   },
   "file_extension": ".py",
   "mimetype": "text/x-python",
   "name": "python",
   "nbconvert_exporter": "python",
   "pygments_lexer": "ipython3",
   "version": "3.7.4"
  }
 },
 "nbformat": 4,
 "nbformat_minor": 4
}

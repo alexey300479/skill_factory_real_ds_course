{
 "cells": [
  {
   "cell_type": "code",
   "execution_count": 1,
   "metadata": {},
   "outputs": [
    {
     "name": "stdout",
     "output_type": "stream",
     "text": [
      "Мальчиков: 482, девочек: 518\n"
     ]
    }
   ],
   "source": [
    "f = open('StudentsPerformance.csv')\n",
    "males = 0\n",
    "females = 0\n",
    "for line in f:\n",
    "    info = line.split(',')\n",
    "    gender = info[0][1:-1]\n",
    "    if gender == 'female':\n",
    "        females += 1\n",
    "    elif gender == 'male':\n",
    "        males +=1\n",
    "print('Мальчиков: {}, девочек: {}'.format(males, females))"
   ]
  },
  {
   "cell_type": "code",
   "execution_count": null,
   "metadata": {},
   "outputs": [],
   "source": []
  }
 ],
 "metadata": {
  "kernelspec": {
   "display_name": "Python 3",
   "language": "python",
   "name": "python3"
  },
  "language_info": {
   "codemirror_mode": {
    "name": "ipython",
    "version": 3
   },
   "file_extension": ".py",
   "mimetype": "text/x-python",
   "name": "python",
   "nbconvert_exporter": "python",
   "pygments_lexer": "ipython3",
   "version": "3.6.1"
  }
 },
 "nbformat": 4,
 "nbformat_minor": 2
}

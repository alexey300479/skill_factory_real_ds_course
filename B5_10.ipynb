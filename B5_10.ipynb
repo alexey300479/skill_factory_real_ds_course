{
 "cells": [
  {
   "cell_type": "markdown",
   "metadata": {},
   "source": [
    "## Common preparations"
   ]
  },
  {
   "cell_type": "markdown",
   "metadata": {},
   "source": [
    "### Importing necessary libs."
   ]
  },
  {
   "cell_type": "code",
   "execution_count": 1,
   "metadata": {},
   "outputs": [],
   "source": [
    "import pandas as pd\n",
    "import os"
   ]
  },
  {
   "cell_type": "markdown",
   "metadata": {},
   "source": [
    "### Defining paths to data files."
   ]
  },
  {
   "cell_type": "code",
   "execution_count": 2,
   "metadata": {},
   "outputs": [],
   "source": [
    "base_dir = os.path.join('data', 'bookmaker')\n",
    "log_filename = os.path.join(base_dir, 'log.csv')\n",
    "users_filename = os.path.join(base_dir, 'users.csv')"
   ]
  },
  {
   "cell_type": "markdown",
   "metadata": {},
   "source": [
    "### Loading log and users data from CSV files into corresponding Pandas DataFrames and merging them."
   ]
  },
  {
   "cell_type": "code",
   "execution_count": 26,
   "metadata": {},
   "outputs": [],
   "source": [
    "#Функция, редактирующую значения столбца win\n",
    "def fillna_win(row):\n",
    "    if row.bet==0: #если ставка bet=0, то выигрыш win=0\n",
    "        return 0\n",
    "    elif row.bet>0 and row.win>0: #если ставка bet>0 и выигрыш win>0, то выигрыш win=win\n",
    "        return row.win\n",
    "    else:\n",
    "        return -row.bet #если ставка bet>0 и выигрыш win=0, то выигрыш win=-bet\n",
    "#Функция, формирующая значения столбца net\n",
    "def column_net(row):\n",
    "    if row.win<0: #если выигрыш win<0, то net=win\n",
    "        return row.win\n",
    "    else: #если выигрыш win>=0, то net=win-bet\n",
    "        return row.win-row.bet\n",
    "    \n",
    "#Готовим данные\n",
    "#log\n",
    "log = pd.read_csv(log_filename, header=None)\n",
    "log.columns = ['user_id','time','bet','win']\n",
    "\n",
    "log.bet = log.bet.fillna(0)\n",
    "log.win = log.apply(lambda row: fillna_win(row), axis=1)\n",
    "log = log[log.user_id != '#error']\n",
    "log.user_id = log.user_id.str.split(' - ').apply(lambda x: x[1])\n",
    "log['net'] = log.apply(lambda row: column_net(row), axis=1)\n",
    "log['time'] = log['time'].apply(lambda x: x[1:])\n",
    "log.time = pd.to_datetime(log['time'])\n",
    "\n",
    "#users\n",
    "us = pd.read_csv(users_filename,sep='\\t', encoding='koi8_r')\n",
    "us.columns = ['user_id','mail','city']\n",
    "us.user_id = us.user_id.apply(lambda x: x.lower())\n",
    "\n",
    "#Слияние\n",
    "log_users = pd.merge(log, us, on='user_id')"
   ]
  },
  {
   "cell_type": "markdown",
   "metadata": {},
   "source": [
    "## Tasks."
   ]
  },
  {
   "cell_type": "markdown",
   "metadata": {},
   "source": [
    "### Task 1.\n",
    "Используйте датасет, который получился в результате всех преобразований выше (в том числе, заполнение пропусков). Ответ запишите в поле ниже в виде целого числа (отбросьте дробную часть).\n",
    "Посчитайте медиану баланса по каждому пользователю. Для этого сгруппируйте по пользователям, возьмите признак net, просуммируйте по каждому пользователю и получите медиану."
   ]
  },
  {
   "cell_type": "markdown",
   "metadata": {},
   "source": [
    "### Solution:"
   ]
  },
  {
   "cell_type": "code",
   "execution_count": 27,
   "metadata": {},
   "outputs": [
    {
     "data": {
      "text/plain": [
       "1986.0"
      ]
     },
     "execution_count": 27,
     "metadata": {},
     "output_type": "execute_result"
    }
   ],
   "source": [
    "log_users.groupby('user_id')['net'].sum().median()"
   ]
  },
  {
   "cell_type": "markdown",
   "metadata": {},
   "source": [
    "### Conclusion: 1986 is the right answer!!!"
   ]
  },
  {
   "cell_type": "markdown",
   "metadata": {},
   "source": [
    "### Task 2.\n",
    "Используйте датасет, который получился в результате всех преобразований выше (в том числе, заполнение пропусков). Ответ запишите в поле ниже в виде целого числа (отбросьте дробную часть).\n",
    "Сколько раз в среднем каждый человек приходит, не делая ставок, при условии, что у этого человека все-таки есть хотя бы одна ставка? Например: Человек посетил букмекерскую контору 5 раз из них 1 раз сделал ставку, 4 раза нет - условие выполняется. Человек посетил букмекерскую контору 5 раз из них ни разу ставку не сделал - условие не выполняется. Для того, чтобы узнать это, просуммируйте в каждой группе количество записей со ставкой, равной 0, и поделите на общее количество групп. Если при этом в группе нет записей со ставкой больше 0, считаем количество записей в данной группе равным 0."
   ]
  },
  {
   "cell_type": "markdown",
   "metadata": {},
   "source": [
    "### Solution:"
   ]
  },
  {
   "cell_type": "code",
   "execution_count": 28,
   "metadata": {},
   "outputs": [
    {
     "data": {
      "text/plain": [
       "5.05"
      ]
     },
     "execution_count": 28,
     "metadata": {},
     "output_type": "execute_result"
    }
   ],
   "source": [
    "log_users[log_users['bet'] == 0].groupby('user_id')['bet'].count().mean()"
   ]
  },
  {
   "cell_type": "markdown",
   "metadata": {},
   "source": [
    "### Another solution:"
   ]
  },
  {
   "cell_type": "code",
   "execution_count": 29,
   "metadata": {},
   "outputs": [
    {
     "name": "stdout",
     "output_type": "stream",
     "text": [
      "5.05\n"
     ]
    }
   ],
   "source": [
    "gr = log_users.groupby('user_id').filter(lambda u:u.bet.max()>0).groupby('user_id')\n",
    "counter = lambda u: u[u.bet==0].bet.count()\n",
    "result = gr.apply(counter).mean()\n",
    "print(result)"
   ]
  },
  {
   "cell_type": "markdown",
   "metadata": {},
   "source": [
    "### Conclusion: 5 will be the right answer!!!"
   ]
  },
  {
   "cell_type": "markdown",
   "metadata": {},
   "source": [
    "### Task 3.\n",
    "Используйте датасет, который получился в результате всех преобразований выше (в том числе, заполнение пропусков). Ответ запишите в поле ниже в виде целого числа - количества дней.\n",
    "Сколько в среднем времени проходит между появлением человека в сервисе и первой ставкой? Считать нужно только тех, кто делал ставку. Для того, чтобы узнать это, напишите метод, считающий минимальное время среди ставок, равных 0, и минимальное время среди ставок больше 0. После этого верните разницу между вторым и первым числом. Пройдитесь по всем группам в цикле. Если в группе нет ставок больше 0, пропустите эту группу. Просуммируйте разницу во времени для каждой группы (с помощью метода, описанного выше) и поделите на количество групп, которые вы не пропустили."
   ]
  },
  {
   "cell_type": "code",
   "execution_count": 71,
   "metadata": {},
   "outputs": [],
   "source": [
    "def first_bet_time_gape(df, user):\n",
    "    user_entries = df[df['user_id'] == user]\n",
    "    user_zero_bets = user_entries[user_entries['bet'] == 0]\n",
    "    first_visit_time = user_zero_bets['time'].sort_values().iloc[0]\n",
    "    user_real_bets = user_entries[user_entries['bet'] != 0]\n",
    "    first_bet_time = user_real_bets['time'].sort_values().iloc[0]\n",
    "    return first_bet_time - first_visit_time"
   ]
  },
  {
   "cell_type": "code",
   "execution_count": 77,
   "metadata": {},
   "outputs": [],
   "source": [
    "users = log_users['user_id'].unique()\n",
    "first_bet_times = []\n",
    "for user in users:\n",
    "    time_delta = first_bet_time_gape(log_users, user)\n",
    "#     if time_delta.days > 0:\n",
    "    first_bet_times.append(time_delta.days)"
   ]
  },
  {
   "cell_type": "code",
   "execution_count": 78,
   "metadata": {},
   "outputs": [
    {
     "data": {
      "text/plain": [
       "45.79"
      ]
     },
     "execution_count": 78,
     "metadata": {},
     "output_type": "execute_result"
    }
   ],
   "source": [
    "sum(first_bet_times)/len(first_bet_times)"
   ]
  },
  {
   "cell_type": "code",
   "execution_count": null,
   "metadata": {},
   "outputs": [],
   "source": []
  }
 ],
 "metadata": {
  "kernelspec": {
   "display_name": "Python 3",
   "language": "python",
   "name": "python3"
  },
  "language_info": {
   "codemirror_mode": {
    "name": "ipython",
    "version": 3
   },
   "file_extension": ".py",
   "mimetype": "text/x-python",
   "name": "python",
   "nbconvert_exporter": "python",
   "pygments_lexer": "ipython3",
   "version": "3.7.4"
  }
 },
 "nbformat": 4,
 "nbformat_minor": 2
}

{
 "cells": [
  {
   "cell_type": "markdown",
   "metadata": {},
   "source": [
    "## Common preparations"
   ]
  },
  {
   "cell_type": "markdown",
   "metadata": {},
   "source": [
    "### Importing necessary libs."
   ]
  },
  {
   "cell_type": "code",
   "execution_count": 2,
   "metadata": {},
   "outputs": [],
   "source": [
    "import pandas as pd\n",
    "import os"
   ]
  },
  {
   "cell_type": "markdown",
   "metadata": {},
   "source": [
    "### Defining paths to data files."
   ]
  },
  {
   "cell_type": "code",
   "execution_count": 3,
   "metadata": {},
   "outputs": [],
   "source": [
    "base_dir = os.path.join('data', 'bookmaker')\n",
    "log_filename = os.path.join(base_dir, 'log.csv')\n",
    "users_filename = os.path.join(base_dir, 'users.csv')"
   ]
  },
  {
   "cell_type": "markdown",
   "metadata": {},
   "source": [
    "### Loading log and users data from CSV files into corresponding Pandas DataFrames and merging them."
   ]
  },
  {
   "cell_type": "code",
   "execution_count": 4,
   "metadata": {},
   "outputs": [],
   "source": [
    "#Функция, редактирующую значения столбца win\n",
    "def fillna_win(row):\n",
    "    if row.bet==0: #если ставка bet=0, то выигрыш win=0\n",
    "        return 0\n",
    "    elif row.bet>0 and row.win>0: #если ставка bet>0 и выигрыш win>0, то выигрыш win=win\n",
    "        return row.win\n",
    "    else:\n",
    "        return -row.bet #если ставка bet>0 и выигрыш win=0, то выигрыш win=-bet\n",
    "#Функция, формирующая значения столбца net\n",
    "def column_net(row):\n",
    "    if row.win<0: #если выигрыш win<0, то net=win\n",
    "        return row.win\n",
    "    else: #если выигрыш win>=0, то net=win-bet\n",
    "        return row.win-row.bet\n",
    "    \n",
    "#Готовим данные\n",
    "#log\n",
    "log = pd.read_csv(log_filename, header=None)\n",
    "log.columns = ['user_id','time','bet','win']\n",
    "\n",
    "log.bet = log.bet.fillna(0)\n",
    "log.win = log.apply(lambda row: fillna_win(row), axis=1)\n",
    "log = log[log.user_id != '#error']\n",
    "log.user_id = log.user_id.str.split(' - ').apply(lambda x: x[1])\n",
    "log['net'] = log.apply(lambda row: column_net(row), axis=1)\n",
    "log['time'] = log['time'].apply(lambda x: x[1:])\n",
    "log.time = pd.to_datetime(log['time'])\n",
    "\n",
    "#users\n",
    "us = pd.read_csv(users_filename,sep='\\t', encoding='koi8_r')\n",
    "us.columns = ['user_id','mail','city']\n",
    "us.user_id = us.user_id.apply(lambda x: x.lower())\n",
    "\n",
    "#Слияние\n",
    "log_users = pd.merge(log, us, on='user_id')"
   ]
  },
  {
   "cell_type": "markdown",
   "metadata": {},
   "source": [
    "## Tasks."
   ]
  },
  {
   "cell_type": "markdown",
   "metadata": {},
   "source": [
    "### Task 1.\n",
    "Используйте датасет, который получился в результате всех преобразований в прошлой секции (в том числе, заполнение пропусков).\n",
    "\n",
    "Ответ запишите в поле ниже в виде одного слова, с большой буквы.\n",
    "Наибольший суммарный выигрыш среди всех городов имеет Москва. Посчитайте следующий за ней город. Для этого сгруппируйте по городам, возьмите признак win, просуммируйте по каждому городу, отсортируйте и получите второй город."
   ]
  },
  {
   "cell_type": "markdown",
   "metadata": {},
   "source": [
    "### Solution:"
   ]
  },
  {
   "cell_type": "code",
   "execution_count": 17,
   "metadata": {},
   "outputs": [
    {
     "data": {
      "text/plain": [
       "'Воронеж'"
      ]
     },
     "execution_count": 17,
     "metadata": {},
     "output_type": "execute_result"
    }
   ],
   "source": [
    "log_users.groupby('city')['win'].sum().sort_values(ascending=False).index[1]"
   ]
  },
  {
   "cell_type": "markdown",
   "metadata": {},
   "source": [
    "### Conclusion: 'Воронеж' is the right answer!!!"
   ]
  },
  {
   "cell_type": "markdown",
   "metadata": {},
   "source": [
    "### Task 2.\n",
    "Используйте датасет, который получился в результате всех преобразований в прошлой секции (в том числе, заполнение пропусков).\n",
    "\n",
    "Ответ запишите в поле ниже в виде целого числа (нужно отбросить дробную часть).\n",
    "\n",
    "Подсказка: можно использовать методы min() и max().\n",
    "Во сколько раз различаются в среднем максимальная и минимальная ставки по городам? Для того, чтобы это посчитать, нужно сгруппировать по городам, взять среднее от признака bet, найти максимальное и минимальное значения, затем поделить одно на другое."
   ]
  },
  {
   "cell_type": "markdown",
   "metadata": {},
   "source": [
    "### Solution:"
   ]
  },
  {
   "cell_type": "code",
   "execution_count": 16,
   "metadata": {},
   "outputs": [
    {
     "name": "stdout",
     "output_type": "stream",
     "text": [
      "227.3904449648712\n"
     ]
    }
   ],
   "source": [
    "mean_min_bet = log_users.groupby('city')['bet'].mean().min()\n",
    "mean_max_bet = log_users.groupby('city')['bet'].mean().max()\n",
    "print(mean_max_bet/mean_min_bet)"
   ]
  },
  {
   "cell_type": "markdown",
   "metadata": {},
   "source": [
    "### Conclusion: 227 will be the right answer!!!"
   ]
  },
  {
   "cell_type": "markdown",
   "metadata": {},
   "source": [
    "### Task 3.\n",
    "\n",
    "\n",
    "Давайте повторим все, что мы прошли в этой секции. Напишите код, который посчитает, сколько раз пользователи приходили в букмекерскую контору в каждом городе. Для этого:\n",
    "\n",
    "1. загрузите датасеты log.csv и users.csv;\n",
    "\n",
    "2. удалите user_id с ошибкой (#error) и приведите признак user_id к одному виду в обоих датасетах;\n",
    "\n",
    "3. слейте два датасета в один по признаку user_id;\n",
    "\n",
    "4. сгруппируйте данные по правильному признаку (какому - вам нужно понять самим), затем выберите user_id и воспользуйтесь функцией count() для подсчета наблюдений в каждой группе;\n",
    "\n",
    "5. результат (таблицу) запишите в sample2."
   ]
  },
  {
   "cell_type": "markdown",
   "metadata": {},
   "source": [
    "### Solution:"
   ]
  },
  {
   "cell_type": "code",
   "execution_count": 19,
   "metadata": {},
   "outputs": [],
   "source": [
    "#Функция, редактирующую значения столбца win\n",
    "def fillna_win(row):\n",
    "    if row.bet==0: #если ставка bet=0, то выигрыш win=0\n",
    "        return 0\n",
    "    elif row.bet>0 and row.win>0: #если ставка bet>0 и выигрыш win>0, то выигрыш win=win\n",
    "        return row.win\n",
    "    else:\n",
    "        return -row.bet #если ставка bet>0 и выигрыш win=0, то выигрыш win=-bet\n",
    "#Функция, формирующая значения столбца net\n",
    "def column_net(row):\n",
    "    if row.win<0: #если выигрыш win<0, то net=win\n",
    "        return row.win\n",
    "    else: #если выигрыш win>=0, то net=win-bet\n",
    "        return row.win-row.bet\n",
    "    \n",
    "#Готовим данные\n",
    "#log\n",
    "log = pd.read_csv(log_filename, header=None)\n",
    "log.columns = ['user_id','time','bet','win']\n",
    "\n",
    "log.bet = log.bet.fillna(0)\n",
    "log.win = log.apply(lambda row: fillna_win(row), axis=1)\n",
    "log = log[log.user_id != '#error']\n",
    "log.user_id = log.user_id.str.split(' - ').apply(lambda x: x[1])\n",
    "log['net'] = log.apply(lambda row: column_net(row), axis=1)\n",
    "log['time'] = log['time'].apply(lambda x: x[1:])\n",
    "log.time = pd.to_datetime(log['time'])\n",
    "\n",
    "#users\n",
    "us = pd.read_csv(users_filename,sep='\\t', encoding='koi8_r')\n",
    "us.columns = ['user_id','mail','city']\n",
    "us.user_id = us.user_id.apply(lambda x: x.lower())\n",
    "\n",
    "#Слияние\n",
    "log_users = pd.merge(log, us, on='user_id')\n",
    "\n",
    "sample2 = log_users.groupby('city')['user_id'].count()"
   ]
  },
  {
   "cell_type": "markdown",
   "metadata": {},
   "source": [
    "### Conclusion: the code above is one of the right answers!!!"
   ]
  },
  {
   "cell_type": "code",
   "execution_count": null,
   "metadata": {},
   "outputs": [],
   "source": []
  }
 ],
 "metadata": {
  "kernelspec": {
   "display_name": "Python 3",
   "language": "python",
   "name": "python3"
  },
  "language_info": {
   "codemirror_mode": {
    "name": "ipython",
    "version": 3
   },
   "file_extension": ".py",
   "mimetype": "text/x-python",
   "name": "python",
   "nbconvert_exporter": "python",
   "pygments_lexer": "ipython3",
   "version": "3.7.4"
  }
 },
 "nbformat": 4,
 "nbformat_minor": 2
}

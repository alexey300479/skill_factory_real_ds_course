{
 "cells": [
  {
   "cell_type": "code",
   "execution_count": 38,
   "metadata": {},
   "outputs": [],
   "source": [
    "import requests\n",
    "import time"
   ]
  },
  {
   "cell_type": "code",
   "execution_count": 2,
   "metadata": {},
   "outputs": [],
   "source": [
    "token = 'e8b9a6e6e8b9a6e6e8b9a6e625e8d65b26ee8b9e8b9a6e6b6e05e02384bb4ba4bedff06'"
   ]
  },
  {
   "cell_type": "code",
   "execution_count": 39,
   "metadata": {},
   "outputs": [
    {
     "name": "stdout",
     "output_type": "stream",
     "text": [
      "Выгружаю 1000 пользователей с offset = 0\n",
      "Ожидаю 0.5 секунды...\n",
      "Выгружаю 1000 пользователей с offset = 1000\n",
      "Ожидаю 0.5 секунды...\n",
      "Выгружаю 1000 пользователей с offset = 2000\n",
      "Ожидаю 0.5 секунды...\n",
      "Выгружаю 1000 пользователей с offset = 3000\n",
      "Ожидаю 0.5 секунды...\n",
      "Выгружаю 1000 пользователей с offset = 4000\n",
      "Ожидаю 0.5 секунды...\n",
      "Выгружаю 1000 пользователей с offset = 5000\n",
      "Ожидаю 0.5 секунды...\n",
      "Выгружаю 1000 пользователей с offset = 6000\n",
      "Ожидаю 0.5 секунды...\n",
      "Выгружаю 1000 пользователей с offset = 7000\n",
      "Ожидаю 0.5 секунды...\n",
      "Выгружаю 1000 пользователей с offset = 8000\n",
      "Ожидаю 0.5 секунды...\n",
      "Выгружаю 1000 пользователей с offset = 9000\n",
      "Ожидаю 0.5 секунды...\n"
     ]
    }
   ],
   "source": [
    "count = 1000  \n",
    "offset = 0  \n",
    "user_ids = []  \n",
    "while offset < 10000:  \n",
    "    print('Выгружаю {} пользователей с offset = {}'.format(count, offset))     \n",
    "    params = {  \n",
    "        'group_id': 'habr',  \n",
    "        'v': 5.95,  \n",
    "        'count': count,  \n",
    "        'offset': offset,  \n",
    "        'access_token': token  \n",
    "    }    \n",
    "    # такой же запрос, как в прошлый раз  \n",
    "    r = requests.get(url, params = params)  \n",
    "    data = r.json()     \n",
    "    user_ids += data['response']['items']    \n",
    "  \n",
    "    # увеличиваем смещение на количество строк выгрузки  \n",
    "    offset += count  \n",
    "    \n",
    "    print('Ожидаю 0.5 секунды...')  \n",
    "    time.sleep(0.5)  "
   ]
  },
  {
   "cell_type": "code",
   "execution_count": null,
   "metadata": {},
   "outputs": [],
   "source": []
  }
 ],
 "metadata": {
  "kernelspec": {
   "display_name": "Python 3",
   "language": "python",
   "name": "python3"
  },
  "language_info": {
   "codemirror_mode": {
    "name": "ipython",
    "version": 3
   },
   "file_extension": ".py",
   "mimetype": "text/x-python",
   "name": "python",
   "nbconvert_exporter": "python",
   "pygments_lexer": "ipython3",
   "version": "3.7.4"
  }
 },
 "nbformat": 4,
 "nbformat_minor": 4
}

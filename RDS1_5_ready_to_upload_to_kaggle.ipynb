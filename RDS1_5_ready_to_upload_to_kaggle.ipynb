{
 "cells": [
  {
   "cell_type": "markdown",
   "metadata": {},
   "source": [
    "## Общие действия"
   ]
  },
  {
   "cell_type": "code",
   "execution_count": 1,
   "metadata": {},
   "outputs": [],
   "source": [
    "# Импортируем все необходимое\n",
    "import ast\n",
    "import matplotlib.pyplot as plt\n",
    "from os.path import join\n",
    "import pandas as pd\n",
    "import seaborn as sns\n",
    "from sklearn import metrics\n",
    "from sklearn.ensemble import RandomForestRegressor\n",
    "from sklearn.preprocessing import LabelEncoder, MultiLabelBinarizer\n",
    "from sklearn.model_selection import train_test_split"
   ]
  },
  {
   "cell_type": "code",
   "execution_count": 2,
   "metadata": {},
   "outputs": [],
   "source": [
    "# Сделаем так, чтобы matplotlib рисовал все сразу без напоминаний\n",
    "%matplotlib inline"
   ]
  },
  {
   "cell_type": "code",
   "execution_count": 3,
   "metadata": {},
   "outputs": [],
   "source": [
    "# Для воспроизводимости результатов зададим:\n",
    "# - общий параметр для генерации случайных чисел\n",
    "RANDOM_SEED = 42\n",
    "# - общую текущую дату\n",
    "CURRENT_DATE = pd.to_datetime('22/02/2020')"
   ]
  },
  {
   "cell_type": "code",
   "execution_count": 4,
   "metadata": {},
   "outputs": [],
   "source": [
    "# Для тех, кто будет запускать мой ноутбук на своей машине создаем requirements.txt\n",
    "!pip freeze > requirements.txt"
   ]
  },
  {
   "cell_type": "code",
   "execution_count": 5,
   "metadata": {},
   "outputs": [],
   "source": [
    "# Зададим путь к папке с данными\n",
    "ds_folder = 'data'\n",
    "\n",
    "# Зададим названия файлов датасетов\n",
    "mt_ds = 'main_task.csv'\n",
    "kt_ds = 'kaggle_task.csv'\n",
    "new_ds = 'new_data.csv'\n",
    "\n",
    "# Сформируем пути к датасетам\n",
    "mt_path = join(ds_folder, mt_ds)\n",
    "kt_path = join(ds_folder, kt_ds)\n",
    "new_path = join(ds_folder, new_ds)\n",
    "\n",
    "# Загрузим имеющиеся датасеты\n",
    "mt_df = pd.read_csv(mt_path)\n",
    "kt_df = pd.read_csv(kt_path)\n",
    "new_df = pd.read_csv(new_path)"
   ]
  },
  {
   "cell_type": "code",
   "execution_count": 6,
   "metadata": {},
   "outputs": [
    {
     "data": {
      "text/html": [
       "<div>\n",
       "<style scoped>\n",
       "    .dataframe tbody tr th:only-of-type {\n",
       "        vertical-align: middle;\n",
       "    }\n",
       "\n",
       "    .dataframe tbody tr th {\n",
       "        vertical-align: top;\n",
       "    }\n",
       "\n",
       "    .dataframe thead th {\n",
       "        text-align: right;\n",
       "    }\n",
       "</style>\n",
       "<table border=\"1\" class=\"dataframe\">\n",
       "  <thead>\n",
       "    <tr style=\"text-align: right;\">\n",
       "      <th></th>\n",
       "      <th>Restaurant_id</th>\n",
       "      <th>City</th>\n",
       "      <th>Cuisine Style</th>\n",
       "      <th>Ranking</th>\n",
       "      <th>Rating</th>\n",
       "      <th>Price Range</th>\n",
       "      <th>Number of Reviews</th>\n",
       "      <th>Reviews</th>\n",
       "      <th>URL_TA</th>\n",
       "      <th>ID_TA</th>\n",
       "    </tr>\n",
       "  </thead>\n",
       "  <tbody>\n",
       "    <tr>\n",
       "      <th>0</th>\n",
       "      <td>id_5569</td>\n",
       "      <td>Paris</td>\n",
       "      <td>['European', 'French', 'International']</td>\n",
       "      <td>5570.0</td>\n",
       "      <td>3.5</td>\n",
       "      <td>$$ - $$$</td>\n",
       "      <td>194.0</td>\n",
       "      <td>[['Good food at your doorstep', 'A good hotel ...</td>\n",
       "      <td>/Restaurant_Review-g187147-d1912643-Reviews-R_...</td>\n",
       "      <td>d1912643</td>\n",
       "    </tr>\n",
       "  </tbody>\n",
       "</table>\n",
       "</div>"
      ],
      "text/plain": [
       "  Restaurant_id   City                            Cuisine Style  Ranking  \\\n",
       "0       id_5569  Paris  ['European', 'French', 'International']   5570.0   \n",
       "\n",
       "   Rating Price Range  Number of Reviews  \\\n",
       "0     3.5    $$ - $$$              194.0   \n",
       "\n",
       "                                             Reviews  \\\n",
       "0  [['Good food at your doorstep', 'A good hotel ...   \n",
       "\n",
       "                                              URL_TA     ID_TA  \n",
       "0  /Restaurant_Review-g187147-d1912643-Reviews-R_...  d1912643  "
      ]
     },
     "execution_count": 6,
     "metadata": {},
     "output_type": "execute_result"
    }
   ],
   "source": [
    "# Проанализируем данные из main_task.csv\n",
    "mt_df.head(1)"
   ]
  },
  {
   "cell_type": "code",
   "execution_count": 7,
   "metadata": {},
   "outputs": [
    {
     "name": "stdout",
     "output_type": "stream",
     "text": [
      "<class 'pandas.core.frame.DataFrame'>\n",
      "RangeIndex: 40000 entries, 0 to 39999\n",
      "Data columns (total 10 columns):\n",
      "Restaurant_id        40000 non-null object\n",
      "City                 40000 non-null object\n",
      "Cuisine Style        30717 non-null object\n",
      "Ranking              40000 non-null float64\n",
      "Rating               40000 non-null float64\n",
      "Price Range          26114 non-null object\n",
      "Number of Reviews    37457 non-null float64\n",
      "Reviews              40000 non-null object\n",
      "URL_TA               40000 non-null object\n",
      "ID_TA                40000 non-null object\n",
      "dtypes: float64(3), object(7)\n",
      "memory usage: 3.1+ MB\n"
     ]
    }
   ],
   "source": [
    "mt_df.info()"
   ]
  },
  {
   "cell_type": "code",
   "execution_count": 8,
   "metadata": {},
   "outputs": [
    {
     "data": {
      "text/plain": [
       "Restaurant_id        11909\n",
       "City                    31\n",
       "Cuisine Style         9007\n",
       "Ranking              11936\n",
       "Rating                   9\n",
       "Price Range              3\n",
       "Number of Reviews     1459\n",
       "Reviews              33516\n",
       "URL_TA               39980\n",
       "ID_TA                39980\n",
       "dtype: int64"
      ]
     },
     "execution_count": 8,
     "metadata": {},
     "output_type": "execute_result"
    }
   ],
   "source": [
    "mt_df.nunique()"
   ]
  },
  {
   "cell_type": "markdown",
   "metadata": {},
   "source": [
    "## Инсайт!!!\n",
    "Из анализа количества уникальных значений можно сделать следующие выводы:\n",
    "- Поле Restaurant_id является чем угодно, но только не уникальным идентификатором ресторана. Ориентироваться на эти данные не стоит. \n",
    "- На роль уникальных идентификаторов скорее могут претендовать в равной степени как URL_TA, так и ID_TA. Но и тут наблюдаются дубликаты. Посмотрим на них внимательней: "
   ]
  },
  {
   "cell_type": "code",
   "execution_count": 9,
   "metadata": {},
   "outputs": [
    {
     "data": {
      "text/html": [
       "<div>\n",
       "<style scoped>\n",
       "    .dataframe tbody tr th:only-of-type {\n",
       "        vertical-align: middle;\n",
       "    }\n",
       "\n",
       "    .dataframe tbody tr th {\n",
       "        vertical-align: top;\n",
       "    }\n",
       "\n",
       "    .dataframe thead th {\n",
       "        text-align: right;\n",
       "    }\n",
       "</style>\n",
       "<table border=\"1\" class=\"dataframe\">\n",
       "  <thead>\n",
       "    <tr style=\"text-align: right;\">\n",
       "      <th></th>\n",
       "      <th>Restaurant_id</th>\n",
       "      <th>City</th>\n",
       "      <th>Cuisine Style</th>\n",
       "      <th>Ranking</th>\n",
       "      <th>Rating</th>\n",
       "      <th>Price Range</th>\n",
       "      <th>Number of Reviews</th>\n",
       "      <th>Reviews</th>\n",
       "      <th>URL_TA</th>\n",
       "      <th>ID_TA</th>\n",
       "    </tr>\n",
       "  </thead>\n",
       "  <tbody>\n",
       "    <tr>\n",
       "      <th>38946</th>\n",
       "      <td>id_3242</td>\n",
       "      <td>Madrid</td>\n",
       "      <td>NaN</td>\n",
       "      <td>3244.0</td>\n",
       "      <td>5.0</td>\n",
       "      <td>NaN</td>\n",
       "      <td>13.0</td>\n",
       "      <td>[[], []]</td>\n",
       "      <td>/Restaurant_Review-g187514-d10047799-Reviews-E...</td>\n",
       "      <td>d10047799</td>\n",
       "    </tr>\n",
       "    <tr>\n",
       "      <th>13980</th>\n",
       "      <td>id_3239</td>\n",
       "      <td>Madrid</td>\n",
       "      <td>NaN</td>\n",
       "      <td>3241.0</td>\n",
       "      <td>5.0</td>\n",
       "      <td>NaN</td>\n",
       "      <td>13.0</td>\n",
       "      <td>[[], []]</td>\n",
       "      <td>/Restaurant_Review-g187514-d10047799-Reviews-E...</td>\n",
       "      <td>d10047799</td>\n",
       "    </tr>\n",
       "    <tr>\n",
       "      <th>11583</th>\n",
       "      <td>id_3810</td>\n",
       "      <td>Madrid</td>\n",
       "      <td>['American', 'German', 'European', 'Central Eu...</td>\n",
       "      <td>3812.0</td>\n",
       "      <td>4.0</td>\n",
       "      <td>NaN</td>\n",
       "      <td>8.0</td>\n",
       "      <td>[[], []]</td>\n",
       "      <td>/Restaurant_Review-g187514-d11674463-Reviews-B...</td>\n",
       "      <td>d11674463</td>\n",
       "    </tr>\n",
       "    <tr>\n",
       "      <th>4732</th>\n",
       "      <td>id_3804</td>\n",
       "      <td>Madrid</td>\n",
       "      <td>['American', 'German', 'European', 'Central Eu...</td>\n",
       "      <td>3806.0</td>\n",
       "      <td>4.0</td>\n",
       "      <td>NaN</td>\n",
       "      <td>8.0</td>\n",
       "      <td>[[], []]</td>\n",
       "      <td>/Restaurant_Review-g187514-d11674463-Reviews-B...</td>\n",
       "      <td>d11674463</td>\n",
       "    </tr>\n",
       "    <tr>\n",
       "      <th>26551</th>\n",
       "      <td>id_3240</td>\n",
       "      <td>Madrid</td>\n",
       "      <td>NaN</td>\n",
       "      <td>3242.0</td>\n",
       "      <td>4.5</td>\n",
       "      <td>NaN</td>\n",
       "      <td>7.0</td>\n",
       "      <td>[[], []]</td>\n",
       "      <td>/Restaurant_Review-g187514-d11698990-Reviews-V...</td>\n",
       "      <td>d11698990</td>\n",
       "    </tr>\n",
       "    <tr>\n",
       "      <th>26431</th>\n",
       "      <td>id_3238</td>\n",
       "      <td>Madrid</td>\n",
       "      <td>NaN</td>\n",
       "      <td>3240.0</td>\n",
       "      <td>4.5</td>\n",
       "      <td>NaN</td>\n",
       "      <td>7.0</td>\n",
       "      <td>[[], []]</td>\n",
       "      <td>/Restaurant_Review-g187514-d11698990-Reviews-V...</td>\n",
       "      <td>d11698990</td>\n",
       "    </tr>\n",
       "    <tr>\n",
       "      <th>10819</th>\n",
       "      <td>id_2197</td>\n",
       "      <td>Madrid</td>\n",
       "      <td>NaN</td>\n",
       "      <td>2199.0</td>\n",
       "      <td>4.5</td>\n",
       "      <td>NaN</td>\n",
       "      <td>16.0</td>\n",
       "      <td>[[], []]</td>\n",
       "      <td>/Restaurant_Review-g187514-d11921719-Reviews-C...</td>\n",
       "      <td>d11921719</td>\n",
       "    </tr>\n",
       "    <tr>\n",
       "      <th>12628</th>\n",
       "      <td>id_2329</td>\n",
       "      <td>Madrid</td>\n",
       "      <td>NaN</td>\n",
       "      <td>2331.0</td>\n",
       "      <td>4.5</td>\n",
       "      <td>NaN</td>\n",
       "      <td>16.0</td>\n",
       "      <td>[[], []]</td>\n",
       "      <td>/Restaurant_Review-g187514-d11921719-Reviews-C...</td>\n",
       "      <td>d11921719</td>\n",
       "    </tr>\n",
       "    <tr>\n",
       "      <th>29879</th>\n",
       "      <td>id_3662</td>\n",
       "      <td>Madrid</td>\n",
       "      <td>['International', 'Mediterranean', 'Spanish', ...</td>\n",
       "      <td>3664.0</td>\n",
       "      <td>4.0</td>\n",
       "      <td>$$ - $$$</td>\n",
       "      <td>52.0</td>\n",
       "      <td>[['Great Food! Wide Variety.', 'Dinner'], ['11...</td>\n",
       "      <td>/Restaurant_Review-g187514-d11999956-Reviews-S...</td>\n",
       "      <td>d11999956</td>\n",
       "    </tr>\n",
       "    <tr>\n",
       "      <th>16920</th>\n",
       "      <td>id_3536</td>\n",
       "      <td>Madrid</td>\n",
       "      <td>['International', 'Mediterranean', 'Spanish', ...</td>\n",
       "      <td>3538.0</td>\n",
       "      <td>4.0</td>\n",
       "      <td>$$ - $$$</td>\n",
       "      <td>52.0</td>\n",
       "      <td>[['Great Food! Wide Variety.', 'Dinner'], ['11...</td>\n",
       "      <td>/Restaurant_Review-g187514-d11999956-Reviews-S...</td>\n",
       "      <td>d11999956</td>\n",
       "    </tr>\n",
       "    <tr>\n",
       "      <th>26696</th>\n",
       "      <td>id_2485</td>\n",
       "      <td>Madrid</td>\n",
       "      <td>['American']</td>\n",
       "      <td>2487.0</td>\n",
       "      <td>5.0</td>\n",
       "      <td>$</td>\n",
       "      <td>6.0</td>\n",
       "      <td>[['Healthy vegan doughnuts are posible', 'Best...</td>\n",
       "      <td>/Restaurant_Review-g187514-d13002276-Reviews-D...</td>\n",
       "      <td>d13002276</td>\n",
       "    </tr>\n",
       "    <tr>\n",
       "      <th>1579</th>\n",
       "      <td>id_2673</td>\n",
       "      <td>Madrid</td>\n",
       "      <td>['American']</td>\n",
       "      <td>2675.0</td>\n",
       "      <td>5.0</td>\n",
       "      <td>$</td>\n",
       "      <td>6.0</td>\n",
       "      <td>[['Healthy vegan doughnuts are posible', 'Best...</td>\n",
       "      <td>/Restaurant_Review-g187514-d13002276-Reviews-D...</td>\n",
       "      <td>d13002276</td>\n",
       "    </tr>\n",
       "    <tr>\n",
       "      <th>10439</th>\n",
       "      <td>id_468</td>\n",
       "      <td>Madrid</td>\n",
       "      <td>['Mediterranean', 'Spanish', 'Vegetarian Frien...</td>\n",
       "      <td>469.0</td>\n",
       "      <td>4.0</td>\n",
       "      <td>$$ - $$$</td>\n",
       "      <td>355.0</td>\n",
       "      <td>[['Very good all around', 'Our first Madrid re...</td>\n",
       "      <td>/Restaurant_Review-g187514-d1315077-Reviews-El...</td>\n",
       "      <td>d1315077</td>\n",
       "    </tr>\n",
       "    <tr>\n",
       "      <th>25785</th>\n",
       "      <td>id_511</td>\n",
       "      <td>Madrid</td>\n",
       "      <td>['Mediterranean', 'Spanish', 'Vegetarian Frien...</td>\n",
       "      <td>512.0</td>\n",
       "      <td>4.0</td>\n",
       "      <td>$$ - $$$</td>\n",
       "      <td>355.0</td>\n",
       "      <td>[['Very good all around', 'Our first Madrid re...</td>\n",
       "      <td>/Restaurant_Review-g187514-d1315077-Reviews-El...</td>\n",
       "      <td>d1315077</td>\n",
       "    </tr>\n",
       "    <tr>\n",
       "      <th>8421</th>\n",
       "      <td>id_3811</td>\n",
       "      <td>Madrid</td>\n",
       "      <td>['Spanish']</td>\n",
       "      <td>3813.0</td>\n",
       "      <td>4.0</td>\n",
       "      <td>$</td>\n",
       "      <td>23.0</td>\n",
       "      <td>[['Happened to drop in', 'Right for a quick bi...</td>\n",
       "      <td>/Restaurant_Review-g187514-d2477531-Reviews-Ha...</td>\n",
       "      <td>d2477531</td>\n",
       "    </tr>\n",
       "    <tr>\n",
       "      <th>24545</th>\n",
       "      <td>id_3805</td>\n",
       "      <td>Madrid</td>\n",
       "      <td>['Spanish']</td>\n",
       "      <td>3807.0</td>\n",
       "      <td>4.0</td>\n",
       "      <td>$</td>\n",
       "      <td>23.0</td>\n",
       "      <td>[['Happened to drop in', 'Right for a quick bi...</td>\n",
       "      <td>/Restaurant_Review-g187514-d2477531-Reviews-Ha...</td>\n",
       "      <td>d2477531</td>\n",
       "    </tr>\n",
       "    <tr>\n",
       "      <th>25251</th>\n",
       "      <td>id_3575</td>\n",
       "      <td>Madrid</td>\n",
       "      <td>['Spanish', 'Bar']</td>\n",
       "      <td>3577.0</td>\n",
       "      <td>3.5</td>\n",
       "      <td>$</td>\n",
       "      <td>217.0</td>\n",
       "      <td>[['Thursday snack', 'Good value for money &amp; go...</td>\n",
       "      <td>/Restaurant_Review-g187514-d3161682-Reviews-Ce...</td>\n",
       "      <td>d3161682</td>\n",
       "    </tr>\n",
       "    <tr>\n",
       "      <th>39847</th>\n",
       "      <td>id_3709</td>\n",
       "      <td>Madrid</td>\n",
       "      <td>['Spanish', 'Bar']</td>\n",
       "      <td>3711.0</td>\n",
       "      <td>3.5</td>\n",
       "      <td>$</td>\n",
       "      <td>217.0</td>\n",
       "      <td>[['Thursday snack', 'Good value for money &amp; go...</td>\n",
       "      <td>/Restaurant_Review-g187514-d3161682-Reviews-Ce...</td>\n",
       "      <td>d3161682</td>\n",
       "    </tr>\n",
       "    <tr>\n",
       "      <th>3942</th>\n",
       "      <td>id_5646</td>\n",
       "      <td>Madrid</td>\n",
       "      <td>['Lebanese', 'Mediterranean', 'Middle Eastern'...</td>\n",
       "      <td>5649.0</td>\n",
       "      <td>3.5</td>\n",
       "      <td>$$ - $$$</td>\n",
       "      <td>443.0</td>\n",
       "      <td>[['Good Lebanese food', 'Decent place'], ['07/...</td>\n",
       "      <td>/Restaurant_Review-g187514-d3685055-Reviews-Sh...</td>\n",
       "      <td>d3685055</td>\n",
       "    </tr>\n",
       "    <tr>\n",
       "      <th>27680</th>\n",
       "      <td>id_5617</td>\n",
       "      <td>Madrid</td>\n",
       "      <td>['Lebanese', 'Mediterranean', 'Middle Eastern'...</td>\n",
       "      <td>5620.0</td>\n",
       "      <td>3.5</td>\n",
       "      <td>$$ - $$$</td>\n",
       "      <td>443.0</td>\n",
       "      <td>[['Good Lebanese food', 'Decent place'], ['07/...</td>\n",
       "      <td>/Restaurant_Review-g187514-d3685055-Reviews-Sh...</td>\n",
       "      <td>d3685055</td>\n",
       "    </tr>\n",
       "    <tr>\n",
       "      <th>147</th>\n",
       "      <td>id_4110</td>\n",
       "      <td>Madrid</td>\n",
       "      <td>['Spanish']</td>\n",
       "      <td>4112.0</td>\n",
       "      <td>5.0</td>\n",
       "      <td>NaN</td>\n",
       "      <td>2.0</td>\n",
       "      <td>[[], []]</td>\n",
       "      <td>/Restaurant_Review-g187514-d4600226-Reviews-Ca...</td>\n",
       "      <td>d4600226</td>\n",
       "    </tr>\n",
       "    <tr>\n",
       "      <th>9446</th>\n",
       "      <td>id_4104</td>\n",
       "      <td>Madrid</td>\n",
       "      <td>['Spanish']</td>\n",
       "      <td>4106.0</td>\n",
       "      <td>5.0</td>\n",
       "      <td>NaN</td>\n",
       "      <td>2.0</td>\n",
       "      <td>[[], []]</td>\n",
       "      <td>/Restaurant_Review-g187514-d4600226-Reviews-Ca...</td>\n",
       "      <td>d4600226</td>\n",
       "    </tr>\n",
       "    <tr>\n",
       "      <th>28096</th>\n",
       "      <td>id_1209</td>\n",
       "      <td>Madrid</td>\n",
       "      <td>['Moroccan', 'Vegetarian Friendly', 'Vegan Opt...</td>\n",
       "      <td>1210.0</td>\n",
       "      <td>4.0</td>\n",
       "      <td>$$ - $$$</td>\n",
       "      <td>341.0</td>\n",
       "      <td>[['Great food, service and atmosphere', 'Decor...</td>\n",
       "      <td>/Restaurant_Review-g187514-d697406-Reviews-Al_...</td>\n",
       "      <td>d697406</td>\n",
       "    </tr>\n",
       "    <tr>\n",
       "      <th>4578</th>\n",
       "      <td>id_1180</td>\n",
       "      <td>Madrid</td>\n",
       "      <td>['Moroccan', 'Vegetarian Friendly', 'Vegan Opt...</td>\n",
       "      <td>1181.0</td>\n",
       "      <td>4.0</td>\n",
       "      <td>$$ - $$$</td>\n",
       "      <td>341.0</td>\n",
       "      <td>[['Great food, service and atmosphere', 'Decor...</td>\n",
       "      <td>/Restaurant_Review-g187514-d697406-Reviews-Al_...</td>\n",
       "      <td>d697406</td>\n",
       "    </tr>\n",
       "    <tr>\n",
       "      <th>10183</th>\n",
       "      <td>id_1225</td>\n",
       "      <td>Madrid</td>\n",
       "      <td>['Mediterranean', 'European', 'Spanish', 'Vege...</td>\n",
       "      <td>1227.0</td>\n",
       "      <td>4.0</td>\n",
       "      <td>$$ - $$$</td>\n",
       "      <td>272.0</td>\n",
       "      <td>[['Simply Excellent!', 'Modern!'], ['10/22/201...</td>\n",
       "      <td>/Restaurant_Review-g187514-d7337366-Reviews-La...</td>\n",
       "      <td>d7337366</td>\n",
       "    </tr>\n",
       "    <tr>\n",
       "      <th>32814</th>\n",
       "      <td>id_1197</td>\n",
       "      <td>Madrid</td>\n",
       "      <td>['Mediterranean', 'European', 'Spanish', 'Vege...</td>\n",
       "      <td>1198.0</td>\n",
       "      <td>4.0</td>\n",
       "      <td>$$ - $$$</td>\n",
       "      <td>272.0</td>\n",
       "      <td>[['Simply Excellent!', 'Modern!'], ['10/22/201...</td>\n",
       "      <td>/Restaurant_Review-g187514-d7337366-Reviews-La...</td>\n",
       "      <td>d7337366</td>\n",
       "    </tr>\n",
       "    <tr>\n",
       "      <th>22924</th>\n",
       "      <td>id_2359</td>\n",
       "      <td>Madrid</td>\n",
       "      <td>['Spanish', 'Mediterranean']</td>\n",
       "      <td>2361.0</td>\n",
       "      <td>4.5</td>\n",
       "      <td>$$ - $$$</td>\n",
       "      <td>16.0</td>\n",
       "      <td>[['The real codido madrileño'], ['03/31/2017']]</td>\n",
       "      <td>/Restaurant_Review-g187514-d7342803-Reviews-Lo...</td>\n",
       "      <td>d7342803</td>\n",
       "    </tr>\n",
       "    <tr>\n",
       "      <th>36275</th>\n",
       "      <td>id_2467</td>\n",
       "      <td>Madrid</td>\n",
       "      <td>['Spanish', 'Mediterranean']</td>\n",
       "      <td>2469.0</td>\n",
       "      <td>4.5</td>\n",
       "      <td>$$ - $$$</td>\n",
       "      <td>16.0</td>\n",
       "      <td>[['The real codido madrileño'], ['03/31/2017']]</td>\n",
       "      <td>/Restaurant_Review-g187514-d7342803-Reviews-Lo...</td>\n",
       "      <td>d7342803</td>\n",
       "    </tr>\n",
       "    <tr>\n",
       "      <th>15525</th>\n",
       "      <td>id_3967</td>\n",
       "      <td>Madrid</td>\n",
       "      <td>['American', 'Spanish', 'Asian']</td>\n",
       "      <td>3969.0</td>\n",
       "      <td>3.5</td>\n",
       "      <td>NaN</td>\n",
       "      <td>61.0</td>\n",
       "      <td>[[], []]</td>\n",
       "      <td>/Restaurant_Review-g187514-d7809594-Reviews-La...</td>\n",
       "      <td>d7809594</td>\n",
       "    </tr>\n",
       "    <tr>\n",
       "      <th>19388</th>\n",
       "      <td>id_4331</td>\n",
       "      <td>Madrid</td>\n",
       "      <td>['American', 'Spanish', 'Asian']</td>\n",
       "      <td>4333.0</td>\n",
       "      <td>3.5</td>\n",
       "      <td>NaN</td>\n",
       "      <td>61.0</td>\n",
       "      <td>[[], []]</td>\n",
       "      <td>/Restaurant_Review-g187514-d7809594-Reviews-La...</td>\n",
       "      <td>d7809594</td>\n",
       "    </tr>\n",
       "    <tr>\n",
       "      <th>36822</th>\n",
       "      <td>id_2487</td>\n",
       "      <td>Madrid</td>\n",
       "      <td>['Italian', 'French', 'European']</td>\n",
       "      <td>2489.0</td>\n",
       "      <td>4.0</td>\n",
       "      <td>$$ - $$$</td>\n",
       "      <td>148.0</td>\n",
       "      <td>[['Sat night', 'Can\\'t even explain.. \"A\" plac...</td>\n",
       "      <td>/Restaurant_Review-g187514-d793170-Reviews-Car...</td>\n",
       "      <td>d793170</td>\n",
       "    </tr>\n",
       "    <tr>\n",
       "      <th>5240</th>\n",
       "      <td>id_2406</td>\n",
       "      <td>Madrid</td>\n",
       "      <td>['Italian', 'French', 'European']</td>\n",
       "      <td>2408.0</td>\n",
       "      <td>4.0</td>\n",
       "      <td>$$ - $$$</td>\n",
       "      <td>148.0</td>\n",
       "      <td>[['Sat night', 'Can\\'t even explain.. \"A\" plac...</td>\n",
       "      <td>/Restaurant_Review-g187514-d793170-Reviews-Car...</td>\n",
       "      <td>d793170</td>\n",
       "    </tr>\n",
       "    <tr>\n",
       "      <th>13942</th>\n",
       "      <td>id_1103</td>\n",
       "      <td>Madrid</td>\n",
       "      <td>['Spanish']</td>\n",
       "      <td>1104.0</td>\n",
       "      <td>4.5</td>\n",
       "      <td>$$ - $$$</td>\n",
       "      <td>73.0</td>\n",
       "      <td>[['ok for beer, not for dinner'], ['12/20/2017']]</td>\n",
       "      <td>/Restaurant_Review-g187514-d8753348-Reviews-Tr...</td>\n",
       "      <td>d8753348</td>\n",
       "    </tr>\n",
       "    <tr>\n",
       "      <th>31238</th>\n",
       "      <td>id_1212</td>\n",
       "      <td>Madrid</td>\n",
       "      <td>['Spanish']</td>\n",
       "      <td>1213.0</td>\n",
       "      <td>4.5</td>\n",
       "      <td>$$ - $$$</td>\n",
       "      <td>73.0</td>\n",
       "      <td>[['ok for beer, not for dinner'], ['12/20/2017']]</td>\n",
       "      <td>/Restaurant_Review-g187514-d8753348-Reviews-Tr...</td>\n",
       "      <td>d8753348</td>\n",
       "    </tr>\n",
       "    <tr>\n",
       "      <th>12938</th>\n",
       "      <td>id_2486</td>\n",
       "      <td>Madrid</td>\n",
       "      <td>NaN</td>\n",
       "      <td>2488.0</td>\n",
       "      <td>5.0</td>\n",
       "      <td>NaN</td>\n",
       "      <td>10.0</td>\n",
       "      <td>[['Absolutely authentic and delicious!', 'Wond...</td>\n",
       "      <td>/Restaurant_Review-g187514-d9802625-Reviews-La...</td>\n",
       "      <td>d9802625</td>\n",
       "    </tr>\n",
       "    <tr>\n",
       "      <th>10594</th>\n",
       "      <td>id_2677</td>\n",
       "      <td>Madrid</td>\n",
       "      <td>NaN</td>\n",
       "      <td>2679.0</td>\n",
       "      <td>5.0</td>\n",
       "      <td>NaN</td>\n",
       "      <td>10.0</td>\n",
       "      <td>[['Absolutely authentic and delicious!', 'Wond...</td>\n",
       "      <td>/Restaurant_Review-g187514-d9802625-Reviews-La...</td>\n",
       "      <td>d9802625</td>\n",
       "    </tr>\n",
       "    <tr>\n",
       "      <th>15295</th>\n",
       "      <td>id_475</td>\n",
       "      <td>Madrid</td>\n",
       "      <td>['Japanese', 'Vegetarian Friendly', 'Vegan Opt...</td>\n",
       "      <td>476.0</td>\n",
       "      <td>4.5</td>\n",
       "      <td>$$ - $$$</td>\n",
       "      <td>67.0</td>\n",
       "      <td>[['Whenever in Madrid, we never miss this gem....</td>\n",
       "      <td>/Restaurant_Review-g187514-d9877640-Reviews-Ra...</td>\n",
       "      <td>d9877640</td>\n",
       "    </tr>\n",
       "    <tr>\n",
       "      <th>15565</th>\n",
       "      <td>id_530</td>\n",
       "      <td>Madrid</td>\n",
       "      <td>['Japanese', 'Vegetarian Friendly', 'Vegan Opt...</td>\n",
       "      <td>531.0</td>\n",
       "      <td>4.5</td>\n",
       "      <td>$$ - $$$</td>\n",
       "      <td>67.0</td>\n",
       "      <td>[['Whenever in Madrid, we never miss this gem....</td>\n",
       "      <td>/Restaurant_Review-g187514-d9877640-Reviews-Ra...</td>\n",
       "      <td>d9877640</td>\n",
       "    </tr>\n",
       "    <tr>\n",
       "      <th>22998</th>\n",
       "      <td>id_2312</td>\n",
       "      <td>Madrid</td>\n",
       "      <td>['Seafood', 'Mediterranean', 'European', 'Span...</td>\n",
       "      <td>2314.0</td>\n",
       "      <td>4.0</td>\n",
       "      <td>$$ - $$$</td>\n",
       "      <td>190.0</td>\n",
       "      <td>[['Nice restaurant in Madrid', 'Highly reccome...</td>\n",
       "      <td>/Restaurant_Review-g187514-d987900-Reviews-Com...</td>\n",
       "      <td>d987900</td>\n",
       "    </tr>\n",
       "    <tr>\n",
       "      <th>8019</th>\n",
       "      <td>id_2361</td>\n",
       "      <td>Madrid</td>\n",
       "      <td>['Seafood', 'Mediterranean', 'European', 'Span...</td>\n",
       "      <td>2363.0</td>\n",
       "      <td>4.0</td>\n",
       "      <td>$$ - $$$</td>\n",
       "      <td>190.0</td>\n",
       "      <td>[['Nice restaurant in Madrid', 'Highly reccome...</td>\n",
       "      <td>/Restaurant_Review-g187514-d987900-Reviews-Com...</td>\n",
       "      <td>d987900</td>\n",
       "    </tr>\n",
       "  </tbody>\n",
       "</table>\n",
       "</div>"
      ],
      "text/plain": [
       "      Restaurant_id    City  \\\n",
       "38946       id_3242  Madrid   \n",
       "13980       id_3239  Madrid   \n",
       "11583       id_3810  Madrid   \n",
       "4732        id_3804  Madrid   \n",
       "26551       id_3240  Madrid   \n",
       "26431       id_3238  Madrid   \n",
       "10819       id_2197  Madrid   \n",
       "12628       id_2329  Madrid   \n",
       "29879       id_3662  Madrid   \n",
       "16920       id_3536  Madrid   \n",
       "26696       id_2485  Madrid   \n",
       "1579        id_2673  Madrid   \n",
       "10439        id_468  Madrid   \n",
       "25785        id_511  Madrid   \n",
       "8421        id_3811  Madrid   \n",
       "24545       id_3805  Madrid   \n",
       "25251       id_3575  Madrid   \n",
       "39847       id_3709  Madrid   \n",
       "3942        id_5646  Madrid   \n",
       "27680       id_5617  Madrid   \n",
       "147         id_4110  Madrid   \n",
       "9446        id_4104  Madrid   \n",
       "28096       id_1209  Madrid   \n",
       "4578        id_1180  Madrid   \n",
       "10183       id_1225  Madrid   \n",
       "32814       id_1197  Madrid   \n",
       "22924       id_2359  Madrid   \n",
       "36275       id_2467  Madrid   \n",
       "15525       id_3967  Madrid   \n",
       "19388       id_4331  Madrid   \n",
       "36822       id_2487  Madrid   \n",
       "5240        id_2406  Madrid   \n",
       "13942       id_1103  Madrid   \n",
       "31238       id_1212  Madrid   \n",
       "12938       id_2486  Madrid   \n",
       "10594       id_2677  Madrid   \n",
       "15295        id_475  Madrid   \n",
       "15565        id_530  Madrid   \n",
       "22998       id_2312  Madrid   \n",
       "8019        id_2361  Madrid   \n",
       "\n",
       "                                           Cuisine Style  Ranking  Rating  \\\n",
       "38946                                                NaN   3244.0     5.0   \n",
       "13980                                                NaN   3241.0     5.0   \n",
       "11583  ['American', 'German', 'European', 'Central Eu...   3812.0     4.0   \n",
       "4732   ['American', 'German', 'European', 'Central Eu...   3806.0     4.0   \n",
       "26551                                                NaN   3242.0     4.5   \n",
       "26431                                                NaN   3240.0     4.5   \n",
       "10819                                                NaN   2199.0     4.5   \n",
       "12628                                                NaN   2331.0     4.5   \n",
       "29879  ['International', 'Mediterranean', 'Spanish', ...   3664.0     4.0   \n",
       "16920  ['International', 'Mediterranean', 'Spanish', ...   3538.0     4.0   \n",
       "26696                                       ['American']   2487.0     5.0   \n",
       "1579                                        ['American']   2675.0     5.0   \n",
       "10439  ['Mediterranean', 'Spanish', 'Vegetarian Frien...    469.0     4.0   \n",
       "25785  ['Mediterranean', 'Spanish', 'Vegetarian Frien...    512.0     4.0   \n",
       "8421                                         ['Spanish']   3813.0     4.0   \n",
       "24545                                        ['Spanish']   3807.0     4.0   \n",
       "25251                                 ['Spanish', 'Bar']   3577.0     3.5   \n",
       "39847                                 ['Spanish', 'Bar']   3711.0     3.5   \n",
       "3942   ['Lebanese', 'Mediterranean', 'Middle Eastern'...   5649.0     3.5   \n",
       "27680  ['Lebanese', 'Mediterranean', 'Middle Eastern'...   5620.0     3.5   \n",
       "147                                          ['Spanish']   4112.0     5.0   \n",
       "9446                                         ['Spanish']   4106.0     5.0   \n",
       "28096  ['Moroccan', 'Vegetarian Friendly', 'Vegan Opt...   1210.0     4.0   \n",
       "4578   ['Moroccan', 'Vegetarian Friendly', 'Vegan Opt...   1181.0     4.0   \n",
       "10183  ['Mediterranean', 'European', 'Spanish', 'Vege...   1227.0     4.0   \n",
       "32814  ['Mediterranean', 'European', 'Spanish', 'Vege...   1198.0     4.0   \n",
       "22924                       ['Spanish', 'Mediterranean']   2361.0     4.5   \n",
       "36275                       ['Spanish', 'Mediterranean']   2469.0     4.5   \n",
       "15525                   ['American', 'Spanish', 'Asian']   3969.0     3.5   \n",
       "19388                   ['American', 'Spanish', 'Asian']   4333.0     3.5   \n",
       "36822                  ['Italian', 'French', 'European']   2489.0     4.0   \n",
       "5240                   ['Italian', 'French', 'European']   2408.0     4.0   \n",
       "13942                                        ['Spanish']   1104.0     4.5   \n",
       "31238                                        ['Spanish']   1213.0     4.5   \n",
       "12938                                                NaN   2488.0     5.0   \n",
       "10594                                                NaN   2679.0     5.0   \n",
       "15295  ['Japanese', 'Vegetarian Friendly', 'Vegan Opt...    476.0     4.5   \n",
       "15565  ['Japanese', 'Vegetarian Friendly', 'Vegan Opt...    531.0     4.5   \n",
       "22998  ['Seafood', 'Mediterranean', 'European', 'Span...   2314.0     4.0   \n",
       "8019   ['Seafood', 'Mediterranean', 'European', 'Span...   2363.0     4.0   \n",
       "\n",
       "      Price Range  Number of Reviews  \\\n",
       "38946         NaN               13.0   \n",
       "13980         NaN               13.0   \n",
       "11583         NaN                8.0   \n",
       "4732          NaN                8.0   \n",
       "26551         NaN                7.0   \n",
       "26431         NaN                7.0   \n",
       "10819         NaN               16.0   \n",
       "12628         NaN               16.0   \n",
       "29879    $$ - $$$               52.0   \n",
       "16920    $$ - $$$               52.0   \n",
       "26696           $                6.0   \n",
       "1579            $                6.0   \n",
       "10439    $$ - $$$              355.0   \n",
       "25785    $$ - $$$              355.0   \n",
       "8421            $               23.0   \n",
       "24545           $               23.0   \n",
       "25251           $              217.0   \n",
       "39847           $              217.0   \n",
       "3942     $$ - $$$              443.0   \n",
       "27680    $$ - $$$              443.0   \n",
       "147           NaN                2.0   \n",
       "9446          NaN                2.0   \n",
       "28096    $$ - $$$              341.0   \n",
       "4578     $$ - $$$              341.0   \n",
       "10183    $$ - $$$              272.0   \n",
       "32814    $$ - $$$              272.0   \n",
       "22924    $$ - $$$               16.0   \n",
       "36275    $$ - $$$               16.0   \n",
       "15525         NaN               61.0   \n",
       "19388         NaN               61.0   \n",
       "36822    $$ - $$$              148.0   \n",
       "5240     $$ - $$$              148.0   \n",
       "13942    $$ - $$$               73.0   \n",
       "31238    $$ - $$$               73.0   \n",
       "12938         NaN               10.0   \n",
       "10594         NaN               10.0   \n",
       "15295    $$ - $$$               67.0   \n",
       "15565    $$ - $$$               67.0   \n",
       "22998    $$ - $$$              190.0   \n",
       "8019     $$ - $$$              190.0   \n",
       "\n",
       "                                                 Reviews  \\\n",
       "38946                                           [[], []]   \n",
       "13980                                           [[], []]   \n",
       "11583                                           [[], []]   \n",
       "4732                                            [[], []]   \n",
       "26551                                           [[], []]   \n",
       "26431                                           [[], []]   \n",
       "10819                                           [[], []]   \n",
       "12628                                           [[], []]   \n",
       "29879  [['Great Food! Wide Variety.', 'Dinner'], ['11...   \n",
       "16920  [['Great Food! Wide Variety.', 'Dinner'], ['11...   \n",
       "26696  [['Healthy vegan doughnuts are posible', 'Best...   \n",
       "1579   [['Healthy vegan doughnuts are posible', 'Best...   \n",
       "10439  [['Very good all around', 'Our first Madrid re...   \n",
       "25785  [['Very good all around', 'Our first Madrid re...   \n",
       "8421   [['Happened to drop in', 'Right for a quick bi...   \n",
       "24545  [['Happened to drop in', 'Right for a quick bi...   \n",
       "25251  [['Thursday snack', 'Good value for money & go...   \n",
       "39847  [['Thursday snack', 'Good value for money & go...   \n",
       "3942   [['Good Lebanese food', 'Decent place'], ['07/...   \n",
       "27680  [['Good Lebanese food', 'Decent place'], ['07/...   \n",
       "147                                             [[], []]   \n",
       "9446                                            [[], []]   \n",
       "28096  [['Great food, service and atmosphere', 'Decor...   \n",
       "4578   [['Great food, service and atmosphere', 'Decor...   \n",
       "10183  [['Simply Excellent!', 'Modern!'], ['10/22/201...   \n",
       "32814  [['Simply Excellent!', 'Modern!'], ['10/22/201...   \n",
       "22924    [['The real codido madrileño'], ['03/31/2017']]   \n",
       "36275    [['The real codido madrileño'], ['03/31/2017']]   \n",
       "15525                                           [[], []]   \n",
       "19388                                           [[], []]   \n",
       "36822  [['Sat night', 'Can\\'t even explain.. \"A\" plac...   \n",
       "5240   [['Sat night', 'Can\\'t even explain.. \"A\" plac...   \n",
       "13942  [['ok for beer, not for dinner'], ['12/20/2017']]   \n",
       "31238  [['ok for beer, not for dinner'], ['12/20/2017']]   \n",
       "12938  [['Absolutely authentic and delicious!', 'Wond...   \n",
       "10594  [['Absolutely authentic and delicious!', 'Wond...   \n",
       "15295  [['Whenever in Madrid, we never miss this gem....   \n",
       "15565  [['Whenever in Madrid, we never miss this gem....   \n",
       "22998  [['Nice restaurant in Madrid', 'Highly reccome...   \n",
       "8019   [['Nice restaurant in Madrid', 'Highly reccome...   \n",
       "\n",
       "                                                  URL_TA      ID_TA  \n",
       "38946  /Restaurant_Review-g187514-d10047799-Reviews-E...  d10047799  \n",
       "13980  /Restaurant_Review-g187514-d10047799-Reviews-E...  d10047799  \n",
       "11583  /Restaurant_Review-g187514-d11674463-Reviews-B...  d11674463  \n",
       "4732   /Restaurant_Review-g187514-d11674463-Reviews-B...  d11674463  \n",
       "26551  /Restaurant_Review-g187514-d11698990-Reviews-V...  d11698990  \n",
       "26431  /Restaurant_Review-g187514-d11698990-Reviews-V...  d11698990  \n",
       "10819  /Restaurant_Review-g187514-d11921719-Reviews-C...  d11921719  \n",
       "12628  /Restaurant_Review-g187514-d11921719-Reviews-C...  d11921719  \n",
       "29879  /Restaurant_Review-g187514-d11999956-Reviews-S...  d11999956  \n",
       "16920  /Restaurant_Review-g187514-d11999956-Reviews-S...  d11999956  \n",
       "26696  /Restaurant_Review-g187514-d13002276-Reviews-D...  d13002276  \n",
       "1579   /Restaurant_Review-g187514-d13002276-Reviews-D...  d13002276  \n",
       "10439  /Restaurant_Review-g187514-d1315077-Reviews-El...   d1315077  \n",
       "25785  /Restaurant_Review-g187514-d1315077-Reviews-El...   d1315077  \n",
       "8421   /Restaurant_Review-g187514-d2477531-Reviews-Ha...   d2477531  \n",
       "24545  /Restaurant_Review-g187514-d2477531-Reviews-Ha...   d2477531  \n",
       "25251  /Restaurant_Review-g187514-d3161682-Reviews-Ce...   d3161682  \n",
       "39847  /Restaurant_Review-g187514-d3161682-Reviews-Ce...   d3161682  \n",
       "3942   /Restaurant_Review-g187514-d3685055-Reviews-Sh...   d3685055  \n",
       "27680  /Restaurant_Review-g187514-d3685055-Reviews-Sh...   d3685055  \n",
       "147    /Restaurant_Review-g187514-d4600226-Reviews-Ca...   d4600226  \n",
       "9446   /Restaurant_Review-g187514-d4600226-Reviews-Ca...   d4600226  \n",
       "28096  /Restaurant_Review-g187514-d697406-Reviews-Al_...    d697406  \n",
       "4578   /Restaurant_Review-g187514-d697406-Reviews-Al_...    d697406  \n",
       "10183  /Restaurant_Review-g187514-d7337366-Reviews-La...   d7337366  \n",
       "32814  /Restaurant_Review-g187514-d7337366-Reviews-La...   d7337366  \n",
       "22924  /Restaurant_Review-g187514-d7342803-Reviews-Lo...   d7342803  \n",
       "36275  /Restaurant_Review-g187514-d7342803-Reviews-Lo...   d7342803  \n",
       "15525  /Restaurant_Review-g187514-d7809594-Reviews-La...   d7809594  \n",
       "19388  /Restaurant_Review-g187514-d7809594-Reviews-La...   d7809594  \n",
       "36822  /Restaurant_Review-g187514-d793170-Reviews-Car...    d793170  \n",
       "5240   /Restaurant_Review-g187514-d793170-Reviews-Car...    d793170  \n",
       "13942  /Restaurant_Review-g187514-d8753348-Reviews-Tr...   d8753348  \n",
       "31238  /Restaurant_Review-g187514-d8753348-Reviews-Tr...   d8753348  \n",
       "12938  /Restaurant_Review-g187514-d9802625-Reviews-La...   d9802625  \n",
       "10594  /Restaurant_Review-g187514-d9802625-Reviews-La...   d9802625  \n",
       "15295  /Restaurant_Review-g187514-d9877640-Reviews-Ra...   d9877640  \n",
       "15565  /Restaurant_Review-g187514-d9877640-Reviews-Ra...   d9877640  \n",
       "22998  /Restaurant_Review-g187514-d987900-Reviews-Com...    d987900  \n",
       "8019   /Restaurant_Review-g187514-d987900-Reviews-Com...    d987900  "
      ]
     },
     "execution_count": 9,
     "metadata": {},
     "output_type": "execute_result"
    }
   ],
   "source": [
    "# Сформируем множество дублирующихся идентификаторов ресторанов на сайте TripAdvisor\n",
    "duplicated_ids = set(mt_df.groupby('ID_TA')['ID_TA'].count().sort_values(ascending=False)[:20].index)\n",
    "\n",
    "# Смотрим на непосредственно данные, относящиеся к этим дубликатам\n",
    "mt_df[mt_df['ID_TA'].apply(lambda x: x in duplicated_ids)].sort_values(by='ID_TA')"
   ]
  },
  {
   "cell_type": "markdown",
   "metadata": {},
   "source": [
    "#### Эти дубликаты только вносят шум, так что от них лучше избавиться.\n",
    "## Оказалось наоборот!!! Не удаляем эти дубликаты и точность модели повышается!!! Дружно кекаем!!!"
   ]
  },
  {
   "cell_type": "code",
   "execution_count": 10,
   "metadata": {},
   "outputs": [],
   "source": [
    "# mt_df.drop_duplicates('ID_TA', inplace=True) # По-умолчанию оставляем первые из дублирующихся строк"
   ]
  },
  {
   "cell_type": "code",
   "execution_count": 11,
   "metadata": {},
   "outputs": [
    {
     "data": {
      "text/html": [
       "<div>\n",
       "<style scoped>\n",
       "    .dataframe tbody tr th:only-of-type {\n",
       "        vertical-align: middle;\n",
       "    }\n",
       "\n",
       "    .dataframe tbody tr th {\n",
       "        vertical-align: top;\n",
       "    }\n",
       "\n",
       "    .dataframe thead th {\n",
       "        text-align: right;\n",
       "    }\n",
       "</style>\n",
       "<table border=\"1\" class=\"dataframe\">\n",
       "  <thead>\n",
       "    <tr style=\"text-align: right;\">\n",
       "      <th></th>\n",
       "      <th>Restaurant_id</th>\n",
       "      <th>Name</th>\n",
       "      <th>City</th>\n",
       "      <th>Cuisine Style</th>\n",
       "      <th>Ranking</th>\n",
       "      <th>Price Range</th>\n",
       "      <th>Number of Reviews</th>\n",
       "      <th>Reviews</th>\n",
       "      <th>URL_TA</th>\n",
       "      <th>ID_TA</th>\n",
       "    </tr>\n",
       "  </thead>\n",
       "  <tbody>\n",
       "    <tr>\n",
       "      <th>0</th>\n",
       "      <td>id_0</td>\n",
       "      <td>Le Perchoir</td>\n",
       "      <td>Paris</td>\n",
       "      <td>['Bar', 'Pub']</td>\n",
       "      <td>12963.0</td>\n",
       "      <td>$$ - $$$</td>\n",
       "      <td>4.0</td>\n",
       "      <td>[[], []]</td>\n",
       "      <td>/Restaurant_Review-g187147-d10746918-Reviews-L...</td>\n",
       "      <td>d10746918</td>\n",
       "    </tr>\n",
       "  </tbody>\n",
       "</table>\n",
       "</div>"
      ],
      "text/plain": [
       "  Restaurant_id         Name   City   Cuisine Style  Ranking Price Range  \\\n",
       "0          id_0  Le Perchoir  Paris  ['Bar', 'Pub']  12963.0    $$ - $$$   \n",
       "\n",
       "   Number of Reviews   Reviews  \\\n",
       "0                4.0  [[], []]   \n",
       "\n",
       "                                              URL_TA      ID_TA  \n",
       "0  /Restaurant_Review-g187147-d10746918-Reviews-L...  d10746918  "
      ]
     },
     "execution_count": 11,
     "metadata": {},
     "output_type": "execute_result"
    }
   ],
   "source": [
    "# Проанализируем данные из kaggle_task.csv\n",
    "kt_df.head(1)"
   ]
  },
  {
   "cell_type": "code",
   "execution_count": 12,
   "metadata": {},
   "outputs": [
    {
     "name": "stdout",
     "output_type": "stream",
     "text": [
      "<class 'pandas.core.frame.DataFrame'>\n",
      "RangeIndex: 10000 entries, 0 to 9999\n",
      "Data columns (total 10 columns):\n",
      "Restaurant_id        10000 non-null object\n",
      "Name                 10000 non-null object\n",
      "City                 10000 non-null object\n",
      "Cuisine Style        7693 non-null object\n",
      "Ranking              10000 non-null float64\n",
      "Price Range          6525 non-null object\n",
      "Number of Reviews    9343 non-null float64\n",
      "Reviews              9998 non-null object\n",
      "URL_TA               10000 non-null object\n",
      "ID_TA                10000 non-null object\n",
      "dtypes: float64(2), object(8)\n",
      "memory usage: 781.4+ KB\n"
     ]
    }
   ],
   "source": [
    "kt_df.info()"
   ]
  },
  {
   "cell_type": "code",
   "execution_count": 13,
   "metadata": {},
   "outputs": [],
   "source": [
    "# Как видим, в датасете kaggle_task.csv отсутствует признак Rating,\n",
    "# но добавлен признак с названием ресторана 'Name'"
   ]
  },
  {
   "cell_type": "code",
   "execution_count": 14,
   "metadata": {},
   "outputs": [],
   "source": [
    "# Добавим признак 'Main' для отделения основной выборки от валидационной\n",
    "mt_df['Main'] = True\n",
    "kt_df['Main'] = False\n",
    "\n",
    "# Недостающие данные по названиям ресторанов в основной выборке заполним названиями вида Name-id, где id - идентификатор ресторана\n",
    "mt_df['Name'] = mt_df['Restaurant_id'].apply(lambda x: 'Name-'+x)\n",
    "\n",
    "# Недостающие данные по рейтингу в тестовой выборке заполним нулями\n",
    "kt_df['Rating'] = 0\n",
    "\n",
    "# Объединим датасеты в один для полного анализа по всем данным\n",
    "df = pd.concat([mt_df, kt_df], sort=False)"
   ]
  },
  {
   "cell_type": "code",
   "execution_count": 15,
   "metadata": {},
   "outputs": [
    {
     "name": "stdout",
     "output_type": "stream",
     "text": [
      "<class 'pandas.core.frame.DataFrame'>\n",
      "Int64Index: 50000 entries, 0 to 9999\n",
      "Data columns (total 12 columns):\n",
      "Restaurant_id        50000 non-null object\n",
      "City                 50000 non-null object\n",
      "Cuisine Style        38410 non-null object\n",
      "Ranking              50000 non-null float64\n",
      "Rating               50000 non-null float64\n",
      "Price Range          32639 non-null object\n",
      "Number of Reviews    46800 non-null float64\n",
      "Reviews              49998 non-null object\n",
      "URL_TA               50000 non-null object\n",
      "ID_TA                50000 non-null object\n",
      "Main                 50000 non-null bool\n",
      "Name                 50000 non-null object\n",
      "dtypes: bool(1), float64(3), object(8)\n",
      "memory usage: 4.6+ MB\n"
     ]
    }
   ],
   "source": [
    "df.info()"
   ]
  },
  {
   "cell_type": "code",
   "execution_count": 16,
   "metadata": {},
   "outputs": [
    {
     "name": "stdout",
     "output_type": "stream",
     "text": [
      "<class 'pandas.core.frame.DataFrame'>\n",
      "RangeIndex: 48809 entries, 0 to 48808\n",
      "Data columns (total 16 columns):\n",
      "Unnamed: 0               48809 non-null int64\n",
      "New Name                 48809 non-null object\n",
      "New City                 43829 non-null object\n",
      "New Cuisine Style        45619 non-null object\n",
      "New Ranking              43837 non-null float64\n",
      "New Restaurants Count    43837 non-null float64\n",
      "New Relative Ranking     43837 non-null float64\n",
      "New Rating               48772 non-null float64\n",
      "New Price Range          38980 non-null object\n",
      "New Number of Reviews    47288 non-null float64\n",
      "New Excellent Marks      48623 non-null float64\n",
      "New Very Good Marks      48761 non-null float64\n",
      "New Poor Marks           48773 non-null float64\n",
      "New Terrible Marks       48773 non-null float64\n",
      "New URL_TA               48809 non-null object\n",
      "New Is Closed            48809 non-null bool\n",
      "dtypes: bool(1), float64(9), int64(1), object(5)\n",
      "memory usage: 5.6+ MB\n"
     ]
    }
   ],
   "source": [
    "new_df.info()"
   ]
  },
  {
   "cell_type": "code",
   "execution_count": 17,
   "metadata": {},
   "outputs": [],
   "source": [
    "# Установим индексы на URL_TA\n",
    "df.set_index('URL_TA', inplace=True)\n",
    "new_df.set_index('New URL_TA', inplace=True)"
   ]
  },
  {
   "cell_type": "code",
   "execution_count": 19,
   "metadata": {},
   "outputs": [],
   "source": [
    "# Осуществим слияние двух датафреймов оставляя данные из старого датафрейма, если они там были \n",
    "df = pd.merge(df, new_df, how='left', left_index=True, right_index=True)"
   ]
  },
  {
   "cell_type": "code",
   "execution_count": 20,
   "metadata": {},
   "outputs": [
    {
     "name": "stdout",
     "output_type": "stream",
     "text": [
      "<class 'pandas.core.frame.DataFrame'>\n",
      "Index: 50000 entries, /Restaurant_Review-g1068497-d10441257-Reviews-Gourmandises-Auderghem_Brussels.html to /Restaurant_Review-g950786-d9558331-Reviews-Osteria_Delle_Stelle-Schaerbeek_Brussels.html\n",
      "Data columns (total 26 columns):\n",
      "Restaurant_id            50000 non-null object\n",
      "City                     50000 non-null object\n",
      "Cuisine Style            38410 non-null object\n",
      "Ranking                  50000 non-null float64\n",
      "Rating                   50000 non-null float64\n",
      "Price Range              32639 non-null object\n",
      "Number of Reviews        46800 non-null float64\n",
      "Reviews                  49998 non-null object\n",
      "ID_TA                    50000 non-null object\n",
      "Main                     50000 non-null bool\n",
      "Name                     50000 non-null object\n",
      "Unnamed: 0               44287 non-null float64\n",
      "New Name                 44287 non-null object\n",
      "New City                 39614 non-null object\n",
      "New Cuisine Style        41211 non-null object\n",
      "New Ranking              39619 non-null float64\n",
      "New Restaurants Count    39619 non-null float64\n",
      "New Relative Ranking     39619 non-null float64\n",
      "New Rating               44253 non-null float64\n",
      "New Price Range          34868 non-null object\n",
      "New Number of Reviews    43030 non-null float64\n",
      "New Excellent Marks      44136 non-null float64\n",
      "New Very Good Marks      44246 non-null float64\n",
      "New Poor Marks           44254 non-null float64\n",
      "New Terrible Marks       44254 non-null float64\n",
      "New Is Closed            44287 non-null object\n",
      "dtypes: bool(1), float64(13), object(12)\n",
      "memory usage: 10.0+ MB\n"
     ]
    }
   ],
   "source": [
    "# Посмотрим, что получилсь\n",
    "df.info()"
   ]
  },
  {
   "cell_type": "code",
   "execution_count": 21,
   "metadata": {},
   "outputs": [
    {
     "data": {
      "text/html": [
       "<div>\n",
       "<style scoped>\n",
       "    .dataframe tbody tr th:only-of-type {\n",
       "        vertical-align: middle;\n",
       "    }\n",
       "\n",
       "    .dataframe tbody tr th {\n",
       "        vertical-align: top;\n",
       "    }\n",
       "\n",
       "    .dataframe thead th {\n",
       "        text-align: right;\n",
       "    }\n",
       "</style>\n",
       "<table border=\"1\" class=\"dataframe\">\n",
       "  <thead>\n",
       "    <tr style=\"text-align: right;\">\n",
       "      <th></th>\n",
       "      <th>Restaurant_id</th>\n",
       "      <th>City</th>\n",
       "      <th>Cuisine Style</th>\n",
       "      <th>Ranking</th>\n",
       "      <th>Rating</th>\n",
       "      <th>Price Range</th>\n",
       "      <th>Number of Reviews</th>\n",
       "      <th>Reviews</th>\n",
       "      <th>ID_TA</th>\n",
       "      <th>Main</th>\n",
       "      <th>...</th>\n",
       "      <th>New Restaurants Count</th>\n",
       "      <th>New Relative Ranking</th>\n",
       "      <th>New Rating</th>\n",
       "      <th>New Price Range</th>\n",
       "      <th>New Number of Reviews</th>\n",
       "      <th>New Excellent Marks</th>\n",
       "      <th>New Very Good Marks</th>\n",
       "      <th>New Poor Marks</th>\n",
       "      <th>New Terrible Marks</th>\n",
       "      <th>New Is Closed</th>\n",
       "    </tr>\n",
       "  </thead>\n",
       "  <tbody>\n",
       "    <tr>\n",
       "      <th>/Restaurant_Review-g1068497-d10441257-Reviews-Gourmandises-Auderghem_Brussels.html</th>\n",
       "      <td>id_1759</td>\n",
       "      <td>Brussels</td>\n",
       "      <td>NaN</td>\n",
       "      <td>1760.0</td>\n",
       "      <td>4.5</td>\n",
       "      <td>NaN</td>\n",
       "      <td>2.0</td>\n",
       "      <td>[[], []]</td>\n",
       "      <td>d10441257</td>\n",
       "      <td>True</td>\n",
       "      <td>...</td>\n",
       "      <td>41.0</td>\n",
       "      <td>0.512195</td>\n",
       "      <td>4.5</td>\n",
       "      <td>NaN</td>\n",
       "      <td>7.0</td>\n",
       "      <td>4.0</td>\n",
       "      <td>3.0</td>\n",
       "      <td>0.0</td>\n",
       "      <td>0.0</td>\n",
       "      <td>False</td>\n",
       "    </tr>\n",
       "    <tr>\n",
       "      <th>/Restaurant_Review-g1068497-d10486190-Reviews-Douce_Heure-Auderghem_Brussels.html</th>\n",
       "      <td>id_2178</td>\n",
       "      <td>Brussels</td>\n",
       "      <td>NaN</td>\n",
       "      <td>2265.0</td>\n",
       "      <td>4.0</td>\n",
       "      <td>NaN</td>\n",
       "      <td>NaN</td>\n",
       "      <td>[[], []]</td>\n",
       "      <td>d10486190</td>\n",
       "      <td>True</td>\n",
       "      <td>...</td>\n",
       "      <td>NaN</td>\n",
       "      <td>NaN</td>\n",
       "      <td>4.0</td>\n",
       "      <td>NaN</td>\n",
       "      <td>1.0</td>\n",
       "      <td>0.0</td>\n",
       "      <td>1.0</td>\n",
       "      <td>0.0</td>\n",
       "      <td>0.0</td>\n",
       "      <td>True</td>\n",
       "    </tr>\n",
       "    <tr>\n",
       "      <th>/Restaurant_Review-g1068497-d10522391-Reviews-De_MASALA_BOX-Auderghem_Brussels.html</th>\n",
       "      <td>id_1738</td>\n",
       "      <td>Brussels</td>\n",
       "      <td>['Fusion']</td>\n",
       "      <td>1739.0</td>\n",
       "      <td>4.0</td>\n",
       "      <td>$</td>\n",
       "      <td>14.0</td>\n",
       "      <td>[['Quick delicious lunch', 'The perfect lunch'...</td>\n",
       "      <td>d10522391</td>\n",
       "      <td>True</td>\n",
       "      <td>...</td>\n",
       "      <td>41.0</td>\n",
       "      <td>0.292683</td>\n",
       "      <td>4.5</td>\n",
       "      <td>$</td>\n",
       "      <td>21.0</td>\n",
       "      <td>7.0</td>\n",
       "      <td>0.0</td>\n",
       "      <td>0.0</td>\n",
       "      <td>1.0</td>\n",
       "      <td>False</td>\n",
       "    </tr>\n",
       "    <tr>\n",
       "      <th>/Restaurant_Review-g1068497-d11888819-Reviews-Les_Delices_de_Magali-Auderghem_Brussels.html</th>\n",
       "      <td>id_1513</td>\n",
       "      <td>Brussels</td>\n",
       "      <td>NaN</td>\n",
       "      <td>1514.0</td>\n",
       "      <td>5.0</td>\n",
       "      <td>NaN</td>\n",
       "      <td>4.0</td>\n",
       "      <td>[[], []]</td>\n",
       "      <td>d11888819</td>\n",
       "      <td>True</td>\n",
       "      <td>...</td>\n",
       "      <td>41.0</td>\n",
       "      <td>0.634146</td>\n",
       "      <td>4.0</td>\n",
       "      <td>NaN</td>\n",
       "      <td>6.0</td>\n",
       "      <td>4.0</td>\n",
       "      <td>1.0</td>\n",
       "      <td>0.0</td>\n",
       "      <td>1.0</td>\n",
       "      <td>False</td>\n",
       "    </tr>\n",
       "    <tr>\n",
       "      <th>/Restaurant_Review-g1068497-d12160475-Reviews-Ispahan-Auderghem_Brussels.html</th>\n",
       "      <td>id_2485</td>\n",
       "      <td>Brussels</td>\n",
       "      <td>NaN</td>\n",
       "      <td>2486.0</td>\n",
       "      <td>3.5</td>\n",
       "      <td>NaN</td>\n",
       "      <td>3.0</td>\n",
       "      <td>[['Service with smile', 'Rather boring food'],...</td>\n",
       "      <td>d12160475</td>\n",
       "      <td>True</td>\n",
       "      <td>...</td>\n",
       "      <td>41.0</td>\n",
       "      <td>0.780488</td>\n",
       "      <td>3.5</td>\n",
       "      <td>NaN</td>\n",
       "      <td>3.0</td>\n",
       "      <td>0.0</td>\n",
       "      <td>2.0</td>\n",
       "      <td>1.0</td>\n",
       "      <td>0.0</td>\n",
       "      <td>False</td>\n",
       "    </tr>\n",
       "  </tbody>\n",
       "</table>\n",
       "<p>5 rows × 26 columns</p>\n",
       "</div>"
      ],
      "text/plain": [
       "                                                   Restaurant_id      City  \\\n",
       "/Restaurant_Review-g1068497-d10441257-Reviews-G...       id_1759  Brussels   \n",
       "/Restaurant_Review-g1068497-d10486190-Reviews-D...       id_2178  Brussels   \n",
       "/Restaurant_Review-g1068497-d10522391-Reviews-D...       id_1738  Brussels   \n",
       "/Restaurant_Review-g1068497-d11888819-Reviews-L...       id_1513  Brussels   \n",
       "/Restaurant_Review-g1068497-d12160475-Reviews-I...       id_2485  Brussels   \n",
       "\n",
       "                                                   Cuisine Style  Ranking  \\\n",
       "/Restaurant_Review-g1068497-d10441257-Reviews-G...           NaN   1760.0   \n",
       "/Restaurant_Review-g1068497-d10486190-Reviews-D...           NaN   2265.0   \n",
       "/Restaurant_Review-g1068497-d10522391-Reviews-D...    ['Fusion']   1739.0   \n",
       "/Restaurant_Review-g1068497-d11888819-Reviews-L...           NaN   1514.0   \n",
       "/Restaurant_Review-g1068497-d12160475-Reviews-I...           NaN   2486.0   \n",
       "\n",
       "                                                    Rating Price Range  \\\n",
       "/Restaurant_Review-g1068497-d10441257-Reviews-G...     4.5         NaN   \n",
       "/Restaurant_Review-g1068497-d10486190-Reviews-D...     4.0         NaN   \n",
       "/Restaurant_Review-g1068497-d10522391-Reviews-D...     4.0           $   \n",
       "/Restaurant_Review-g1068497-d11888819-Reviews-L...     5.0         NaN   \n",
       "/Restaurant_Review-g1068497-d12160475-Reviews-I...     3.5         NaN   \n",
       "\n",
       "                                                    Number of Reviews  \\\n",
       "/Restaurant_Review-g1068497-d10441257-Reviews-G...                2.0   \n",
       "/Restaurant_Review-g1068497-d10486190-Reviews-D...                NaN   \n",
       "/Restaurant_Review-g1068497-d10522391-Reviews-D...               14.0   \n",
       "/Restaurant_Review-g1068497-d11888819-Reviews-L...                4.0   \n",
       "/Restaurant_Review-g1068497-d12160475-Reviews-I...                3.0   \n",
       "\n",
       "                                                                                              Reviews  \\\n",
       "/Restaurant_Review-g1068497-d10441257-Reviews-G...                                           [[], []]   \n",
       "/Restaurant_Review-g1068497-d10486190-Reviews-D...                                           [[], []]   \n",
       "/Restaurant_Review-g1068497-d10522391-Reviews-D...  [['Quick delicious lunch', 'The perfect lunch'...   \n",
       "/Restaurant_Review-g1068497-d11888819-Reviews-L...                                           [[], []]   \n",
       "/Restaurant_Review-g1068497-d12160475-Reviews-I...  [['Service with smile', 'Rather boring food'],...   \n",
       "\n",
       "                                                        ID_TA  Main  ...  \\\n",
       "/Restaurant_Review-g1068497-d10441257-Reviews-G...  d10441257  True  ...   \n",
       "/Restaurant_Review-g1068497-d10486190-Reviews-D...  d10486190  True  ...   \n",
       "/Restaurant_Review-g1068497-d10522391-Reviews-D...  d10522391  True  ...   \n",
       "/Restaurant_Review-g1068497-d11888819-Reviews-L...  d11888819  True  ...   \n",
       "/Restaurant_Review-g1068497-d12160475-Reviews-I...  d12160475  True  ...   \n",
       "\n",
       "                                                   New Restaurants Count  \\\n",
       "/Restaurant_Review-g1068497-d10441257-Reviews-G...                  41.0   \n",
       "/Restaurant_Review-g1068497-d10486190-Reviews-D...                   NaN   \n",
       "/Restaurant_Review-g1068497-d10522391-Reviews-D...                  41.0   \n",
       "/Restaurant_Review-g1068497-d11888819-Reviews-L...                  41.0   \n",
       "/Restaurant_Review-g1068497-d12160475-Reviews-I...                  41.0   \n",
       "\n",
       "                                                    New Relative Ranking  \\\n",
       "/Restaurant_Review-g1068497-d10441257-Reviews-G...              0.512195   \n",
       "/Restaurant_Review-g1068497-d10486190-Reviews-D...                   NaN   \n",
       "/Restaurant_Review-g1068497-d10522391-Reviews-D...              0.292683   \n",
       "/Restaurant_Review-g1068497-d11888819-Reviews-L...              0.634146   \n",
       "/Restaurant_Review-g1068497-d12160475-Reviews-I...              0.780488   \n",
       "\n",
       "                                                   New Rating New Price Range  \\\n",
       "/Restaurant_Review-g1068497-d10441257-Reviews-G...        4.5             NaN   \n",
       "/Restaurant_Review-g1068497-d10486190-Reviews-D...        4.0             NaN   \n",
       "/Restaurant_Review-g1068497-d10522391-Reviews-D...        4.5               $   \n",
       "/Restaurant_Review-g1068497-d11888819-Reviews-L...        4.0             NaN   \n",
       "/Restaurant_Review-g1068497-d12160475-Reviews-I...        3.5             NaN   \n",
       "\n",
       "                                                   New Number of Reviews  \\\n",
       "/Restaurant_Review-g1068497-d10441257-Reviews-G...                   7.0   \n",
       "/Restaurant_Review-g1068497-d10486190-Reviews-D...                   1.0   \n",
       "/Restaurant_Review-g1068497-d10522391-Reviews-D...                  21.0   \n",
       "/Restaurant_Review-g1068497-d11888819-Reviews-L...                   6.0   \n",
       "/Restaurant_Review-g1068497-d12160475-Reviews-I...                   3.0   \n",
       "\n",
       "                                                    New Excellent Marks  \\\n",
       "/Restaurant_Review-g1068497-d10441257-Reviews-G...                  4.0   \n",
       "/Restaurant_Review-g1068497-d10486190-Reviews-D...                  0.0   \n",
       "/Restaurant_Review-g1068497-d10522391-Reviews-D...                  7.0   \n",
       "/Restaurant_Review-g1068497-d11888819-Reviews-L...                  4.0   \n",
       "/Restaurant_Review-g1068497-d12160475-Reviews-I...                  0.0   \n",
       "\n",
       "                                                    New Very Good Marks  \\\n",
       "/Restaurant_Review-g1068497-d10441257-Reviews-G...                  3.0   \n",
       "/Restaurant_Review-g1068497-d10486190-Reviews-D...                  1.0   \n",
       "/Restaurant_Review-g1068497-d10522391-Reviews-D...                  0.0   \n",
       "/Restaurant_Review-g1068497-d11888819-Reviews-L...                  1.0   \n",
       "/Restaurant_Review-g1068497-d12160475-Reviews-I...                  2.0   \n",
       "\n",
       "                                                    New Poor Marks  \\\n",
       "/Restaurant_Review-g1068497-d10441257-Reviews-G...             0.0   \n",
       "/Restaurant_Review-g1068497-d10486190-Reviews-D...             0.0   \n",
       "/Restaurant_Review-g1068497-d10522391-Reviews-D...             0.0   \n",
       "/Restaurant_Review-g1068497-d11888819-Reviews-L...             0.0   \n",
       "/Restaurant_Review-g1068497-d12160475-Reviews-I...             1.0   \n",
       "\n",
       "                                                    New Terrible Marks  \\\n",
       "/Restaurant_Review-g1068497-d10441257-Reviews-G...                 0.0   \n",
       "/Restaurant_Review-g1068497-d10486190-Reviews-D...                 0.0   \n",
       "/Restaurant_Review-g1068497-d10522391-Reviews-D...                 1.0   \n",
       "/Restaurant_Review-g1068497-d11888819-Reviews-L...                 1.0   \n",
       "/Restaurant_Review-g1068497-d12160475-Reviews-I...                 0.0   \n",
       "\n",
       "                                                   New Is Closed  \n",
       "/Restaurant_Review-g1068497-d10441257-Reviews-G...         False  \n",
       "/Restaurant_Review-g1068497-d10486190-Reviews-D...          True  \n",
       "/Restaurant_Review-g1068497-d10522391-Reviews-D...         False  \n",
       "/Restaurant_Review-g1068497-d11888819-Reviews-L...         False  \n",
       "/Restaurant_Review-g1068497-d12160475-Reviews-I...         False  \n",
       "\n",
       "[5 rows x 26 columns]"
      ]
     },
     "execution_count": 21,
     "metadata": {},
     "output_type": "execute_result"
    }
   ],
   "source": [
    "df.head()"
   ]
  },
  {
   "cell_type": "markdown",
   "metadata": {},
   "source": [
    "## 1. Информация о ресторанах"
   ]
  },
  {
   "cell_type": "markdown",
   "metadata": {},
   "source": [
    "### Добавленный числовой признак № 1. Количество ресторанов в городе"
   ]
  },
  {
   "cell_type": "code",
   "execution_count": 23,
   "metadata": {},
   "outputs": [],
   "source": [
    "# Создадим справочник с указанием количества ресторанов для каждого города, присутствующего в датасете\n",
    "res_count = {\n",
    "    'Paris': 17593,\n",
    "    'Stockholm': 3131,\n",
    "    'London': 22366,\n",
    "    'Berlin': 8110, \n",
    "    'Munich': 3367,\n",
    "    'Oporto': 2060, \n",
    "    'Milan': 7940,\n",
    "    'Bratislava': 1331,\n",
    "    'Vienna': 4387, \n",
    "    'Rome': 12086,\n",
    "    'Barcelona': 10086,\n",
    "    'Madrid': 11562,\n",
    "    'Dublin': 2706,\n",
    "    'Brussels': 3703,\n",
    "    'Zurich': 1901,\n",
    "    'Warsaw': 3210,\n",
    "    'Budapest': 3445, \n",
    "    'Copenhagen': 2637,\n",
    "    'Amsterdam': 4189,\n",
    "    'Lyon': 2833,\n",
    "    'Hamburg': 3501, \n",
    "    'Lisbon': 4985,\n",
    "    'Prague': 5850,\n",
    "    'Oslo': 1441, \n",
    "    'Helsinki': 1661,\n",
    "    'Edinburgh': 2248,\n",
    "    'Geneva': 1753,\n",
    "    'Ljubljana': 647,\n",
    "    'Athens': 2814,\n",
    "    'Luxembourg': 759,\n",
    "    'Krakow': 1832       \n",
    "}"
   ]
  },
  {
   "cell_type": "code",
   "execution_count": 24,
   "metadata": {},
   "outputs": [],
   "source": [
    "# Создадим новый признак 'Restaurants Count', отражающий общее количество ресторанов в городе, в котором расположен данный ресторан\n",
    "df['Restaurants Count'] = df['City'].map(res_count)"
   ]
  },
  {
   "cell_type": "code",
   "execution_count": 25,
   "metadata": {},
   "outputs": [
    {
     "name": "stdout",
     "output_type": "stream",
     "text": [
      "<class 'pandas.core.frame.DataFrame'>\n",
      "Index: 50000 entries, /Restaurant_Review-g1068497-d10441257-Reviews-Gourmandises-Auderghem_Brussels.html to /Restaurant_Review-g950786-d9558331-Reviews-Osteria_Delle_Stelle-Schaerbeek_Brussels.html\n",
      "Data columns (total 27 columns):\n",
      "Restaurant_id            50000 non-null object\n",
      "City                     50000 non-null object\n",
      "Cuisine Style            38410 non-null object\n",
      "Ranking                  50000 non-null float64\n",
      "Rating                   50000 non-null float64\n",
      "Price Range              32639 non-null object\n",
      "Number of Reviews        46800 non-null float64\n",
      "Reviews                  49998 non-null object\n",
      "ID_TA                    50000 non-null object\n",
      "Main                     50000 non-null bool\n",
      "Name                     50000 non-null object\n",
      "Unnamed: 0               44287 non-null float64\n",
      "New Name                 44287 non-null object\n",
      "New City                 39614 non-null object\n",
      "New Cuisine Style        41211 non-null object\n",
      "New Ranking              39619 non-null float64\n",
      "New Restaurants Count    39619 non-null float64\n",
      "New Relative Ranking     39619 non-null float64\n",
      "New Rating               44253 non-null float64\n",
      "New Price Range          34868 non-null object\n",
      "New Number of Reviews    43030 non-null float64\n",
      "New Excellent Marks      44136 non-null float64\n",
      "New Very Good Marks      44246 non-null float64\n",
      "New Poor Marks           44254 non-null float64\n",
      "New Terrible Marks       44254 non-null float64\n",
      "New Is Closed            44287 non-null object\n",
      "Restaurants Count        50000 non-null int64\n",
      "dtypes: bool(1), float64(13), int64(1), object(12)\n",
      "memory usage: 10.3+ MB\n"
     ]
    }
   ],
   "source": [
    "# Смотрим, что получилось\n",
    "df.info()"
   ]
  },
  {
   "cell_type": "code",
   "execution_count": 31,
   "metadata": {},
   "outputs": [
    {
     "data": {
      "text/plain": [
       "/Restaurant_Review-g1068497-d10441257-Reviews-Gourmandises-Auderghem_Brussels.html             3703\n",
       "/Restaurant_Review-g1068497-d10486190-Reviews-Douce_Heure-Auderghem_Brussels.html              3703\n",
       "/Restaurant_Review-g1068497-d10522391-Reviews-De_MASALA_BOX-Auderghem_Brussels.html            3703\n",
       "/Restaurant_Review-g1068497-d11888819-Reviews-Les_Delices_de_Magali-Auderghem_Brussels.html    3703\n",
       "/Restaurant_Review-g1068497-d12160475-Reviews-Ispahan-Auderghem_Brussels.html                  3703\n",
       "Name: Restaurants Count, dtype: int64"
      ]
     },
     "execution_count": 31,
     "metadata": {},
     "output_type": "execute_result"
    }
   ],
   "source": [
    "df['Restaurants Count'].head()"
   ]
  },
  {
   "cell_type": "markdown",
   "metadata": {},
   "source": [
    "### Добавленный числовой признак № 2. Относительный ранг"
   ]
  },
  {
   "cell_type": "code",
   "execution_count": 32,
   "metadata": {},
   "outputs": [],
   "source": [
    "# А теперь создадим относительный признак 'Relative Ranking' = 'Ranking' / 'Restaurants Count'\n",
    "df['Relative Ranking'] = df['Ranking'] / df['Restaurants Count']"
   ]
  },
  {
   "cell_type": "code",
   "execution_count": 33,
   "metadata": {},
   "outputs": [
    {
     "name": "stdout",
     "output_type": "stream",
     "text": [
      "<class 'pandas.core.frame.DataFrame'>\n",
      "Index: 50000 entries, /Restaurant_Review-g1068497-d10441257-Reviews-Gourmandises-Auderghem_Brussels.html to /Restaurant_Review-g950786-d9558331-Reviews-Osteria_Delle_Stelle-Schaerbeek_Brussels.html\n",
      "Data columns (total 28 columns):\n",
      "Restaurant_id            50000 non-null object\n",
      "City                     50000 non-null object\n",
      "Cuisine Style            38410 non-null object\n",
      "Ranking                  50000 non-null float64\n",
      "Rating                   50000 non-null float64\n",
      "Price Range              32639 non-null object\n",
      "Number of Reviews        46800 non-null float64\n",
      "Reviews                  49998 non-null object\n",
      "ID_TA                    50000 non-null object\n",
      "Main                     50000 non-null bool\n",
      "Name                     50000 non-null object\n",
      "Unnamed: 0               44287 non-null float64\n",
      "New Name                 44287 non-null object\n",
      "New City                 39614 non-null object\n",
      "New Cuisine Style        41211 non-null object\n",
      "New Ranking              39619 non-null float64\n",
      "New Restaurants Count    39619 non-null float64\n",
      "New Relative Ranking     39619 non-null float64\n",
      "New Rating               44253 non-null float64\n",
      "New Price Range          34868 non-null object\n",
      "New Number of Reviews    43030 non-null float64\n",
      "New Excellent Marks      44136 non-null float64\n",
      "New Very Good Marks      44246 non-null float64\n",
      "New Poor Marks           44254 non-null float64\n",
      "New Terrible Marks       44254 non-null float64\n",
      "New Is Closed            44287 non-null object\n",
      "Restaurants Count        50000 non-null int64\n",
      "Relative Ranking         50000 non-null float64\n",
      "dtypes: bool(1), float64(14), int64(1), object(12)\n",
      "memory usage: 10.7+ MB\n"
     ]
    }
   ],
   "source": [
    "df.info()"
   ]
  },
  {
   "cell_type": "code",
   "execution_count": 34,
   "metadata": {},
   "outputs": [
    {
     "data": {
      "text/plain": [
       "/Restaurant_Review-g1068497-d10441257-Reviews-Gourmandises-Auderghem_Brussels.html             0.475290\n",
       "/Restaurant_Review-g1068497-d10486190-Reviews-Douce_Heure-Auderghem_Brussels.html              0.611666\n",
       "/Restaurant_Review-g1068497-d10522391-Reviews-De_MASALA_BOX-Auderghem_Brussels.html            0.469619\n",
       "/Restaurant_Review-g1068497-d11888819-Reviews-Les_Delices_de_Magali-Auderghem_Brussels.html    0.408858\n",
       "/Restaurant_Review-g1068497-d12160475-Reviews-Ispahan-Auderghem_Brussels.html                  0.671348\n",
       "Name: Relative Ranking, dtype: float64"
      ]
     },
     "execution_count": 34,
     "metadata": {},
     "output_type": "execute_result"
    }
   ],
   "source": [
    "df['Relative Ranking'].head()"
   ]
  },
  {
   "cell_type": "markdown",
   "metadata": {},
   "source": [
    "## 2. Информация о ценах"
   ]
  },
  {
   "cell_type": "code",
   "execution_count": 35,
   "metadata": {},
   "outputs": [
    {
     "data": {
      "text/plain": [
       "array([nan, '$', '$$ - $$$', '$$$$'], dtype=object)"
      ]
     },
     "execution_count": 35,
     "metadata": {},
     "output_type": "execute_result"
    }
   ],
   "source": [
    "# Посмотрим на данные в признаке 'Price Range'\n",
    "df['Price Range'].unique()"
   ]
  },
  {
   "cell_type": "code",
   "execution_count": 36,
   "metadata": {},
   "outputs": [
    {
     "data": {
      "text/plain": [
       "array([nan, '$', '$$ - $$$', '$$$$'], dtype=object)"
      ]
     },
     "execution_count": 36,
     "metadata": {},
     "output_type": "execute_result"
    }
   ],
   "source": [
    "# Сравним с новыми данными\n",
    "df['New Price Range'].unique()"
   ]
  },
  {
   "cell_type": "code",
   "execution_count": 37,
   "metadata": {},
   "outputs": [
    {
     "data": {
      "text/html": [
       "<div>\n",
       "<style scoped>\n",
       "    .dataframe tbody tr th:only-of-type {\n",
       "        vertical-align: middle;\n",
       "    }\n",
       "\n",
       "    .dataframe tbody tr th {\n",
       "        vertical-align: top;\n",
       "    }\n",
       "\n",
       "    .dataframe thead th {\n",
       "        text-align: right;\n",
       "    }\n",
       "</style>\n",
       "<table border=\"1\" class=\"dataframe\">\n",
       "  <thead>\n",
       "    <tr style=\"text-align: right;\">\n",
       "      <th></th>\n",
       "      <th>Price Range</th>\n",
       "      <th>New Price Range</th>\n",
       "    </tr>\n",
       "  </thead>\n",
       "  <tbody>\n",
       "    <tr>\n",
       "      <th>/Restaurant_Review-g1068497-d10441257-Reviews-Gourmandises-Auderghem_Brussels.html</th>\n",
       "      <td>NaN</td>\n",
       "      <td>NaN</td>\n",
       "    </tr>\n",
       "    <tr>\n",
       "      <th>/Restaurant_Review-g1068497-d10486190-Reviews-Douce_Heure-Auderghem_Brussels.html</th>\n",
       "      <td>NaN</td>\n",
       "      <td>NaN</td>\n",
       "    </tr>\n",
       "    <tr>\n",
       "      <th>/Restaurant_Review-g1068497-d10522391-Reviews-De_MASALA_BOX-Auderghem_Brussels.html</th>\n",
       "      <td>$</td>\n",
       "      <td>$</td>\n",
       "    </tr>\n",
       "    <tr>\n",
       "      <th>/Restaurant_Review-g1068497-d11888819-Reviews-Les_Delices_de_Magali-Auderghem_Brussels.html</th>\n",
       "      <td>NaN</td>\n",
       "      <td>NaN</td>\n",
       "    </tr>\n",
       "    <tr>\n",
       "      <th>/Restaurant_Review-g1068497-d12160475-Reviews-Ispahan-Auderghem_Brussels.html</th>\n",
       "      <td>NaN</td>\n",
       "      <td>NaN</td>\n",
       "    </tr>\n",
       "  </tbody>\n",
       "</table>\n",
       "</div>"
      ],
      "text/plain": [
       "                                                   Price Range New Price Range\n",
       "/Restaurant_Review-g1068497-d10441257-Reviews-G...         NaN             NaN\n",
       "/Restaurant_Review-g1068497-d10486190-Reviews-D...         NaN             NaN\n",
       "/Restaurant_Review-g1068497-d10522391-Reviews-D...           $               $\n",
       "/Restaurant_Review-g1068497-d11888819-Reviews-L...         NaN             NaN\n",
       "/Restaurant_Review-g1068497-d12160475-Reviews-I...         NaN             NaN"
      ]
     },
     "execution_count": 37,
     "metadata": {},
     "output_type": "execute_result"
    }
   ],
   "source": [
    "df[['Price Range', 'New Price Range']].head()"
   ]
  },
  {
   "cell_type": "code",
   "execution_count": 39,
   "metadata": {},
   "outputs": [
    {
     "data": {
      "text/plain": [
       "Price Range        17361\n",
       "New Price Range    15132\n",
       "dtype: int64"
      ]
     },
     "execution_count": 39,
     "metadata": {},
     "output_type": "execute_result"
    }
   ],
   "source": [
    "# Как видно, часть недостающих данных можно взять из колонки New Price Range\n",
    "df[['Price Range', 'New Price Range']].isna().sum()"
   ]
  },
  {
   "cell_type": "code",
   "execution_count": 45,
   "metadata": {},
   "outputs": [],
   "source": [
    "# Берем недостающие данные из колонки New Price Range\n",
    "df.loc[df['Price Range'].isna(), 'Price Range'] = df.loc[df['Price Range'].isna(), 'New Price Range']"
   ]
  },
  {
   "cell_type": "code",
   "execution_count": 46,
   "metadata": {},
   "outputs": [
    {
     "data": {
      "text/plain": [
       "Price Range        10278\n",
       "New Price Range    15132\n",
       "dtype: int64"
      ]
     },
     "execution_count": 46,
     "metadata": {},
     "output_type": "execute_result"
    }
   ],
   "source": [
    "# Как видно, новые данные устранили порядка 7000 пробелов\n",
    "df[['Price Range', 'New Price Range']].isna().sum()"
   ]
  },
  {
   "cell_type": "code",
   "execution_count": 48,
   "metadata": {},
   "outputs": [
    {
     "name": "stdout",
     "output_type": "stream",
     "text": [
      "<class 'pandas.core.frame.DataFrame'>\n",
      "Index: 50000 entries, /Restaurant_Review-g1068497-d10441257-Reviews-Gourmandises-Auderghem_Brussels.html to /Restaurant_Review-g950786-d9558331-Reviews-Osteria_Delle_Stelle-Schaerbeek_Brussels.html\n",
      "Data columns (total 29 columns):\n",
      "Restaurant_id            50000 non-null object\n",
      "City                     50000 non-null object\n",
      "Cuisine Style            38410 non-null object\n",
      "Ranking                  50000 non-null float64\n",
      "Rating                   50000 non-null float64\n",
      "Price Range              39722 non-null object\n",
      "Number of Reviews        46800 non-null float64\n",
      "Reviews                  49998 non-null object\n",
      "ID_TA                    50000 non-null object\n",
      "Main                     50000 non-null bool\n",
      "Name                     50000 non-null object\n",
      "Unnamed: 0               44287 non-null float64\n",
      "New Name                 44287 non-null object\n",
      "New City                 39614 non-null object\n",
      "New Cuisine Style        41211 non-null object\n",
      "New Ranking              39619 non-null float64\n",
      "New Restaurants Count    39619 non-null float64\n",
      "New Relative Ranking     39619 non-null float64\n",
      "New Rating               44253 non-null float64\n",
      "New Price Range          34868 non-null object\n",
      "New Number of Reviews    43030 non-null float64\n",
      "New Excellent Marks      44136 non-null float64\n",
      "New Very Good Marks      44246 non-null float64\n",
      "New Poor Marks           44254 non-null float64\n",
      "New Terrible Marks       44254 non-null float64\n",
      "New Is Closed            44287 non-null object\n",
      "Restaurants Count        50000 non-null int64\n",
      "Relative Ranking         50000 non-null float64\n",
      "Price Range Was NAN      50000 non-null bool\n",
      "dtypes: bool(2), float64(14), int64(1), object(12)\n",
      "memory usage: 12.0+ MB\n"
     ]
    }
   ],
   "source": [
    "df.info()"
   ]
  },
  {
   "cell_type": "code",
   "execution_count": 49,
   "metadata": {},
   "outputs": [
    {
     "data": {
      "text/html": [
       "<div>\n",
       "<style scoped>\n",
       "    .dataframe tbody tr th:only-of-type {\n",
       "        vertical-align: middle;\n",
       "    }\n",
       "\n",
       "    .dataframe tbody tr th {\n",
       "        vertical-align: top;\n",
       "    }\n",
       "\n",
       "    .dataframe thead th {\n",
       "        text-align: right;\n",
       "    }\n",
       "</style>\n",
       "<table border=\"1\" class=\"dataframe\">\n",
       "  <thead>\n",
       "    <tr style=\"text-align: right;\">\n",
       "      <th></th>\n",
       "      <th>Restaurant_id</th>\n",
       "      <th>City</th>\n",
       "      <th>Cuisine Style</th>\n",
       "      <th>Ranking</th>\n",
       "      <th>Rating</th>\n",
       "      <th>Price Range</th>\n",
       "      <th>Number of Reviews</th>\n",
       "      <th>Reviews</th>\n",
       "      <th>ID_TA</th>\n",
       "      <th>Main</th>\n",
       "      <th>...</th>\n",
       "      <th>New Price Range</th>\n",
       "      <th>New Number of Reviews</th>\n",
       "      <th>New Excellent Marks</th>\n",
       "      <th>New Very Good Marks</th>\n",
       "      <th>New Poor Marks</th>\n",
       "      <th>New Terrible Marks</th>\n",
       "      <th>New Is Closed</th>\n",
       "      <th>Restaurants Count</th>\n",
       "      <th>Relative Ranking</th>\n",
       "      <th>Price Range Was NAN</th>\n",
       "    </tr>\n",
       "  </thead>\n",
       "  <tbody>\n",
       "    <tr>\n",
       "      <th>/Restaurant_Review-g1068497-d10441257-Reviews-Gourmandises-Auderghem_Brussels.html</th>\n",
       "      <td>id_1759</td>\n",
       "      <td>Brussels</td>\n",
       "      <td>NaN</td>\n",
       "      <td>1760.0</td>\n",
       "      <td>4.5</td>\n",
       "      <td>NaN</td>\n",
       "      <td>2.0</td>\n",
       "      <td>[[], []]</td>\n",
       "      <td>d10441257</td>\n",
       "      <td>True</td>\n",
       "      <td>...</td>\n",
       "      <td>NaN</td>\n",
       "      <td>7.0</td>\n",
       "      <td>4.0</td>\n",
       "      <td>3.0</td>\n",
       "      <td>0.0</td>\n",
       "      <td>0.0</td>\n",
       "      <td>False</td>\n",
       "      <td>3703</td>\n",
       "      <td>0.475290</td>\n",
       "      <td>True</td>\n",
       "    </tr>\n",
       "    <tr>\n",
       "      <th>/Restaurant_Review-g1068497-d10486190-Reviews-Douce_Heure-Auderghem_Brussels.html</th>\n",
       "      <td>id_2178</td>\n",
       "      <td>Brussels</td>\n",
       "      <td>NaN</td>\n",
       "      <td>2265.0</td>\n",
       "      <td>4.0</td>\n",
       "      <td>NaN</td>\n",
       "      <td>NaN</td>\n",
       "      <td>[[], []]</td>\n",
       "      <td>d10486190</td>\n",
       "      <td>True</td>\n",
       "      <td>...</td>\n",
       "      <td>NaN</td>\n",
       "      <td>1.0</td>\n",
       "      <td>0.0</td>\n",
       "      <td>1.0</td>\n",
       "      <td>0.0</td>\n",
       "      <td>0.0</td>\n",
       "      <td>True</td>\n",
       "      <td>3703</td>\n",
       "      <td>0.611666</td>\n",
       "      <td>True</td>\n",
       "    </tr>\n",
       "    <tr>\n",
       "      <th>/Restaurant_Review-g1068497-d10522391-Reviews-De_MASALA_BOX-Auderghem_Brussels.html</th>\n",
       "      <td>id_1738</td>\n",
       "      <td>Brussels</td>\n",
       "      <td>['Fusion']</td>\n",
       "      <td>1739.0</td>\n",
       "      <td>4.0</td>\n",
       "      <td>$</td>\n",
       "      <td>14.0</td>\n",
       "      <td>[['Quick delicious lunch', 'The perfect lunch'...</td>\n",
       "      <td>d10522391</td>\n",
       "      <td>True</td>\n",
       "      <td>...</td>\n",
       "      <td>$</td>\n",
       "      <td>21.0</td>\n",
       "      <td>7.0</td>\n",
       "      <td>0.0</td>\n",
       "      <td>0.0</td>\n",
       "      <td>1.0</td>\n",
       "      <td>False</td>\n",
       "      <td>3703</td>\n",
       "      <td>0.469619</td>\n",
       "      <td>False</td>\n",
       "    </tr>\n",
       "    <tr>\n",
       "      <th>/Restaurant_Review-g1068497-d11888819-Reviews-Les_Delices_de_Magali-Auderghem_Brussels.html</th>\n",
       "      <td>id_1513</td>\n",
       "      <td>Brussels</td>\n",
       "      <td>NaN</td>\n",
       "      <td>1514.0</td>\n",
       "      <td>5.0</td>\n",
       "      <td>NaN</td>\n",
       "      <td>4.0</td>\n",
       "      <td>[[], []]</td>\n",
       "      <td>d11888819</td>\n",
       "      <td>True</td>\n",
       "      <td>...</td>\n",
       "      <td>NaN</td>\n",
       "      <td>6.0</td>\n",
       "      <td>4.0</td>\n",
       "      <td>1.0</td>\n",
       "      <td>0.0</td>\n",
       "      <td>1.0</td>\n",
       "      <td>False</td>\n",
       "      <td>3703</td>\n",
       "      <td>0.408858</td>\n",
       "      <td>True</td>\n",
       "    </tr>\n",
       "    <tr>\n",
       "      <th>/Restaurant_Review-g1068497-d12160475-Reviews-Ispahan-Auderghem_Brussels.html</th>\n",
       "      <td>id_2485</td>\n",
       "      <td>Brussels</td>\n",
       "      <td>NaN</td>\n",
       "      <td>2486.0</td>\n",
       "      <td>3.5</td>\n",
       "      <td>NaN</td>\n",
       "      <td>3.0</td>\n",
       "      <td>[['Service with smile', 'Rather boring food'],...</td>\n",
       "      <td>d12160475</td>\n",
       "      <td>True</td>\n",
       "      <td>...</td>\n",
       "      <td>NaN</td>\n",
       "      <td>3.0</td>\n",
       "      <td>0.0</td>\n",
       "      <td>2.0</td>\n",
       "      <td>1.0</td>\n",
       "      <td>0.0</td>\n",
       "      <td>False</td>\n",
       "      <td>3703</td>\n",
       "      <td>0.671348</td>\n",
       "      <td>True</td>\n",
       "    </tr>\n",
       "  </tbody>\n",
       "</table>\n",
       "<p>5 rows × 29 columns</p>\n",
       "</div>"
      ],
      "text/plain": [
       "                                                   Restaurant_id      City  \\\n",
       "/Restaurant_Review-g1068497-d10441257-Reviews-G...       id_1759  Brussels   \n",
       "/Restaurant_Review-g1068497-d10486190-Reviews-D...       id_2178  Brussels   \n",
       "/Restaurant_Review-g1068497-d10522391-Reviews-D...       id_1738  Brussels   \n",
       "/Restaurant_Review-g1068497-d11888819-Reviews-L...       id_1513  Brussels   \n",
       "/Restaurant_Review-g1068497-d12160475-Reviews-I...       id_2485  Brussels   \n",
       "\n",
       "                                                   Cuisine Style  Ranking  \\\n",
       "/Restaurant_Review-g1068497-d10441257-Reviews-G...           NaN   1760.0   \n",
       "/Restaurant_Review-g1068497-d10486190-Reviews-D...           NaN   2265.0   \n",
       "/Restaurant_Review-g1068497-d10522391-Reviews-D...    ['Fusion']   1739.0   \n",
       "/Restaurant_Review-g1068497-d11888819-Reviews-L...           NaN   1514.0   \n",
       "/Restaurant_Review-g1068497-d12160475-Reviews-I...           NaN   2486.0   \n",
       "\n",
       "                                                    Rating Price Range  \\\n",
       "/Restaurant_Review-g1068497-d10441257-Reviews-G...     4.5         NaN   \n",
       "/Restaurant_Review-g1068497-d10486190-Reviews-D...     4.0         NaN   \n",
       "/Restaurant_Review-g1068497-d10522391-Reviews-D...     4.0           $   \n",
       "/Restaurant_Review-g1068497-d11888819-Reviews-L...     5.0         NaN   \n",
       "/Restaurant_Review-g1068497-d12160475-Reviews-I...     3.5         NaN   \n",
       "\n",
       "                                                    Number of Reviews  \\\n",
       "/Restaurant_Review-g1068497-d10441257-Reviews-G...                2.0   \n",
       "/Restaurant_Review-g1068497-d10486190-Reviews-D...                NaN   \n",
       "/Restaurant_Review-g1068497-d10522391-Reviews-D...               14.0   \n",
       "/Restaurant_Review-g1068497-d11888819-Reviews-L...                4.0   \n",
       "/Restaurant_Review-g1068497-d12160475-Reviews-I...                3.0   \n",
       "\n",
       "                                                                                              Reviews  \\\n",
       "/Restaurant_Review-g1068497-d10441257-Reviews-G...                                           [[], []]   \n",
       "/Restaurant_Review-g1068497-d10486190-Reviews-D...                                           [[], []]   \n",
       "/Restaurant_Review-g1068497-d10522391-Reviews-D...  [['Quick delicious lunch', 'The perfect lunch'...   \n",
       "/Restaurant_Review-g1068497-d11888819-Reviews-L...                                           [[], []]   \n",
       "/Restaurant_Review-g1068497-d12160475-Reviews-I...  [['Service with smile', 'Rather boring food'],...   \n",
       "\n",
       "                                                        ID_TA  Main  ...  \\\n",
       "/Restaurant_Review-g1068497-d10441257-Reviews-G...  d10441257  True  ...   \n",
       "/Restaurant_Review-g1068497-d10486190-Reviews-D...  d10486190  True  ...   \n",
       "/Restaurant_Review-g1068497-d10522391-Reviews-D...  d10522391  True  ...   \n",
       "/Restaurant_Review-g1068497-d11888819-Reviews-L...  d11888819  True  ...   \n",
       "/Restaurant_Review-g1068497-d12160475-Reviews-I...  d12160475  True  ...   \n",
       "\n",
       "                                                   New Price Range  \\\n",
       "/Restaurant_Review-g1068497-d10441257-Reviews-G...             NaN   \n",
       "/Restaurant_Review-g1068497-d10486190-Reviews-D...             NaN   \n",
       "/Restaurant_Review-g1068497-d10522391-Reviews-D...               $   \n",
       "/Restaurant_Review-g1068497-d11888819-Reviews-L...             NaN   \n",
       "/Restaurant_Review-g1068497-d12160475-Reviews-I...             NaN   \n",
       "\n",
       "                                                    New Number of Reviews  \\\n",
       "/Restaurant_Review-g1068497-d10441257-Reviews-G...                    7.0   \n",
       "/Restaurant_Review-g1068497-d10486190-Reviews-D...                    1.0   \n",
       "/Restaurant_Review-g1068497-d10522391-Reviews-D...                   21.0   \n",
       "/Restaurant_Review-g1068497-d11888819-Reviews-L...                    6.0   \n",
       "/Restaurant_Review-g1068497-d12160475-Reviews-I...                    3.0   \n",
       "\n",
       "                                                   New Excellent Marks  \\\n",
       "/Restaurant_Review-g1068497-d10441257-Reviews-G...                 4.0   \n",
       "/Restaurant_Review-g1068497-d10486190-Reviews-D...                 0.0   \n",
       "/Restaurant_Review-g1068497-d10522391-Reviews-D...                 7.0   \n",
       "/Restaurant_Review-g1068497-d11888819-Reviews-L...                 4.0   \n",
       "/Restaurant_Review-g1068497-d12160475-Reviews-I...                 0.0   \n",
       "\n",
       "                                                   New Very Good Marks  \\\n",
       "/Restaurant_Review-g1068497-d10441257-Reviews-G...                 3.0   \n",
       "/Restaurant_Review-g1068497-d10486190-Reviews-D...                 1.0   \n",
       "/Restaurant_Review-g1068497-d10522391-Reviews-D...                 0.0   \n",
       "/Restaurant_Review-g1068497-d11888819-Reviews-L...                 1.0   \n",
       "/Restaurant_Review-g1068497-d12160475-Reviews-I...                 2.0   \n",
       "\n",
       "                                                   New Poor Marks  \\\n",
       "/Restaurant_Review-g1068497-d10441257-Reviews-G...            0.0   \n",
       "/Restaurant_Review-g1068497-d10486190-Reviews-D...            0.0   \n",
       "/Restaurant_Review-g1068497-d10522391-Reviews-D...            0.0   \n",
       "/Restaurant_Review-g1068497-d11888819-Reviews-L...            0.0   \n",
       "/Restaurant_Review-g1068497-d12160475-Reviews-I...            1.0   \n",
       "\n",
       "                                                    New Terrible Marks  \\\n",
       "/Restaurant_Review-g1068497-d10441257-Reviews-G...                 0.0   \n",
       "/Restaurant_Review-g1068497-d10486190-Reviews-D...                 0.0   \n",
       "/Restaurant_Review-g1068497-d10522391-Reviews-D...                 1.0   \n",
       "/Restaurant_Review-g1068497-d11888819-Reviews-L...                 1.0   \n",
       "/Restaurant_Review-g1068497-d12160475-Reviews-I...                 0.0   \n",
       "\n",
       "                                                    New Is Closed  \\\n",
       "/Restaurant_Review-g1068497-d10441257-Reviews-G...          False   \n",
       "/Restaurant_Review-g1068497-d10486190-Reviews-D...           True   \n",
       "/Restaurant_Review-g1068497-d10522391-Reviews-D...          False   \n",
       "/Restaurant_Review-g1068497-d11888819-Reviews-L...          False   \n",
       "/Restaurant_Review-g1068497-d12160475-Reviews-I...          False   \n",
       "\n",
       "                                                    Restaurants Count  \\\n",
       "/Restaurant_Review-g1068497-d10441257-Reviews-G...               3703   \n",
       "/Restaurant_Review-g1068497-d10486190-Reviews-D...               3703   \n",
       "/Restaurant_Review-g1068497-d10522391-Reviews-D...               3703   \n",
       "/Restaurant_Review-g1068497-d11888819-Reviews-L...               3703   \n",
       "/Restaurant_Review-g1068497-d12160475-Reviews-I...               3703   \n",
       "\n",
       "                                                    Relative Ranking  \\\n",
       "/Restaurant_Review-g1068497-d10441257-Reviews-G...          0.475290   \n",
       "/Restaurant_Review-g1068497-d10486190-Reviews-D...          0.611666   \n",
       "/Restaurant_Review-g1068497-d10522391-Reviews-D...          0.469619   \n",
       "/Restaurant_Review-g1068497-d11888819-Reviews-L...          0.408858   \n",
       "/Restaurant_Review-g1068497-d12160475-Reviews-I...          0.671348   \n",
       "\n",
       "                                                   Price Range Was NAN  \n",
       "/Restaurant_Review-g1068497-d10441257-Reviews-G...                True  \n",
       "/Restaurant_Review-g1068497-d10486190-Reviews-D...                True  \n",
       "/Restaurant_Review-g1068497-d10522391-Reviews-D...               False  \n",
       "/Restaurant_Review-g1068497-d11888819-Reviews-L...                True  \n",
       "/Restaurant_Review-g1068497-d12160475-Reviews-I...                True  \n",
       "\n",
       "[5 rows x 29 columns]"
      ]
     },
     "execution_count": 49,
     "metadata": {},
     "output_type": "execute_result"
    }
   ],
   "source": [
    "df.head()"
   ]
  },
  {
   "cell_type": "code",
   "execution_count": 50,
   "metadata": {},
   "outputs": [
    {
     "data": {
      "text/plain": [
       "<matplotlib.axes._subplots.AxesSubplot at 0x7f89628d82d0>"
      ]
     },
     "execution_count": 50,
     "metadata": {},
     "output_type": "execute_result"
    },
    {
     "data": {
      "image/png": "[encoded data removed]",
      "text/plain": [
       "<Figure size 432x288 with 1 Axes>"
      ]
     },
     "metadata": {
      "needs_background": "light"
     },
     "output_type": "display_data"
    }
   ],
   "source": [
    "# Как видно, кроме незаполненных данных есть три типа диапазонов цен '$', '$$-$$$' и '$$$$'.\n",
    "# Посмотрим на гистограмму количества отзывов для тех ресторанов, по которым отсутствует\n",
    "# информация о диапазоне цен.\n",
    "plt.xlabel('Number of Reviews')\n",
    "plt.ylabel('Count')\n",
    "plt.title('Number of Reviews distribution for restaurants that have no Price Range data.')\n",
    "df[df['Price Range'].isna()]['Number of Reviews'].hist(bins=100, range=(0, 99))"
   ]
  },
  {
   "cell_type": "code",
   "execution_count": 51,
   "metadata": {},
   "outputs": [
    {
     "data": {
      "text/plain": [
       "<matplotlib.axes._subplots.AxesSubplot at 0x7f8961e2b950>"
      ]
     },
     "execution_count": 51,
     "metadata": {},
     "output_type": "execute_result"
    },
    {
     "data": {
      "image/png": "[encoded data removed]",
      "text/plain": [
       "<Figure size 432x288 with 1 Axes>"
      ]
     },
     "metadata": {
      "needs_background": "light"
     },
     "output_type": "display_data"
    }
   ],
   "source": [
    "# Посмотрим на гистаграмму распределения количества отзывов \n",
    "# о ресторанах для разных диапазонов цен.\n",
    "plt.xlabel('Number of Reviews')\n",
    "plt.ylabel('Count')\n",
    "plt.title('$')\n",
    "df[df['Price Range'] == '$']['Number of Reviews'].hist(bins=100, range=(0, 300))"
   ]
  },
  {
   "cell_type": "code",
   "execution_count": 52,
   "metadata": {},
   "outputs": [
    {
     "data": {
      "text/plain": [
       "<matplotlib.axes._subplots.AxesSubplot at 0x7f8961d4a790>"
      ]
     },
     "execution_count": 52,
     "metadata": {},
     "output_type": "execute_result"
    },
    {
     "data": {
      "image/png": "[encoded data removed]",
      "text/plain": [
       "<Figure size 432x288 with 1 Axes>"
      ]
     },
     "metadata": {
      "needs_background": "light"
     },
     "output_type": "display_data"
    }
   ],
   "source": [
    "plt.xlabel('Number of Reviews')\n",
    "plt.ylabel('Count')\n",
    "plt.title('\\$\\$ - \\$\\$\\$')\n",
    "df[df['Price Range'] == '$$ - $$$']['Number of Reviews'].hist(bins=100, range=(0, 300))"
   ]
  },
  {
   "cell_type": "code",
   "execution_count": 53,
   "metadata": {},
   "outputs": [
    {
     "data": {
      "text/plain": [
       "<matplotlib.axes._subplots.AxesSubplot at 0x7f8961bf5ad0>"
      ]
     },
     "execution_count": 53,
     "metadata": {},
     "output_type": "execute_result"
    },
    {
     "data": {
      "image/png": "[encoded data removed]",
      "text/plain": [
       "<Figure size 432x288 with 1 Axes>"
      ]
     },
     "metadata": {
      "needs_background": "light"
     },
     "output_type": "display_data"
    }
   ],
   "source": [
    "plt.xlabel('Number of Reviews')\n",
    "plt.ylabel('Count')\n",
    "plt.title('\\$\\$\\$\\$')\n",
    "df[df['Price Range'] == '$$$$']['Number of Reviews'].hist(bins=100, range=(0, 300))"
   ]
  },
  {
   "cell_type": "markdown",
   "metadata": {},
   "source": [
    "### Инсайт!!!\n",
    "На гистограмме видно, что у большинства ресторанов с отсутствующими данными по диапазону цен количество отзывов меньше 40.\n",
    "Из этого можно сделать вывод, что такие рестораны появились относительно недавно и данных по ним недостаточно.\n",
    "Будем исходить из предположения, что в новых ресторанах уровень цен минимальный, так как им нужно сначала приобрести клиентуру.\n",
    "Заполним недостающие данные по уровню цен таким образом:\n",
    "- При 0-5 отзывов уровень цен будет минимальным '\\\\$'\n",
    "- При 5+ отзывов уровень цен будет средним '\\\\$\\\\$ - \\\\$\\\\$\\\\$'\n",
    "\n",
    "# Забегая вперед... Как ни странно, это не сработало. Точность лучше, если просто заполнить пропуски значением '\\\\$\\\\$ - \\\\$\\\\$\\\\$'. Дружно кекаем!!!"
   ]
  },
  {
   "cell_type": "markdown",
   "metadata": {},
   "source": [
    "### Добавленный числовой признак №3. Отсутствующие данные в столбце 'Price Range'"
   ]
  },
  {
   "cell_type": "code",
   "execution_count": 54,
   "metadata": {},
   "outputs": [],
   "source": [
    "# Перед заполнением пропусков создадим бинарный признак того, что раньше здесь был NAN\n",
    "df['Price Range Was NAN'] = df['Price Range'].isna()\n",
    "# Заполним пропуски данными функции get_price_range\n",
    "# df['Price Range'].fillna(df['Number of Reviews'].apply(get_price_range), inplace=True)\n",
    "# Ну уж нет. Заполним тупо значением '$$ - $$$' через fillna()\n",
    "df['Price Range'].fillna('$$ - $$$', inplace=True)"
   ]
  },
  {
   "cell_type": "markdown",
   "metadata": {},
   "source": [
    "### Добавленный числовой признак №4. Отсутствующие данные в столбце 'Number of Reviews'"
   ]
  },
  {
   "cell_type": "code",
   "execution_count": 55,
   "metadata": {},
   "outputs": [],
   "source": [
    "# Для начала создадим бинарный признак о том, было ли пропущено значение в поле 'Number of Reviews\n",
    "df['Number of Reviews Was NAN'] = df['Number of Reviews'].isna()\n",
    "# Заполним недостающие данные по количеству отзывов единицами\n",
    "df['Number of Reviews'].fillna(1, inplace=True)"
   ]
  },
  {
   "cell_type": "markdown",
   "metadata": {},
   "source": [
    "### Добавленный числовой признак №5. Числовой код диапазона цен"
   ]
  },
  {
   "cell_type": "code",
   "execution_count": 56,
   "metadata": {},
   "outputs": [],
   "source": [
    "# Теперь самое время перевести признак Price Range в числовой формат.\n",
    "# Так как число вариаций диапазонов цен не велико сэкономим память и вычисления\n",
    "# переведя строки в числа при помощи словаря и метода map вместо использования\n",
    "# sklearn.preprocessing.LabelEcnoder\n",
    "\n",
    "price_range_dict = {\n",
    "    '$': 1,\n",
    "    '$$ - $$$': 100,\n",
    "    '$$$$': 1000\n",
    "}\n",
    "\n",
    "df['Price Range'] = df['Price Range'].map(price_range_dict)"
   ]
  },
  {
   "cell_type": "markdown",
   "metadata": {},
   "source": [
    "## 2. География"
   ]
  },
  {
   "cell_type": "code",
   "execution_count": 57,
   "metadata": {},
   "outputs": [
    {
     "name": "stdout",
     "output_type": "stream",
     "text": [
      "<class 'pandas.core.frame.DataFrame'>\n",
      "Index: 50000 entries, /Restaurant_Review-g1068497-d10441257-Reviews-Gourmandises-Auderghem_Brussels.html to /Restaurant_Review-g950786-d9558331-Reviews-Osteria_Delle_Stelle-Schaerbeek_Brussels.html\n",
      "Data columns (total 30 columns):\n",
      "Restaurant_id                50000 non-null object\n",
      "City                         50000 non-null object\n",
      "Cuisine Style                38410 non-null object\n",
      "Ranking                      50000 non-null float64\n",
      "Rating                       50000 non-null float64\n",
      "Price Range                  50000 non-null int64\n",
      "Number of Reviews            50000 non-null float64\n",
      "Reviews                      49998 non-null object\n",
      "ID_TA                        50000 non-null object\n",
      "Main                         50000 non-null bool\n",
      "Name                         50000 non-null object\n",
      "Unnamed: 0                   44287 non-null float64\n",
      "New Name                     44287 non-null object\n",
      "New City                     39614 non-null object\n",
      "New Cuisine Style            41211 non-null object\n",
      "New Ranking                  39619 non-null float64\n",
      "New Restaurants Count        39619 non-null float64\n",
      "New Relative Ranking         39619 non-null float64\n",
      "New Rating                   44253 non-null float64\n",
      "New Price Range              34868 non-null object\n",
      "New Number of Reviews        43030 non-null float64\n",
      "New Excellent Marks          44136 non-null float64\n",
      "New Very Good Marks          44246 non-null float64\n",
      "New Poor Marks               44254 non-null float64\n",
      "New Terrible Marks           44254 non-null float64\n",
      "New Is Closed                44287 non-null object\n",
      "Restaurants Count            50000 non-null int64\n",
      "Relative Ranking             50000 non-null float64\n",
      "Price Range Was NAN          50000 non-null bool\n",
      "Number of Reviews Was NAN    50000 non-null bool\n",
      "dtypes: bool(3), float64(14), int64(2), object(11)\n",
      "memory usage: 12.1+ MB\n"
     ]
    }
   ],
   "source": [
    "# Еще раз посмотрим на информацию о данных в df\n",
    "df.info()"
   ]
  },
  {
   "cell_type": "code",
   "execution_count": 58,
   "metadata": {},
   "outputs": [
    {
     "data": {
      "text/plain": [
       "31"
      ]
     },
     "execution_count": 58,
     "metadata": {},
     "output_type": "execute_result"
    }
   ],
   "source": [
    "# Как видим, информация о городах присутствует для всех ресторанов\n",
    "# Посмотрим в скольких разных городах расположены рестораны, данные по которым присутствуют в датасете\n",
    "df['City'].nunique()"
   ]
  },
  {
   "cell_type": "code",
   "execution_count": 59,
   "metadata": {},
   "outputs": [
    {
     "data": {
      "text/plain": [
       "City\n",
       "London        7193\n",
       "Paris         6108\n",
       "Madrid        3813\n",
       "Barcelona     3395\n",
       "Berlin        2705\n",
       "Milan         2694\n",
       "Rome          2589\n",
       "Prague        1816\n",
       "Lisbon        1647\n",
       "Vienna        1443\n",
       "Amsterdam     1372\n",
       "Brussels      1314\n",
       "Hamburg       1186\n",
       "Munich        1145\n",
       "Lyon          1126\n",
       "Stockholm     1033\n",
       "Budapest      1021\n",
       "Warsaw         925\n",
       "Dublin         836\n",
       "Copenhagen     819\n",
       "Athens         776\n",
       "Edinburgh      745\n",
       "Zurich         685\n",
       "Oporto         642\n",
       "Geneva         590\n",
       "Krakow         554\n",
       "Oslo           488\n",
       "Helsinki       475\n",
       "Bratislava     380\n",
       "Luxembourg     263\n",
       "Ljubljana      222\n",
       "Name: City, dtype: int64"
      ]
     },
     "execution_count": 59,
     "metadata": {},
     "output_type": "execute_result"
    }
   ],
   "source": [
    "# Посмотрим, как рестораны распределены по городам\n",
    "df.groupby('City')['City'].count().sort_values(ascending=False)"
   ]
  },
  {
   "cell_type": "markdown",
   "metadata": {},
   "source": [
    "### Добавленный числовой признак №6. Код города"
   ]
  },
  {
   "cell_type": "code",
   "execution_count": 60,
   "metadata": {},
   "outputs": [],
   "source": [
    "# Переведем информацию о городах в числовой формат\n",
    "# с применением sklearn.preprocessign.LabelEncoder\n",
    "cities_le = LabelEncoder()\n",
    "cities_le.fit(df['City'])\n",
    "df['City Code'] = cities_le.transform(df['City'])"
   ]
  },
  {
   "cell_type": "code",
   "execution_count": 61,
   "metadata": {},
   "outputs": [
    {
     "data": {
      "text/html": [
       "<div>\n",
       "<style scoped>\n",
       "    .dataframe tbody tr th:only-of-type {\n",
       "        vertical-align: middle;\n",
       "    }\n",
       "\n",
       "    .dataframe tbody tr th {\n",
       "        vertical-align: top;\n",
       "    }\n",
       "\n",
       "    .dataframe thead th {\n",
       "        text-align: right;\n",
       "    }\n",
       "</style>\n",
       "<table border=\"1\" class=\"dataframe\">\n",
       "  <thead>\n",
       "    <tr style=\"text-align: right;\">\n",
       "      <th></th>\n",
       "      <th>Restaurant_id</th>\n",
       "      <th>City</th>\n",
       "      <th>Cuisine Style</th>\n",
       "      <th>Ranking</th>\n",
       "      <th>Rating</th>\n",
       "      <th>Price Range</th>\n",
       "      <th>Number of Reviews</th>\n",
       "      <th>Reviews</th>\n",
       "      <th>ID_TA</th>\n",
       "      <th>Main</th>\n",
       "      <th>...</th>\n",
       "      <th>New Excellent Marks</th>\n",
       "      <th>New Very Good Marks</th>\n",
       "      <th>New Poor Marks</th>\n",
       "      <th>New Terrible Marks</th>\n",
       "      <th>New Is Closed</th>\n",
       "      <th>Restaurants Count</th>\n",
       "      <th>Relative Ranking</th>\n",
       "      <th>Price Range Was NAN</th>\n",
       "      <th>Number of Reviews Was NAN</th>\n",
       "      <th>City Code</th>\n",
       "    </tr>\n",
       "  </thead>\n",
       "  <tbody>\n",
       "    <tr>\n",
       "      <th>/Restaurant_Review-g1068497-d10441257-Reviews-Gourmandises-Auderghem_Brussels.html</th>\n",
       "      <td>id_1759</td>\n",
       "      <td>Brussels</td>\n",
       "      <td>NaN</td>\n",
       "      <td>1760.0</td>\n",
       "      <td>4.5</td>\n",
       "      <td>100</td>\n",
       "      <td>2.0</td>\n",
       "      <td>[[], []]</td>\n",
       "      <td>d10441257</td>\n",
       "      <td>True</td>\n",
       "      <td>...</td>\n",
       "      <td>4.0</td>\n",
       "      <td>3.0</td>\n",
       "      <td>0.0</td>\n",
       "      <td>0.0</td>\n",
       "      <td>False</td>\n",
       "      <td>3703</td>\n",
       "      <td>0.475290</td>\n",
       "      <td>True</td>\n",
       "      <td>False</td>\n",
       "      <td>5</td>\n",
       "    </tr>\n",
       "    <tr>\n",
       "      <th>/Restaurant_Review-g1068497-d10486190-Reviews-Douce_Heure-Auderghem_Brussels.html</th>\n",
       "      <td>id_2178</td>\n",
       "      <td>Brussels</td>\n",
       "      <td>NaN</td>\n",
       "      <td>2265.0</td>\n",
       "      <td>4.0</td>\n",
       "      <td>100</td>\n",
       "      <td>1.0</td>\n",
       "      <td>[[], []]</td>\n",
       "      <td>d10486190</td>\n",
       "      <td>True</td>\n",
       "      <td>...</td>\n",
       "      <td>0.0</td>\n",
       "      <td>1.0</td>\n",
       "      <td>0.0</td>\n",
       "      <td>0.0</td>\n",
       "      <td>True</td>\n",
       "      <td>3703</td>\n",
       "      <td>0.611666</td>\n",
       "      <td>True</td>\n",
       "      <td>True</td>\n",
       "      <td>5</td>\n",
       "    </tr>\n",
       "    <tr>\n",
       "      <th>/Restaurant_Review-g1068497-d10522391-Reviews-De_MASALA_BOX-Auderghem_Brussels.html</th>\n",
       "      <td>id_1738</td>\n",
       "      <td>Brussels</td>\n",
       "      <td>['Fusion']</td>\n",
       "      <td>1739.0</td>\n",
       "      <td>4.0</td>\n",
       "      <td>1</td>\n",
       "      <td>14.0</td>\n",
       "      <td>[['Quick delicious lunch', 'The perfect lunch'...</td>\n",
       "      <td>d10522391</td>\n",
       "      <td>True</td>\n",
       "      <td>...</td>\n",
       "      <td>7.0</td>\n",
       "      <td>0.0</td>\n",
       "      <td>0.0</td>\n",
       "      <td>1.0</td>\n",
       "      <td>False</td>\n",
       "      <td>3703</td>\n",
       "      <td>0.469619</td>\n",
       "      <td>False</td>\n",
       "      <td>False</td>\n",
       "      <td>5</td>\n",
       "    </tr>\n",
       "    <tr>\n",
       "      <th>/Restaurant_Review-g1068497-d11888819-Reviews-Les_Delices_de_Magali-Auderghem_Brussels.html</th>\n",
       "      <td>id_1513</td>\n",
       "      <td>Brussels</td>\n",
       "      <td>NaN</td>\n",
       "      <td>1514.0</td>\n",
       "      <td>5.0</td>\n",
       "      <td>100</td>\n",
       "      <td>4.0</td>\n",
       "      <td>[[], []]</td>\n",
       "      <td>d11888819</td>\n",
       "      <td>True</td>\n",
       "      <td>...</td>\n",
       "      <td>4.0</td>\n",
       "      <td>1.0</td>\n",
       "      <td>0.0</td>\n",
       "      <td>1.0</td>\n",
       "      <td>False</td>\n",
       "      <td>3703</td>\n",
       "      <td>0.408858</td>\n",
       "      <td>True</td>\n",
       "      <td>False</td>\n",
       "      <td>5</td>\n",
       "    </tr>\n",
       "    <tr>\n",
       "      <th>/Restaurant_Review-g1068497-d12160475-Reviews-Ispahan-Auderghem_Brussels.html</th>\n",
       "      <td>id_2485</td>\n",
       "      <td>Brussels</td>\n",
       "      <td>NaN</td>\n",
       "      <td>2486.0</td>\n",
       "      <td>3.5</td>\n",
       "      <td>100</td>\n",
       "      <td>3.0</td>\n",
       "      <td>[['Service with smile', 'Rather boring food'],...</td>\n",
       "      <td>d12160475</td>\n",
       "      <td>True</td>\n",
       "      <td>...</td>\n",
       "      <td>0.0</td>\n",
       "      <td>2.0</td>\n",
       "      <td>1.0</td>\n",
       "      <td>0.0</td>\n",
       "      <td>False</td>\n",
       "      <td>3703</td>\n",
       "      <td>0.671348</td>\n",
       "      <td>True</td>\n",
       "      <td>False</td>\n",
       "      <td>5</td>\n",
       "    </tr>\n",
       "  </tbody>\n",
       "</table>\n",
       "<p>5 rows × 31 columns</p>\n",
       "</div>"
      ],
      "text/plain": [
       "                                                   Restaurant_id      City  \\\n",
       "/Restaurant_Review-g1068497-d10441257-Reviews-G...       id_1759  Brussels   \n",
       "/Restaurant_Review-g1068497-d10486190-Reviews-D...       id_2178  Brussels   \n",
       "/Restaurant_Review-g1068497-d10522391-Reviews-D...       id_1738  Brussels   \n",
       "/Restaurant_Review-g1068497-d11888819-Reviews-L...       id_1513  Brussels   \n",
       "/Restaurant_Review-g1068497-d12160475-Reviews-I...       id_2485  Brussels   \n",
       "\n",
       "                                                   Cuisine Style  Ranking  \\\n",
       "/Restaurant_Review-g1068497-d10441257-Reviews-G...           NaN   1760.0   \n",
       "/Restaurant_Review-g1068497-d10486190-Reviews-D...           NaN   2265.0   \n",
       "/Restaurant_Review-g1068497-d10522391-Reviews-D...    ['Fusion']   1739.0   \n",
       "/Restaurant_Review-g1068497-d11888819-Reviews-L...           NaN   1514.0   \n",
       "/Restaurant_Review-g1068497-d12160475-Reviews-I...           NaN   2486.0   \n",
       "\n",
       "                                                    Rating  Price Range  \\\n",
       "/Restaurant_Review-g1068497-d10441257-Reviews-G...     4.5          100   \n",
       "/Restaurant_Review-g1068497-d10486190-Reviews-D...     4.0          100   \n",
       "/Restaurant_Review-g1068497-d10522391-Reviews-D...     4.0            1   \n",
       "/Restaurant_Review-g1068497-d11888819-Reviews-L...     5.0          100   \n",
       "/Restaurant_Review-g1068497-d12160475-Reviews-I...     3.5          100   \n",
       "\n",
       "                                                    Number of Reviews  \\\n",
       "/Restaurant_Review-g1068497-d10441257-Reviews-G...                2.0   \n",
       "/Restaurant_Review-g1068497-d10486190-Reviews-D...                1.0   \n",
       "/Restaurant_Review-g1068497-d10522391-Reviews-D...               14.0   \n",
       "/Restaurant_Review-g1068497-d11888819-Reviews-L...                4.0   \n",
       "/Restaurant_Review-g1068497-d12160475-Reviews-I...                3.0   \n",
       "\n",
       "                                                                                              Reviews  \\\n",
       "/Restaurant_Review-g1068497-d10441257-Reviews-G...                                           [[], []]   \n",
       "/Restaurant_Review-g1068497-d10486190-Reviews-D...                                           [[], []]   \n",
       "/Restaurant_Review-g1068497-d10522391-Reviews-D...  [['Quick delicious lunch', 'The perfect lunch'...   \n",
       "/Restaurant_Review-g1068497-d11888819-Reviews-L...                                           [[], []]   \n",
       "/Restaurant_Review-g1068497-d12160475-Reviews-I...  [['Service with smile', 'Rather boring food'],...   \n",
       "\n",
       "                                                        ID_TA  Main  ...  \\\n",
       "/Restaurant_Review-g1068497-d10441257-Reviews-G...  d10441257  True  ...   \n",
       "/Restaurant_Review-g1068497-d10486190-Reviews-D...  d10486190  True  ...   \n",
       "/Restaurant_Review-g1068497-d10522391-Reviews-D...  d10522391  True  ...   \n",
       "/Restaurant_Review-g1068497-d11888819-Reviews-L...  d11888819  True  ...   \n",
       "/Restaurant_Review-g1068497-d12160475-Reviews-I...  d12160475  True  ...   \n",
       "\n",
       "                                                   New Excellent Marks  \\\n",
       "/Restaurant_Review-g1068497-d10441257-Reviews-G...                 4.0   \n",
       "/Restaurant_Review-g1068497-d10486190-Reviews-D...                 0.0   \n",
       "/Restaurant_Review-g1068497-d10522391-Reviews-D...                 7.0   \n",
       "/Restaurant_Review-g1068497-d11888819-Reviews-L...                 4.0   \n",
       "/Restaurant_Review-g1068497-d12160475-Reviews-I...                 0.0   \n",
       "\n",
       "                                                    New Very Good Marks  \\\n",
       "/Restaurant_Review-g1068497-d10441257-Reviews-G...                  3.0   \n",
       "/Restaurant_Review-g1068497-d10486190-Reviews-D...                  1.0   \n",
       "/Restaurant_Review-g1068497-d10522391-Reviews-D...                  0.0   \n",
       "/Restaurant_Review-g1068497-d11888819-Reviews-L...                  1.0   \n",
       "/Restaurant_Review-g1068497-d12160475-Reviews-I...                  2.0   \n",
       "\n",
       "                                                   New Poor Marks  \\\n",
       "/Restaurant_Review-g1068497-d10441257-Reviews-G...            0.0   \n",
       "/Restaurant_Review-g1068497-d10486190-Reviews-D...            0.0   \n",
       "/Restaurant_Review-g1068497-d10522391-Reviews-D...            0.0   \n",
       "/Restaurant_Review-g1068497-d11888819-Reviews-L...            0.0   \n",
       "/Restaurant_Review-g1068497-d12160475-Reviews-I...            1.0   \n",
       "\n",
       "                                                   New Terrible Marks  \\\n",
       "/Restaurant_Review-g1068497-d10441257-Reviews-G...                0.0   \n",
       "/Restaurant_Review-g1068497-d10486190-Reviews-D...                0.0   \n",
       "/Restaurant_Review-g1068497-d10522391-Reviews-D...                1.0   \n",
       "/Restaurant_Review-g1068497-d11888819-Reviews-L...                1.0   \n",
       "/Restaurant_Review-g1068497-d12160475-Reviews-I...                0.0   \n",
       "\n",
       "                                                   New Is Closed  \\\n",
       "/Restaurant_Review-g1068497-d10441257-Reviews-G...         False   \n",
       "/Restaurant_Review-g1068497-d10486190-Reviews-D...          True   \n",
       "/Restaurant_Review-g1068497-d10522391-Reviews-D...         False   \n",
       "/Restaurant_Review-g1068497-d11888819-Reviews-L...         False   \n",
       "/Restaurant_Review-g1068497-d12160475-Reviews-I...         False   \n",
       "\n",
       "                                                    Restaurants Count  \\\n",
       "/Restaurant_Review-g1068497-d10441257-Reviews-G...               3703   \n",
       "/Restaurant_Review-g1068497-d10486190-Reviews-D...               3703   \n",
       "/Restaurant_Review-g1068497-d10522391-Reviews-D...               3703   \n",
       "/Restaurant_Review-g1068497-d11888819-Reviews-L...               3703   \n",
       "/Restaurant_Review-g1068497-d12160475-Reviews-I...               3703   \n",
       "\n",
       "                                                    Relative Ranking  \\\n",
       "/Restaurant_Review-g1068497-d10441257-Reviews-G...          0.475290   \n",
       "/Restaurant_Review-g1068497-d10486190-Reviews-D...          0.611666   \n",
       "/Restaurant_Review-g1068497-d10522391-Reviews-D...          0.469619   \n",
       "/Restaurant_Review-g1068497-d11888819-Reviews-L...          0.408858   \n",
       "/Restaurant_Review-g1068497-d12160475-Reviews-I...          0.671348   \n",
       "\n",
       "                                                    Price Range Was NAN  \\\n",
       "/Restaurant_Review-g1068497-d10441257-Reviews-G...                 True   \n",
       "/Restaurant_Review-g1068497-d10486190-Reviews-D...                 True   \n",
       "/Restaurant_Review-g1068497-d10522391-Reviews-D...                False   \n",
       "/Restaurant_Review-g1068497-d11888819-Reviews-L...                 True   \n",
       "/Restaurant_Review-g1068497-d12160475-Reviews-I...                 True   \n",
       "\n",
       "                                                    Number of Reviews Was NAN  \\\n",
       "/Restaurant_Review-g1068497-d10441257-Reviews-G...                      False   \n",
       "/Restaurant_Review-g1068497-d10486190-Reviews-D...                       True   \n",
       "/Restaurant_Review-g1068497-d10522391-Reviews-D...                      False   \n",
       "/Restaurant_Review-g1068497-d11888819-Reviews-L...                      False   \n",
       "/Restaurant_Review-g1068497-d12160475-Reviews-I...                      False   \n",
       "\n",
       "                                                   City Code  \n",
       "/Restaurant_Review-g1068497-d10441257-Reviews-G...         5  \n",
       "/Restaurant_Review-g1068497-d10486190-Reviews-D...         5  \n",
       "/Restaurant_Review-g1068497-d10522391-Reviews-D...         5  \n",
       "/Restaurant_Review-g1068497-d11888819-Reviews-L...         5  \n",
       "/Restaurant_Review-g1068497-d12160475-Reviews-I...         5  \n",
       "\n",
       "[5 rows x 31 columns]"
      ]
     },
     "execution_count": 61,
     "metadata": {},
     "output_type": "execute_result"
    }
   ],
   "source": [
    "df.head()"
   ]
  },
  {
   "cell_type": "code",
   "execution_count": 62,
   "metadata": {},
   "outputs": [],
   "source": [
    "# Создадим словарь, в котором ключами буду названия городов, а значениями True, если этот город столица, в противном случае False\n",
    "is_capital = {\n",
    "    'London': True,\n",
    "    'Paris': True,\n",
    "    'Madrid': True,\n",
    "    'Barcelona': False,\n",
    "    'Berlin': True,\n",
    "    'Milan': False,\n",
    "    'Rome': True,\n",
    "    'Prague': True,\n",
    "    'Lisbon': True,\n",
    "    'Vienna': True,\n",
    "    'Amsterdam': True,\n",
    "    'Brussels': True,\n",
    "    'Hamburg': False,\n",
    "    'Munich': False,\n",
    "    'Lyon': False,\n",
    "    'Stockholm': True,\n",
    "    'Budapest': True,\n",
    "    'Warsaw': True,\n",
    "    'Dublin': True,\n",
    "    'Copenhagen': True,\n",
    "    'Athens': True,\n",
    "    'Edinburgh': True,\n",
    "    'Zurich': True,\n",
    "    'Oporto': False,\n",
    "    'Geneva': True,\n",
    "    'Krakow': True,\n",
    "    'Oslo': True,\n",
    "    'Helsinki': True,\n",
    "    'Bratislava': True,\n",
    "    'Luxembourg': True,\n",
    "    'Ljubljana': True\n",
    "}"
   ]
  },
  {
   "cell_type": "markdown",
   "metadata": {},
   "source": [
    "### Добавленный числовой признак №7. Является ли город столицей"
   ]
  },
  {
   "cell_type": "code",
   "execution_count": 63,
   "metadata": {},
   "outputs": [],
   "source": [
    "# Создадим числовой признак, является ли город столицей\n",
    "df['Is Capital'] = df['City'].map(is_capital)"
   ]
  },
  {
   "cell_type": "markdown",
   "metadata": {},
   "source": [
    "#### Добавим в датафрейм информацию о населении города и стране\n",
    "#### Городов не так много, так что гуглим и вносим данные в словарь вручную..."
   ]
  },
  {
   "cell_type": "code",
   "execution_count": 64,
   "metadata": {},
   "outputs": [],
   "source": [
    "city_population = {\n",
    "    'London': 8173900,\n",
    "    'Paris': 2240621,\n",
    "    'Madrid': 3155360,\n",
    "    'Barcelona': 1593075,\n",
    "    'Berlin': 3326002,\n",
    "    'Milan': 1331586,\n",
    "    'Rome': 2870493,\n",
    "    'Prague': 1272690,\n",
    "    'Lisbon': 547733,\n",
    "    'Vienna': 1765649,\n",
    "    'Amsterdam': 825080,\n",
    "    'Brussels': 144784,\n",
    "    'Hamburg': 1718187,\n",
    "    'Munich': 1364920,\n",
    "    'Lyon': 496343,\n",
    "    'Stockholm': 1981263,\n",
    "    'Budapest': 1744665,\n",
    "    'Warsaw': 1720398,\n",
    "    'Dublin': 506211 ,\n",
    "    'Copenhagen': 1246611,\n",
    "    'Athens': 3168846,\n",
    "    'Edinburgh': 476100,\n",
    "    'Zurich': 402275,\n",
    "    'Oporto': 221800,\n",
    "    'Geneva': 196150,\n",
    "    'Krakow': 756183,\n",
    "    'Oslo': 673469,\n",
    "    'Helsinki': 574579,\n",
    "    'Bratislava': 413192,\n",
    "    'Luxembourg': 576249,\n",
    "    'Ljubljana': 277554\n",
    "}\n",
    "\n",
    "# Попробуем чужие данные, вдруг результат будет лучше\n",
    "# Эти данные только ухудшили результат\n",
    "# city_population = {'Paris': 2190327, 'Stockholm': 961609, 'London': 8908081, 'Berlin': 3644826, 'Munich': 1456039, 'Oporto': 237591,'Milan': 1378689,'Bratislava': 432864, 'Vienna': 1821582, 'Rome': 4355725, 'Barcelona': 1620343, 'Madrid': 3223334,'Dublin': 1173179,'Brussels': 179277, 'Zurich': 428737, 'Warsaw': 1758143, 'Budapest': 1752286, 'Copenhagen': 615993,'Amsterdam': 857713,'Lyon': 506615, 'Hamburg': 1841179,'Lisbon': 505526, 'Prague': 1301132, 'Oslo': 673469,'Helsinki': 643272,'Edinburgh': 488100,'Geneva': 200548, 'Ljubljana': 284355,'Athens': 664046, 'Luxembourg': 115227,'Krakow': 769498}\n",
    "\n",
    "\n",
    "city_country = {\n",
    "    'London': 'UK',\n",
    "    'Paris': 'France',\n",
    "    'Madrid': 'Spain',\n",
    "    'Barcelona': 'Spain',\n",
    "    'Berlin': 'Germany',\n",
    "    'Milan': 'Italy',\n",
    "    'Rome': 'Italy',\n",
    "    'Prague': 'Czech',\n",
    "    'Lisbon': 'Portugalia',\n",
    "    'Vienna': 'Austria',\n",
    "    'Amsterdam': 'Nederlands',\n",
    "    'Brussels': '144784 ',\n",
    "    'Hamburg': 'Germany',\n",
    "    'Munich': 'Germany',\n",
    "    'Lyon': 'France',\n",
    "    'Stockholm': 'Sweden',\n",
    "    'Budapest': 'Hungary',\n",
    "    'Warsaw': 'Poland',\n",
    "    'Dublin': 'Ireland' ,\n",
    "    'Copenhagen': 'Denmark',\n",
    "    'Athens': 'Greece',\n",
    "    'Edinburgh': 'Schotland',\n",
    "    'Zurich': 'Switzerland',\n",
    "    'Oporto': 'Portugalia',\n",
    "    'Geneva': 'Switzerland',\n",
    "    'Krakow': 'Poland',\n",
    "    'Oslo': 'Norway',\n",
    "    'Helsinki': 'Finland',\n",
    "    'Bratislava': 'Slovakia',\n",
    "    'Luxembourg': 'Luxembourg',\n",
    "    'Ljubljana': 'Slovenija'\n",
    "}"
   ]
  },
  {
   "cell_type": "markdown",
   "metadata": {},
   "source": [
    "### Добавленный числовой признак №8. Население"
   ]
  },
  {
   "cell_type": "code",
   "execution_count": 65,
   "metadata": {},
   "outputs": [],
   "source": [
    "# Применим эти справочники к данным в столбце 'City' датафрейма df используя метод map\n",
    "df['Population'] = df['City'].map(city_population)\n",
    "df['Country'] = df['City'].map(city_country)"
   ]
  },
  {
   "cell_type": "code",
   "execution_count": 67,
   "metadata": {},
   "outputs": [
    {
     "data": {
      "text/html": [
       "<div>\n",
       "<style scoped>\n",
       "    .dataframe tbody tr th:only-of-type {\n",
       "        vertical-align: middle;\n",
       "    }\n",
       "\n",
       "    .dataframe tbody tr th {\n",
       "        vertical-align: top;\n",
       "    }\n",
       "\n",
       "    .dataframe thead th {\n",
       "        text-align: right;\n",
       "    }\n",
       "</style>\n",
       "<table border=\"1\" class=\"dataframe\">\n",
       "  <thead>\n",
       "    <tr style=\"text-align: right;\">\n",
       "      <th></th>\n",
       "      <th>Restaurant_id</th>\n",
       "      <th>City</th>\n",
       "      <th>Cuisine Style</th>\n",
       "      <th>Ranking</th>\n",
       "      <th>Rating</th>\n",
       "      <th>Price Range</th>\n",
       "      <th>Number of Reviews</th>\n",
       "      <th>Reviews</th>\n",
       "      <th>ID_TA</th>\n",
       "      <th>Main</th>\n",
       "      <th>...</th>\n",
       "      <th>New Terrible Marks</th>\n",
       "      <th>New Is Closed</th>\n",
       "      <th>Restaurants Count</th>\n",
       "      <th>Relative Ranking</th>\n",
       "      <th>Price Range Was NAN</th>\n",
       "      <th>Number of Reviews Was NAN</th>\n",
       "      <th>City Code</th>\n",
       "      <th>Is Capital</th>\n",
       "      <th>Population</th>\n",
       "      <th>Country</th>\n",
       "    </tr>\n",
       "  </thead>\n",
       "  <tbody>\n",
       "    <tr>\n",
       "      <th>/Restaurant_Review-g1068497-d10441257-Reviews-Gourmandises-Auderghem_Brussels.html</th>\n",
       "      <td>id_1759</td>\n",
       "      <td>Brussels</td>\n",
       "      <td>NaN</td>\n",
       "      <td>1760.0</td>\n",
       "      <td>4.5</td>\n",
       "      <td>100</td>\n",
       "      <td>2.0</td>\n",
       "      <td>[[], []]</td>\n",
       "      <td>d10441257</td>\n",
       "      <td>True</td>\n",
       "      <td>...</td>\n",
       "      <td>0.0</td>\n",
       "      <td>False</td>\n",
       "      <td>3703</td>\n",
       "      <td>0.475290</td>\n",
       "      <td>True</td>\n",
       "      <td>False</td>\n",
       "      <td>5</td>\n",
       "      <td>True</td>\n",
       "      <td>144784</td>\n",
       "      <td>144784</td>\n",
       "    </tr>\n",
       "    <tr>\n",
       "      <th>/Restaurant_Review-g1068497-d10486190-Reviews-Douce_Heure-Auderghem_Brussels.html</th>\n",
       "      <td>id_2178</td>\n",
       "      <td>Brussels</td>\n",
       "      <td>NaN</td>\n",
       "      <td>2265.0</td>\n",
       "      <td>4.0</td>\n",
       "      <td>100</td>\n",
       "      <td>1.0</td>\n",
       "      <td>[[], []]</td>\n",
       "      <td>d10486190</td>\n",
       "      <td>True</td>\n",
       "      <td>...</td>\n",
       "      <td>0.0</td>\n",
       "      <td>True</td>\n",
       "      <td>3703</td>\n",
       "      <td>0.611666</td>\n",
       "      <td>True</td>\n",
       "      <td>True</td>\n",
       "      <td>5</td>\n",
       "      <td>True</td>\n",
       "      <td>144784</td>\n",
       "      <td>144784</td>\n",
       "    </tr>\n",
       "    <tr>\n",
       "      <th>/Restaurant_Review-g1068497-d10522391-Reviews-De_MASALA_BOX-Auderghem_Brussels.html</th>\n",
       "      <td>id_1738</td>\n",
       "      <td>Brussels</td>\n",
       "      <td>['Fusion']</td>\n",
       "      <td>1739.0</td>\n",
       "      <td>4.0</td>\n",
       "      <td>1</td>\n",
       "      <td>14.0</td>\n",
       "      <td>[['Quick delicious lunch', 'The perfect lunch'...</td>\n",
       "      <td>d10522391</td>\n",
       "      <td>True</td>\n",
       "      <td>...</td>\n",
       "      <td>1.0</td>\n",
       "      <td>False</td>\n",
       "      <td>3703</td>\n",
       "      <td>0.469619</td>\n",
       "      <td>False</td>\n",
       "      <td>False</td>\n",
       "      <td>5</td>\n",
       "      <td>True</td>\n",
       "      <td>144784</td>\n",
       "      <td>144784</td>\n",
       "    </tr>\n",
       "    <tr>\n",
       "      <th>/Restaurant_Review-g1068497-d11888819-Reviews-Les_Delices_de_Magali-Auderghem_Brussels.html</th>\n",
       "      <td>id_1513</td>\n",
       "      <td>Brussels</td>\n",
       "      <td>NaN</td>\n",
       "      <td>1514.0</td>\n",
       "      <td>5.0</td>\n",
       "      <td>100</td>\n",
       "      <td>4.0</td>\n",
       "      <td>[[], []]</td>\n",
       "      <td>d11888819</td>\n",
       "      <td>True</td>\n",
       "      <td>...</td>\n",
       "      <td>1.0</td>\n",
       "      <td>False</td>\n",
       "      <td>3703</td>\n",
       "      <td>0.408858</td>\n",
       "      <td>True</td>\n",
       "      <td>False</td>\n",
       "      <td>5</td>\n",
       "      <td>True</td>\n",
       "      <td>144784</td>\n",
       "      <td>144784</td>\n",
       "    </tr>\n",
       "    <tr>\n",
       "      <th>/Restaurant_Review-g1068497-d12160475-Reviews-Ispahan-Auderghem_Brussels.html</th>\n",
       "      <td>id_2485</td>\n",
       "      <td>Brussels</td>\n",
       "      <td>NaN</td>\n",
       "      <td>2486.0</td>\n",
       "      <td>3.5</td>\n",
       "      <td>100</td>\n",
       "      <td>3.0</td>\n",
       "      <td>[['Service with smile', 'Rather boring food'],...</td>\n",
       "      <td>d12160475</td>\n",
       "      <td>True</td>\n",
       "      <td>...</td>\n",
       "      <td>0.0</td>\n",
       "      <td>False</td>\n",
       "      <td>3703</td>\n",
       "      <td>0.671348</td>\n",
       "      <td>True</td>\n",
       "      <td>False</td>\n",
       "      <td>5</td>\n",
       "      <td>True</td>\n",
       "      <td>144784</td>\n",
       "      <td>144784</td>\n",
       "    </tr>\n",
       "  </tbody>\n",
       "</table>\n",
       "<p>5 rows × 34 columns</p>\n",
       "</div>"
      ],
      "text/plain": [
       "                                                   Restaurant_id      City  \\\n",
       "/Restaurant_Review-g1068497-d10441257-Reviews-G...       id_1759  Brussels   \n",
       "/Restaurant_Review-g1068497-d10486190-Reviews-D...       id_2178  Brussels   \n",
       "/Restaurant_Review-g1068497-d10522391-Reviews-D...       id_1738  Brussels   \n",
       "/Restaurant_Review-g1068497-d11888819-Reviews-L...       id_1513  Brussels   \n",
       "/Restaurant_Review-g1068497-d12160475-Reviews-I...       id_2485  Brussels   \n",
       "\n",
       "                                                   Cuisine Style  Ranking  \\\n",
       "/Restaurant_Review-g1068497-d10441257-Reviews-G...           NaN   1760.0   \n",
       "/Restaurant_Review-g1068497-d10486190-Reviews-D...           NaN   2265.0   \n",
       "/Restaurant_Review-g1068497-d10522391-Reviews-D...    ['Fusion']   1739.0   \n",
       "/Restaurant_Review-g1068497-d11888819-Reviews-L...           NaN   1514.0   \n",
       "/Restaurant_Review-g1068497-d12160475-Reviews-I...           NaN   2486.0   \n",
       "\n",
       "                                                    Rating  Price Range  \\\n",
       "/Restaurant_Review-g1068497-d10441257-Reviews-G...     4.5          100   \n",
       "/Restaurant_Review-g1068497-d10486190-Reviews-D...     4.0          100   \n",
       "/Restaurant_Review-g1068497-d10522391-Reviews-D...     4.0            1   \n",
       "/Restaurant_Review-g1068497-d11888819-Reviews-L...     5.0          100   \n",
       "/Restaurant_Review-g1068497-d12160475-Reviews-I...     3.5          100   \n",
       "\n",
       "                                                    Number of Reviews  \\\n",
       "/Restaurant_Review-g1068497-d10441257-Reviews-G...                2.0   \n",
       "/Restaurant_Review-g1068497-d10486190-Reviews-D...                1.0   \n",
       "/Restaurant_Review-g1068497-d10522391-Reviews-D...               14.0   \n",
       "/Restaurant_Review-g1068497-d11888819-Reviews-L...                4.0   \n",
       "/Restaurant_Review-g1068497-d12160475-Reviews-I...                3.0   \n",
       "\n",
       "                                                                                              Reviews  \\\n",
       "/Restaurant_Review-g1068497-d10441257-Reviews-G...                                           [[], []]   \n",
       "/Restaurant_Review-g1068497-d10486190-Reviews-D...                                           [[], []]   \n",
       "/Restaurant_Review-g1068497-d10522391-Reviews-D...  [['Quick delicious lunch', 'The perfect lunch'...   \n",
       "/Restaurant_Review-g1068497-d11888819-Reviews-L...                                           [[], []]   \n",
       "/Restaurant_Review-g1068497-d12160475-Reviews-I...  [['Service with smile', 'Rather boring food'],...   \n",
       "\n",
       "                                                        ID_TA  Main  ...  \\\n",
       "/Restaurant_Review-g1068497-d10441257-Reviews-G...  d10441257  True  ...   \n",
       "/Restaurant_Review-g1068497-d10486190-Reviews-D...  d10486190  True  ...   \n",
       "/Restaurant_Review-g1068497-d10522391-Reviews-D...  d10522391  True  ...   \n",
       "/Restaurant_Review-g1068497-d11888819-Reviews-L...  d11888819  True  ...   \n",
       "/Restaurant_Review-g1068497-d12160475-Reviews-I...  d12160475  True  ...   \n",
       "\n",
       "                                                   New Terrible Marks  \\\n",
       "/Restaurant_Review-g1068497-d10441257-Reviews-G...                0.0   \n",
       "/Restaurant_Review-g1068497-d10486190-Reviews-D...                0.0   \n",
       "/Restaurant_Review-g1068497-d10522391-Reviews-D...                1.0   \n",
       "/Restaurant_Review-g1068497-d11888819-Reviews-L...                1.0   \n",
       "/Restaurant_Review-g1068497-d12160475-Reviews-I...                0.0   \n",
       "\n",
       "                                                    New Is Closed  \\\n",
       "/Restaurant_Review-g1068497-d10441257-Reviews-G...          False   \n",
       "/Restaurant_Review-g1068497-d10486190-Reviews-D...           True   \n",
       "/Restaurant_Review-g1068497-d10522391-Reviews-D...          False   \n",
       "/Restaurant_Review-g1068497-d11888819-Reviews-L...          False   \n",
       "/Restaurant_Review-g1068497-d12160475-Reviews-I...          False   \n",
       "\n",
       "                                                   Restaurants Count  \\\n",
       "/Restaurant_Review-g1068497-d10441257-Reviews-G...              3703   \n",
       "/Restaurant_Review-g1068497-d10486190-Reviews-D...              3703   \n",
       "/Restaurant_Review-g1068497-d10522391-Reviews-D...              3703   \n",
       "/Restaurant_Review-g1068497-d11888819-Reviews-L...              3703   \n",
       "/Restaurant_Review-g1068497-d12160475-Reviews-I...              3703   \n",
       "\n",
       "                                                   Relative Ranking  \\\n",
       "/Restaurant_Review-g1068497-d10441257-Reviews-G...         0.475290   \n",
       "/Restaurant_Review-g1068497-d10486190-Reviews-D...         0.611666   \n",
       "/Restaurant_Review-g1068497-d10522391-Reviews-D...         0.469619   \n",
       "/Restaurant_Review-g1068497-d11888819-Reviews-L...         0.408858   \n",
       "/Restaurant_Review-g1068497-d12160475-Reviews-I...         0.671348   \n",
       "\n",
       "                                                   Price Range Was NAN  \\\n",
       "/Restaurant_Review-g1068497-d10441257-Reviews-G...                True   \n",
       "/Restaurant_Review-g1068497-d10486190-Reviews-D...                True   \n",
       "/Restaurant_Review-g1068497-d10522391-Reviews-D...               False   \n",
       "/Restaurant_Review-g1068497-d11888819-Reviews-L...                True   \n",
       "/Restaurant_Review-g1068497-d12160475-Reviews-I...                True   \n",
       "\n",
       "                                                    Number of Reviews Was NAN  \\\n",
       "/Restaurant_Review-g1068497-d10441257-Reviews-G...                      False   \n",
       "/Restaurant_Review-g1068497-d10486190-Reviews-D...                       True   \n",
       "/Restaurant_Review-g1068497-d10522391-Reviews-D...                      False   \n",
       "/Restaurant_Review-g1068497-d11888819-Reviews-L...                      False   \n",
       "/Restaurant_Review-g1068497-d12160475-Reviews-I...                      False   \n",
       "\n",
       "                                                    City Code  Is Capital  \\\n",
       "/Restaurant_Review-g1068497-d10441257-Reviews-G...          5        True   \n",
       "/Restaurant_Review-g1068497-d10486190-Reviews-D...          5        True   \n",
       "/Restaurant_Review-g1068497-d10522391-Reviews-D...          5        True   \n",
       "/Restaurant_Review-g1068497-d11888819-Reviews-L...          5        True   \n",
       "/Restaurant_Review-g1068497-d12160475-Reviews-I...          5        True   \n",
       "\n",
       "                                                    Population  Country  \n",
       "/Restaurant_Review-g1068497-d10441257-Reviews-G...      144784  144784   \n",
       "/Restaurant_Review-g1068497-d10486190-Reviews-D...      144784  144784   \n",
       "/Restaurant_Review-g1068497-d10522391-Reviews-D...      144784  144784   \n",
       "/Restaurant_Review-g1068497-d11888819-Reviews-L...      144784  144784   \n",
       "/Restaurant_Review-g1068497-d12160475-Reviews-I...      144784  144784   \n",
       "\n",
       "[5 rows x 34 columns]"
      ]
     },
     "execution_count": 67,
     "metadata": {},
     "output_type": "execute_result"
    }
   ],
   "source": [
    "df.head()"
   ]
  },
  {
   "cell_type": "code",
   "execution_count": 68,
   "metadata": {},
   "outputs": [
    {
     "name": "stdout",
     "output_type": "stream",
     "text": [
      "<class 'pandas.core.frame.DataFrame'>\n",
      "Index: 50000 entries, /Restaurant_Review-g1068497-d10441257-Reviews-Gourmandises-Auderghem_Brussels.html to /Restaurant_Review-g950786-d9558331-Reviews-Osteria_Delle_Stelle-Schaerbeek_Brussels.html\n",
      "Data columns (total 34 columns):\n",
      "Restaurant_id                50000 non-null object\n",
      "City                         50000 non-null object\n",
      "Cuisine Style                38410 non-null object\n",
      "Ranking                      50000 non-null float64\n",
      "Rating                       50000 non-null float64\n",
      "Price Range                  50000 non-null int64\n",
      "Number of Reviews            50000 non-null float64\n",
      "Reviews                      49998 non-null object\n",
      "ID_TA                        50000 non-null object\n",
      "Main                         50000 non-null bool\n",
      "Name                         50000 non-null object\n",
      "Unnamed: 0                   44287 non-null float64\n",
      "New Name                     44287 non-null object\n",
      "New City                     39614 non-null object\n",
      "New Cuisine Style            41211 non-null object\n",
      "New Ranking                  39619 non-null float64\n",
      "New Restaurants Count        39619 non-null float64\n",
      "New Relative Ranking         39619 non-null float64\n",
      "New Rating                   44253 non-null float64\n",
      "New Price Range              34868 non-null object\n",
      "New Number of Reviews        43030 non-null float64\n",
      "New Excellent Marks          44136 non-null float64\n",
      "New Very Good Marks          44246 non-null float64\n",
      "New Poor Marks               44254 non-null float64\n",
      "New Terrible Marks           44254 non-null float64\n",
      "New Is Closed                44287 non-null object\n",
      "Restaurants Count            50000 non-null int64\n",
      "Relative Ranking             50000 non-null float64\n",
      "Price Range Was NAN          50000 non-null bool\n",
      "Number of Reviews Was NAN    50000 non-null bool\n",
      "City Code                    50000 non-null int64\n",
      "Is Capital                   50000 non-null bool\n",
      "Population                   50000 non-null int64\n",
      "Country                      50000 non-null object\n",
      "dtypes: bool(4), float64(14), int64(4), object(12)\n",
      "memory usage: 13.3+ MB\n"
     ]
    }
   ],
   "source": [
    "# Проверим данные еще раз\n",
    "df.info()"
   ]
  },
  {
   "cell_type": "markdown",
   "metadata": {},
   "source": [
    "### Добавленный числовой признак №9. Код страны"
   ]
  },
  {
   "cell_type": "code",
   "execution_count": 69,
   "metadata": {},
   "outputs": [],
   "source": [
    "# Переведем информацию о странах в числовой формат\n",
    "# с применением sklearn.preprocessign.LabelEncoder\n",
    "countries_le = LabelEncoder()\n",
    "countries_le.fit(df['Country'])\n",
    "df['Country Code'] = countries_le.transform(df['Country'])"
   ]
  },
  {
   "cell_type": "markdown",
   "metadata": {},
   "source": [
    "### Добавленный числовой признак №10. Сколько человек населения в среднем приходится на один ресторан"
   ]
  },
  {
   "cell_type": "code",
   "execution_count": 70,
   "metadata": {},
   "outputs": [],
   "source": [
    "# Добавим числовой признак 'People Per Restaurant' = 'Population' / 'Restaurants Count'\n",
    "df['People Per Restaurant'] = df['Population'] / df['Restaurants Count']"
   ]
  },
  {
   "cell_type": "code",
   "execution_count": 71,
   "metadata": {},
   "outputs": [
    {
     "name": "stdout",
     "output_type": "stream",
     "text": [
      "<class 'pandas.core.frame.DataFrame'>\n",
      "Index: 50000 entries, /Restaurant_Review-g1068497-d10441257-Reviews-Gourmandises-Auderghem_Brussels.html to /Restaurant_Review-g950786-d9558331-Reviews-Osteria_Delle_Stelle-Schaerbeek_Brussels.html\n",
      "Data columns (total 36 columns):\n",
      "Restaurant_id                50000 non-null object\n",
      "City                         50000 non-null object\n",
      "Cuisine Style                38410 non-null object\n",
      "Ranking                      50000 non-null float64\n",
      "Rating                       50000 non-null float64\n",
      "Price Range                  50000 non-null int64\n",
      "Number of Reviews            50000 non-null float64\n",
      "Reviews                      49998 non-null object\n",
      "ID_TA                        50000 non-null object\n",
      "Main                         50000 non-null bool\n",
      "Name                         50000 non-null object\n",
      "Unnamed: 0                   44287 non-null float64\n",
      "New Name                     44287 non-null object\n",
      "New City                     39614 non-null object\n",
      "New Cuisine Style            41211 non-null object\n",
      "New Ranking                  39619 non-null float64\n",
      "New Restaurants Count        39619 non-null float64\n",
      "New Relative Ranking         39619 non-null float64\n",
      "New Rating                   44253 non-null float64\n",
      "New Price Range              34868 non-null object\n",
      "New Number of Reviews        43030 non-null float64\n",
      "New Excellent Marks          44136 non-null float64\n",
      "New Very Good Marks          44246 non-null float64\n",
      "New Poor Marks               44254 non-null float64\n",
      "New Terrible Marks           44254 non-null float64\n",
      "New Is Closed                44287 non-null object\n",
      "Restaurants Count            50000 non-null int64\n",
      "Relative Ranking             50000 non-null float64\n",
      "Price Range Was NAN          50000 non-null bool\n",
      "Number of Reviews Was NAN    50000 non-null bool\n",
      "City Code                    50000 non-null int64\n",
      "Is Capital                   50000 non-null bool\n",
      "Population                   50000 non-null int64\n",
      "Country                      50000 non-null object\n",
      "Country Code                 50000 non-null int64\n",
      "People Per Restaurant        50000 non-null float64\n",
      "dtypes: bool(4), float64(15), int64(5), object(12)\n",
      "memory usage: 14.0+ MB\n"
     ]
    }
   ],
   "source": [
    "df.info()"
   ]
  },
  {
   "cell_type": "code",
   "execution_count": 72,
   "metadata": {},
   "outputs": [
    {
     "data": {
      "text/html": [
       "<div>\n",
       "<style scoped>\n",
       "    .dataframe tbody tr th:only-of-type {\n",
       "        vertical-align: middle;\n",
       "    }\n",
       "\n",
       "    .dataframe tbody tr th {\n",
       "        vertical-align: top;\n",
       "    }\n",
       "\n",
       "    .dataframe thead th {\n",
       "        text-align: right;\n",
       "    }\n",
       "</style>\n",
       "<table border=\"1\" class=\"dataframe\">\n",
       "  <thead>\n",
       "    <tr style=\"text-align: right;\">\n",
       "      <th></th>\n",
       "      <th>Restaurant_id</th>\n",
       "      <th>City</th>\n",
       "      <th>Cuisine Style</th>\n",
       "      <th>Ranking</th>\n",
       "      <th>Rating</th>\n",
       "      <th>Price Range</th>\n",
       "      <th>Number of Reviews</th>\n",
       "      <th>Reviews</th>\n",
       "      <th>ID_TA</th>\n",
       "      <th>Main</th>\n",
       "      <th>...</th>\n",
       "      <th>Restaurants Count</th>\n",
       "      <th>Relative Ranking</th>\n",
       "      <th>Price Range Was NAN</th>\n",
       "      <th>Number of Reviews Was NAN</th>\n",
       "      <th>City Code</th>\n",
       "      <th>Is Capital</th>\n",
       "      <th>Population</th>\n",
       "      <th>Country</th>\n",
       "      <th>Country Code</th>\n",
       "      <th>People Per Restaurant</th>\n",
       "    </tr>\n",
       "  </thead>\n",
       "  <tbody>\n",
       "    <tr>\n",
       "      <th>/Restaurant_Review-g1068497-d10441257-Reviews-Gourmandises-Auderghem_Brussels.html</th>\n",
       "      <td>id_1759</td>\n",
       "      <td>Brussels</td>\n",
       "      <td>NaN</td>\n",
       "      <td>1760.0</td>\n",
       "      <td>4.5</td>\n",
       "      <td>100</td>\n",
       "      <td>2.0</td>\n",
       "      <td>[[], []]</td>\n",
       "      <td>d10441257</td>\n",
       "      <td>True</td>\n",
       "      <td>...</td>\n",
       "      <td>3703</td>\n",
       "      <td>0.475290</td>\n",
       "      <td>True</td>\n",
       "      <td>False</td>\n",
       "      <td>5</td>\n",
       "      <td>True</td>\n",
       "      <td>144784</td>\n",
       "      <td>144784</td>\n",
       "      <td>0</td>\n",
       "      <td>39.099109</td>\n",
       "    </tr>\n",
       "    <tr>\n",
       "      <th>/Restaurant_Review-g1068497-d10486190-Reviews-Douce_Heure-Auderghem_Brussels.html</th>\n",
       "      <td>id_2178</td>\n",
       "      <td>Brussels</td>\n",
       "      <td>NaN</td>\n",
       "      <td>2265.0</td>\n",
       "      <td>4.0</td>\n",
       "      <td>100</td>\n",
       "      <td>1.0</td>\n",
       "      <td>[[], []]</td>\n",
       "      <td>d10486190</td>\n",
       "      <td>True</td>\n",
       "      <td>...</td>\n",
       "      <td>3703</td>\n",
       "      <td>0.611666</td>\n",
       "      <td>True</td>\n",
       "      <td>True</td>\n",
       "      <td>5</td>\n",
       "      <td>True</td>\n",
       "      <td>144784</td>\n",
       "      <td>144784</td>\n",
       "      <td>0</td>\n",
       "      <td>39.099109</td>\n",
       "    </tr>\n",
       "    <tr>\n",
       "      <th>/Restaurant_Review-g1068497-d10522391-Reviews-De_MASALA_BOX-Auderghem_Brussels.html</th>\n",
       "      <td>id_1738</td>\n",
       "      <td>Brussels</td>\n",
       "      <td>['Fusion']</td>\n",
       "      <td>1739.0</td>\n",
       "      <td>4.0</td>\n",
       "      <td>1</td>\n",
       "      <td>14.0</td>\n",
       "      <td>[['Quick delicious lunch', 'The perfect lunch'...</td>\n",
       "      <td>d10522391</td>\n",
       "      <td>True</td>\n",
       "      <td>...</td>\n",
       "      <td>3703</td>\n",
       "      <td>0.469619</td>\n",
       "      <td>False</td>\n",
       "      <td>False</td>\n",
       "      <td>5</td>\n",
       "      <td>True</td>\n",
       "      <td>144784</td>\n",
       "      <td>144784</td>\n",
       "      <td>0</td>\n",
       "      <td>39.099109</td>\n",
       "    </tr>\n",
       "    <tr>\n",
       "      <th>/Restaurant_Review-g1068497-d11888819-Reviews-Les_Delices_de_Magali-Auderghem_Brussels.html</th>\n",
       "      <td>id_1513</td>\n",
       "      <td>Brussels</td>\n",
       "      <td>NaN</td>\n",
       "      <td>1514.0</td>\n",
       "      <td>5.0</td>\n",
       "      <td>100</td>\n",
       "      <td>4.0</td>\n",
       "      <td>[[], []]</td>\n",
       "      <td>d11888819</td>\n",
       "      <td>True</td>\n",
       "      <td>...</td>\n",
       "      <td>3703</td>\n",
       "      <td>0.408858</td>\n",
       "      <td>True</td>\n",
       "      <td>False</td>\n",
       "      <td>5</td>\n",
       "      <td>True</td>\n",
       "      <td>144784</td>\n",
       "      <td>144784</td>\n",
       "      <td>0</td>\n",
       "      <td>39.099109</td>\n",
       "    </tr>\n",
       "    <tr>\n",
       "      <th>/Restaurant_Review-g1068497-d12160475-Reviews-Ispahan-Auderghem_Brussels.html</th>\n",
       "      <td>id_2485</td>\n",
       "      <td>Brussels</td>\n",
       "      <td>NaN</td>\n",
       "      <td>2486.0</td>\n",
       "      <td>3.5</td>\n",
       "      <td>100</td>\n",
       "      <td>3.0</td>\n",
       "      <td>[['Service with smile', 'Rather boring food'],...</td>\n",
       "      <td>d12160475</td>\n",
       "      <td>True</td>\n",
       "      <td>...</td>\n",
       "      <td>3703</td>\n",
       "      <td>0.671348</td>\n",
       "      <td>True</td>\n",
       "      <td>False</td>\n",
       "      <td>5</td>\n",
       "      <td>True</td>\n",
       "      <td>144784</td>\n",
       "      <td>144784</td>\n",
       "      <td>0</td>\n",
       "      <td>39.099109</td>\n",
       "    </tr>\n",
       "  </tbody>\n",
       "</table>\n",
       "<p>5 rows × 36 columns</p>\n",
       "</div>"
      ],
      "text/plain": [
       "                                                   Restaurant_id      City  \\\n",
       "/Restaurant_Review-g1068497-d10441257-Reviews-G...       id_1759  Brussels   \n",
       "/Restaurant_Review-g1068497-d10486190-Reviews-D...       id_2178  Brussels   \n",
       "/Restaurant_Review-g1068497-d10522391-Reviews-D...       id_1738  Brussels   \n",
       "/Restaurant_Review-g1068497-d11888819-Reviews-L...       id_1513  Brussels   \n",
       "/Restaurant_Review-g1068497-d12160475-Reviews-I...       id_2485  Brussels   \n",
       "\n",
       "                                                   Cuisine Style  Ranking  \\\n",
       "/Restaurant_Review-g1068497-d10441257-Reviews-G...           NaN   1760.0   \n",
       "/Restaurant_Review-g1068497-d10486190-Reviews-D...           NaN   2265.0   \n",
       "/Restaurant_Review-g1068497-d10522391-Reviews-D...    ['Fusion']   1739.0   \n",
       "/Restaurant_Review-g1068497-d11888819-Reviews-L...           NaN   1514.0   \n",
       "/Restaurant_Review-g1068497-d12160475-Reviews-I...           NaN   2486.0   \n",
       "\n",
       "                                                    Rating  Price Range  \\\n",
       "/Restaurant_Review-g1068497-d10441257-Reviews-G...     4.5          100   \n",
       "/Restaurant_Review-g1068497-d10486190-Reviews-D...     4.0          100   \n",
       "/Restaurant_Review-g1068497-d10522391-Reviews-D...     4.0            1   \n",
       "/Restaurant_Review-g1068497-d11888819-Reviews-L...     5.0          100   \n",
       "/Restaurant_Review-g1068497-d12160475-Reviews-I...     3.5          100   \n",
       "\n",
       "                                                    Number of Reviews  \\\n",
       "/Restaurant_Review-g1068497-d10441257-Reviews-G...                2.0   \n",
       "/Restaurant_Review-g1068497-d10486190-Reviews-D...                1.0   \n",
       "/Restaurant_Review-g1068497-d10522391-Reviews-D...               14.0   \n",
       "/Restaurant_Review-g1068497-d11888819-Reviews-L...                4.0   \n",
       "/Restaurant_Review-g1068497-d12160475-Reviews-I...                3.0   \n",
       "\n",
       "                                                                                              Reviews  \\\n",
       "/Restaurant_Review-g1068497-d10441257-Reviews-G...                                           [[], []]   \n",
       "/Restaurant_Review-g1068497-d10486190-Reviews-D...                                           [[], []]   \n",
       "/Restaurant_Review-g1068497-d10522391-Reviews-D...  [['Quick delicious lunch', 'The perfect lunch'...   \n",
       "/Restaurant_Review-g1068497-d11888819-Reviews-L...                                           [[], []]   \n",
       "/Restaurant_Review-g1068497-d12160475-Reviews-I...  [['Service with smile', 'Rather boring food'],...   \n",
       "\n",
       "                                                        ID_TA  Main  ...  \\\n",
       "/Restaurant_Review-g1068497-d10441257-Reviews-G...  d10441257  True  ...   \n",
       "/Restaurant_Review-g1068497-d10486190-Reviews-D...  d10486190  True  ...   \n",
       "/Restaurant_Review-g1068497-d10522391-Reviews-D...  d10522391  True  ...   \n",
       "/Restaurant_Review-g1068497-d11888819-Reviews-L...  d11888819  True  ...   \n",
       "/Restaurant_Review-g1068497-d12160475-Reviews-I...  d12160475  True  ...   \n",
       "\n",
       "                                                   Restaurants Count  \\\n",
       "/Restaurant_Review-g1068497-d10441257-Reviews-G...              3703   \n",
       "/Restaurant_Review-g1068497-d10486190-Reviews-D...              3703   \n",
       "/Restaurant_Review-g1068497-d10522391-Reviews-D...              3703   \n",
       "/Restaurant_Review-g1068497-d11888819-Reviews-L...              3703   \n",
       "/Restaurant_Review-g1068497-d12160475-Reviews-I...              3703   \n",
       "\n",
       "                                                    Relative Ranking  \\\n",
       "/Restaurant_Review-g1068497-d10441257-Reviews-G...          0.475290   \n",
       "/Restaurant_Review-g1068497-d10486190-Reviews-D...          0.611666   \n",
       "/Restaurant_Review-g1068497-d10522391-Reviews-D...          0.469619   \n",
       "/Restaurant_Review-g1068497-d11888819-Reviews-L...          0.408858   \n",
       "/Restaurant_Review-g1068497-d12160475-Reviews-I...          0.671348   \n",
       "\n",
       "                                                   Price Range Was NAN  \\\n",
       "/Restaurant_Review-g1068497-d10441257-Reviews-G...                True   \n",
       "/Restaurant_Review-g1068497-d10486190-Reviews-D...                True   \n",
       "/Restaurant_Review-g1068497-d10522391-Reviews-D...               False   \n",
       "/Restaurant_Review-g1068497-d11888819-Reviews-L...                True   \n",
       "/Restaurant_Review-g1068497-d12160475-Reviews-I...                True   \n",
       "\n",
       "                                                   Number of Reviews Was NAN  \\\n",
       "/Restaurant_Review-g1068497-d10441257-Reviews-G...                     False   \n",
       "/Restaurant_Review-g1068497-d10486190-Reviews-D...                      True   \n",
       "/Restaurant_Review-g1068497-d10522391-Reviews-D...                     False   \n",
       "/Restaurant_Review-g1068497-d11888819-Reviews-L...                     False   \n",
       "/Restaurant_Review-g1068497-d12160475-Reviews-I...                     False   \n",
       "\n",
       "                                                   City Code  Is Capital  \\\n",
       "/Restaurant_Review-g1068497-d10441257-Reviews-G...         5        True   \n",
       "/Restaurant_Review-g1068497-d10486190-Reviews-D...         5        True   \n",
       "/Restaurant_Review-g1068497-d10522391-Reviews-D...         5        True   \n",
       "/Restaurant_Review-g1068497-d11888819-Reviews-L...         5        True   \n",
       "/Restaurant_Review-g1068497-d12160475-Reviews-I...         5        True   \n",
       "\n",
       "                                                    Population  Country  \\\n",
       "/Restaurant_Review-g1068497-d10441257-Reviews-G...      144784  144784    \n",
       "/Restaurant_Review-g1068497-d10486190-Reviews-D...      144784  144784    \n",
       "/Restaurant_Review-g1068497-d10522391-Reviews-D...      144784  144784    \n",
       "/Restaurant_Review-g1068497-d11888819-Reviews-L...      144784  144784    \n",
       "/Restaurant_Review-g1068497-d12160475-Reviews-I...      144784  144784    \n",
       "\n",
       "                                                    Country Code  \\\n",
       "/Restaurant_Review-g1068497-d10441257-Reviews-G...             0   \n",
       "/Restaurant_Review-g1068497-d10486190-Reviews-D...             0   \n",
       "/Restaurant_Review-g1068497-d10522391-Reviews-D...             0   \n",
       "/Restaurant_Review-g1068497-d11888819-Reviews-L...             0   \n",
       "/Restaurant_Review-g1068497-d12160475-Reviews-I...             0   \n",
       "\n",
       "                                                   People Per Restaurant  \n",
       "/Restaurant_Review-g1068497-d10441257-Reviews-G...             39.099109  \n",
       "/Restaurant_Review-g1068497-d10486190-Reviews-D...             39.099109  \n",
       "/Restaurant_Review-g1068497-d10522391-Reviews-D...             39.099109  \n",
       "/Restaurant_Review-g1068497-d11888819-Reviews-L...             39.099109  \n",
       "/Restaurant_Review-g1068497-d12160475-Reviews-I...             39.099109  \n",
       "\n",
       "[5 rows x 36 columns]"
      ]
     },
     "execution_count": 72,
     "metadata": {},
     "output_type": "execute_result"
    }
   ],
   "source": [
    "df.head()"
   ]
  },
  {
   "cell_type": "markdown",
   "metadata": {},
   "source": [
    "## 3. Виды кухни"
   ]
  },
  {
   "cell_type": "code",
   "execution_count": 74,
   "metadata": {},
   "outputs": [
    {
     "data": {
      "text/plain": [
       "Cuisine Style        11590\n",
       "New Cuisine Style     8789\n",
       "dtype: int64"
      ]
     },
     "execution_count": 74,
     "metadata": {},
     "output_type": "execute_result"
    }
   ],
   "source": [
    "# Посмотрим, как обстоят дела с отсутсвующими данными в отношении видов кухонь\n",
    "df[['Cuisine Style', 'New Cuisine Style']].isna().sum()"
   ]
  },
  {
   "cell_type": "code",
   "execution_count": 75,
   "metadata": {},
   "outputs": [],
   "source": [
    "# Пытаемся получить часть недостающих данных из колонки New Cuisine Style\n",
    "df.loc[df['Cuisine Style'].isna(), 'Cuisine Style'] = df.loc[df['Cuisine Style'].isna(), 'New Cuisine Style']"
   ]
  },
  {
   "cell_type": "code",
   "execution_count": 77,
   "metadata": {},
   "outputs": [
    {
     "data": {
      "text/plain": [
       "Cuisine Style        3987\n",
       "New Cuisine Style    8789\n",
       "dtype: int64"
      ]
     },
     "execution_count": 77,
     "metadata": {},
     "output_type": "execute_result"
    }
   ],
   "source": [
    "# Восстановили более чем 7600 пропущенных записей\n",
    "df[['Cuisine Style', 'New Cuisine Style']].isna().sum()"
   ]
  },
  {
   "cell_type": "code",
   "execution_count": 78,
   "metadata": {},
   "outputs": [
    {
     "data": {
      "text/plain": [
       "/Restaurant_Review-g1068497-d10441257-Reviews-Gourmandises-Auderghem_Brussels.html                                                   [Fast Food]\n",
       "/Restaurant_Review-g1068497-d10522391-Reviews-De_MASALA_BOX-Auderghem_Brussels.html                                                   ['Fusion']\n",
       "/Restaurant_Review-g1068497-d11888819-Reviews-Les_Delices_de_Magali-Auderghem_Brussels.html                                              [Meals]\n",
       "/Restaurant_Review-g1068497-d12160475-Reviews-Ispahan-Auderghem_Brussels.html                                          [Middle Eastern, Persian]\n",
       "/Restaurant_Review-g1068497-d12430910-Reviews-Restaurant_Ninki-Auderghem_Brussels.html                                  [Japanese, Sushi, Asian]\n",
       "                                                                                                                     ...                        \n",
       "/Restaurant_Review-g950786-d6619116-Reviews-Sham-Schaerbeek_Brussels.html                      ['Lebanese', 'Middle Eastern', 'Mediterranean'...\n",
       "/Restaurant_Review-g950786-d7989601-Reviews-L_estaminet-Schaerbeek_Brussels.html                                                       [Belgian]\n",
       "/Restaurant_Review-g950786-d8393556-Reviews-Pizzeria_Kocak-Schaerbeek_Brussels.html                                                    [Turkish]\n",
       "/Restaurant_Review-g950786-d9553131-Reviews-Pizzeria_del_Parco-Schaerbeek_Brussels.html                                         [Pizza, Italian]\n",
       "/Restaurant_Review-g950786-d9558331-Reviews-Osteria_Delle_Stelle-Schaerbeek_Brussels.html                                            ['Italian']\n",
       "Name: Cuisine Style, Length: 46013, dtype: object"
      ]
     },
     "execution_count": 78,
     "metadata": {},
     "output_type": "execute_result"
    }
   ],
   "source": [
    "# Получим Series столбца 'Cuisine Style' без пропусков данных\n",
    "cuisines = df['Cuisine Style'].dropna()\n",
    "cuisines"
   ]
  },
  {
   "cell_type": "code",
   "execution_count": 79,
   "metadata": {},
   "outputs": [
    {
     "data": {
      "text/plain": [
       "str"
      ]
     },
     "execution_count": 79,
     "metadata": {},
     "output_type": "execute_result"
    }
   ],
   "source": [
    "type(cuisines.iloc[0])"
   ]
  },
  {
   "cell_type": "markdown",
   "metadata": {},
   "source": [
    "#### Как видим, данные в этом Series представляют собой строковые представления списков в соответствии с синтаксисом языка Python."
   ]
  },
  {
   "cell_type": "markdown",
   "metadata": {},
   "source": [
    "### Добавленный числовой признак №11. Отсутствующие данные в столбце 'Cuisine Style'"
   ]
  },
  {
   "cell_type": "code",
   "execution_count": 80,
   "metadata": {},
   "outputs": [],
   "source": [
    "# Создадим признак 'Cusine Style Was NAN', показывающий, что в столбце 'Cuisine Style' данные отсутствовали\n",
    "df['Cuisine Style Was NAN'] = df['Cuisine Style'].isna()\n",
    "# Заполним недостающие данные значением ['Usual']\n",
    "df['Cuisine Style'].fillna(\"['Usual']\", inplace=True)"
   ]
  },
  {
   "cell_type": "code",
   "execution_count": 81,
   "metadata": {},
   "outputs": [
    {
     "name": "stdout",
     "output_type": "stream",
     "text": [
      "<class 'pandas.core.frame.DataFrame'>\n",
      "Index: 50000 entries, /Restaurant_Review-g1068497-d10441257-Reviews-Gourmandises-Auderghem_Brussels.html to /Restaurant_Review-g950786-d9558331-Reviews-Osteria_Delle_Stelle-Schaerbeek_Brussels.html\n",
      "Data columns (total 37 columns):\n",
      "Restaurant_id                50000 non-null object\n",
      "City                         50000 non-null object\n",
      "Cuisine Style                50000 non-null object\n",
      "Ranking                      50000 non-null float64\n",
      "Rating                       50000 non-null float64\n",
      "Price Range                  50000 non-null int64\n",
      "Number of Reviews            50000 non-null float64\n",
      "Reviews                      49998 non-null object\n",
      "ID_TA                        50000 non-null object\n",
      "Main                         50000 non-null bool\n",
      "Name                         50000 non-null object\n",
      "Unnamed: 0                   44287 non-null float64\n",
      "New Name                     44287 non-null object\n",
      "New City                     39614 non-null object\n",
      "New Cuisine Style            41211 non-null object\n",
      "New Ranking                  39619 non-null float64\n",
      "New Restaurants Count        39619 non-null float64\n",
      "New Relative Ranking         39619 non-null float64\n",
      "New Rating                   44253 non-null float64\n",
      "New Price Range              34868 non-null object\n",
      "New Number of Reviews        43030 non-null float64\n",
      "New Excellent Marks          44136 non-null float64\n",
      "New Very Good Marks          44246 non-null float64\n",
      "New Poor Marks               44254 non-null float64\n",
      "New Terrible Marks           44254 non-null float64\n",
      "New Is Closed                44287 non-null object\n",
      "Restaurants Count            50000 non-null int64\n",
      "Relative Ranking             50000 non-null float64\n",
      "Price Range Was NAN          50000 non-null bool\n",
      "Number of Reviews Was NAN    50000 non-null bool\n",
      "City Code                    50000 non-null int64\n",
      "Is Capital                   50000 non-null bool\n",
      "Population                   50000 non-null int64\n",
      "Country                      50000 non-null object\n",
      "Country Code                 50000 non-null int64\n",
      "People Per Restaurant        50000 non-null float64\n",
      "Cuisine Style Was NAN        50000 non-null bool\n",
      "dtypes: bool(5), float64(15), int64(5), object(12)\n",
      "memory usage: 14.1+ MB\n"
     ]
    }
   ],
   "source": [
    "df.info()"
   ]
  },
  {
   "cell_type": "code",
   "execution_count": 82,
   "metadata": {},
   "outputs": [
    {
     "ename": "SyntaxError",
     "evalue": "invalid syntax (<unknown>, line 1)",
     "output_type": "error",
     "traceback": [
      "Traceback \u001b[0;36m(most recent call last)\u001b[0m:\n",
      "  File \u001b[1;32m\"/home/alexey300479/anaconda3/lib/python3.7/site-packages/IPython/core/interactiveshell.py\"\u001b[0m, line \u001b[1;32m3331\u001b[0m, in \u001b[1;35mrun_code\u001b[0m\n    exec(code_obj, self.user_global_ns, self.user_ns)\n",
      "  File \u001b[1;32m\"<ipython-input-82-fea258d3b72a>\"\u001b[0m, line \u001b[1;32m7\u001b[0m, in \u001b[1;35m<module>\u001b[0m\n    cuisines = cuisines.apply(get_list)\n",
      "  File \u001b[1;32m\"/home/alexey300479/anaconda3/lib/python3.7/site-packages/pandas/core/series.py\"\u001b[0m, line \u001b[1;32m4045\u001b[0m, in \u001b[1;35mapply\u001b[0m\n    mapped = lib.map_infer(values, f, convert=convert_dtype)\n",
      "  File \u001b[1;32m\"pandas/_libs/lib.pyx\"\u001b[0m, line \u001b[1;32m2228\u001b[0m, in \u001b[1;35mpandas._libs.lib.map_infer\u001b[0m\n",
      "  File \u001b[1;32m\"<ipython-input-82-fea258d3b72a>\"\u001b[0m, line \u001b[1;32m3\u001b[0m, in \u001b[1;35mget_list\u001b[0m\n    result_list = ast.literal_eval(list_string)\n",
      "  File \u001b[1;32m\"/home/alexey300479/anaconda3/lib/python3.7/ast.py\"\u001b[0m, line \u001b[1;32m46\u001b[0m, in \u001b[1;35mliteral_eval\u001b[0m\n    node_or_string = parse(node_or_string, mode='eval')\n",
      "\u001b[0;36m  File \u001b[0;32m\"/home/alexey300479/anaconda3/lib/python3.7/ast.py\"\u001b[0;36m, line \u001b[0;32m35\u001b[0;36m, in \u001b[0;35mparse\u001b[0;36m\u001b[0m\n\u001b[0;31m    return compile(source, filename, mode, PyCF_ONLY_AST)\u001b[0m\n",
      "\u001b[0;36m  File \u001b[0;32m\"<unknown>\"\u001b[0;36m, line \u001b[0;32m1\u001b[0m\n\u001b[0;31m    [Fast Food]\u001b[0m\n\u001b[0m             ^\u001b[0m\n\u001b[0;31mSyntaxError\u001b[0m\u001b[0;31m:\u001b[0m invalid syntax\n"
     ]
    }
   ],
   "source": [
    "# Применим библиотеку ast для перевода строковых представлений списков в соответствии с ситнтаксисом языка Python в списки Python\n",
    "def get_list(list_string):\n",
    "    result_list = ast.literal_eval(list_string)\n",
    "    return result_list\n",
    "\n",
    "# Преобразуем данные в столбце 'Cuisine Style' к списку\n",
    "cuisines = cuisines.apply(get_list)\n",
    "\n",
    "# Создадим словарь кухонь\n",
    "cuisines_dict = dict()\n",
    "\n",
    "for cuisines_list in cuisines:\n",
    "    for cuisine in cuisines_list:\n",
    "        try:\n",
    "            cuisines_dict[cuisine] += 1\n",
    "        except:\n",
    "            cuisines_dict[cuisine] = 1\n",
    "\n",
    "# Выведем количество различных кухонь\n",
    "\n",
    "print(f'Множество различных кухонь: {len(cuisines_dict)}')"
   ]
  },
  {
   "cell_type": "markdown",
   "metadata": {},
   "source": [
    "### Добавленный числовой признак №12. Количество различных кухонь, представленных в ресторане"
   ]
  },
  {
   "cell_type": "code",
   "execution_count": null,
   "metadata": {},
   "outputs": [],
   "source": [
    "# Создадим еще один числовой признак 'cuisines_count'\n",
    "def get_cuisines_count(cuisines):\n",
    "    if type(cuisines) == str:\n",
    "        return len(get_list(cuisines))\n",
    "    return 1\n",
    "\n",
    "df['Cuisines Count'] = df['Cuisine Style'].apply(get_cuisines_count)\n",
    "df.info()"
   ]
  },
  {
   "cell_type": "code",
   "execution_count": null,
   "metadata": {},
   "outputs": [],
   "source": [
    "df.head()"
   ]
  },
  {
   "cell_type": "markdown",
   "metadata": {},
   "source": [
    "#### Количество типов кухонь, которые предлагаются только в одном ресторане."
   ]
  },
  {
   "cell_type": "code",
   "execution_count": null,
   "metadata": {},
   "outputs": [],
   "source": [
    "uno_cuisine_count = 0\n",
    "unique_cuisines = set()\n",
    "for cuisine, count in cuisines_dict.items():\n",
    "    if count == 1:\n",
    "        unique_cuisines.add(cuisine)\n",
    "        uno_cuisine_count += 1\n",
    "print(f'Количество типов кухонь, предлагаемых только в одном ресторане: {uno_cuisine_count}')\n",
    "print(f'Уникальные кухни:')\n",
    "unique_cuisines"
   ]
  },
  {
   "cell_type": "markdown",
   "metadata": {},
   "source": [
    "### Добавленный числовой признак №13. Присутствует ли среди кухонь ресторана кухня присущая только ему."
   ]
  },
  {
   "cell_type": "code",
   "execution_count": null,
   "metadata": {},
   "outputs": [],
   "source": [
    "# На основе этих данных создадим столбец с числовыми данными is_unique_cuisine, указывающими на уникальную кухню данного ресторана\n",
    "def is_unique_cuisine(cuisine):\n",
    "    cuisines_list = get_list(cuisine)\n",
    "    cuisines_set = set(cuisines_list)\n",
    "    return not cuisines_set.isdisjoint(unique_cuisines)\n",
    "\n",
    "df['Unique Cuisine'] = df['Cuisine Style'].apply(is_unique_cuisine)"
   ]
  },
  {
   "cell_type": "code",
   "execution_count": null,
   "metadata": {},
   "outputs": [],
   "source": [
    "df.info()"
   ]
  },
  {
   "cell_type": "code",
   "execution_count": null,
   "metadata": {},
   "outputs": [],
   "source": [
    "df.head()"
   ]
  },
  {
   "cell_type": "markdown",
   "metadata": {},
   "source": [
    "### Добавленная группа бинарарных признаков №№14 (126 признаков в отдельном датасете). Наличие или отсутствие соответствующей кухни в меню ресторана."
   ]
  },
  {
   "cell_type": "code",
   "execution_count": null,
   "metadata": {},
   "outputs": [],
   "source": [
    "# Используем sklearn.preprocessing.MultiLabelBinarizer кодирование для признака Cuisine Style\n",
    "mlb = MultiLabelBinarizer()\n",
    "encoded = pd.DataFrame(mlb.fit_transform(df['Cuisine Style'].apply(get_list)),\n",
    "                       columns=mlb.classes_, index=df.index)"
   ]
  },
  {
   "cell_type": "code",
   "execution_count": null,
   "metadata": {},
   "outputs": [],
   "source": [
    "#  Посмотрим, что получилось\n",
    "encoded.info()"
   ]
  },
  {
   "cell_type": "code",
   "execution_count": null,
   "metadata": {},
   "outputs": [],
   "source": [
    "encoded.head()"
   ]
  },
  {
   "cell_type": "markdown",
   "metadata": {},
   "source": [
    "Пока оставим новые признаки в отдельном датафрейме encoded,\n",
    "так как после конкатенации 126 бинарных признаков в основной датафрейм\n",
    "анализировать его через df.info() становится затруднительным.\n",
    "Конкатенацию в дальнейшем будем производить при помощи кода:\n",
    "``` python\n",
    "pd.concat([df, encoded], axis=1)\n",
    "```"
   ]
  },
  {
   "cell_type": "markdown",
   "metadata": {},
   "source": [
    "## 4. Отзывы"
   ]
  },
  {
   "cell_type": "code",
   "execution_count": null,
   "metadata": {},
   "outputs": [],
   "source": [
    "# Сначала заменим nan в строковых представлениях списков отзывов и их дат на строку с датой по-умолчанию\n",
    "# а также заменим пустой список вида [] на список с незаполненными элементами вида ['01/01/2000', '01/01/2000']\n",
    "def nan_to_default_date(list_string):\n",
    "    try:\n",
    "        list_string = list_string.replace('[nan', \"['01/01/2000'\")\n",
    "        list_string = list_string.replace('nan]', \"'01/01/2000']\")\n",
    "        list_string = list_string.replace('[]', \"['01/01/2000', '01/01/2000']\")\n",
    "    except:\n",
    "        list_string = \"[['None Review', 'None Review'], ['01/01/2000', '01/01/2000']]\"\n",
    "    return list_string\n",
    "\n",
    "df['Reviews'] = df['Reviews'].apply(nan_to_default_date)"
   ]
  },
  {
   "cell_type": "code",
   "execution_count": null,
   "metadata": {},
   "outputs": [],
   "source": [
    "# Преобразуем данные в столбце 'Reviews' к типу list\n",
    "last_review = []\n",
    "last_review_date = []\n",
    "prelast_review = []\n",
    "prelast_review_date = []\n",
    "for reviews in df['Reviews']:\n",
    "    reviews_list = get_list(reviews)\n",
    "    if len(reviews_list) == 2:\n",
    "        if (len(reviews_list[0]) == 2 and len(reviews_list[1]) == 2):\n",
    "            last_review.append(reviews_list[0][0])\n",
    "            last_review_date.append(reviews_list[1][0])\n",
    "            prelast_review.append(reviews_list[0][1])\n",
    "            prelast_review_date.append(reviews_list[1][1])\n",
    "        elif (len(reviews_list[0]) == 1 and len(reviews_list[1]) == 1):\n",
    "            last_review.append(reviews_list[0][0])\n",
    "            last_review_date.append(reviews_list[1][0])\n",
    "            prelast_review.append('None review')\n",
    "            prelast_review_date.append('01/01/2000')\n",
    "        else:\n",
    "            print(reviews_list)"
   ]
  },
  {
   "cell_type": "code",
   "execution_count": null,
   "metadata": {},
   "outputs": [],
   "source": [
    "# Добавим новые признаки:\n",
    "# - последний отзыв\n",
    "df['Last Review'] = last_review\n",
    "# - дата последнего отзыва\n",
    "df['Last Review Date'] = last_review_date\n",
    "# - предпоследний отзыв\n",
    "df['Prelast Review'] = prelast_review\n",
    "# - дата предпоследнего отзыва\n",
    "df['Prelast Review Date'] = prelast_review_date"
   ]
  },
  {
   "cell_type": "code",
   "execution_count": null,
   "metadata": {},
   "outputs": [],
   "source": [
    "# Переведем даты в формат datetime\n",
    "df['Last Review Date'] = pd.to_datetime(df['Last Review Date'])\n",
    "df['Prelast Review Date'] = pd.to_datetime(df['Prelast Review Date'])"
   ]
  },
  {
   "cell_type": "code",
   "execution_count": null,
   "metadata": {},
   "outputs": [],
   "source": [
    "# Посмотрим на данные\n",
    "df.info()"
   ]
  },
  {
   "cell_type": "code",
   "execution_count": null,
   "metadata": {},
   "outputs": [],
   "source": [
    "df.head()"
   ]
  },
  {
   "cell_type": "markdown",
   "metadata": {},
   "source": [
    "### Добавленный числовой признак №15. Количество дней, прошедших между последними двумя отзывами"
   ]
  },
  {
   "cell_type": "code",
   "execution_count": null,
   "metadata": {},
   "outputs": [],
   "source": [
    "df['Days Between Reviews'] = (df['Last Review Date'] - df['Prelast Review Date'])\n",
    "def get_days(timedelta):\n",
    "    return timedelta.days\n",
    "df['Days Between Reviews'] = df['Days Between Reviews'].apply(get_days)"
   ]
  },
  {
   "cell_type": "code",
   "execution_count": null,
   "metadata": {},
   "outputs": [],
   "source": [
    "df.info()"
   ]
  },
  {
   "cell_type": "code",
   "execution_count": null,
   "metadata": {},
   "outputs": [],
   "source": [
    "df.head()"
   ]
  },
  {
   "cell_type": "markdown",
   "metadata": {},
   "source": [
    "### Добавленный числовой признак №16. Количество дней между текущей датой и датой размещения последнего отзыва о ресторане."
   ]
  },
  {
   "cell_type": "markdown",
   "metadata": {},
   "source": [
    "#### Обоснование: рейтинг ресторана может зависеть не только от того, сколько времени прошло между размещением последних двух отзывов, но и от того сколько дней прошло с момента размещения последнего отзыва до текущей даты."
   ]
  },
  {
   "cell_type": "code",
   "execution_count": null,
   "metadata": {},
   "outputs": [],
   "source": [
    "df['Days Since Last Review'] = df['Last Review Date'].apply(lambda date: CURRENT_DATE - date)\n",
    "df['Days Since Last Review'] = df['Days Since Last Review'].apply(get_days)"
   ]
  },
  {
   "cell_type": "code",
   "execution_count": null,
   "metadata": {},
   "outputs": [],
   "source": [
    "df.info()"
   ]
  },
  {
   "cell_type": "code",
   "execution_count": null,
   "metadata": {},
   "outputs": [],
   "source": [
    "df.head()"
   ]
  },
  {
   "cell_type": "markdown",
   "metadata": {},
   "source": [
    "### Добавленный признак №17. Числовая часть ID_TA."
   ]
  },
  {
   "cell_type": "code",
   "execution_count": null,
   "metadata": {},
   "outputs": [],
   "source": [
    "# Создадим числовой признак 'ID_TA Numeric' на основе 'ID_TA'\n",
    "df['ID_TA Numeric'] = df['ID_TA'].apply(lambda id_ta: int(id_ta[1:]))"
   ]
  },
  {
   "cell_type": "markdown",
   "metadata": {},
   "source": [
    "### Добавленный признак №18. Нормализованный диапазон цен в зависимости от положения ресторана среди всех ресторанов города. Идея: вряд ли хорошие отзывы будут у не самых крутых ресторанов с самыми крутыми ценами и наоборот."
   ]
  },
  {
   "cell_type": "code",
   "execution_count": null,
   "metadata": {},
   "outputs": [],
   "source": [
    "# Создадим числовой признак 'Relative Price Range' на основе признаков 'Price Range' и 'Relative Ranking'\n",
    "# df['Relative Price Range'] = df['Price Range'] / df['Relative Ranking']\n",
    "df['Relative Price Range'] = df['Price Range'] / df['Relative Ranking']"
   ]
  },
  {
   "cell_type": "markdown",
   "metadata": {},
   "source": [
    "### Добавленный признак №19. Количество людей в городе, приходящихся на 1 отзыв может характеризовать популярность ресторана.\n",
    "## Почему-то не сработало. Точность модели немного ухудшилась. Дружно кекаем!!!"
   ]
  },
  {
   "cell_type": "code",
   "execution_count": null,
   "metadata": {},
   "outputs": [],
   "source": [
    "# Создадим числовой признак 'People Per Review' на основе признаков 'Population' и 'Number of Reviews'\n",
    "df['People Per Review'] = df['Population'] / df['Number of Reviews']"
   ]
  },
  {
   "cell_type": "markdown",
   "metadata": {},
   "source": [
    "### Добавленные признаки №№20 и 21. Сентимент-оценка последнего и предспоследнего отзыва соответственно...\n",
    "#### Простейший сентимент анализ основан на словаре, доступном по адресу: https://github.com/formikaio/sentiment-analysis-dictionaries"
   ]
  },
  {
   "cell_type": "code",
   "execution_count": null,
   "metadata": {},
   "outputs": [],
   "source": [
    "df['Reviews'].iloc[-1]"
   ]
  },
  {
   "cell_type": "code",
   "execution_count": null,
   "metadata": {},
   "outputs": [],
   "source": [
    "# Создадим словарь на основе данных из sentiment_dict_en_1.csv\n",
    "import csv\n",
    "sentiment_dict = dict()\n",
    "with open('data/sentiment_dict_en_1.csv', mode='r') as infile:\n",
    "    reader = csv.reader(infile)\n",
    "    for row in reader:\n",
    "        sentiment_dict[row[0]] = int(row[1])"
   ]
  },
  {
   "cell_type": "code",
   "execution_count": null,
   "metadata": {},
   "outputs": [],
   "source": [
    "# Для начала вычистим из отзывов знаки пунктуации и приведем все к нижнему регистру:\n",
    "import string\n",
    "\n",
    "def clean_review(review):\n",
    "    clean_rev = review.lower()\n",
    "    clean_rev = ''.join(c for c in clean_rev if c not in string.punctuation)\n",
    "    return clean_rev\n",
    "\n",
    "df['Last Review'] = df['Last Review'].apply(clean_review)\n",
    "df['Prelast Review'] = df['Prelast Review'].apply(clean_review)"
   ]
  },
  {
   "cell_type": "code",
   "execution_count": null,
   "metadata": {},
   "outputs": [],
   "source": [
    "# Сформируем списки слов отзывов\n",
    "last_review_words = list(df['Last Review'].apply(lambda x: x.split()))\n",
    "prelast_review_words = list(df['Prelast Review'].apply(lambda x: x.split()))"
   ]
  },
  {
   "cell_type": "code",
   "execution_count": null,
   "metadata": {},
   "outputs": [],
   "source": [
    "# Посчитаем итоговые оценки используя справочник слов\n",
    "last_review_setntiment_score = []\n",
    "prelast_review_setntiment_score = []\n",
    "\n",
    "# Для каждого списка слов\n",
    "for i in range(50000):\n",
    "    \n",
    "    # Для последних отзывов:\n",
    "    # Зададим начальное значение сентимент-оценки\n",
    "    sentiment_score = 0\n",
    "    # Для каждого слова в списке слов\n",
    "    for word in last_review_words[i]:\n",
    "        # Пытаемся найти соответствие в словаре\n",
    "        try:\n",
    "            # И если нашли, то меняем значение сентимент-оценки, прибавляя к текущему значению оценки значение из словаря для данного слова\n",
    "            sentiment_score += sentiment_dict[word]\n",
    "        except:\n",
    "            # Если не нашли, то ничего не меняем\n",
    "            pass\n",
    "    # Добавляем полученное значение к списку сентимент-оценок\n",
    "    last_review_setntiment_score.append(sentiment_score)\n",
    "    \n",
    "    # Для предпоследних отзывов:\n",
    "    # Зададим начальное значение сентимент-оценки\n",
    "    sentiment_score = 0\n",
    "    # Для каждого слова в списке слов\n",
    "    for word in prelast_review_words[i]:\n",
    "        # Пытаемся найти соответствие в словаре\n",
    "        try:\n",
    "            # И если нашли, то меняем значение сентимент-оценки, прибавляя к текущему значению оценки значение из словаря для данного слова\n",
    "            sentiment_score += sentiment_dict[word]\n",
    "        except:\n",
    "            # Если не нашли, то ничего не меняем\n",
    "            pass\n",
    "    # Добавляем полученное значение к списку сентимент-оценок\n",
    "    prelast_review_setntiment_score.append(sentiment_score)\n"
   ]
  },
  {
   "cell_type": "code",
   "execution_count": null,
   "metadata": {},
   "outputs": [],
   "source": [
    "# Проверяем длины списков сентимент-оценок\n",
    "print(len(last_review_setntiment_score))\n",
    "print(len(prelast_review_setntiment_score))\n"
   ]
  },
  {
   "cell_type": "code",
   "execution_count": null,
   "metadata": {},
   "outputs": [],
   "source": [
    "# Добавим их в наш датасет\n",
    "df['Last Review Sentiment Score'] = last_review_setntiment_score\n",
    "df['Prelast Review Sentiment Score'] = prelast_review_setntiment_score\n"
   ]
  },
  {
   "cell_type": "code",
   "execution_count": null,
   "metadata": {},
   "outputs": [],
   "source": [
    "# Посмотрим, что получилось\n",
    "df[['Last Review', 'Last Review Sentiment Score', 'Prelast Review', 'Prelast Review Sentiment Score']][:10]"
   ]
  },
  {
   "cell_type": "markdown",
   "metadata": {},
   "source": [
    "### Добавленный признак №23. Средний уровень цен по городам"
   ]
  },
  {
   "cell_type": "code",
   "execution_count": null,
   "metadata": {},
   "outputs": [],
   "source": [
    "df['City Mean Price'] = df['City'].map(df.groupby('City')['Price Range'].mean())\n",
    "df.info()"
   ]
  },
  {
   "cell_type": "markdown",
   "metadata": {},
   "source": [
    "### Добавленный признак №24. Отношение уровня цен в ресторане к среднему уровню цен в городе"
   ]
  },
  {
   "cell_type": "code",
   "execution_count": null,
   "metadata": {},
   "outputs": [],
   "source": [
    "df['Relative Price Range by City'] = df['Price Range'] / df['City Mean Price']\n",
    "df.info()"
   ]
  },
  {
   "cell_type": "markdown",
   "metadata": {},
   "source": [
    "### Добавленный признак №25. Среднее количество кухонь в ресторанах по городам"
   ]
  },
  {
   "cell_type": "code",
   "execution_count": null,
   "metadata": {},
   "outputs": [],
   "source": [
    "# Идея взята из ноутбука Евгении Кондрашечкиной\n",
    "df['Cuisines Count Mean by City'] = df['City'].map(df.groupby('City')['Cuisines Count'].mean())\n",
    "df.info()"
   ]
  },
  {
   "cell_type": "markdown",
   "metadata": {},
   "source": [
    "### Добавленный признак №26. Плотность населения по городам"
   ]
  },
  {
   "cell_type": "code",
   "execution_count": null,
   "metadata": {},
   "outputs": [],
   "source": [
    "# Идея и данные взяты из ноутбука Евгении Кондрашечкиной\n",
    "population_density = {'Paris': 20781, 'Stockholm': 5139.7, 'London': 5667, 'Berlin': 4088, 'Munich': 4713, 'Oporto': 5703,\n",
    "       'Milan':7588.97, 'Bratislava':1171, 'Vienna':4502.88, 'Rome':2234, 'Barcelona':15779, 'Madrid':8653.5,\n",
    "       'Dublin':3689, 'Brussels':5497, 'Zurich':4666, 'Warsaw':3449, 'Budapest':3330.5, 'Copenhagen':6214.7,\n",
    "       'Amsterdam':4768, 'Lyon':10041, 'Hamburg':2388.57, 'Lisbon':6243.9, 'Prague':2506, 'Oslo':1483.41,\n",
    "       'Helsinki':899, 'Edinburgh':4140, 'Geneva':12589, 'Ljubljana':1736, 'Athens':7500,\n",
    "       'Luxembourg':2240, 'Krakow':2344}\n",
    "\n",
    "df['Population Density'] = df['City'].map(population_density)\n",
    "df.info()"
   ]
  },
  {
   "cell_type": "code",
   "execution_count": null,
   "metadata": {},
   "outputs": [],
   "source": [
    "# Данные и идея взяты из ноутбука Евгении Кондрашечкиной\n",
    "average_income = {'Paris': 3332, 'Stockholm': 2893, 'London': 2703, 'Berlin': 4392, 'Munich': 4392, 'Oporto': 1288,\n",
    "       'Milan':2726, 'Bratislava':1283, 'Vienna':2940, 'Rome':2726, 'Barcelona':2133, 'Madrid':2133,\n",
    "       'Dublin':3671, 'Brussels':3930, 'Zurich':6244, 'Warsaw':1253, 'Budapest':1187, 'Copenhagen':6192,\n",
    "       'Amsterdam':3238, 'Lyon':3332, 'Hamburg':4392, 'Lisbon':1288, 'Prague':1454, 'Oslo':5450,\n",
    "       'Helsinki':3908, 'Edinburgh':2703, 'Geneva':6244, 'Ljubljana':1914, 'Athens':1203,\n",
    "       'Luxembourg':5854, 'Krakow':1253}\n",
    "df['Average Income by City'] = df['City'].map(average_income)"
   ]
  },
  {
   "cell_type": "markdown",
   "metadata": {},
   "source": [
    "### Тренируем и тестируем модель"
   ]
  },
  {
   "cell_type": "code",
   "execution_count": null,
   "metadata": {},
   "outputs": [],
   "source": [
    "df.info()"
   ]
  },
  {
   "cell_type": "code",
   "execution_count": null,
   "metadata": {},
   "outputs": [],
   "source": [
    "# Подготовим датафрейм, содержащий все числовые признаки и основанный на данных из основного датасета\n",
    "# Для удобства сформируем множество численных признаков, на которых можно тренировать модель:\n",
    "train_features_set = {\n",
    "    'Ranking',\n",
    "    'Price Range',\n",
    "    'Number of Reviews',\n",
    "    'Restaurants Count',\n",
    "    'Relative Ranking',\n",
    "    'Price Range Was NAN',\n",
    "    'Number of Reviews Was NAN',\n",
    "    'City Code',\n",
    "    'Is Capital',\n",
    "    'Population',\n",
    "    'Country Code',\n",
    "    'People Per Restaurant',\n",
    "    'Cuisine Style Was NAN',\n",
    "    'Cuisines Count',\n",
    "    'Unique Cuisine',\n",
    "    'Days Between Reviews',\n",
    "    'Days Since Last Review',\n",
    "    'ID_TA Numeric',\n",
    "    'Relative Price Range',\n",
    "    'People Per Review',\n",
    "    'Last Review Sentiment Score',\n",
    "    'Prelast Review Sentiment Score',\n",
    "    'City Mean Price',\n",
    "    'Relative Price Range by City',\n",
    "    'Cuisines Count Mean by City',\n",
    "    'Population Density',\n",
    "    'Average Income by City',\n",
    "}\n",
    "\n",
    "# Дополним этот список бинарными признаками присутствия той или иной кухни в меню ресторана\n",
    "train_features_set = train_features_set.union(set(encoded.columns))\n",
    "\n",
    "# Создадим объединенный датафрейм для тренировки модели, исключив из него данные из датасета kaggle_task.csv\n",
    "train_df = pd.concat([df, encoded], axis=1)\n",
    "# train_df = df.copy()\n",
    "train_df = train_df[train_df['Main']]\n",
    "train_df = train_df[train_features_set]"
   ]
  },
  {
   "cell_type": "code",
   "execution_count": null,
   "metadata": {},
   "outputs": [],
   "source": [
    "# Готовим данные\n",
    "X = train_df\n",
    "y = df[df['Main']]['Rating']\n",
    "# В данном случае мы тренируем модель на всей выборке"
   ]
  },
  {
   "cell_type": "code",
   "execution_count": null,
   "metadata": {},
   "outputs": [],
   "source": [
    "# Создаем модель\n",
    "rfm = RandomForestRegressor(n_estimators=100, verbose=1, n_jobs=-1, random_state=RANDOM_SEED)"
   ]
  },
  {
   "cell_type": "code",
   "execution_count": null,
   "metadata": {},
   "outputs": [],
   "source": [
    "# И наконец тренируем нашу модель\n",
    "rfm.fit(X, y)"
   ]
  },
  {
   "cell_type": "code",
   "execution_count": null,
   "metadata": {},
   "outputs": [],
   "source": [
    "# Используем обученную модель для предсказания рейтинга ресторанов в тестовой выборке.\n",
    "# Предсказанные значения записываем в переменную y_pred\n",
    "y_pred = rfm.predict(X)"
   ]
  },
  {
   "cell_type": "code",
   "execution_count": null,
   "metadata": {},
   "outputs": [],
   "source": [
    "# Поcмотрим на предсказанные данные:\n",
    "y_pred"
   ]
  },
  {
   "cell_type": "code",
   "execution_count": null,
   "metadata": {},
   "outputs": [],
   "source": [
    "# И сразу видим возможность улучшения точности модели.\n",
    "# Сравним с исходными данными:\n",
    "df['Rating'].unique()"
   ]
  },
  {
   "cell_type": "code",
   "execution_count": null,
   "metadata": {},
   "outputs": [],
   "source": [
    "# Видим разницу в том, что реальные рейтинги всегда кратны 0.5\n",
    "# Напишем функцию соответствующей корректировки предсказанных рейтингов\n",
    "def fine_rating_pred(rating_pred):\n",
    "    if rating_pred <= 0.5:\n",
    "        return 0.0\n",
    "    if rating_pred <= 1.5:\n",
    "        return 1.0\n",
    "    if rating_pred <= 1.75:\n",
    "        return 1.5\n",
    "    if rating_pred <= 2.25:\n",
    "        return 2.0\n",
    "    if rating_pred <= 2.75:\n",
    "        return 2.5\n",
    "    if rating_pred <= 3.25:\n",
    "        return 3.0\n",
    "    if rating_pred <= 3.75:\n",
    "        return 3.5\n",
    "    if rating_pred <= 4.25:\n",
    "        return 4.0\n",
    "    if rating_pred <= 4.75:\n",
    "        return 4.5\n",
    "    return 5.0"
   ]
  },
  {
   "cell_type": "code",
   "execution_count": null,
   "metadata": {},
   "outputs": [],
   "source": [
    "# Применим такое округление\n",
    "for i in range(len(y_pred)):\n",
    "    y_pred[i] = fine_rating_pred(y_pred[i])\n",
    "    \n",
    "# Применим другое округление\n",
    "def round_of_rating(number):\n",
    "    return round(number * 2) / 2\n",
    "\n",
    "y_pred_rounded = list(map(round_of_rating,y_pred))"
   ]
  },
  {
   "cell_type": "code",
   "execution_count": null,
   "metadata": {},
   "outputs": [],
   "source": [
    "y_pred"
   ]
  },
  {
   "cell_type": "code",
   "execution_count": null,
   "metadata": {},
   "outputs": [],
   "source": [
    "# Сравниваем предсказанные значения (y_pred) с реальными (y_test), и смотрим насколько они в среднем отличаются\n",
    "# Метрика называется Mean Absolute Error (MAE) и показывает среднее отклонение предсказанных значений от фактических.\n",
    "mae = metrics.mean_absolute_error(y, y_pred)\n",
    "print(f'Достигнуто значение MAE: {mae}')"
   ]
  },
  {
   "cell_type": "code",
   "execution_count": null,
   "metadata": {},
   "outputs": [],
   "source": [
    "# Сравниваем предсказанные значения (y_pred_rounded) с реальными (y_test), и смотрим насколько они в среднем отличаются\n",
    "# Метрика называется Mean Absolute Error (MAE) и показывает среднее отклонение предсказанных значений от фактических.\n",
    "mae = metrics.mean_absolute_error(y, y_pred_rounded)\n",
    "print(f'При применении чужого кода округления достигнуто значение MAE: {mae}')"
   ]
  },
  {
   "cell_type": "code",
   "execution_count": null,
   "metadata": {},
   "outputs": [],
   "source": [
    "# Best MAE: 0.0144125\n",
    "# Previews MAE: 0.014375"
   ]
  },
  {
   "cell_type": "code",
   "execution_count": null,
   "metadata": {},
   "outputs": [],
   "source": [
    "plt.figure(figsize=(10,10))\n",
    "feat_importances = pd.Series(rfm.feature_importances_, index=X.columns)\n",
    "feat_importances.nlargest(15).plot(kind='barh')"
   ]
  },
  {
   "cell_type": "markdown",
   "metadata": {},
   "source": [
    "# Подготовка и сохранение конечного результата"
   ]
  },
  {
   "cell_type": "code",
   "execution_count": null,
   "metadata": {},
   "outputs": [],
   "source": [
    "# Создадим датафрейм с валидационными данными для передачи в модель для предсказания рейтингов\n",
    "# Создадим объединенный датафрейм для предсказания рейтингов, включив в него данные только из датасета kaggle_task.csv\n",
    "valid_df = pd.concat([df, encoded], axis=1)\n",
    "valid_df = valid_df[~valid_df['Main']]\n",
    "valid_df = valid_df[train_features_set]"
   ]
  },
  {
   "cell_type": "code",
   "execution_count": null,
   "metadata": {},
   "outputs": [],
   "source": [
    "# Произведем предсказания\n",
    "valid_y_pred = rfm.predict(valid_df)"
   ]
  },
  {
   "cell_type": "code",
   "execution_count": null,
   "metadata": {},
   "outputs": [],
   "source": [
    "# Применим округление\n",
    "for i in range(len(valid_y_pred)):\n",
    "    valid_y_pred[i] = fine_rating_pred(valid_y_pred[i])"
   ]
  },
  {
   "cell_type": "code",
   "execution_count": null,
   "metadata": {},
   "outputs": [],
   "source": [
    "# Создадим датасет конечного результата submission_df\n",
    "submission_df = pd.DataFrame()"
   ]
  },
  {
   "cell_type": "code",
   "execution_count": null,
   "metadata": {},
   "outputs": [],
   "source": [
    "# Запишем в него требуемые данные\n",
    "submission_df['Restaurant_id'] = df[~df['Main']]['Restaurant_id']\n",
    "submission_df['Rating'] = valid_y_pred"
   ]
  },
  {
   "cell_type": "code",
   "execution_count": null,
   "metadata": {},
   "outputs": [],
   "source": [
    "# Проверим, что получилось\n",
    "submission_df"
   ]
  },
  {
   "cell_type": "code",
   "execution_count": null,
   "metadata": {},
   "outputs": [],
   "source": [
    "# Сохраним результат в файл\n",
    "submission_df.to_csv('submission.csv', index=False)"
   ]
  },
  {
   "cell_type": "markdown",
   "metadata": {},
   "source": [
    "### Издевательства над данными!!!"
   ]
  },
  {
   "cell_type": "code",
   "execution_count": null,
   "metadata": {},
   "outputs": [],
   "source": [
    "# Создадим функцию, осуществляющую разделение данных, тренировку модели\n",
    "# и возвращающую MAE по результатам тестирования модели\n",
    "def fit_test_model(df, feature_set, output_feature):\n",
    "    # Х - данные с информацией о ресторанах, у - целевая переменная (рейтинги ресторанов)\n",
    "    X = df[feature_set]\n",
    "    y = df[output_feature]\n",
    "    \n",
    "    # Наборы данных с меткой \"train\" будут использоваться для обучения модели, \"test\" - для тестирования.\n",
    "    # Для тестирования мы будем использовать 25% от исходного датасета.\n",
    "    X_train, X_test, y_train, y_test = train_test_split(X, y, test_size=0.25, random_state=RANDOM_SEED)\n",
    "    \n",
    "    # Создаём модель\n",
    "    regr = RandomForestRegressor(n_estimators=100, verbose=0, n_jobs=-1, random_state=RANDOM_SEED)\n",
    "\n",
    "    # Обучаем модель на тестовом наборе данных\n",
    "    regr.fit(X_train, y_train)\n",
    "\n",
    "    # Используем обученную модель для предсказания рейтинга ресторанов в тестовой выборке.\n",
    "    # Предсказанные значения записываем в переменную y_pred\n",
    "    y_pred = regr.predict(X_test)\n",
    "    \n",
    "    # Сравниваем предсказанные значения (y_pred) с реальными (y_test), и смотрим насколько они в среднем отличаются\n",
    "    # Метрика называется Mean Absolute Error (MAE) и показывает среднее отклонение предсказанных значений от фактических.\n",
    "    mae = metrics.mean_absolute_error(y_test, y_pred)\n",
    "    return mae"
   ]
  },
  {
   "cell_type": "code",
   "execution_count": null,
   "metadata": {},
   "outputs": [],
   "source": [
    "# Создадим объединенный датафрейм для тренировки модели, исключив из него данные из датасета kaggle_task.csv\n",
    "aug_df = pd.concat([df, encoded], axis=1)\n",
    "aug_df = aug_df[aug_df['Main']]\n",
    "# Создадим переменные для базового и целевого признаков\n",
    "base_feature = 'Relative Ranking'\n",
    "target_feature = 'Rating'\n",
    "# Запишем значение MAE, достигнутого при применении только базового признака\n",
    "base_mae = fit_test_model(aug_df, [base_feature], target_feature)\n",
    "print(f'Значение MAE, достигнутое при базовом признаке {base_feature} составило: {base_mae}')"
   ]
  },
  {
   "cell_type": "code",
   "execution_count": null,
   "metadata": {},
   "outputs": [],
   "source": [
    "# Создадим справочник вкладов каждого признака в точность модели\n",
    "feature_contributions = {'feature': [], 'contribution': []}\n",
    "# И заполним его\n",
    "# (а так как задача может выполняться длительное время, то снабдим цикл красивым прогрессбаром)\n",
    "from ipywidgets import IntProgress\n",
    "from IPython.display import display\n",
    "\n",
    "progress_bar = IntProgress(min=0, max=len(train_features_set), value=0)\n",
    "display(progress_bar)\n",
    "\n",
    "# Для каждого признака из того набора, на котором тренировалась основная модель\n",
    "for progress, feature in enumerate(train_features_set):\n",
    "    # Получим значение MAE, достигнутое с применением базового и добавленного признаков\n",
    "    feature_mae = fit_test_model(aug_df, [base_feature] + [feature], target_feature)\n",
    "    # Посчитаем вклад, вносимый в уменьшение MAE \n",
    "    feature_contribution = base_mae - feature_mae\n",
    "    feature_contributions['feature'].append(feature)\n",
    "    feature_contributions['contribution'].append(feature_contribution)\n",
    "    progress_bar.value = progress"
   ]
  },
  {
   "cell_type": "code",
   "execution_count": null,
   "metadata": {},
   "outputs": [],
   "source": [
    "# На основе сформированного справочника создадим DataFrame\n",
    "fc_df = pd.DataFrame(feature_contributions)"
   ]
  },
  {
   "cell_type": "code",
   "execution_count": null,
   "metadata": {},
   "outputs": [],
   "source": [
    "# Сформируем DataFrame с признаками, дающими понижение понижение, а не повышение MAE относительно базового значения\n",
    "best_features_df = fc_df[fc_df['contribution'] > 0].sort_values('contribution', ascending=False)"
   ]
  },
  {
   "cell_type": "code",
   "execution_count": null,
   "metadata": {},
   "outputs": [],
   "source": [
    "# Создадим множество признаков, дающих хороший результат\n",
    "best_features_set = set(best_features_df['feature'])"
   ]
  },
  {
   "cell_type": "code",
   "execution_count": null,
   "metadata": {},
   "outputs": [],
   "source": [
    "# Смотрим, сколько таких набралось\n",
    "len(best_features_set)"
   ]
  },
  {
   "cell_type": "code",
   "execution_count": null,
   "metadata": {},
   "outputs": [],
   "source": [
    "# Создадим объединенный датафрейм для тренировки модели, исключив из него данные из датасета kaggle_task.csv\n",
    "train_df = pd.concat([df, encoded], axis=1)\n",
    "# train_df = df.copy()\n",
    "train_df = train_df[train_df['Main']]"
   ]
  },
  {
   "cell_type": "code",
   "execution_count": null,
   "metadata": {},
   "outputs": [],
   "source": [
    "# Посмотрим на MAE полученный применением множества 'лучших' признаков\n",
    "best_mae = fit_test_model(train_df, best_features_set, 'Rating')\n",
    "best_mae"
   ]
  },
  {
   "cell_type": "code",
   "execution_count": null,
   "metadata": {},
   "outputs": [],
   "source": [
    "# Посмотрим на MAE полученный применением множества всех признаков\n",
    "usual_mae = fit_test_model(train_df, train_features_set, 'Rating')\n",
    "usual_mae"
   ]
  },
  {
   "cell_type": "code",
   "execution_count": null,
   "metadata": {},
   "outputs": [],
   "source": [
    "# Отсортируем данные в порядке убывания вклада в точность\n",
    "best_features_df_sorted = best_features_df.sort_values('contribution', ascending=False)\n",
    "# Установим подобающий случаю размер рисунка\n",
    "plt.figure(figsize=(8, 4))\n",
    "plt.title('Лучшие признаки')\n",
    "plt.xlabel('Признак')\n",
    "plt.ylabel('Вклад в точность')\n",
    "# Сформируем красивый барплот для первых 40 признаков\n",
    "barplot = sns.barplot(x = 'feature', y='contribution', data=best_features_df_sorted.head(30))\n",
    "# Повернем на 90 градусов подписи рисок\n",
    "for item in barplot.get_xticklabels():\n",
    "    item.set_rotation(90)"
   ]
  },
  {
   "cell_type": "markdown",
   "metadata": {},
   "source": [
    "### Как видно из рисунка выше, маса признаков вносят практически одинаковый вклад, но когда они применяются все вместе, кумулятивный эффект не наблюдается!!!"
   ]
  },
  {
   "cell_type": "code",
   "execution_count": null,
   "metadata": {},
   "outputs": [],
   "source": [
    "# Посмотрим, что собой представляет целевой признак\n",
    "target = df[df['Main']][target_feature]\n",
    "plt.figure(figsize=(8, 4))\n",
    "plt.title('Гистограмма значений целевого признака Rating')\n",
    "plt.xlabel('Значение Rating')\n",
    "plt.ylabel('Частота')\n",
    "sns.distplot(target)\n",
    "plt.show()"
   ]
  },
  {
   "cell_type": "markdown",
   "metadata": {},
   "source": [
    "### Инсайт!!! По сути целевой признак является дискретной величиной и к нему лучше применять не RandomForestRegressor, а RandomForestClassifier. Почему же организаторы курса и соревнования так настойчиво указывают на применение этого неэффективного в данном случае инструмента?"
   ]
  },
  {
   "cell_type": "code",
   "execution_count": null,
   "metadata": {},
   "outputs": [],
   "source": [
    "# Подгрузим нужную библиотеку\n",
    "from sklearn.ensemble import RandomForestClassifier"
   ]
  },
  {
   "cell_type": "code",
   "execution_count": null,
   "metadata": {},
   "outputs": [],
   "source": [
    "# Создадим классификатор на основе случайного леса\n",
    "rfc = RandomForestClassifier(n_jobs=-1)"
   ]
  },
  {
   "cell_type": "code",
   "execution_count": null,
   "metadata": {},
   "outputs": [],
   "source": [
    "# Обучаем классификтор\n",
    "rfc.fit(X, y.apply(str))"
   ]
  },
  {
   "cell_type": "code",
   "execution_count": null,
   "metadata": {},
   "outputs": [],
   "source": [
    "# Предсказываем значения целевого признака\n",
    "y_pred = rfc.predict(X)"
   ]
  },
  {
   "cell_type": "code",
   "execution_count": null,
   "metadata": {},
   "outputs": [],
   "source": [
    "# Оценим точность модели\n",
    "y_pred_float = pd.Series(y_pred).apply(float)\n",
    "mae = metrics.mean_absolute_error(y_pred_float, y)\n",
    "mae"
   ]
  },
  {
   "cell_type": "markdown",
   "metadata": {},
   "source": [
    "### ТАК ВОТ ОНА ГДЕ СОБАКА ТО ЗАРЫТА!!!! АГА, ПОПАЛИСЬ РЕБЯТА!!!\n",
    "#### Одного не понимаю, зачем нас учить использовать неправильные инструменты? Или это проверка на дурака?\n",
    "#### Оказалось как всегда - сам дурак.  RandomForestRegressor подходит конечно лучше, но про train_test_split\n",
    "#### тоже забывать не стоит!!!"
   ]
  },
  {
   "cell_type": "code",
   "execution_count": null,
   "metadata": {},
   "outputs": [],
   "source": [
    "y_pred_float - y"
   ]
  },
  {
   "cell_type": "code",
   "execution_count": null,
   "metadata": {},
   "outputs": [],
   "source": [
    "# Произведем предсказания\n",
    "valid_y_pred = rfc.predict(valid_df)"
   ]
  },
  {
   "cell_type": "code",
   "execution_count": null,
   "metadata": {},
   "outputs": [],
   "source": [
    "# Создадим датасет конечного результата submission_df\n",
    "submission_df = pd.DataFrame()"
   ]
  },
  {
   "cell_type": "code",
   "execution_count": null,
   "metadata": {},
   "outputs": [],
   "source": [
    "# Запишем в него требуемые данные\n",
    "submission_df['Restaurant_id'] = df[~df['Main']]['Restaurant_id']\n",
    "submission_df['Rating'] = pd.Series(valid_y_pred).apply(float)"
   ]
  },
  {
   "cell_type": "code",
   "execution_count": null,
   "metadata": {},
   "outputs": [],
   "source": [
    "# Проверим, что получилось\n",
    "submission_df"
   ]
  },
  {
   "cell_type": "code",
   "execution_count": null,
   "metadata": {},
   "outputs": [],
   "source": [
    "# Сохраним результат в файл\n",
    "submission_df.to_csv('submission.csv', index=False)"
   ]
  },
  {
   "cell_type": "code",
   "execution_count": null,
   "metadata": {},
   "outputs": [],
   "source": [
    "len(df) - df['URL_TA'].nunique()"
   ]
  },
  {
   "cell_type": "code",
   "execution_count": null,
   "metadata": {},
   "outputs": [],
   "source": [
    "new_df = pd.read_csv(join('ta_scrapy', 'fresh_data.csv'))"
   ]
  },
  {
   "cell_type": "code",
   "execution_count": null,
   "metadata": {},
   "outputs": [],
   "source": [
    "new_df[new_df['Excellent Marks'] == 'Excellent Marks']"
   ]
  },
  {
   "cell_type": "code",
   "execution_count": null,
   "metadata": {},
   "outputs": [],
   "source": [
    "new_df.drop(index=48809, inplace=True)"
   ]
  },
  {
   "cell_type": "code",
   "execution_count": null,
   "metadata": {},
   "outputs": [],
   "source": [
    "new_df.info()"
   ]
  },
  {
   "cell_type": "code",
   "execution_count": null,
   "metadata": {},
   "outputs": [],
   "source": [
    "new_df.drop_duplicates(inplace=True)"
   ]
  },
  {
   "cell_type": "code",
   "execution_count": null,
   "metadata": {},
   "outputs": [],
   "source": [
    "new_df[['New Cuisine Style']].info()"
   ]
  },
  {
   "cell_type": "code",
   "execution_count": null,
   "metadata": {},
   "outputs": [],
   "source": [
    "from pandas_profiling  import ProfileReport"
   ]
  },
  {
   "cell_type": "code",
   "execution_count": null,
   "metadata": {},
   "outputs": [],
   "source": [
    "ProfileReport(new_df, title='Trip Advisor New Restaurants Data Pandas Profiling Report', html={'style':{'full_width':True}})"
   ]
  },
  {
   "cell_type": "code",
   "execution_count": null,
   "metadata": {},
   "outputs": [],
   "source": [
    "united_df = train_df.merge(new_df, on='URL_TA', how='right')"
   ]
  },
  {
   "cell_type": "code",
   "execution_count": null,
   "metadata": {},
   "outputs": [],
   "source": [
    "new_df.columns"
   ]
  },
  {
   "cell_type": "code",
   "execution_count": null,
   "metadata": {},
   "outputs": [],
   "source": [
    "united_df.info()"
   ]
  },
  {
   "cell_type": "code",
   "execution_count": null,
   "metadata": {},
   "outputs": [],
   "source": [
    "new_features = ['Excellent Marks', 'Very Good Marks', 'Average Marks', 'Poor Marks' ,'Terrible Marks']"
   ]
  },
  {
   "cell_type": "code",
   "execution_count": null,
   "metadata": {},
   "outputs": [],
   "source": [
    "united_df.dropna(subset=new_features, inplace=True)"
   ]
  },
  {
   "cell_type": "code",
   "execution_count": null,
   "metadata": {},
   "outputs": [],
   "source": [
    "united_df.info()"
   ]
  },
  {
   "cell_type": "code",
   "execution_count": null,
   "metadata": {},
   "outputs": [],
   "source": [
    "int(united_df[new_features[0]].iloc[0])"
   ]
  },
  {
   "cell_type": "code",
   "execution_count": null,
   "metadata": {},
   "outputs": [],
   "source": [
    "for feature in new_features:\n",
    "    united_df[feature] = united_df[feature].apply(int)"
   ]
  },
  {
   "cell_type": "code",
   "execution_count": null,
   "metadata": {},
   "outputs": [],
   "source": [
    "united_df['Marks Count'] = 0\n",
    "for feature in new_features:\n",
    "    united_df['Marks Count'] += united_df[feature]"
   ]
  },
  {
   "cell_type": "code",
   "execution_count": null,
   "metadata": {},
   "outputs": [],
   "source": [
    "for feature in new_features:\n",
    "    united_df[feature] /= united_df['Marks Count']"
   ]
  },
  {
   "cell_type": "code",
   "execution_count": null,
   "metadata": {},
   "outputs": [],
   "source": [
    "united_df[new_features].head()"
   ]
  },
  {
   "cell_type": "code",
   "execution_count": null,
   "metadata": {},
   "outputs": [],
   "source": [
    "new_features.append('Marks Count')"
   ]
  },
  {
   "cell_type": "code",
   "execution_count": null,
   "metadata": {},
   "outputs": [],
   "source": [
    "united_df[new_features]"
   ]
  },
  {
   "cell_type": "code",
   "execution_count": null,
   "metadata": {},
   "outputs": [],
   "source": [
    "united_df['New Rating'] = united_df['New Rating'].apply(float)"
   ]
  },
  {
   "cell_type": "code",
   "execution_count": null,
   "metadata": {},
   "outputs": [],
   "source": [
    "united_df['Rating'] = united_df['New Rating'].mask(pd.isnull, united_df['Rating'])\n"
   ]
  },
  {
   "cell_type": "code",
   "execution_count": null,
   "metadata": {},
   "outputs": [],
   "source": [
    "united_df.isna().sum().head(30)"
   ]
  },
  {
   "cell_type": "code",
   "execution_count": null,
   "metadata": {},
   "outputs": [],
   "source": [
    "fit_test_model(united_df, list(train_features_set) + new_features, 'Rating')"
   ]
  },
  {
   "cell_type": "code",
   "execution_count": null,
   "metadata": {},
   "outputs": [],
   "source": []
  }
 ],
 "metadata": {
  "kernelspec": {
   "display_name": "Python 3",
   "language": "python",
   "name": "python3"
  },
  "language_info": {
   "codemirror_mode": {
    "name": "ipython",
    "version": 3
   },
   "file_extension": ".py",
   "mimetype": "text/x-python",
   "name": "python",
   "nbconvert_exporter": "python",
   "pygments_lexer": "ipython3",
   "version": "3.7.4"
  }
 },
 "nbformat": 4,
 "nbformat_minor": 4
}

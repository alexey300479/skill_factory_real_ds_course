{
 "cells": [
  {
   "cell_type": "code",
   "execution_count": 2,
   "metadata": {},
   "outputs": [
    {
     "name": "stdout",
     "output_type": "stream",
     "text": [
      "--Call--\n",
      "> /home/alexey300479/anaconda3/envs/pyfinance/lib/python3.6/site-packages/IPython/core/displayhook.py(252)__call__()\n",
      "-> def __call__(self, result=None):\n",
      "(Pdb) next\n",
      "> /home/alexey300479/anaconda3/envs/pyfinance/lib/python3.6/site-packages/IPython/core/displayhook.py(258)__call__()\n",
      "-> self.check_for_underscore()\n",
      "(Pdb) return\n",
      "--Return--\n",
      "> /home/alexey300479/anaconda3/envs/pyfinance/lib/python3.6/site-packages/IPython/core/displayhook.py(259)__call__()->None\n",
      "-> if result is not None and not self.quiet():\n",
      "(Pdb) continue\n"
     ]
    }
   ],
   "source": [
    "import pdb; pdb.set_trace()"
   ]
  },
  {
   "cell_type": "code",
   "execution_count": 3,
   "metadata": {},
   "outputs": [
    {
     "name": "stdout",
     "output_type": "stream",
     "text": [
      "Hello!\n"
     ]
    }
   ],
   "source": [
    "print('Hello!')"
   ]
  },
  {
   "cell_type": "code",
   "execution_count": null,
   "metadata": {},
   "outputs": [],
   "source": []
  }
 ],
 "metadata": {
  "kernelspec": {
   "display_name": "Python 3",
   "language": "python",
   "name": "python3"
  },
  "language_info": {
   "codemirror_mode": {
    "name": "ipython",
    "version": 3
   },
   "file_extension": ".py",
   "mimetype": "text/x-python",
   "name": "python",
   "nbconvert_exporter": "python",
   "pygments_lexer": "ipython3",
   "version": "3.6.1"
  }
 },
 "nbformat": 4,
 "nbformat_minor": 2
}

{
 "cells": [
  {
   "cell_type": "code",
   "execution_count": 2,
   "metadata": {},
   "outputs": [],
   "source": [
    "from pulp import *\n",
    "import time"
   ]
  },
  {
   "cell_type": "code",
   "execution_count": 6,
   "metadata": {},
   "outputs": [
    {
     "name": "stdout",
     "output_type": "stream",
     "text": [
      "Результат:\n",
      "x1 = 95.238095\n",
      "x2 = 285.71429\n",
      "Прибыль:\n",
      "3142.85714\n"
     ]
    }
   ],
   "source": [
    "\n",
    "\n",
    "x1 = LpVariable(\"x1\", lowBound=0)\n",
    "x2 = pulp.LpVariable(\"x2\", lowBound=0)\n",
    "problem = pulp.LpProblem('0',pulp.LpMaximize)\n",
    "problem += 30*x1 + x2, \"Функция цели\"\n",
    "problem += 90*x1 + 5*x2 <= 10000, \"1\"\n",
    "problem +=x2 ==3*x1, \"2\"\n",
    "problem.solve()\n",
    "print (\"Результат:\")\n",
    "for variable in problem.variables():\n",
    "    print (variable.name, \"=\", variable.varValue)\n",
    "print (\"Прибыль:\")\n",
    "print (value(problem.objective))\n",
    "\n"
   ]
  },
  {
   "cell_type": "code",
   "execution_count": 5,
   "metadata": {},
   "outputs": [
    {
     "data": {
      "text/plain": [
       "0:\n",
       "MAXIMIZE\n",
       "30*x1 + 1*x2 + 0\n",
       "SUBJECT TO\n",
       "1: 90 x1 + 5 x2 <= 10000\n",
       "\n",
       "2: - 3 x1 + x2 = 0\n",
       "\n",
       "VARIABLES\n",
       "x1 Continuous\n",
       "x2 Continuous"
      ]
     },
     "execution_count": 5,
     "metadata": {},
     "output_type": "execute_result"
    }
   ],
   "source": [
    "problem"
   ]
  },
  {
   "cell_type": "code",
   "execution_count": null,
   "metadata": {},
   "outputs": [],
   "source": []
  }
 ],
 "metadata": {
  "kernelspec": {
   "display_name": "Python 3",
   "language": "python",
   "name": "python3"
  },
  "language_info": {
   "codemirror_mode": {
    "name": "ipython",
    "version": 3
   },
   "file_extension": ".py",
   "mimetype": "text/x-python",
   "name": "python",
   "nbconvert_exporter": "python",
   "pygments_lexer": "ipython3",
   "version": "3.7.4"
  }
 },
 "nbformat": 4,
 "nbformat_minor": 4
}

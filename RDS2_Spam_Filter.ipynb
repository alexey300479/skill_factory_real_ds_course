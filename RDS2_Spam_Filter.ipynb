{
 "cells": [
  {
   "cell_type": "code",
   "execution_count": 1,
   "metadata": {},
   "outputs": [],
   "source": [
    "import json\n",
    "import numpy as np\n",
    "import pandas as pd\n",
    "import string"
   ]
  },
  {
   "cell_type": "code",
   "execution_count": 2,
   "metadata": {},
   "outputs": [],
   "source": [
    "SPAM = True\n",
    "NOT_SPAM = False"
   ]
  },
  {
   "cell_type": "code",
   "execution_count": 3,
   "metadata": {},
   "outputs": [],
   "source": [
    "# Пробуем открыть файл со справочником слов, встречаемых в спам-текстах\n",
    "try:\n",
    "    spam_words = json.load('spam_words.json')\n",
    "# Если такого файла еще нет, то создаем пустой справочник\n",
    "except:\n",
    "    spam_words = dict()\n",
    "\n",
    "# Пробуем открыть файл со справочником слов, встречаемых в хороших текстах\n",
    "try:\n",
    "    good_words = json.load('good_words.json')\n",
    "# Если такого файла еще нет, то создаем пустой справочник\n",
    "except:\n",
    "    good_words = dict()\n",
    "\n",
    "# Пробуем открыть файл со счетчиками слов\n",
    "try:\n",
    "    words_count = json.load('words_count.json')\n",
    "# Если такого файла еще нет, то создаем справочник с нулевыми значениями\n",
    "except:\n",
    "    words_count = {\n",
    "        'spam': 0,\n",
    "        'good': 0\n",
    "    }\n",
    "\n",
    "# Пробуем открыть файл с вероятностями\n",
    "try:\n",
    "    probs = json.load('probs.json')\n",
    "# Если такого файла еще нет, то создаем справочник с нулевыми значениями\n",
    "except:\n",
    "    probs = {\n",
    "        'spam_texts_count': 0,\n",
    "        'good_texts_count': 0,\n",
    "        'pA': 0,\n",
    "        'pNotA': 0,\n",
    "    }"
   ]
  },
  {
   "cell_type": "code",
   "execution_count": 4,
   "metadata": {},
   "outputs": [],
   "source": [
    "# train_data = [  spam_or_not_spam.csv\n",
    "#     ['Купите новое чистящее средство', SPAM],   \n",
    "#     ['Купи мою новую книгу', SPAM],  \n",
    "#     ['Подари себе новый телефон', SPAM],\n",
    "#     ['Добро пожаловать и купите новый телевизор', SPAM],\n",
    "#     ['Привет давно не виделись', NOT_SPAM], \n",
    "#     ['Довезем до аэропорта из пригорода всего за 399 рублей', SPAM], \n",
    "#     ['Добро пожаловать в Мой Круг', NOT_SPAM],  \n",
    "#     ['Я все еще жду документы', NOT_SPAM],  \n",
    "#     ['Приглашаем на конференцию Data Science', NOT_SPAM],\n",
    "#     ['Потерял твой телефон напомни', NOT_SPAM],\n",
    "#     ['Порадуй своего питомца новым костюмом', SPAM]\n",
    "# ]\n",
    "train_data = pd.read_csv('spam_or_not_spam.csv')\n",
    "# aug_data = pd.read_csv('spam_ham_dataset.csv', usecols=['label', 'text'])\n",
    "# aug_data.columns=['label', 'email']\n",
    "# aug_data = aug_data[['email', 'label']]\n",
    "# labels = {\n",
    "#     'spam': True,\n",
    "#     'ham': False,\n",
    "#          }\n",
    "# aug_data['label'].map(labels)\n",
    "# aug_data['email'] = aug_data['email'].apply(lambda text: text[text.find('\\r\\n')+2:])\n",
    "# train_data = pd.concat([train_data, aug_data])"
   ]
  },
  {
   "cell_type": "code",
   "execution_count": 5,
   "metadata": {},
   "outputs": [
    {
     "name": "stdout",
     "output_type": "stream",
     "text": [
      "<class 'pandas.core.frame.DataFrame'>\n",
      "RangeIndex: 3000 entries, 0 to 2999\n",
      "Data columns (total 2 columns):\n",
      " #   Column  Non-Null Count  Dtype \n",
      "---  ------  --------------  ----- \n",
      " 0   email   2999 non-null   object\n",
      " 1   label   3000 non-null   int64 \n",
      "dtypes: int64(1), object(1)\n",
      "memory usage: 47.0+ KB\n"
     ]
    }
   ],
   "source": [
    "train_data.info()"
   ]
  },
  {
   "cell_type": "code",
   "execution_count": 6,
   "metadata": {},
   "outputs": [
    {
     "data": {
      "text/html": [
       "<div>\n",
       "<style scoped>\n",
       "    .dataframe tbody tr th:only-of-type {\n",
       "        vertical-align: middle;\n",
       "    }\n",
       "\n",
       "    .dataframe tbody tr th {\n",
       "        vertical-align: top;\n",
       "    }\n",
       "\n",
       "    .dataframe thead th {\n",
       "        text-align: right;\n",
       "    }\n",
       "</style>\n",
       "<table border=\"1\" class=\"dataframe\">\n",
       "  <thead>\n",
       "    <tr style=\"text-align: right;\">\n",
       "      <th></th>\n",
       "      <th>email</th>\n",
       "      <th>label</th>\n",
       "    </tr>\n",
       "  </thead>\n",
       "  <tbody>\n",
       "    <tr>\n",
       "      <th>0</th>\n",
       "      <td>date wed NUMBER aug NUMBER NUMBER NUMBER NUMB...</td>\n",
       "      <td>0</td>\n",
       "    </tr>\n",
       "    <tr>\n",
       "      <th>1</th>\n",
       "      <td>martin a posted tassos papadopoulos the greek ...</td>\n",
       "      <td>0</td>\n",
       "    </tr>\n",
       "    <tr>\n",
       "      <th>2</th>\n",
       "      <td>man threatens explosion in moscow thursday aug...</td>\n",
       "      <td>0</td>\n",
       "    </tr>\n",
       "    <tr>\n",
       "      <th>3</th>\n",
       "      <td>klez the virus that won t die already the most...</td>\n",
       "      <td>0</td>\n",
       "    </tr>\n",
       "    <tr>\n",
       "      <th>4</th>\n",
       "      <td>in adding cream to spaghetti carbonara which ...</td>\n",
       "      <td>0</td>\n",
       "    </tr>\n",
       "  </tbody>\n",
       "</table>\n",
       "</div>"
      ],
      "text/plain": [
       "                                               email  label\n",
       "0   date wed NUMBER aug NUMBER NUMBER NUMBER NUMB...      0\n",
       "1  martin a posted tassos papadopoulos the greek ...      0\n",
       "2  man threatens explosion in moscow thursday aug...      0\n",
       "3  klez the virus that won t die already the most...      0\n",
       "4   in adding cream to spaghetti carbonara which ...      0"
      ]
     },
     "execution_count": 6,
     "metadata": {},
     "output_type": "execute_result"
    }
   ],
   "source": [
    "train_data.head()"
   ]
  },
  {
   "cell_type": "code",
   "execution_count": 7,
   "metadata": {},
   "outputs": [],
   "source": [
    "train_data.dropna(inplace=True)"
   ]
  },
  {
   "cell_type": "code",
   "execution_count": 8,
   "metadata": {},
   "outputs": [
    {
     "name": "stdout",
     "output_type": "stream",
     "text": [
      "<class 'pandas.core.frame.DataFrame'>\n",
      "Int64Index: 2999 entries, 0 to 2999\n",
      "Data columns (total 2 columns):\n",
      " #   Column  Non-Null Count  Dtype \n",
      "---  ------  --------------  ----- \n",
      " 0   email   2999 non-null   object\n",
      " 1   label   2999 non-null   int64 \n",
      "dtypes: int64(1), object(1)\n",
      "memory usage: 70.3+ KB\n"
     ]
    }
   ],
   "source": [
    "train_data.info()"
   ]
  },
  {
   "cell_type": "code",
   "execution_count": 9,
   "metadata": {},
   "outputs": [],
   "source": [
    "labels = {\n",
    "    0: NOT_SPAM,\n",
    "    1: SPAM,\n",
    "}"
   ]
  },
  {
   "cell_type": "code",
   "execution_count": 10,
   "metadata": {},
   "outputs": [],
   "source": [
    "train_data['label'] = train_data['label'].map(labels)"
   ]
  },
  {
   "cell_type": "code",
   "execution_count": 11,
   "metadata": {},
   "outputs": [],
   "source": [
    "# Создадим функцию, приводящую текст к нижнему регистру и очищающую его от знаков пунктуации\n",
    "def get_words(text):\n",
    "    '''\n",
    "        Функция get_words(text) возвращает список слов текста в нижнем регистре, игнорируя знаки пунктуации.\n",
    "        Аргументы:\n",
    "            text - строка с текстом\n",
    "        Результат:\n",
    "            список слов (python list)\n",
    "        Пример испольования:\n",
    "            get_words('Hello, world!')\n",
    "        вернет:\n",
    "            ['hello', 'world']\n",
    "    '''\n",
    "    clean_text = text.lower()\n",
    "    clean_text = ''.join(c for c in clean_text if c not in string.punctuation)\n",
    "    words = clean_text.split()\n",
    "    return words"
   ]
  },
  {
   "cell_type": "code",
   "execution_count": 12,
   "metadata": {},
   "outputs": [],
   "source": [
    "def calculate_word_frequencies(body, label):\n",
    "    '''\n",
    "        Функция calculate_word_frequencies(body, label) заполняет словари\n",
    "        spam_words и good_words, содержащие данные о количестве вхождений\n",
    "        слов в тексты, помеченные как спам и не спам соответственно.\n",
    "        Также эта функция обновляет справочник количеств слов words_count.\n",
    "        Аргументы:\n",
    "            body - текст\n",
    "            label - один из двух вариантов констант SPAM (равносильно True)\n",
    "            и NOT_SPAM (равносильно False)\n",
    "        Возврат:\n",
    "            Функция ничего не возвращает. Только меняет глобальные переменные\n",
    "            spam_words, good_words, words_count.\n",
    "    '''\n",
    "    \n",
    "    # Получим списки слов из текста\n",
    "    words = get_words(body)\n",
    "    \n",
    "    # Обновим дaнные в счетчиках\n",
    "    if label == SPAM:\n",
    "        # Обновим счетчик текстов, содержащих спам\n",
    "        probs['spam_texts_count'] += 1\n",
    "        \n",
    "        # Обновим счетчик слов сообщений, содержащих спам\n",
    "        words_count['spam'] += len(words)\n",
    "        \n",
    "        # Обновим счетчики для каждого слова\n",
    "        for word in words:\n",
    "            try:\n",
    "                spam_words[word] += 1\n",
    "            except:\n",
    "                spam_words[word] = 1\n",
    "    else:\n",
    "        # Обновим счетчик текстов, не содержащих спам\n",
    "        probs['good_texts_count'] += 1\n",
    "        \n",
    "        # Обновим счетчик слов сообщений, не содержащих спам\n",
    "        words_count['good'] += len(words)\n",
    "        \n",
    "        # Обновим счетчики для каждого слова\n",
    "        for word in words:\n",
    "            try:\n",
    "                good_words[word] += 1\n",
    "            except:\n",
    "                good_words[word] = 1    "
   ]
  },
  {
   "cell_type": "code",
   "execution_count": 13,
   "metadata": {},
   "outputs": [],
   "source": [
    "def train(train_data):\n",
    "    # Заполним справочники\n",
    "    for data in train_data:\n",
    "        calculate_word_frequencies(*data)\n",
    "    \n",
    "    # Вычислим вероятности\n",
    "    texts_count = probs['spam_texts_count'] + probs['good_texts_count']\n",
    "    probs['pA'] = np.longdouble(probs['spam_texts_count']) / np.longdouble(texts_count)\n",
    "    probs['pNotA'] = np.longdouble(probs['good_texts_count']) / np.longdouble(texts_count)"
   ]
  },
  {
   "cell_type": "code",
   "execution_count": 14,
   "metadata": {},
   "outputs": [],
   "source": [
    "train(zip(train_data['email'], train_data['label']))"
   ]
  },
  {
   "cell_type": "code",
   "execution_count": 15,
   "metadata": {},
   "outputs": [
    {
     "data": {
      "text/plain": [
       "{'spam_texts_count': 499,\n",
       " 'good_texts_count': 2500,\n",
       " 'pA': 0.16638879626542180726,\n",
       " 'pNotA': 0.83361120373457819275}"
      ]
     },
     "execution_count": 15,
     "metadata": {},
     "output_type": "execute_result"
    }
   ],
   "source": [
    "probs"
   ]
  },
  {
   "cell_type": "code",
   "execution_count": 16,
   "metadata": {},
   "outputs": [],
   "source": [
    "def calculate_P_Bi_A(word, label):\n",
    "    '''\n",
    "        Функция calculate_P_Bi_A(word, label) возвращает вероятность того,\n",
    "        что слово word встретится в сообщении содержащем спам, при label == SPAM,\n",
    "        или вероятность того, что слово встретится в сообщении не содержащем спам,\n",
    "        при label != SPAM\n",
    "    '''\n",
    "    if label == SPAM:\n",
    "        try:\n",
    "            word_count = spam_words[word]\n",
    "        except:\n",
    "            word_count = 1\n",
    "            spam_words[word] = 1\n",
    "#             words_count['spam'] += 1\n",
    "        return np.longdouble(word_count) / np.longdouble(words_count['spam'])\n",
    "    else:\n",
    "        try:\n",
    "            word_count = good_words[word]\n",
    "        except:\n",
    "            word_count = 1\n",
    "            good_words[word] = 1\n",
    "#             words_count['good'] += 1\n",
    "        return np.longdouble(word_count) / np.longdouble(words_count['good'])"
   ]
  },
  {
   "cell_type": "code",
   "execution_count": 17,
   "metadata": {},
   "outputs": [],
   "source": [
    "def calculate_P_B_A(text, label):\n",
    "    '''\n",
    "        Функция calculate_P_B_A(text, label) возвращает вероятность спама для строки text\n",
    "        при label == SPAM и вероятность не спама в противном случае\n",
    "    '''\n",
    "    # Сначала получим список слов\n",
    "    words = get_words(text)\n",
    "    \n",
    "    # Вычисляем общую вероятность перемножением вероятностей по каждому слову\n",
    "    # Что равнозначно сложению натуральных логарифмов вероятностей\n",
    "    prob_ln = 0\n",
    "    for word in words:\n",
    "        prob_ln += np.log(calculate_P_Bi_A(word, label))\n",
    "    \n",
    "    return prob_ln"
   ]
  },
  {
   "cell_type": "code",
   "execution_count": 18,
   "metadata": {},
   "outputs": [],
   "source": [
    "def classify(email):\n",
    "    spam_prob_ln = calculate_P_B_A(email, SPAM) + np.log(np.longdouble(probs['pA']))\n",
    "    not_spam_prob_ln = calculate_P_B_A(email, NOT_SPAM) + np.log(np.longdouble(probs['pNotA']))\n",
    "    return spam_prob_ln > not_spam_prob_ln"
   ]
  },
  {
   "cell_type": "code",
   "execution_count": 19,
   "metadata": {},
   "outputs": [],
   "source": [
    "train_data['spam'] = train_data['email'].apply(classify)"
   ]
  },
  {
   "cell_type": "code",
   "execution_count": 20,
   "metadata": {},
   "outputs": [
    {
     "data": {
      "text/html": [
       "<div>\n",
       "<style scoped>\n",
       "    .dataframe tbody tr th:only-of-type {\n",
       "        vertical-align: middle;\n",
       "    }\n",
       "\n",
       "    .dataframe tbody tr th {\n",
       "        vertical-align: top;\n",
       "    }\n",
       "\n",
       "    .dataframe thead th {\n",
       "        text-align: right;\n",
       "    }\n",
       "</style>\n",
       "<table border=\"1\" class=\"dataframe\">\n",
       "  <thead>\n",
       "    <tr style=\"text-align: right;\">\n",
       "      <th></th>\n",
       "      <th>email</th>\n",
       "      <th>label</th>\n",
       "      <th>spam</th>\n",
       "    </tr>\n",
       "  </thead>\n",
       "  <tbody>\n",
       "    <tr>\n",
       "      <th>0</th>\n",
       "      <td>date wed NUMBER aug NUMBER NUMBER NUMBER NUMB...</td>\n",
       "      <td>False</td>\n",
       "      <td>False</td>\n",
       "    </tr>\n",
       "    <tr>\n",
       "      <th>1</th>\n",
       "      <td>martin a posted tassos papadopoulos the greek ...</td>\n",
       "      <td>False</td>\n",
       "      <td>False</td>\n",
       "    </tr>\n",
       "    <tr>\n",
       "      <th>2</th>\n",
       "      <td>man threatens explosion in moscow thursday aug...</td>\n",
       "      <td>False</td>\n",
       "      <td>False</td>\n",
       "    </tr>\n",
       "    <tr>\n",
       "      <th>3</th>\n",
       "      <td>klez the virus that won t die already the most...</td>\n",
       "      <td>False</td>\n",
       "      <td>False</td>\n",
       "    </tr>\n",
       "    <tr>\n",
       "      <th>4</th>\n",
       "      <td>in adding cream to spaghetti carbonara which ...</td>\n",
       "      <td>False</td>\n",
       "      <td>False</td>\n",
       "    </tr>\n",
       "  </tbody>\n",
       "</table>\n",
       "</div>"
      ],
      "text/plain": [
       "                                               email  label   spam\n",
       "0   date wed NUMBER aug NUMBER NUMBER NUMBER NUMB...  False  False\n",
       "1  martin a posted tassos papadopoulos the greek ...  False  False\n",
       "2  man threatens explosion in moscow thursday aug...  False  False\n",
       "3  klez the virus that won t die already the most...  False  False\n",
       "4   in adding cream to spaghetti carbonara which ...  False  False"
      ]
     },
     "execution_count": 20,
     "metadata": {},
     "output_type": "execute_result"
    }
   ],
   "source": [
    "train_data.head()"
   ]
  },
  {
   "cell_type": "code",
   "execution_count": 21,
   "metadata": {},
   "outputs": [
    {
     "name": "stdout",
     "output_type": "stream",
     "text": [
      "Точность модели: 99.17%\n"
     ]
    }
   ],
   "source": [
    "accuracy = sum(train_data['label'] == train_data['spam']) / len(train_data)\n",
    "print(f'Точность модели: {accuracy:.2%}')"
   ]
  },
  {
   "cell_type": "code",
   "execution_count": 22,
   "metadata": {},
   "outputs": [],
   "source": [
    "# Previous accuracy = 99.17%"
   ]
  },
  {
   "cell_type": "code",
   "execution_count": 23,
   "metadata": {},
   "outputs": [],
   "source": [
    "text1 = 'Hi, My name is Warren E. Buffett an American business magnate, investor and philanthropist. am the most successful investor in the world. I believe strongly in‘giving while living’ I had one idea that never changed in my mind? that you should use your wealth to help people and i have decided to give {$1,500,000.00} One Million Five Hundred Thousand United Dollars, to randomly selected individuals worldwide. On receipt of this email, you should count yourself as the lucky individual. Your email address was chosen online while searching at random. Kindly get back to me at your earliest convenience before i travel to japan for my treatment , so I know your email address is valid. Thank you for accepting our offer, we are indeed grateful You Can Google my name for more information: God bless you. Best Regard Mr.Warren E. Buffett Billionaire investor !'\n",
    "text2 = \"Hi guys I want to build a website like REDACTED and I wanted to get your perspective of whether that site is good from the users' perspective before I go ahead and build something similar. I think that the design of the site is very modern and nice but I am not sure how people would react to a similar site? I look forward to your feedback. Many thanks!\"\n",
    "text3 = 'As a result of your application for the position of Data Engineer, I would like to invite you to attend an interview on May 30, at 9 a.m. at our office in Washington, DC. You will have an interview with the department manager, Moris Peterson. The interview will last about 45 minutes. If the date or time of the interview is inconvenient, please contact me by phone or email to arrange another appointment. We look forward to seeing you. '"
   ]
  },
  {
   "cell_type": "code",
   "execution_count": 24,
   "metadata": {},
   "outputs": [
    {
     "data": {
      "text/plain": [
       "True"
      ]
     },
     "execution_count": 24,
     "metadata": {},
     "output_type": "execute_result"
    }
   ],
   "source": [
    "classify(text1)"
   ]
  },
  {
   "cell_type": "code",
   "execution_count": 25,
   "metadata": {},
   "outputs": [
    {
     "data": {
      "text/plain": [
       "False"
      ]
     },
     "execution_count": 25,
     "metadata": {},
     "output_type": "execute_result"
    }
   ],
   "source": [
    "classify(text2)"
   ]
  },
  {
   "cell_type": "code",
   "execution_count": 26,
   "metadata": {},
   "outputs": [
    {
     "data": {
      "text/plain": [
       "True"
      ]
     },
     "execution_count": 26,
     "metadata": {},
     "output_type": "execute_result"
    }
   ],
   "source": [
    "classify(text3)"
   ]
  },
  {
   "cell_type": "code",
   "execution_count": 27,
   "metadata": {},
   "outputs": [
    {
     "data": {
      "text/plain": [
       "-450.77445131479660262"
      ]
     },
     "execution_count": 27,
     "metadata": {},
     "output_type": "execute_result"
    }
   ],
   "source": [
    "calculate_P_B_A(text2, NOT_SPAM)"
   ]
  },
  {
   "cell_type": "code",
   "execution_count": 28,
   "metadata": {},
   "outputs": [
    {
     "data": {
      "text/plain": [
       "-467.5232691957518436"
      ]
     },
     "execution_count": 28,
     "metadata": {},
     "output_type": "execute_result"
    }
   ],
   "source": [
    "calculate_P_B_A(text2, SPAM)"
   ]
  },
  {
   "cell_type": "code",
   "execution_count": null,
   "metadata": {},
   "outputs": [],
   "source": []
  }
 ],
 "metadata": {
  "kernelspec": {
   "display_name": "Python 3",
   "language": "python",
   "name": "python3"
  },
  "language_info": {
   "codemirror_mode": {
    "name": "ipython",
    "version": 3
   },
   "file_extension": ".py",
   "mimetype": "text/x-python",
   "name": "python",
   "nbconvert_exporter": "python",
   "pygments_lexer": "ipython3",
   "version": "3.7.4"
  }
 },
 "nbformat": 4,
 "nbformat_minor": 4
}

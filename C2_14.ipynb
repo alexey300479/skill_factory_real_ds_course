{
 "cells": [
  {
   "cell_type": "markdown",
   "metadata": {},
   "source": [
    "#### Task 1."
   ]
  },
  {
   "cell_type": "markdown",
   "metadata": {},
   "source": [
    "У нас есть функция group_values(db, value_key, group_key, step). Она должна группировать объекты из db по ключу group_key с шагом step. В результат попадает только значение аттрибута value_key.\n",
    "\n",
    "Это похоже на гистограмму, когда мы раскладываем значения по корзинам определённого размера. Скажем, у нас есть пользователи:"
   ]
  },
  {
   "cell_type": "markdown",
   "metadata": {},
   "source": [
    "``` python\n",
    "user_db = [\n",
    "    {\"name\": \"Elena\", \"age\": 19, \"salary\": 80_000},\n",
    "    {\"name\": \"Sergey\", \"age\": 31, \"salary\": 160_000},\n",
    "    {\"name\": \"Olga\", \"age\": 33, \"salary\": 170_000},\n",
    "    {\"name\": \"Vadim\", \"age\": 17, \"salary\": 45_000}\n",
    "]\n",
    "```"
   ]
  },
  {
   "cell_type": "markdown",
   "metadata": {},
   "source": [
    "Мы хотим сгруппировать их зарплаты(salary) по возрасту(age) с шагом в 10 лет. Получится"
   ]
  },
  {
   "cell_type": "markdown",
   "metadata": {},
   "source": [
    "``` python\n",
    "group_values(user_db, \"salary\", \"age\", 10)\n",
    "# => \n",
    "# {\n",
    "#     10: [80_000, 45_000],\n",
    "#     30: [160_000, 170_000]\n",
    "# }\n",
    "```"
   ]
  },
  {
   "cell_type": "markdown",
   "metadata": {},
   "source": [
    "Сейчас функция возвращает что-то не то. Исправьте это, пользуясь pdb. Для этого вам нужно скопировать код на свой компьютер и запустить либо в Python, либо в Jupyter. Входной формат именно такой, как указан в примере user_db"
   ]
  },
  {
   "cell_type": "code",
   "execution_count": 5,
   "metadata": {},
   "outputs": [
    {
     "data": {
      "text/plain": [
       "defaultdict(list, {10: [80000, 45000], 30: [160000, 170000]})"
      ]
     },
     "execution_count": 5,
     "metadata": {},
     "output_type": "execute_result"
    }
   ],
   "source": [
    "import pdb\n",
    "from collections import defaultdict\n",
    "\n",
    "def group_values(db, value_key, group_key, step):\n",
    "    grouped = defaultdict(list)#; pdb.set_trace() \n",
    "    for item in db:\n",
    "        # grouped[(item[group_key] // step) * 10].append(item[value_key])\n",
    "        grouped[(item[group_key] // step) * step].append(item[value_key])\n",
    "    return grouped\n",
    "\n",
    "user_db = [\n",
    "    {\"name\": \"Elena\", \"age\": 19, \"salary\": 80_000},\n",
    "    {\"name\": \"Sergey\", \"age\": 31, \"salary\": 160_000},\n",
    "    {\"name\": \"Olga\", \"age\": 33, \"salary\": 170_000},\n",
    "    {\"name\": \"Vadim\", \"age\": 17, \"salary\": 45_000}\n",
    "]\n",
    "\n",
    "group_values(user_db, \"salary\", \"age\", 10)"
   ]
  },
  {
   "cell_type": "code",
   "execution_count": null,
   "metadata": {},
   "outputs": [],
   "source": []
  }
 ],
 "metadata": {
  "kernelspec": {
   "display_name": "Python 3",
   "language": "python",
   "name": "python3"
  },
  "language_info": {
   "codemirror_mode": {
    "name": "ipython",
    "version": 3
   },
   "file_extension": ".py",
   "mimetype": "text/x-python",
   "name": "python",
   "nbconvert_exporter": "python",
   "pygments_lexer": "ipython3",
   "version": "3.6.1"
  }
 },
 "nbformat": 4,
 "nbformat_minor": 2
}

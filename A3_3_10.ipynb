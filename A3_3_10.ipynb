{
 "cells": [
  {
   "cell_type": "markdown",
   "metadata": {},
   "source": [
    "### Part 1. Common code"
   ]
  },
  {
   "cell_type": "markdown",
   "metadata": {},
   "source": [
    "#### Creating a list of dictionaies with overall data fields from the original data file"
   ]
  },
  {
   "cell_type": "code",
   "execution_count": 2,
   "metadata": {},
   "outputs": [],
   "source": [
    "import re"
   ]
  },
  {
   "cell_type": "code",
   "execution_count": 12,
   "metadata": {},
   "outputs": [],
   "source": [
    "pattern = re.compile(r'\\d+')"
   ]
  },
  {
   "cell_type": "code",
   "execution_count": 13,
   "metadata": {},
   "outputs": [],
   "source": [
    "# Creating a lists of fields and data rows \n",
    "data_rows = []\n",
    "\n",
    "with open('StudentsPerformance.csv') as f:\n",
    "\n",
    "    for line in f:\n",
    "        info = line.split(',')\n",
    "        if info[0] == '\"gender\"':\n",
    "            data_fields = [field[1:-1] for field in info]\n",
    "            continue\n",
    "        else:\n",
    "            data_rows.append(info)"
   ]
  },
  {
   "cell_type": "code",
   "execution_count": 14,
   "metadata": {},
   "outputs": [],
   "source": [
    "# Creating the list of dictionaries\n",
    "data_dict_list = []\n",
    "\n",
    "columns_cnt = len(data_fields)\n",
    "\n",
    "for row in data_rows:\n",
    "    data_row_dict = dict(zip(data_fields, row))\n",
    "    for field in data_fields:\n",
    "        search_result = pattern.search(data_row_dict[field])\n",
    "        if search_result:\n",
    "            data_row_dict[field] = int(search_result[0])\n",
    "        else:\n",
    "            data_row_dict[field] = data_row_dict[field][1:-1]\n",
    "    data_dict_list.append(data_row_dict)"
   ]
  },
  {
   "cell_type": "code",
   "execution_count": 12,
   "metadata": {},
   "outputs": [],
   "source": [
    "def check_matches(pattern, strings):\n",
    "    pattern = re.compile(pattern)\n",
    "    results = [pattern.match(string)!=None for string in strings]\n",
    "    return dict(zip(strings, results))"
   ]
  },
  {
   "cell_type": "code",
   "execution_count": 15,
   "metadata": {},
   "outputs": [
    {
     "data": {
      "text/plain": [
       "[{'gender': 'female',\n",
       "  'race/ethnicity': 'group B',\n",
       "  'parental level of education': \"bachelor's degree\",\n",
       "  'lunch': 'standard',\n",
       "  'test preparation course': 'none',\n",
       "  'math score': 72,\n",
       "  'reading score': 72,\n",
       "  'writing score\"': 74}]"
      ]
     },
     "execution_count": 15,
     "metadata": {},
     "output_type": "execute_result"
    }
   ],
   "source": [
    "data_dict_list[:1]"
   ]
  },
  {
   "cell_type": "markdown",
   "metadata": {},
   "source": [
    "### Task 1."
   ]
  },
  {
   "cell_type": "markdown",
   "metadata": {},
   "source": [
    "Дана строковая переменная с именем string, содержащая одно слово на неизвестном языке. Напишите код, с помощью которого можно перевернуть эту переменную задом наперёд, т.е. получить слово, которое получается при чтении исходного слова справа налево.\n",
    "\n",
    "Напишите ваш код в одну строку без пробелов. Не присваивайте результат работы кода никакой переменной"
   ]
  },
  {
   "cell_type": "markdown",
   "metadata": {},
   "source": [
    "### Common code to check ourselves"
   ]
  },
  {
   "cell_type": "code",
   "execution_count": 16,
   "metadata": {},
   "outputs": [],
   "source": [
    "string = 'string'"
   ]
  },
  {
   "cell_type": "markdown",
   "metadata": {},
   "source": [
    "### Solution:"
   ]
  },
  {
   "cell_type": "code",
   "execution_count": 17,
   "metadata": {
    "scrolled": true
   },
   "outputs": [
    {
     "data": {
      "text/plain": [
       "'gnirts'"
      ]
     },
     "execution_count": 17,
     "metadata": {},
     "output_type": "execute_result"
    }
   ],
   "source": [
    "string[::-1]"
   ]
  },
  {
   "cell_type": "markdown",
   "metadata": {},
   "source": [
    "### Task 2."
   ]
  },
  {
   "cell_type": "markdown",
   "metadata": {},
   "source": [
    "Отметьте истинные утверждения:\n",
    "- 'Hello' in 'Hello, Dolly!'.lower()\n",
    "- 'ARE'.lower() in 'how are you?'.upper()\n",
    "- 'your' in 'WhAt Is YoUr NaMe?'.lower()\n",
    "- 'apples'.upper() in 'I like APPLES'.upper()"
   ]
  },
  {
   "cell_type": "markdown",
   "metadata": {},
   "source": [
    "### Solution:"
   ]
  },
  {
   "cell_type": "code",
   "execution_count": 18,
   "metadata": {},
   "outputs": [
    {
     "data": {
      "text/plain": [
       "False"
      ]
     },
     "execution_count": 18,
     "metadata": {},
     "output_type": "execute_result"
    }
   ],
   "source": [
    "'Hello' in 'Hello, Dolly!'.lower()"
   ]
  },
  {
   "cell_type": "code",
   "execution_count": 20,
   "metadata": {},
   "outputs": [
    {
     "data": {
      "text/plain": [
       "False"
      ]
     },
     "execution_count": 20,
     "metadata": {},
     "output_type": "execute_result"
    }
   ],
   "source": [
    "'ARE'.lower() in 'how are you?'.upper()"
   ]
  },
  {
   "cell_type": "code",
   "execution_count": 21,
   "metadata": {},
   "outputs": [
    {
     "data": {
      "text/plain": [
       "True"
      ]
     },
     "execution_count": 21,
     "metadata": {},
     "output_type": "execute_result"
    }
   ],
   "source": [
    "'your' in 'WhAt Is YoUr NaMe?'.lower()"
   ]
  },
  {
   "cell_type": "code",
   "execution_count": 22,
   "metadata": {},
   "outputs": [
    {
     "data": {
      "text/plain": [
       "True"
      ]
     },
     "execution_count": 22,
     "metadata": {},
     "output_type": "execute_result"
    }
   ],
   "source": [
    "'apples'.upper() in 'I like APPLES'.upper()"
   ]
  },
  {
   "cell_type": "markdown",
   "metadata": {},
   "source": [
    "### Task 3."
   ]
  },
  {
   "cell_type": "markdown",
   "metadata": {},
   "source": [
    "Отметьте варианты кода, после выполнения которых в переменной Х будет храниться вещественное число. Если иное не предлагается в варианте ответа, то считаем, что X ='55,66'."
   ]
  },
  {
   "cell_type": "markdown",
   "metadata": {},
   "source": [
    "- X = 3.14\n",
    "- float(X.replace(',', '.'))\n",
    "- X = int(X.replace(',', '.'))\n",
    "- X = float(X.replace(',', '.'))"
   ]
  },
  {
   "cell_type": "markdown",
   "metadata": {},
   "source": [
    "### Solution"
   ]
  },
  {
   "cell_type": "code",
   "execution_count": 26,
   "metadata": {},
   "outputs": [
    {
     "data": {
      "text/plain": [
       "True"
      ]
     },
     "execution_count": 26,
     "metadata": {},
     "output_type": "execute_result"
    }
   ],
   "source": [
    "X = 3.14\n",
    "type(X) == float"
   ]
  },
  {
   "cell_type": "markdown",
   "metadata": {},
   "source": [
    "##### Conclusion: this way is right. Great!!!"
   ]
  },
  {
   "cell_type": "code",
   "execution_count": 27,
   "metadata": {},
   "outputs": [],
   "source": [
    "X = '55,66'"
   ]
  },
  {
   "cell_type": "code",
   "execution_count": 28,
   "metadata": {},
   "outputs": [
    {
     "data": {
      "text/plain": [
       "True"
      ]
     },
     "execution_count": 28,
     "metadata": {},
     "output_type": "execute_result"
    }
   ],
   "source": [
    "type(float(X.replace(',', '.'))) == float"
   ]
  },
  {
   "cell_type": "markdown",
   "metadata": {},
   "source": [
    "##### Conclusion: it seems to be right way, but there is no assignment to X variable. So this way is wrong."
   ]
  },
  {
   "cell_type": "code",
   "execution_count": 29,
   "metadata": {
    "scrolled": true
   },
   "outputs": [
    {
     "ename": "ValueError",
     "evalue": "invalid literal for int() with base 10: '55.66'",
     "output_type": "error",
     "traceback": [
      "\u001b[0;31m---------------------------------------------------------------------------\u001b[0m",
      "\u001b[0;31mValueError\u001b[0m                                Traceback (most recent call last)",
      "\u001b[0;32m<ipython-input-29-90d8326b24b9>\u001b[0m in \u001b[0;36m<module>\u001b[0;34m\u001b[0m\n\u001b[0;32m----> 1\u001b[0;31m \u001b[0mtype\u001b[0m\u001b[0;34m(\u001b[0m\u001b[0mint\u001b[0m\u001b[0;34m(\u001b[0m\u001b[0mX\u001b[0m\u001b[0;34m.\u001b[0m\u001b[0mreplace\u001b[0m\u001b[0;34m(\u001b[0m\u001b[0;34m','\u001b[0m\u001b[0;34m,\u001b[0m \u001b[0;34m'.'\u001b[0m\u001b[0;34m)\u001b[0m\u001b[0;34m)\u001b[0m\u001b[0;34m)\u001b[0m \u001b[0;34m==\u001b[0m \u001b[0mfloat\u001b[0m\u001b[0;34m\u001b[0m\u001b[0m\n\u001b[0m",
      "\u001b[0;31mValueError\u001b[0m: invalid literal for int() with base 10: '55.66'"
     ]
    }
   ],
   "source": [
    "type(int(X.replace(',', '.'))) == float"
   ]
  },
  {
   "cell_type": "markdown",
   "metadata": {},
   "source": [
    "##### Conclusion: this way is totally wrong. Attempt to convert '55.66' to int raises the 'ValueError' runtime exception."
   ]
  },
  {
   "cell_type": "code",
   "execution_count": 32,
   "metadata": {},
   "outputs": [],
   "source": [
    "X = '55,66'"
   ]
  },
  {
   "cell_type": "code",
   "execution_count": 33,
   "metadata": {},
   "outputs": [
    {
     "data": {
      "text/plain": [
       "True"
      ]
     },
     "execution_count": 33,
     "metadata": {},
     "output_type": "execute_result"
    }
   ],
   "source": [
    "X = float(X.replace(',', '.'))\n",
    "type(X) == float"
   ]
  },
  {
   "cell_type": "markdown",
   "metadata": {},
   "source": [
    "##### Conclusion: this way is right. Great!!!"
   ]
  },
  {
   "cell_type": "markdown",
   "metadata": {},
   "source": [
    "### Task 4."
   ]
  },
  {
   "cell_type": "markdown",
   "metadata": {},
   "source": [
    "Отметьте символ, который не используется в качестве символа-джокера (метасимвола) при работе с регулярными выражениями.\n",
    "\n",
    "- Восклицательный знак - ! верно\n",
    "- Вопросительный знак - ?\n",
    "- Точка - .\n",
    "- Звёздочка - *\n",
    "- Плюс - +"
   ]
  },
  {
   "cell_type": "markdown",
   "metadata": {},
   "source": [
    "### Solution"
   ]
  },
  {
   "cell_type": "markdown",
   "metadata": {},
   "source": [
    "##### Conclusion: '!' is not a regular expressions joker symbol."
   ]
  },
  {
   "cell_type": "markdown",
   "metadata": {},
   "source": [
    "### Task 5."
   ]
  },
  {
   "cell_type": "markdown",
   "metadata": {},
   "source": [
    "Отметьте строки, в которых есть совпадения со следующим шаблоном:\n",
    "\n",
    "r'[АЕИ][а-я]+\\s\\-\\s[а-я]+'\n",
    "\n",
    "- Африка - моя любовь!\n",
    "- Арбуз полезен для здоровья.\n",
    "- А - первая буква в алфавите.\n",
    "- Ах - это вам не ох!"
   ]
  },
  {
   "cell_type": "markdown",
   "metadata": {},
   "source": [
    "### Solution"
   ]
  },
  {
   "cell_type": "code",
   "execution_count": 18,
   "metadata": {},
   "outputs": [
    {
     "data": {
      "text/plain": [
       "{'Африка - моя любовь!': True,\n",
       " 'Арбуз полезен для здоровья.': False,\n",
       " 'А - первая буква в алфавите.': False,\n",
       " 'Ах - это вам не ох!': True}"
      ]
     },
     "execution_count": 18,
     "metadata": {},
     "output_type": "execute_result"
    }
   ],
   "source": [
    "pattern = r'[АЕИ][а-я]+\\s\\-\\s[а-я]+'\n",
    "\n",
    "strings = [\n",
    "    'Африка - моя любовь!',\n",
    "    'Арбуз полезен для здоровья.',\n",
    "    'А - первая буква в алфавите.',\n",
    "    'Ах - это вам не ох!'\n",
    "]\n",
    "\n",
    "check_matches(pattern, strings)"
   ]
  },
  {
   "cell_type": "markdown",
   "metadata": {},
   "source": [
    "##### Conclusion: 1'st and 4'th ways are right."
   ]
  },
  {
   "cell_type": "markdown",
   "metadata": {},
   "source": [
    "### Task 6."
   ]
  },
  {
   "cell_type": "markdown",
   "metadata": {},
   "source": [
    "Отметьте строки, в которых есть совпадения со следующим шаблоном:\n",
    "\n",
    "r'\\W\\d*\\w+\\s!'\n",
    "\n",
    "- !13ff !\n",
    "- ~sss !\n",
    "- *123456789abcdefgh !\n",
    "- =13x !"
   ]
  },
  {
   "cell_type": "markdown",
   "metadata": {},
   "source": [
    "### Solution"
   ]
  },
  {
   "cell_type": "code",
   "execution_count": 19,
   "metadata": {},
   "outputs": [
    {
     "data": {
      "text/plain": [
       "{'!13ff !': True, '~sss !': True, '*123456789abcdefgh !': True, '=13x !': True}"
      ]
     },
     "execution_count": 19,
     "metadata": {},
     "output_type": "execute_result"
    }
   ],
   "source": [
    "pattern = r'\\W\\d*\\w+\\s!'\n",
    "\n",
    "strings = [\n",
    "    '!13ff !',\n",
    "    '~sss !',\n",
    "    '*123456789abcdefgh !',\n",
    "    '=13x !'\n",
    "]\n",
    "\n",
    "check_matches(pattern, strings)"
   ]
  },
  {
   "cell_type": "markdown",
   "metadata": {},
   "source": [
    "##### Conclusion: all ways are right."
   ]
  },
  {
   "cell_type": "markdown",
   "metadata": {},
   "source": [
    "### Task 7."
   ]
  },
  {
   "cell_type": "markdown",
   "metadata": {},
   "source": [
    "Какое значение будет храниться в переменной secret после выполнения кода, представленного ниже?\n",
    "- None\n",
    "- [2, 2, 4]\n",
    "- ['2', '2', '4']\n",
    "- Пустой список верно\n",
    "- Пустой словарь"
   ]
  },
  {
   "cell_type": "markdown",
   "metadata": {},
   "source": [
    "### Solution"
   ]
  },
  {
   "cell_type": "code",
   "execution_count": 20,
   "metadata": {},
   "outputs": [],
   "source": [
    "import re\n",
    "pattern = re.compile('\\d\\d\\d')\n",
    "secret = pattern.findall('2 x 2 = 4') "
   ]
  },
  {
   "cell_type": "code",
   "execution_count": 21,
   "metadata": {
    "scrolled": false
   },
   "outputs": [
    {
     "data": {
      "text/plain": [
       "[]"
      ]
     },
     "execution_count": 21,
     "metadata": {},
     "output_type": "execute_result"
    }
   ],
   "source": [
    "secret"
   ]
  },
  {
   "cell_type": "markdown",
   "metadata": {},
   "source": [
    "##### Conclusion: the result is empty list."
   ]
  },
  {
   "cell_type": "markdown",
   "metadata": {},
   "source": [
    "### Task 8."
   ]
  },
  {
   "cell_type": "markdown",
   "metadata": {},
   "source": [
    "Какой средний балл, полученный мальчиками на экзамене по чтению? Ответ округлите до трёх цифр после запятой."
   ]
  },
  {
   "cell_type": "markdown",
   "metadata": {},
   "source": [
    "### Solution"
   ]
  },
  {
   "cell_type": "code",
   "execution_count": 36,
   "metadata": {
    "scrolled": false
   },
   "outputs": [
    {
     "name": "stdout",
     "output_type": "stream",
     "text": [
      "Средний бал, полученный мальчиками на экзамене по чтению: 65.473\n"
     ]
    }
   ],
   "source": [
    "males_cnt = sum(data_row['gender'] == 'male'\n",
    "                for data_row in data_dict_list)\n",
    "males_reading_score_sum = sum(data_row['reading score'] for data_row in data_dict_list if data_row['gender'] == 'male')\n",
    "males_reading_score_avg = males_reading_score_sum / males_cnt\n",
    "print(f'Средний бал, полученный мальчиками на экзамене по чтению: {males_reading_score_avg:.3f}')"
   ]
  },
  {
   "cell_type": "markdown",
   "metadata": {},
   "source": [
    "#### Conclusion: average reading tests score for males is 65.473"
   ]
  },
  {
   "cell_type": "markdown",
   "metadata": {},
   "source": [
    "### Task 9."
   ]
  },
  {
   "cell_type": "markdown",
   "metadata": {},
   "source": [
    "Какой средний балл на экзамене по чтению набрали ученики, набравшие максимальный балл на экзамене по математике? Ответ округлите до трёх цифр после запятой."
   ]
  },
  {
   "cell_type": "code",
   "execution_count": 38,
   "metadata": {},
   "outputs": [
    {
     "name": "stdout",
     "output_type": "stream",
     "text": [
      "Средний балл теста на чтение мальчиков, сдавших математику на максимальные баллы: 97.857\n"
     ]
    }
   ],
   "source": [
    "max_math_score = 100\n",
    "top_math_score_males_cnt = 0\n",
    "top_math_score_males_reading_score_sum = 0\n",
    "for row in data_dict_list:\n",
    "    math_score = row['math score']\n",
    "    if math_score == max_math_score:\n",
    "        top_math_score_males_cnt += 1\n",
    "        top_math_score_males_reading_score_sum += row['reading score']\n",
    "        max_math_score = math_score\n",
    "\n",
    "top_math_score_males_reading_score_avg = top_math_score_males_reading_score_sum / top_math_score_males_cnt\n",
    "\n",
    "print(f'Средний балл теста на чтение мальчиков, сдавших математику на максимальные баллы: {top_math_score_males_reading_score_avg:.3f}')"
   ]
  },
  {
   "cell_type": "markdown",
   "metadata": {},
   "source": [
    "##### Conclusion: Average reading test score for males, who gain maximum scores on math tests is about 97.857. So, well mathematicians are strong readers as well."
   ]
  },
  {
   "cell_type": "code",
   "execution_count": 34,
   "metadata": {},
   "outputs": [
    {
     "data": {
      "text/plain": [
       "[{'gender': 'female',\n",
       "  'race/ethnicity': 'group B',\n",
       "  'parental level of education': \"bachelor's degree\",\n",
       "  'lunch': 'standard',\n",
       "  'test preparation course': 'none',\n",
       "  'math score': 72,\n",
       "  'reading score': 72,\n",
       "  'writing score\"': 74}]"
      ]
     },
     "execution_count": 34,
     "metadata": {},
     "output_type": "execute_result"
    }
   ],
   "source": [
    "data_dict_list[:1]"
   ]
  },
  {
   "cell_type": "markdown",
   "metadata": {},
   "source": [
    "### Task 10."
   ]
  },
  {
   "cell_type": "markdown",
   "metadata": {},
   "source": [
    "Какой средний балл на экзамене по письму набрали ученики, которые плохо победали перед экзаменом (lunch = free/reduced)? Ответ округлите до двух цифр после запятой."
   ]
  },
  {
   "cell_type": "code",
   "execution_count": 41,
   "metadata": {},
   "outputs": [
    {
     "name": "stdout",
     "output_type": "stream",
     "text": [
      "Cредний балл на экзамене по письму среди учеников, которые плохо победали перед экзаменом: 63.02\n"
     ]
    }
   ],
   "source": [
    "poor_lunch_males_cnt = 0\n",
    "poor_lunch_males_writing_scores_sum = 0\n",
    "\n",
    "for row in data_dict_list:\n",
    "    if row['lunch'] == 'free/reduced':\n",
    "        poor_lunch_males_cnt += 1\n",
    "        poor_lunch_males_writing_scores_sum += row['writing score\"']\n",
    "        \n",
    "poor_lunch_males_writing_scores_avg = poor_lunch_males_writing_scores_sum / poor_lunch_males_cnt\n",
    "\n",
    "print(f'Cредний балл на экзамене по письму среди учеников, которые плохо победали перед экзаменом: {poor_lunch_males_writing_scores_avg:.2f}')"
   ]
  },
  {
   "cell_type": "code",
   "execution_count": null,
   "metadata": {},
   "outputs": [],
   "source": []
  }
 ],
 "metadata": {
  "kernelspec": {
   "display_name": "Python 3",
   "language": "python",
   "name": "python3"
  },
  "language_info": {
   "codemirror_mode": {
    "name": "ipython",
    "version": 3
   },
   "file_extension": ".py",
   "mimetype": "text/x-python",
   "name": "python",
   "nbconvert_exporter": "python",
   "pygments_lexer": "ipython3",
   "version": "3.6.1"
  }
 },
 "nbformat": 4,
 "nbformat_minor": 2
}

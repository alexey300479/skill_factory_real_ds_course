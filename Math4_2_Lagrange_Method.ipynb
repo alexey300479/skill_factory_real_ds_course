{
 "cells": [
  {
   "cell_type": "code",
   "execution_count": 1,
   "metadata": {},
   "outputs": [],
   "source": [
    "from sympy import *"
   ]
  },
  {
   "cell_type": "code",
   "execution_count": 6,
   "metadata": {},
   "outputs": [],
   "source": [
    "x, y, w = symbols('x y w')"
   ]
  },
  {
   "cell_type": "code",
   "execution_count": 8,
   "metadata": {},
   "outputs": [
    {
     "name": "stdout",
     "output_type": "stream",
     "text": [
      "Анализируемая функция f  для переменных x,y :\n",
      " f =  x**2 + 9*x + y**2 + 6*y\n",
      "Ограничения:  x + y - 150 = 0\n",
      "Вспомогательная функция Лагранжа :\n",
      "  w*(x + y - 150) + x**2 + 9*x + y**2 + 6*y\n",
      "df/dx = w + 2*x + 9 = 0\n",
      "df/dy = w + 2*y + 6 = 0\n",
      "df/dw = x + y - 150 = 0\n",
      "Стационарная точка M(x,y,w):\n",
      " 74.25 , 75.75 , -157.5\n"
     ]
    }
   ],
   "source": [
    "g = 9*x + x**2 + 6*y + y**2\n",
    "print('Анализируемая функция f  для переменных x,y :\\n f = ', g)\n",
    "q = x + y - 150\n",
    "print('Ограничения: ', q,'= 0')\n",
    "f = 9*x + x**2 + 6*y + y**2 + w*(x + y - 150)\n",
    "print('Вспомогательная функция Лагранжа :\\n ',f)\n",
    "fx = f.diff(x)\n",
    "print('df/dx =',fx,'= 0')\n",
    "fy = f.diff(y)\n",
    "print('df/dy =',fy,'= 0')\n",
    "fw = f.diff(w)\n",
    "print('df/dw =',fw,'= 0')\n",
    "sols = solve([fx,fy,fw],x,y,w)\n",
    "print('Стационарная точка M(x,y,w):\\n',float(sols[x]),',',float(sols[y]),',',float(sols[w]))"
   ]
  },
  {
   "cell_type": "code",
   "execution_count": 11,
   "metadata": {},
   "outputs": [],
   "source": [
    "f = (x-2)**2 + (y-1)**2 + w*(x+y-1)"
   ]
  },
  {
   "cell_type": "code",
   "execution_count": 15,
   "metadata": {},
   "outputs": [
    {
     "data": {
      "text/latex": [
       "$\\displaystyle w + 2 x - 4$"
      ],
      "text/plain": [
       "w + 2*x - 4"
      ]
     },
     "execution_count": 15,
     "metadata": {},
     "output_type": "execute_result"
    }
   ],
   "source": [
    "fx = f.diff(x)\n",
    "fx"
   ]
  },
  {
   "cell_type": "code",
   "execution_count": 16,
   "metadata": {},
   "outputs": [
    {
     "data": {
      "text/latex": [
       "$\\displaystyle w + 2 y - 2$"
      ],
      "text/plain": [
       "w + 2*y - 2"
      ]
     },
     "execution_count": 16,
     "metadata": {},
     "output_type": "execute_result"
    }
   ],
   "source": [
    "fy = f.diff(y)\n",
    "fy"
   ]
  },
  {
   "cell_type": "code",
   "execution_count": 17,
   "metadata": {},
   "outputs": [
    {
     "data": {
      "text/latex": [
       "$\\displaystyle x + y - 1$"
      ],
      "text/plain": [
       "x + y - 1"
      ]
     },
     "execution_count": 17,
     "metadata": {},
     "output_type": "execute_result"
    }
   ],
   "source": [
    "fw = f.diff(w)\n",
    "fw"
   ]
  },
  {
   "cell_type": "code",
   "execution_count": 18,
   "metadata": {},
   "outputs": [],
   "source": [
    "sols = solve([fx, fy, fw], x, y, w)"
   ]
  },
  {
   "cell_type": "code",
   "execution_count": 19,
   "metadata": {},
   "outputs": [
    {
     "data": {
      "text/plain": [
       "{x: 1, y: 0, w: 2}"
      ]
     },
     "execution_count": 19,
     "metadata": {},
     "output_type": "execute_result"
    }
   ],
   "source": [
    "sols"
   ]
  },
  {
   "cell_type": "code",
   "execution_count": 21,
   "metadata": {},
   "outputs": [],
   "source": [
    "x, y, z, w = symbols('x y z w')"
   ]
  },
  {
   "cell_type": "code",
   "execution_count": 22,
   "metadata": {},
   "outputs": [],
   "source": [
    "f = 2*(x*y + x*z + y*z) + w*(x*y*z - 1)"
   ]
  },
  {
   "cell_type": "code",
   "execution_count": 23,
   "metadata": {},
   "outputs": [
    {
     "data": {
      "text/latex": [
       "$\\displaystyle w y z + 2 y + 2 z$"
      ],
      "text/plain": [
       "w*y*z + 2*y + 2*z"
      ]
     },
     "execution_count": 23,
     "metadata": {},
     "output_type": "execute_result"
    }
   ],
   "source": [
    "fx = f.diff(x)\n",
    "fx"
   ]
  },
  {
   "cell_type": "code",
   "execution_count": 24,
   "metadata": {},
   "outputs": [
    {
     "data": {
      "text/latex": [
       "$\\displaystyle w x z + 2 x + 2 z$"
      ],
      "text/plain": [
       "w*x*z + 2*x + 2*z"
      ]
     },
     "execution_count": 24,
     "metadata": {},
     "output_type": "execute_result"
    }
   ],
   "source": [
    "fy = f.diff(y)\n",
    "fy"
   ]
  },
  {
   "cell_type": "code",
   "execution_count": 26,
   "metadata": {},
   "outputs": [
    {
     "data": {
      "text/latex": [
       "$\\displaystyle w x y + 2 x + 2 y$"
      ],
      "text/plain": [
       "w*x*y + 2*x + 2*y"
      ]
     },
     "execution_count": 26,
     "metadata": {},
     "output_type": "execute_result"
    }
   ],
   "source": [
    "fz = f.diff(z)\n",
    "fz"
   ]
  },
  {
   "cell_type": "code",
   "execution_count": 27,
   "metadata": {},
   "outputs": [
    {
     "data": {
      "text/latex": [
       "$\\displaystyle x y z - 1$"
      ],
      "text/plain": [
       "x*y*z - 1"
      ]
     },
     "execution_count": 27,
     "metadata": {},
     "output_type": "execute_result"
    }
   ],
   "source": [
    "fw = f.diff(w)\n",
    "fw"
   ]
  },
  {
   "cell_type": "code",
   "execution_count": 28,
   "metadata": {},
   "outputs": [],
   "source": [
    "solves = solve([fx, fy, fz, fw], x, y, z, w)"
   ]
  },
  {
   "cell_type": "code",
   "execution_count": 29,
   "metadata": {},
   "outputs": [
    {
     "data": {
      "text/plain": [
       "[(1, 1, 1, -4),\n",
       " (-1/2 - sqrt(3)*I/2, -1/2 - sqrt(3)*I/2, -1/2 - sqrt(3)*I/2, 2 - 2*sqrt(3)*I),\n",
       " (-1/2 + sqrt(3)*I/2, -1/2 + sqrt(3)*I/2, -1/2 + sqrt(3)*I/2, 2 + 2*sqrt(3)*I)]"
      ]
     },
     "execution_count": 29,
     "metadata": {},
     "output_type": "execute_result"
    }
   ],
   "source": [
    "solves"
   ]
  },
  {
   "cell_type": "code",
   "execution_count": null,
   "metadata": {},
   "outputs": [],
   "source": []
  }
 ],
 "metadata": {
  "kernelspec": {
   "display_name": "Python 3",
   "language": "python",
   "name": "python3"
  },
  "language_info": {
   "codemirror_mode": {
    "name": "ipython",
    "version": 3
   },
   "file_extension": ".py",
   "mimetype": "text/x-python",
   "name": "python",
   "nbconvert_exporter": "python",
   "pygments_lexer": "ipython3",
   "version": "3.7.4"
  }
 },
 "nbformat": 4,
 "nbformat_minor": 4
}

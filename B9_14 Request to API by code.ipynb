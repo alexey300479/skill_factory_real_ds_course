{
 "cells": [
  {
   "cell_type": "code",
   "execution_count": 1,
   "metadata": {},
   "outputs": [],
   "source": [
    "import requests"
   ]
  },
  {
   "cell_type": "code",
   "execution_count": 2,
   "metadata": {},
   "outputs": [],
   "source": [
    "token = 'e8b9a6e6e8b9a6e6e8b9a6e625e8d65b26ee8b9e8b9a6e6b6e05e02384bb4ba4bedff06'"
   ]
  },
  {
   "cell_type": "code",
   "execution_count": 3,
   "metadata": {},
   "outputs": [],
   "source": [
    "url = 'https://api.vk.com/method/users.get'"
   ]
  },
  {
   "cell_type": "code",
   "execution_count": 4,
   "metadata": {},
   "outputs": [],
   "source": [
    "params = {'user_id': 1, 'v': 5.95, 'fields': 'sex,bdate', 'access_token': token, 'lang': 'ru'}"
   ]
  },
  {
   "cell_type": "code",
   "execution_count": 5,
   "metadata": {},
   "outputs": [],
   "source": [
    "response = requests.get(url, params=params)"
   ]
  },
  {
   "cell_type": "code",
   "execution_count": 6,
   "metadata": {},
   "outputs": [
    {
     "data": {
      "text/plain": [
       "'{\"response\":[{\"id\":1,\"first_name\":\"Павел\",\"last_name\":\"Дуров\",\"is_closed\":false,\"can_access_closed\":true,\"sex\":2,\"bdate\":\"10.10.1984\"}]}'"
      ]
     },
     "execution_count": 6,
     "metadata": {},
     "output_type": "execute_result"
    }
   ],
   "source": [
    "response.text"
   ]
  },
  {
   "cell_type": "code",
   "execution_count": 7,
   "metadata": {},
   "outputs": [],
   "source": [
    "from pprint import pprint"
   ]
  },
  {
   "cell_type": "code",
   "execution_count": 8,
   "metadata": {},
   "outputs": [
    {
     "name": "stdout",
     "output_type": "stream",
     "text": [
      "{'response': [{'bdate': '10.10.1984',\n",
      "               'can_access_closed': True,\n",
      "               'first_name': 'Павел',\n",
      "               'id': 1,\n",
      "               'is_closed': False,\n",
      "               'last_name': 'Дуров',\n",
      "               'sex': 2}]}\n"
     ]
    }
   ],
   "source": [
    "pprint(response.json())"
   ]
  },
  {
   "cell_type": "code",
   "execution_count": 9,
   "metadata": {},
   "outputs": [],
   "source": [
    "user = response.json()['response'][0]"
   ]
  },
  {
   "cell_type": "code",
   "execution_count": 11,
   "metadata": {},
   "outputs": [
    {
     "name": "stdout",
     "output_type": "stream",
     "text": [
      "10.10.1984\n"
     ]
    }
   ],
   "source": [
    "print(user['bdate'])"
   ]
  },
  {
   "cell_type": "code",
   "execution_count": 13,
   "metadata": {},
   "outputs": [
    {
     "name": "stdout",
     "output_type": "stream",
     "text": [
      "Павел\n"
     ]
    }
   ],
   "source": [
    "print(user['first_name'])"
   ]
  },
  {
   "cell_type": "code",
   "execution_count": 14,
   "metadata": {},
   "outputs": [
    {
     "name": "stdout",
     "output_type": "stream",
     "text": [
      "1,2,3,4,5,6,7,8,9,10\n",
      "{'response': [{'can_access_closed': True,\n",
      "               'first_name': 'Павел',\n",
      "               'id': 1,\n",
      "               'is_closed': False,\n",
      "               'last_name': 'Дуров'},\n",
      "              {'can_access_closed': False,\n",
      "               'first_name': 'Александра',\n",
      "               'id': 2,\n",
      "               'is_closed': True,\n",
      "               'last_name': 'Владимирова'},\n",
      "              {'deactivated': 'deleted',\n",
      "               'first_name': 'DELETED',\n",
      "               'id': 3,\n",
      "               'last_name': ''},\n",
      "              {'deactivated': 'deleted',\n",
      "               'first_name': 'DELETED',\n",
      "               'id': 4,\n",
      "               'last_name': ''},\n",
      "              {'can_access_closed': True,\n",
      "               'first_name': 'Илья',\n",
      "               'id': 5,\n",
      "               'is_closed': False,\n",
      "               'last_name': 'Перекопский'},\n",
      "              {'can_access_closed': True,\n",
      "               'first_name': 'Николай',\n",
      "               'id': 6,\n",
      "               'is_closed': False,\n",
      "               'last_name': 'Дуров'},\n",
      "              {'can_access_closed': True,\n",
      "               'first_name': 'Алексей',\n",
      "               'id': 7,\n",
      "               'is_closed': False,\n",
      "               'last_name': 'Кобылянский'},\n",
      "              {'can_access_closed': True,\n",
      "               'first_name': 'Аки',\n",
      "               'id': 8,\n",
      "               'is_closed': False,\n",
      "               'last_name': 'Сепиашвили'},\n",
      "              {'can_access_closed': False,\n",
      "               'first_name': 'Настя',\n",
      "               'id': 9,\n",
      "               'is_closed': True,\n",
      "               'last_name': 'Васильева'},\n",
      "              {'can_access_closed': True,\n",
      "               'first_name': 'Александр',\n",
      "               'id': 10,\n",
      "               'is_closed': False,\n",
      "               'last_name': 'Кузнецов'}]}\n"
     ]
    }
   ],
   "source": [
    "ids = \",\".join(map(str, range(1, 11)))  \n",
    "print(ids)  \n",
    "# => 1,2,3,4,5,6,7,8,9,10  \n",
    "  \n",
    "params = {'user_ids': ids, 'v': 5.95, 'fields': 'bday', 'access_token': token, 'lang': 'ru'}  \n",
    "  \n",
    "pprint(requests.get(url, params=params).json())  "
   ]
  },
  {
   "cell_type": "markdown",
   "metadata": {},
   "source": [
    "#### Task 1.\n",
    "Используя API, определите долю женщин(sex=1) среди пользователей с id от 1 до 500. Иногда вам будут попадать пользователи, у которых пол не указан (sex=0), их не нужно учитывать в общем числе.\n",
    "\n",
    "В ответе укажите число, округлив до двух знаков после запятой, например, 0.55\n",
    "\n",
    "Пример: если у нас будет 300 пользователей sex=1, 100 пользователей с sex=2 и 100 пользователей с sex=0, то в ответе должно быть 0.75"
   ]
  },
  {
   "cell_type": "markdown",
   "metadata": {},
   "source": [
    "#### Solution:"
   ]
  },
  {
   "cell_type": "code",
   "execution_count": 26,
   "metadata": {},
   "outputs": [
    {
     "name": "stdout",
     "output_type": "stream",
     "text": [
      "Доля женщин среди пользователей с ID от 1 до 500 включительно: 0.48\n"
     ]
    }
   ],
   "source": [
    "ids = \",\".join(map(str, range(1, 501)))  \n",
    "\n",
    "params = {'user_ids': ids, 'v': 5.95, 'fields': 'sex', 'access_token': token, 'lang': 'ru'}\n",
    "  \n",
    "response = requests.get(url, params=params).json()['response']\n",
    "\n",
    "females_count = 0\n",
    "overall_count = 0\n",
    "for user in response:\n",
    "    sex = user['sex']\n",
    "    if sex == 0:\n",
    "        continue\n",
    "    if sex == 1:\n",
    "        females_count += 1\n",
    "    overall_count += 1\n",
    "\n",
    "females_fraction = females_count / overall_count\n",
    "\n",
    "print(f'Доля женщин среди пользователей с ID от 1 до 500 включительно: {females_fraction:.2f}')"
   ]
  },
  {
   "cell_type": "markdown",
   "metadata": {},
   "source": [
    "#### Conclusion: 0.48 is the right answer!!!"
   ]
  },
  {
   "cell_type": "code",
   "execution_count": null,
   "metadata": {},
   "outputs": [],
   "source": []
  }
 ],
 "metadata": {
  "kernelspec": {
   "display_name": "Python 3",
   "language": "python",
   "name": "python3"
  },
  "language_info": {
   "codemirror_mode": {
    "name": "ipython",
    "version": 3
   },
   "file_extension": ".py",
   "mimetype": "text/x-python",
   "name": "python",
   "nbconvert_exporter": "python",
   "pygments_lexer": "ipython3",
   "version": "3.7.4"
  }
 },
 "nbformat": 4,
 "nbformat_minor": 4
}

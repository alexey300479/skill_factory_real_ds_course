{
 "cells": [
  {
   "cell_type": "code",
   "execution_count": 2,
   "metadata": {},
   "outputs": [],
   "source": [
    "import numpy as np"
   ]
  },
  {
   "cell_type": "markdown",
   "metadata": {},
   "source": [
    "### Part 1. Array operations"
   ]
  },
  {
   "cell_type": "code",
   "execution_count": 3,
   "metadata": {},
   "outputs": [
    {
     "name": "stdout",
     "output_type": "stream",
     "text": [
      "Сумма: [15 21 27]\n",
      "Разность: [9 9 9]\n",
      "Произведение: [ 36  90 162]\n",
      "Частное: [0.25 0.4  0.5 ]\n",
      "Умножение на число: [ 6 12 18]\n"
     ]
    }
   ],
   "source": [
    "a = np.array([3,6,9])\n",
    "b = np.array([12,15,18])\n",
    "\n",
    "result1 = a + b\n",
    "print(f'Сумма: {result1}')\n",
    "result2 = b-a\n",
    "print(f'Разность: {result2}')\n",
    "result3 = a*b\n",
    "print(f'Произведение: {result3}')\n",
    "result4 = a/b\n",
    "print(f'Частное: {result4}')\n",
    "result5 = a*2\n",
    "print(f'Умножение на число: {result5}')"
   ]
  },
  {
   "cell_type": "markdown",
   "metadata": {},
   "source": [
    "### Part 2. Universal functions"
   ]
  },
  {
   "cell_type": "code",
   "execution_count": 9,
   "metadata": {},
   "outputs": [
    {
     "name": "stdout",
     "output_type": "stream",
     "text": [
      "abs(arr):\n",
      " [[1 2 3]\n",
      " [4 5 6]\n",
      " [7 8 9]]\n",
      "\n",
      "sqrt(arr):\n",
      " [[1.                nan 1.73205081]\n",
      " [       nan 2.23606798        nan]\n",
      " [2.64575131        nan 3.        ]]\n",
      "\n",
      "exp(arr):\n",
      " [[2.71828183e+00 1.35335283e-01 2.00855369e+01]\n",
      " [1.83156389e-02 1.48413159e+02 2.47875218e-03]\n",
      " [1.09663316e+03 3.35462628e-04 8.10308393e+03]]\n",
      "\n",
      "log(arr):\n",
      " [[0.                nan 1.09861229]\n",
      " [       nan 1.60943791        nan]\n",
      " [1.94591015        nan 2.19722458]]\n",
      "\n",
      "modf(sqrt_result):\n",
      " [[0.                nan 0.73205081]\n",
      " [       nan 0.23606798        nan]\n",
      " [0.64575131        nan 0.        ]]\n",
      " [[ 1. nan  1.]\n",
      " [nan  2. nan]\n",
      " [ 2. nan  3.]]\n",
      "\n",
      "isnan(sqrt_result):\n",
      " [[False  True False]\n",
      " [ True False  True]\n",
      " [False  True False]]\n",
      "\n",
      "cos(arr):\n",
      " [[ 0.54030231 -0.41614684 -0.9899925 ]\n",
      " [-0.65364362  0.28366219  0.96017029]\n",
      " [ 0.75390225 -0.14550003 -0.91113026]]\n",
      "\n",
      "sin(arr):\n",
      " [[ 0.84147098 -0.90929743  0.14112001]\n",
      " [ 0.7568025  -0.95892427  0.2794155 ]\n",
      " [ 0.6569866  -0.98935825  0.41211849]]\n",
      "\n",
      "tan(arr):\n",
      " [[ 1.55740772  2.18503986 -0.14254654]\n",
      " [-1.15782128 -3.38051501  0.29100619]\n",
      " [ 0.87144798  6.79971146 -0.45231566]]\n",
      "\n",
      "arccos(arr):\n",
      " [[1.         2.         3.        ]\n",
      " [2.28318531 1.28318531 0.28318531]\n",
      " [0.71681469 1.71681469 2.71681469]]\n",
      "\n",
      "arcsin(arr):\n",
      " [[ 1.         -1.14159265  0.14159265]\n",
      " [ 0.85840735 -1.28318531  0.28318531]\n",
      " [ 0.71681469 -1.42477796  0.42477796]]\n",
      "\n",
      "arctan(arr):\n",
      " [[ 1.          1.14159265 -0.14159265]\n",
      " [-0.85840735 -1.28318531  0.28318531]\n",
      " [ 0.71681469  1.42477796 -0.42477796]]\n",
      "\n"
     ]
    },
    {
     "name": "stderr",
     "output_type": "stream",
     "text": [
      "/home/alexey300479/anaconda3/lib/python3.7/site-packages/ipykernel_launcher.py:6: RuntimeWarning: invalid value encountered in sqrt\n",
      "  \n",
      "/home/alexey300479/anaconda3/lib/python3.7/site-packages/ipykernel_launcher.py:10: RuntimeWarning: invalid value encountered in log\n",
      "  # Remove the CWD from sys.path while we load stuff.\n"
     ]
    }
   ],
   "source": [
    "arr = np.array([[1, -2, 3],\n",
    "                [-4, 5, -6],\n",
    "                [7, -8, 9]])\n",
    "abs_result = np.abs(arr)\n",
    "print(f'abs(arr):\\n {abs_result}\\n')\n",
    "sqrt_result = np.sqrt(arr)\n",
    "print(f'sqrt(arr):\\n {sqrt_result}\\n')\n",
    "exp_result = np.exp(arr)\n",
    "print(f'exp(arr):\\n {exp_result}\\n')\n",
    "log_result = np.log(arr)\n",
    "print(f'log(arr):\\n {log_result}\\n')\n",
    "modf_result = np.modf(sqrt_result)\n",
    "print(f'modf(sqrt_result):\\n {modf_result[0]}\\n {modf_result[1]}\\n')\n",
    "isnan_result = np.isnan(sqrt_result)\n",
    "print(f'isnan(sqrt_result):\\n {isnan_result}\\n')\n",
    "cos_result = np.cos(arr)\n",
    "print(f'cos(arr):\\n {cos_result}\\n')\n",
    "sin_result = np.sin(arr)\n",
    "print(f'sin(arr):\\n {sin_result}\\n')\n",
    "tan_result = np.tan(arr)\n",
    "print(f'tan(arr):\\n {tan_result}\\n')\n",
    "arccos_result = np.arccos(cos_result)\n",
    "print(f'arccos(arr):\\n {arccos_result}\\n')\n",
    "arcsin_result = np.arcsin(sin_result)\n",
    "print(f'arcsin(arr):\\n {arcsin_result}\\n')\n",
    "arctan_result = np.arctan(tan_result)\n",
    "print(f'arctan(arr):\\n {arctan_result}\\n')"
   ]
  },
  {
   "cell_type": "markdown",
   "metadata": {},
   "source": [
    "### Part 3. Array shape change"
   ]
  },
  {
   "cell_type": "code",
   "execution_count": 11,
   "metadata": {},
   "outputs": [
    {
     "data": {
      "text/plain": [
       "array([[ 1,  2,  3,  4,  5],\n",
       "       [ 6,  7,  8,  9, 10]])"
      ]
     },
     "metadata": {},
     "output_type": "display_data"
    },
    {
     "data": {
      "text/plain": [
       "array([[ 1,  6],\n",
       "       [ 2,  7],\n",
       "       [ 3,  8],\n",
       "       [ 4,  9],\n",
       "       [ 5, 10]])"
      ]
     },
     "metadata": {},
     "output_type": "display_data"
    }
   ],
   "source": [
    "my_array = np.array([[1,2,3,4,5], [6,7,8,9,10]])\n",
    "display(my_array)\n",
    "my_array_T = my_array.T\n",
    "display(my_array_T)"
   ]
  },
  {
   "cell_type": "code",
   "execution_count": 12,
   "metadata": {},
   "outputs": [
    {
     "data": {
      "text/plain": [
       "array([[7, 5, 7, 1, 4],\n",
       "       [7, 5, 5, 9, 1],\n",
       "       [3, 4, 4, 8, 2],\n",
       "       [0, 2, 6, 0, 3]])"
      ]
     },
     "execution_count": 12,
     "metadata": {},
     "output_type": "execute_result"
    }
   ],
   "source": [
    "my_array = np.random.randint(0, 10, 20)\n",
    "my_array.reshape((4,5))"
   ]
  },
  {
   "cell_type": "code",
   "execution_count": 13,
   "metadata": {},
   "outputs": [
    {
     "data": {
      "text/plain": [
       "array([  1,   2,   3,  11,  22,  33, 111, 222, 333])"
      ]
     },
     "execution_count": 13,
     "metadata": {},
     "output_type": "execute_result"
    }
   ],
   "source": [
    "my_array = np.array([[1,2,3], [11,22,33], [111,222,333]])\n",
    "my_array.flatten()"
   ]
  },
  {
   "cell_type": "markdown",
   "metadata": {},
   "source": [
    "### Part 4. Comparison and masks"
   ]
  },
  {
   "cell_type": "code",
   "execution_count": 15,
   "metadata": {},
   "outputs": [
    {
     "data": {
      "text/plain": [
       "array([[1, 0, 0, 9],\n",
       "       [5, 4, 7, 6],\n",
       "       [9, 7, 6, 1]])"
      ]
     },
     "execution_count": 15,
     "metadata": {},
     "output_type": "execute_result"
    }
   ],
   "source": [
    "my_array = np.random.randint(0, 10, (3,4))\n",
    "my_array"
   ]
  },
  {
   "cell_type": "code",
   "execution_count": 17,
   "metadata": {},
   "outputs": [
    {
     "data": {
      "text/plain": [
       "array([[ True,  True,  True, False],\n",
       "       [False,  True, False, False],\n",
       "       [False, False, False,  True]])"
      ]
     },
     "execution_count": 17,
     "metadata": {},
     "output_type": "execute_result"
    }
   ],
   "source": [
    "my_array < 5"
   ]
  },
  {
   "cell_type": "code",
   "execution_count": 18,
   "metadata": {},
   "outputs": [
    {
     "data": {
      "text/plain": [
       "array([[1, 0],\n",
       "       [5, 7],\n",
       "       [9, 6]])"
      ]
     },
     "execution_count": 18,
     "metadata": {},
     "output_type": "execute_result"
    }
   ],
   "source": [
    "mask = np.array([1, 0, 1, 0], dtype=bool)\n",
    "my_array[:, mask]"
   ]
  },
  {
   "cell_type": "markdown",
   "metadata": {},
   "source": [
    "### Part 5. 2D arrays sort"
   ]
  },
  {
   "cell_type": "code",
   "execution_count": 20,
   "metadata": {},
   "outputs": [],
   "source": [
    "my_array = np.random.randint(0, 10, (4, 6))"
   ]
  },
  {
   "cell_type": "code",
   "execution_count": 23,
   "metadata": {},
   "outputs": [
    {
     "data": {
      "text/plain": [
       "array([[2, 5, 0, 5, 7, 6],\n",
       "       [4, 0, 5, 0, 6, 1],\n",
       "       [6, 4, 5, 1, 1, 2],\n",
       "       [8, 3, 8, 7, 8, 9]])"
      ]
     },
     "execution_count": 23,
     "metadata": {},
     "output_type": "execute_result"
    }
   ],
   "source": [
    "my_array"
   ]
  },
  {
   "cell_type": "code",
   "execution_count": 21,
   "metadata": {},
   "outputs": [
    {
     "data": {
      "text/plain": [
       "array([[0, 2, 5, 5, 6, 7],\n",
       "       [0, 0, 1, 4, 5, 6],\n",
       "       [1, 1, 2, 4, 5, 6],\n",
       "       [3, 7, 8, 8, 8, 9]])"
      ]
     },
     "execution_count": 21,
     "metadata": {},
     "output_type": "execute_result"
    }
   ],
   "source": [
    "np.sort(my_array, axis=1)"
   ]
  },
  {
   "cell_type": "code",
   "execution_count": 22,
   "metadata": {},
   "outputs": [
    {
     "data": {
      "text/plain": [
       "array([[2, 0, 0, 0, 1, 1],\n",
       "       [4, 3, 5, 1, 6, 2],\n",
       "       [6, 4, 5, 5, 7, 6],\n",
       "       [8, 5, 8, 7, 8, 9]])"
      ]
     },
     "execution_count": 22,
     "metadata": {},
     "output_type": "execute_result"
    }
   ],
   "source": [
    "np.sort(my_array, axis=0)"
   ]
  },
  {
   "cell_type": "markdown",
   "metadata": {},
   "source": [
    "### Part 6. Tasks"
   ]
  },
  {
   "cell_type": "markdown",
   "metadata": {},
   "source": [
    "#### Common code"
   ]
  },
  {
   "cell_type": "code",
   "execution_count": 24,
   "metadata": {},
   "outputs": [],
   "source": [
    "first = [x**(1/2) for x in range(100)]\n",
    "second = [x**(1/3) for x in range(100, 200)]\n",
    "third = [x/y for x in range(200,300,2) for y in [3,5]]\n",
    "\n",
    "great_secret = np.array([first, second, third]).T"
   ]
  },
  {
   "cell_type": "markdown",
   "metadata": {},
   "source": [
    "#### Task 1.\n",
    "Сколько столбцов содержит массив great_secret?"
   ]
  },
  {
   "cell_type": "markdown",
   "metadata": {},
   "source": [
    "#### Solution:"
   ]
  },
  {
   "cell_type": "code",
   "execution_count": 25,
   "metadata": {},
   "outputs": [
    {
     "data": {
      "text/plain": [
       "3"
      ]
     },
     "execution_count": 25,
     "metadata": {},
     "output_type": "execute_result"
    }
   ],
   "source": [
    "great_secret.shape[1]"
   ]
  },
  {
   "cell_type": "markdown",
   "metadata": {},
   "source": [
    "#### Conclusion: 3 is the right answer!"
   ]
  },
  {
   "cell_type": "markdown",
   "metadata": {},
   "source": [
    "#### Task 2.\n",
    "Чему равна сумма косинусов элементов первой строки массива great_secret? Ответ округлите до двух знаков после запятой."
   ]
  },
  {
   "cell_type": "markdown",
   "metadata": {},
   "source": [
    "#### Solution:"
   ]
  },
  {
   "cell_type": "code",
   "execution_count": 30,
   "metadata": {},
   "outputs": [
    {
     "name": "stdout",
     "output_type": "stream",
     "text": [
      "Сумма косинусов элементов первой строки массива great_secret: 0.16\n"
     ]
    }
   ],
   "source": [
    "first_row_cos_sum = np.cos(great_secret[0]).sum()\n",
    "print(f'Сумма косинусов элементов первой строки массива great_secret: {first_row_cos_sum:.2f}')"
   ]
  },
  {
   "cell_type": "markdown",
   "metadata": {},
   "source": [
    "#### Conclusion: 0.16 is the right answer!!!"
   ]
  },
  {
   "cell_type": "markdown",
   "metadata": {},
   "source": [
    "#### Task 3.\n",
    "Чему равна сумма элементов массива great_secret, значение которых больше 50?"
   ]
  },
  {
   "cell_type": "markdown",
   "metadata": {},
   "source": [
    "#### Solution:"
   ]
  },
  {
   "cell_type": "code",
   "execution_count": 31,
   "metadata": {},
   "outputs": [
    {
     "data": {
      "text/plain": [
       "5470.0"
      ]
     },
     "execution_count": 31,
     "metadata": {},
     "output_type": "execute_result"
    }
   ],
   "source": [
    "great_secret[great_secret > 50].sum()"
   ]
  },
  {
   "cell_type": "markdown",
   "metadata": {},
   "source": [
    "#### Conclusion: 5470 is the right answer!!!"
   ]
  },
  {
   "cell_type": "markdown",
   "metadata": {},
   "source": [
    "#### Task 4.\n",
    "Переведите массив great_secret в одномерную форму. Какое значение в получившемся массиве имеет элемент с индексом 150? Скопируйте ответ из Jupyter Notebook без изменений."
   ]
  },
  {
   "cell_type": "markdown",
   "metadata": {},
   "source": [
    "#### Solution:"
   ]
  },
  {
   "cell_type": "code",
   "execution_count": 32,
   "metadata": {},
   "outputs": [
    {
     "data": {
      "text/plain": [
       "7.0710678118654755"
      ]
     },
     "execution_count": 32,
     "metadata": {},
     "output_type": "execute_result"
    }
   ],
   "source": [
    "great_secret.flatten()[150]"
   ]
  },
  {
   "cell_type": "markdown",
   "metadata": {},
   "source": [
    "#### Conclusion: 7.0710678118654755 is the right answer!"
   ]
  },
  {
   "cell_type": "markdown",
   "metadata": {},
   "source": [
    "#### Task 5.\n",
    "Отсортируйте значения столбцов массива great_secret по возрастанию. Чему равна сумма элементов последней строки отсортированного массива? Ответ округлите до двух цифр после запятой."
   ]
  },
  {
   "cell_type": "markdown",
   "metadata": {},
   "source": [
    "#### Solution:"
   ]
  },
  {
   "cell_type": "code",
   "execution_count": 35,
   "metadata": {},
   "outputs": [
    {
     "name": "stdout",
     "output_type": "stream",
     "text": [
      "Cумма элементов последней строки отсортированного массива: 115.12\n"
     ]
    }
   ],
   "source": [
    "last_row_sum = np.sort(great_secret, axis=0)[-1].sum()\n",
    "print(f'Cумма элементов последней строки отсортированного массива: {last_row_sum:.2f}')"
   ]
  },
  {
   "cell_type": "markdown",
   "metadata": {},
   "source": [
    "#### Conclusion: 115.12 is the right asnwer!!!"
   ]
  },
  {
   "cell_type": "code",
   "execution_count": null,
   "metadata": {},
   "outputs": [],
   "source": []
  }
 ],
 "metadata": {
  "kernelspec": {
   "display_name": "Python 3",
   "language": "python",
   "name": "python3"
  },
  "language_info": {
   "codemirror_mode": {
    "name": "ipython",
    "version": 3
   },
   "file_extension": ".py",
   "mimetype": "text/x-python",
   "name": "python",
   "nbconvert_exporter": "python",
   "pygments_lexer": "ipython3",
   "version": "3.7.4"
  }
 },
 "nbformat": 4,
 "nbformat_minor": 4
}

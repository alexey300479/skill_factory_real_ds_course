{
 "cells": [
  {
   "cell_type": "markdown",
   "metadata": {},
   "source": [
    "#### Task 1."
   ]
  },
  {
   "cell_type": "markdown",
   "metadata": {},
   "source": [
    "Что выведет следующая часть кода с repr?\n",
    "``` python\n",
    "print(repr('12.48'))\n",
    "```"
   ]
  },
  {
   "cell_type": "markdown",
   "metadata": {},
   "source": [
    "#### Solution:"
   ]
  },
  {
   "cell_type": "code",
   "execution_count": 15,
   "metadata": {},
   "outputs": [
    {
     "name": "stdout",
     "output_type": "stream",
     "text": [
      "'12.48'\n"
     ]
    }
   ],
   "source": [
    "print(repr('12.48'))"
   ]
  },
  {
   "cell_type": "markdown",
   "metadata": {},
   "source": [
    "##### Conclusion: '12.48' is the right answer!"
   ]
  },
  {
   "cell_type": "markdown",
   "metadata": {},
   "source": [
    "#### Task 1."
   ]
  },
  {
   "cell_type": "markdown",
   "metadata": {},
   "source": [
    "У вас есть функция:\n",
    "``` python\n",
    "from copy import copy\n",
    "\n",
    "def remove_dups(values):\n",
    "    values = copy(values)\n",
    "    for i in range(len(values)):\n",
    "        if values[i+1] in values[i:]:\n",
    "            values.remove(values[i])\n",
    "    return values\n",
    "```\n",
    "\n",
    "которая должна убирать дубликаты из списка и сохранять при этом порядок:\n",
    "``` python\n",
    "remove_dups([1, 12, 4, 1, 4, 8])\n",
    "# => [1, 12, 4, 8]\n",
    "```\n",
    "Сейчас она не очень хорошо написана и возвращает исключение: исправьте её"
   ]
  },
  {
   "cell_type": "markdown",
   "metadata": {},
   "source": [
    "#### Solution:"
   ]
  },
  {
   "cell_type": "code",
   "execution_count": 13,
   "metadata": {},
   "outputs": [],
   "source": [
    "def remove_dups(values):\n",
    "    non_dup_values = []\n",
    "    for value in values:\n",
    "        if value in non_dup_values:\n",
    "            continue\n",
    "        else:\n",
    "            non_dup_values.append(value)\n",
    "    return non_dup_values"
   ]
  },
  {
   "cell_type": "code",
   "execution_count": 16,
   "metadata": {},
   "outputs": [
    {
     "data": {
      "text/plain": [
       "[1, 12, 4, 8]"
      ]
     },
     "execution_count": 16,
     "metadata": {},
     "output_type": "execute_result"
    }
   ],
   "source": [
    "remove_dups([1, 12, 4, 1, 4, 8])"
   ]
  },
  {
   "cell_type": "markdown",
   "metadata": {},
   "source": [
    "##### Conclusion: the code above is one of the right decisions!!!"
   ]
  },
  {
   "cell_type": "code",
   "execution_count": null,
   "metadata": {},
   "outputs": [],
   "source": []
  }
 ],
 "metadata": {
  "kernelspec": {
   "display_name": "Python 3",
   "language": "python",
   "name": "python3"
  },
  "language_info": {
   "codemirror_mode": {
    "name": "ipython",
    "version": 3
   },
   "file_extension": ".py",
   "mimetype": "text/x-python",
   "name": "python",
   "nbconvert_exporter": "python",
   "pygments_lexer": "ipython3",
   "version": "3.6.1"
  }
 },
 "nbformat": 4,
 "nbformat_minor": 2
}

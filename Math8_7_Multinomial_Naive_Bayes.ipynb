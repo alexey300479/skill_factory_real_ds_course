{
 "cells": [
  {
   "cell_type": "raw",
   "metadata": {},
   "source": [
    "Посмотрим, как работает готовый Naive Bayes алгоритм\n",
    "\n",
    "В библиотеке sklearn есть несколько байесовских классификаторов:\n",
    "\n",
    "1. BernoulliNB работает с бинарными признаками\n",
    "2. MultinomialNB работает с категориальными признаками\n",
    "3. GaussianNB работает с непрерывными признаками\n",
    "4. ComplementNB улучшенная версия MultinomialNB, работающая с сильно несбалансированными выборками\n",
    "\n",
    "Работать будем с датасетом Gender_class.csv\n",
    "В нем содержатся данные о предпочтениях в цветах, музыке, алкогольных и безалкогольных напитков для мужчин и женщин. Пол человека мы и будем пытаться угадать."
   ]
  },
  {
   "cell_type": "code",
   "execution_count": 2,
   "metadata": {},
   "outputs": [],
   "source": [
    "import pandas as pd\n",
    "\n",
    "# LabelEncoder поможет нам подготовить данные для классификатора \"из коробки\" sklearn,\n",
    "from sklearn.preprocessing import LabelEncoder\n",
    "\n",
    "# naive bayes для категориальных признаков \"из коробки\"\n",
    "from sklearn.naive_bayes import MultinomialNB\n",
    "\n",
    "import numpy as np\n",
    "\n",
    "from sklearn.model_selection import train_test_split\n",
    "from sklearn import metrics\n",
    "\n",
    "df = pd.read_csv('Gender_class.csv')"
   ]
  },
  {
   "cell_type": "code",
   "execution_count": 3,
   "metadata": {},
   "outputs": [
    {
     "data": {
      "text/html": [
       "<div>\n",
       "<style scoped>\n",
       "    .dataframe tbody tr th:only-of-type {\n",
       "        vertical-align: middle;\n",
       "    }\n",
       "\n",
       "    .dataframe tbody tr th {\n",
       "        vertical-align: top;\n",
       "    }\n",
       "\n",
       "    .dataframe thead th {\n",
       "        text-align: right;\n",
       "    }\n",
       "</style>\n",
       "<table border=\"1\" class=\"dataframe\">\n",
       "  <thead>\n",
       "    <tr style=\"text-align: right;\">\n",
       "      <th></th>\n",
       "      <th>Favorite Color</th>\n",
       "      <th>Favorite Music Genre</th>\n",
       "      <th>Favorite Beverage</th>\n",
       "      <th>Favorite Soft Drink</th>\n",
       "      <th>Gender</th>\n",
       "    </tr>\n",
       "  </thead>\n",
       "  <tbody>\n",
       "    <tr>\n",
       "      <th>46</th>\n",
       "      <td>Cool</td>\n",
       "      <td>Hip hop</td>\n",
       "      <td>Wine</td>\n",
       "      <td>Coca Cola/Pepsi</td>\n",
       "      <td>M</td>\n",
       "    </tr>\n",
       "    <tr>\n",
       "      <th>10</th>\n",
       "      <td>Cool</td>\n",
       "      <td>Pop</td>\n",
       "      <td>Other</td>\n",
       "      <td>7UP/Sprite</td>\n",
       "      <td>F</td>\n",
       "    </tr>\n",
       "    <tr>\n",
       "      <th>58</th>\n",
       "      <td>Warm</td>\n",
       "      <td>Jazz/Blues</td>\n",
       "      <td>Vodka</td>\n",
       "      <td>Coca Cola/Pepsi</td>\n",
       "      <td>M</td>\n",
       "    </tr>\n",
       "    <tr>\n",
       "      <th>20</th>\n",
       "      <td>Cool</td>\n",
       "      <td>Pop</td>\n",
       "      <td>Beer</td>\n",
       "      <td>Fanta</td>\n",
       "      <td>F</td>\n",
       "    </tr>\n",
       "    <tr>\n",
       "      <th>4</th>\n",
       "      <td>Cool</td>\n",
       "      <td>Rock</td>\n",
       "      <td>Vodka</td>\n",
       "      <td>Coca Cola/Pepsi</td>\n",
       "      <td>F</td>\n",
       "    </tr>\n",
       "    <tr>\n",
       "      <th>27</th>\n",
       "      <td>Cool</td>\n",
       "      <td>Pop</td>\n",
       "      <td>Doesn't drink</td>\n",
       "      <td>Other</td>\n",
       "      <td>F</td>\n",
       "    </tr>\n",
       "    <tr>\n",
       "      <th>29</th>\n",
       "      <td>Cool</td>\n",
       "      <td>Electronic</td>\n",
       "      <td>Doesn't drink</td>\n",
       "      <td>Fanta</td>\n",
       "      <td>F</td>\n",
       "    </tr>\n",
       "    <tr>\n",
       "      <th>21</th>\n",
       "      <td>Warm</td>\n",
       "      <td>Jazz/Blues</td>\n",
       "      <td>Whiskey</td>\n",
       "      <td>Fanta</td>\n",
       "      <td>F</td>\n",
       "    </tr>\n",
       "    <tr>\n",
       "      <th>35</th>\n",
       "      <td>Warm</td>\n",
       "      <td>Electronic</td>\n",
       "      <td>Other</td>\n",
       "      <td>Coca Cola/Pepsi</td>\n",
       "      <td>M</td>\n",
       "    </tr>\n",
       "    <tr>\n",
       "      <th>24</th>\n",
       "      <td>Cool</td>\n",
       "      <td>Folk/Traditional</td>\n",
       "      <td>Whiskey</td>\n",
       "      <td>7UP/Sprite</td>\n",
       "      <td>F</td>\n",
       "    </tr>\n",
       "    <tr>\n",
       "      <th>43</th>\n",
       "      <td>Cool</td>\n",
       "      <td>Rock</td>\n",
       "      <td>Wine</td>\n",
       "      <td>7UP/Sprite</td>\n",
       "      <td>M</td>\n",
       "    </tr>\n",
       "    <tr>\n",
       "      <th>7</th>\n",
       "      <td>Warm</td>\n",
       "      <td>Pop</td>\n",
       "      <td>Whiskey</td>\n",
       "      <td>Fanta</td>\n",
       "      <td>F</td>\n",
       "    </tr>\n",
       "    <tr>\n",
       "      <th>57</th>\n",
       "      <td>Warm</td>\n",
       "      <td>Electronic</td>\n",
       "      <td>Vodka</td>\n",
       "      <td>Fanta</td>\n",
       "      <td>M</td>\n",
       "    </tr>\n",
       "    <tr>\n",
       "      <th>15</th>\n",
       "      <td>Warm</td>\n",
       "      <td>Jazz/Blues</td>\n",
       "      <td>Wine</td>\n",
       "      <td>Coca Cola/Pepsi</td>\n",
       "      <td>F</td>\n",
       "    </tr>\n",
       "    <tr>\n",
       "      <th>47</th>\n",
       "      <td>Cool</td>\n",
       "      <td>R&amp;B and soul</td>\n",
       "      <td>Whiskey</td>\n",
       "      <td>7UP/Sprite</td>\n",
       "      <td>M</td>\n",
       "    </tr>\n",
       "  </tbody>\n",
       "</table>\n",
       "</div>"
      ],
      "text/plain": [
       "   Favorite Color Favorite Music Genre Favorite Beverage Favorite Soft Drink  \\\n",
       "46           Cool              Hip hop              Wine     Coca Cola/Pepsi   \n",
       "10           Cool                  Pop             Other          7UP/Sprite   \n",
       "58           Warm           Jazz/Blues             Vodka     Coca Cola/Pepsi   \n",
       "20           Cool                  Pop              Beer               Fanta   \n",
       "4            Cool                 Rock             Vodka     Coca Cola/Pepsi   \n",
       "27           Cool                  Pop     Doesn't drink               Other   \n",
       "29           Cool           Electronic     Doesn't drink               Fanta   \n",
       "21           Warm           Jazz/Blues           Whiskey               Fanta   \n",
       "35           Warm           Electronic             Other     Coca Cola/Pepsi   \n",
       "24           Cool     Folk/Traditional           Whiskey          7UP/Sprite   \n",
       "43           Cool                 Rock              Wine          7UP/Sprite   \n",
       "7            Warm                  Pop           Whiskey               Fanta   \n",
       "57           Warm           Electronic             Vodka               Fanta   \n",
       "15           Warm           Jazz/Blues              Wine     Coca Cola/Pepsi   \n",
       "47           Cool         R&B and soul           Whiskey          7UP/Sprite   \n",
       "\n",
       "   Gender  \n",
       "46      M  \n",
       "10      F  \n",
       "58      M  \n",
       "20      F  \n",
       "4       F  \n",
       "27      F  \n",
       "29      F  \n",
       "21      F  \n",
       "35      M  \n",
       "24      F  \n",
       "43      M  \n",
       "7       F  \n",
       "57      M  \n",
       "15      F  \n",
       "47      M  "
      ]
     },
     "execution_count": 3,
     "metadata": {},
     "output_type": "execute_result"
    }
   ],
   "source": [
    "# давайте посмотрим, что за датасет мы считали\n",
    "df.sample(15)"
   ]
  },
  {
   "cell_type": "markdown",
   "metadata": {},
   "source": [
    "Проверьте самостоятельно, что мужчин и женщин в выборке поровну, и найдите общий размер выборки"
   ]
  },
  {
   "cell_type": "code",
   "execution_count": 4,
   "metadata": {},
   "outputs": [
    {
     "data": {
      "text/plain": [
       "F    33\n",
       "M    33\n",
       "Name: Gender, dtype: int64"
      ]
     },
     "execution_count": 4,
     "metadata": {},
     "output_type": "execute_result"
    }
   ],
   "source": [
    "df['Gender'].value_counts()"
   ]
  },
  {
   "cell_type": "code",
   "execution_count": 6,
   "metadata": {},
   "outputs": [
    {
     "data": {
      "text/plain": [
       "66"
      ]
     },
     "execution_count": 6,
     "metadata": {},
     "output_type": "execute_result"
    }
   ],
   "source": [
    "len(df)"
   ]
  },
  {
   "cell_type": "code",
   "execution_count": 7,
   "metadata": {},
   "outputs": [],
   "source": [
    "# если бы мы писали классификатор самостоятельно, можно было бы оставить категории в признаках,\n",
    "# классификатору это абсолютно неважно.\n",
    "# готовый naive bayes из sklearn на вход просит данные в числовом формате.\n",
    "# LabelEncoder() каждой категории внутри признака ставит в соответствие число\n",
    "le = LabelEncoder()\n",
    "for i in range(5):\n",
    "    df.iloc[:, i] = le.fit_transform(df.iloc[:, i])"
   ]
  },
  {
   "cell_type": "code",
   "execution_count": 8,
   "metadata": {},
   "outputs": [
    {
     "data": {
      "text/html": [
       "<div>\n",
       "<style scoped>\n",
       "    .dataframe tbody tr th:only-of-type {\n",
       "        vertical-align: middle;\n",
       "    }\n",
       "\n",
       "    .dataframe tbody tr th {\n",
       "        vertical-align: top;\n",
       "    }\n",
       "\n",
       "    .dataframe thead th {\n",
       "        text-align: right;\n",
       "    }\n",
       "</style>\n",
       "<table border=\"1\" class=\"dataframe\">\n",
       "  <thead>\n",
       "    <tr style=\"text-align: right;\">\n",
       "      <th></th>\n",
       "      <th>Favorite Color</th>\n",
       "      <th>Favorite Music Genre</th>\n",
       "      <th>Favorite Beverage</th>\n",
       "      <th>Favorite Soft Drink</th>\n",
       "    </tr>\n",
       "  </thead>\n",
       "  <tbody>\n",
       "    <tr>\n",
       "      <th>0</th>\n",
       "      <td>0</td>\n",
       "      <td>6</td>\n",
       "      <td>3</td>\n",
       "      <td>0</td>\n",
       "    </tr>\n",
       "    <tr>\n",
       "      <th>1</th>\n",
       "      <td>1</td>\n",
       "      <td>2</td>\n",
       "      <td>3</td>\n",
       "      <td>1</td>\n",
       "    </tr>\n",
       "    <tr>\n",
       "      <th>2</th>\n",
       "      <td>2</td>\n",
       "      <td>6</td>\n",
       "      <td>5</td>\n",
       "      <td>1</td>\n",
       "    </tr>\n",
       "    <tr>\n",
       "      <th>3</th>\n",
       "      <td>2</td>\n",
       "      <td>1</td>\n",
       "      <td>4</td>\n",
       "      <td>2</td>\n",
       "    </tr>\n",
       "    <tr>\n",
       "      <th>4</th>\n",
       "      <td>0</td>\n",
       "      <td>6</td>\n",
       "      <td>3</td>\n",
       "      <td>1</td>\n",
       "    </tr>\n",
       "  </tbody>\n",
       "</table>\n",
       "</div>"
      ],
      "text/plain": [
       "   Favorite Color  Favorite Music Genre  Favorite Beverage  \\\n",
       "0               0                     6                  3   \n",
       "1               1                     2                  3   \n",
       "2               2                     6                  5   \n",
       "3               2                     1                  4   \n",
       "4               0                     6                  3   \n",
       "\n",
       "   Favorite Soft Drink  \n",
       "0                    0  \n",
       "1                    1  \n",
       "2                    1  \n",
       "3                    2  \n",
       "4                    1  "
      ]
     },
     "execution_count": 8,
     "metadata": {},
     "output_type": "execute_result"
    }
   ],
   "source": [
    "# разделим датасет на признаки.\n",
    "dfx = df.drop('Gender', axis = 1)\n",
    "dfx.head()"
   ]
  },
  {
   "cell_type": "code",
   "execution_count": 9,
   "metadata": {},
   "outputs": [
    {
     "data": {
      "text/html": [
       "<div>\n",
       "<style scoped>\n",
       "    .dataframe tbody tr th:only-of-type {\n",
       "        vertical-align: middle;\n",
       "    }\n",
       "\n",
       "    .dataframe tbody tr th {\n",
       "        vertical-align: top;\n",
       "    }\n",
       "\n",
       "    .dataframe thead th {\n",
       "        text-align: right;\n",
       "    }\n",
       "</style>\n",
       "<table border=\"1\" class=\"dataframe\">\n",
       "  <thead>\n",
       "    <tr style=\"text-align: right;\">\n",
       "      <th></th>\n",
       "      <th>Gender</th>\n",
       "    </tr>\n",
       "  </thead>\n",
       "  <tbody>\n",
       "    <tr>\n",
       "      <th>0</th>\n",
       "      <td>0</td>\n",
       "    </tr>\n",
       "    <tr>\n",
       "      <th>1</th>\n",
       "      <td>0</td>\n",
       "    </tr>\n",
       "    <tr>\n",
       "      <th>2</th>\n",
       "      <td>0</td>\n",
       "    </tr>\n",
       "    <tr>\n",
       "      <th>3</th>\n",
       "      <td>0</td>\n",
       "    </tr>\n",
       "    <tr>\n",
       "      <th>4</th>\n",
       "      <td>0</td>\n",
       "    </tr>\n",
       "  </tbody>\n",
       "</table>\n",
       "</div>"
      ],
      "text/plain": [
       "   Gender\n",
       "0       0\n",
       "1       0\n",
       "2       0\n",
       "3       0\n",
       "4       0"
      ]
     },
     "execution_count": 9,
     "metadata": {},
     "output_type": "execute_result"
    }
   ],
   "source": [
    "# и целевую переменную\n",
    "dfy = df[['Gender']]\n",
    "dfy.head()"
   ]
  },
  {
   "cell_type": "code",
   "execution_count": 10,
   "metadata": {},
   "outputs": [
    {
     "data": {
      "text/html": [
       "<div>\n",
       "<style scoped>\n",
       "    .dataframe tbody tr th:only-of-type {\n",
       "        vertical-align: middle;\n",
       "    }\n",
       "\n",
       "    .dataframe tbody tr th {\n",
       "        vertical-align: top;\n",
       "    }\n",
       "\n",
       "    .dataframe thead th {\n",
       "        text-align: right;\n",
       "    }\n",
       "</style>\n",
       "<table border=\"1\" class=\"dataframe\">\n",
       "  <thead>\n",
       "    <tr style=\"text-align: right;\">\n",
       "      <th></th>\n",
       "      <th>Favorite Color</th>\n",
       "      <th>Favorite Music Genre</th>\n",
       "      <th>Favorite Beverage</th>\n",
       "      <th>Favorite Soft Drink</th>\n",
       "    </tr>\n",
       "  </thead>\n",
       "  <tbody>\n",
       "    <tr>\n",
       "      <th>60</th>\n",
       "      <td>0</td>\n",
       "      <td>0</td>\n",
       "      <td>4</td>\n",
       "      <td>1</td>\n",
       "    </tr>\n",
       "    <tr>\n",
       "      <th>50</th>\n",
       "      <td>0</td>\n",
       "      <td>5</td>\n",
       "      <td>1</td>\n",
       "      <td>1</td>\n",
       "    </tr>\n",
       "    <tr>\n",
       "      <th>42</th>\n",
       "      <td>2</td>\n",
       "      <td>5</td>\n",
       "      <td>1</td>\n",
       "      <td>1</td>\n",
       "    </tr>\n",
       "    <tr>\n",
       "      <th>7</th>\n",
       "      <td>2</td>\n",
       "      <td>4</td>\n",
       "      <td>4</td>\n",
       "      <td>2</td>\n",
       "    </tr>\n",
       "    <tr>\n",
       "      <th>65</th>\n",
       "      <td>0</td>\n",
       "      <td>0</td>\n",
       "      <td>0</td>\n",
       "      <td>1</td>\n",
       "    </tr>\n",
       "  </tbody>\n",
       "</table>\n",
       "</div>"
      ],
      "text/plain": [
       "    Favorite Color  Favorite Music Genre  Favorite Beverage  \\\n",
       "60               0                     0                  4   \n",
       "50               0                     5                  1   \n",
       "42               2                     5                  1   \n",
       "7                2                     4                  4   \n",
       "65               0                     0                  0   \n",
       "\n",
       "    Favorite Soft Drink  \n",
       "60                    1  \n",
       "50                    1  \n",
       "42                    1  \n",
       "7                     2  \n",
       "65                    1  "
      ]
     },
     "execution_count": 10,
     "metadata": {},
     "output_type": "execute_result"
    }
   ],
   "source": [
    "# разделим данные на train и test\n",
    "# зафиксируем random_state=180\n",
    "X_train, X_test, y_train, y_test = train_test_split(dfx, dfy, test_size=0.3, random_state=180) \n",
    "X_train.head()"
   ]
  },
  {
   "cell_type": "markdown",
   "metadata": {},
   "source": [
    "Параметры классификатора:\n",
    "\n",
    "alpha - коэффициент регуляризации, нужен, чтобы классифицировать людей, чей любимый напиток не входит в обучающую выборку. По умолчанию равен 1\n",
    "\n",
    "fit_prior - если False, то априорные вероятности классов считаются одинаковыми. Если True - априорные вероятности классов вычисляются по обучающей выборке\n",
    "\n",
    "class_prior - позволяет явно задать априорные вероятности классов, если они нам откуда-то известны."
   ]
  },
  {
   "cell_type": "code",
   "execution_count": null,
   "metadata": {},
   "outputs": [],
   "source": [
    "mnb = MultinomialNB(alpha=1, fit_prior=True, class_prior=None)"
   ]
  },
  {
   "cell_type": "code",
   "execution_count": null,
   "metadata": {},
   "outputs": [],
   "source": [
    "# обучаем модель\n",
    "mnb.fit(X_train, y_train.values.ravel())"
   ]
  },
  {
   "cell_type": "code",
   "execution_count": null,
   "metadata": {},
   "outputs": [],
   "source": [
    "# делаем предсказания на тестовой выборке\n",
    "y_pred = mnb.predict(X_test)\n",
    "y_pred"
   ]
  },
  {
   "cell_type": "code",
   "execution_count": null,
   "metadata": {},
   "outputs": [],
   "source": [
    "# смотрим, где угадали и не угадали\n",
    "cnf_matrix = metrics.confusion_matrix(y_test, y_pred)\n",
    "cnf_matrix"
   ]
  },
  {
   "cell_type": "markdown",
   "metadata": {},
   "source": [
    "Самостоятельно вычислите Accuracy, Чувствительность, Специфичность, Точность и вероятности ошибок 1 и 2 рода"
   ]
  },
  {
   "cell_type": "code",
   "execution_count": null,
   "metadata": {},
   "outputs": [],
   "source": []
  },
  {
   "cell_type": "code",
   "execution_count": null,
   "metadata": {},
   "outputs": [],
   "source": []
  }
 ],
 "metadata": {
  "kernelspec": {
   "display_name": "Python 3",
   "language": "python",
   "name": "python3"
  },
  "language_info": {
   "codemirror_mode": {
    "name": "ipython",
    "version": 3
   },
   "file_extension": ".py",
   "mimetype": "text/x-python",
   "name": "python",
   "nbconvert_exporter": "python",
   "pygments_lexer": "ipython3",
   "version": "3.7.4"
  }
 },
 "nbformat": 4,
 "nbformat_minor": 4
}

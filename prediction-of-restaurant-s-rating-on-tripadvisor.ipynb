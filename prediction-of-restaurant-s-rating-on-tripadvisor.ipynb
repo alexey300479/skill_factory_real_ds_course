{
 "cells": [
  {
   "cell_type": "code",
   "execution_count": 28,
   "metadata": {
    "_cell_guid": "b1076dfc-b9ad-4769-8c92-a6c4dae69d19",
    "_uuid": "8f2839f25d086af736a60e9eeb907d3b93b6e0e5"
   },
   "outputs": [],
   "source": [
    "import matplotlib.pyplot as plt\n",
    "import numpy as np\n",
    "import pandas as pd\n",
    "\n",
    "from sklearn.model_selection import train_test_split\n",
    "\n",
    "import os\n",
    "for dirname, _, filenames in os.walk('/kaggle/input'):\n",
    "    for filename in filenames:\n",
    "        print(os.path.join(dirname, filename))"
   ]
  },
  {
   "cell_type": "markdown",
   "metadata": {},
   "source": [
    "**Импорт данных и приведение к единообразному названию столбцов**"
   ]
  },
  {
   "cell_type": "code",
   "execution_count": 2,
   "metadata": {},
   "outputs": [],
   "source": [
    "DATA_DIR = 'data'\n",
    "df_train = pd.read_csv(DATA_DIR+'/main_task.csv')\n",
    "df_test = pd.read_csv(DATA_DIR+'/kaggle_task.csv')\n",
    "sample_submission = pd.read_csv(DATA_DIR+'/sample_submission.csv')"
   ]
  },
  {
   "cell_type": "code",
   "execution_count": 6,
   "metadata": {},
   "outputs": [
    {
     "name": "stdout",
     "output_type": "stream",
     "text": [
      "<class 'pandas.core.frame.DataFrame'>\n",
      "RangeIndex: 40000 entries, 0 to 39999\n",
      "Data columns (total 10 columns):\n",
      " #   Column             Non-Null Count  Dtype  \n",
      "---  ------             --------------  -----  \n",
      " 0   Restaurant_id      40000 non-null  object \n",
      " 1   City               40000 non-null  object \n",
      " 2   Cuisine Style      30717 non-null  object \n",
      " 3   Ranking            40000 non-null  float64\n",
      " 4   Rating             40000 non-null  float64\n",
      " 5   Price Range        26114 non-null  object \n",
      " 6   Number of Reviews  37457 non-null  float64\n",
      " 7   Reviews            40000 non-null  object \n",
      " 8   URL_TA             40000 non-null  object \n",
      " 9   ID_TA              40000 non-null  object \n",
      "dtypes: float64(3), object(7)\n",
      "memory usage: 3.1+ MB\n"
     ]
    }
   ],
   "source": [
    "df_train.info()"
   ]
  },
  {
   "cell_type": "code",
   "execution_count": 5,
   "metadata": {},
   "outputs": [
    {
     "name": "stdout",
     "output_type": "stream",
     "text": [
      "<class 'pandas.core.frame.DataFrame'>\n",
      "RangeIndex: 10000 entries, 0 to 9999\n",
      "Data columns (total 10 columns):\n",
      " #   Column             Non-Null Count  Dtype  \n",
      "---  ------             --------------  -----  \n",
      " 0   Restaurant_id      10000 non-null  object \n",
      " 1   Name               10000 non-null  object \n",
      " 2   City               10000 non-null  object \n",
      " 3   Cuisine Style      7693 non-null   object \n",
      " 4   Ranking            10000 non-null  float64\n",
      " 5   Price Range        6525 non-null   object \n",
      " 6   Number of Reviews  9343 non-null   float64\n",
      " 7   Reviews            9998 non-null   object \n",
      " 8   URL_TA             10000 non-null  object \n",
      " 9   ID_TA              10000 non-null  object \n",
      "dtypes: float64(2), object(8)\n",
      "memory usage: 781.4+ KB\n"
     ]
    }
   ],
   "source": [
    "df_test.info()"
   ]
  },
  {
   "cell_type": "code",
   "execution_count": 7,
   "metadata": {},
   "outputs": [
    {
     "name": "stdout",
     "output_type": "stream",
     "text": [
      "<class 'pandas.core.frame.DataFrame'>\n",
      "RangeIndex: 50000 entries, 0 to 49999\n",
      "Data columns (total 12 columns):\n",
      " #   Column          Non-Null Count  Dtype  \n",
      "---  ------          --------------  -----  \n",
      " 0   restaurant_id   50000 non-null  object \n",
      " 1   name            10000 non-null  object \n",
      " 2   city            50000 non-null  object \n",
      " 3   cuisine_style   38410 non-null  object \n",
      " 4   ranking         50000 non-null  float64\n",
      " 5   price_range     32639 non-null  object \n",
      " 6   reviews_number  46800 non-null  float64\n",
      " 7   reviews         49998 non-null  object \n",
      " 8   url_ta          50000 non-null  object \n",
      " 9   id_ta           50000 non-null  object \n",
      " 10  sample          50000 non-null  int64  \n",
      " 11  rating          50000 non-null  float64\n",
      "dtypes: float64(3), int64(1), object(8)\n",
      "memory usage: 4.6+ MB\n"
     ]
    }
   ],
   "source": [
    "df_train.columns = ['restaurant_id','city','cuisine_style','ranking','rating','price_range','reviews_number','reviews',\n",
    "             'url_ta','id_ta']\n",
    "df_test.columns = ['restaurant_id','name', 'city','cuisine_style','ranking','price_range','reviews_number','reviews',\n",
    "             'url_ta','id_ta']\n",
    "df_train['sample'] = 1 \n",
    "df_test['sample'] = 0 \n",
    "df_test['rating'] = 0 \n",
    "df = df_test.append(df_train, sort=False).reset_index(drop=True)\n",
    "df.info()"
   ]
  },
  {
   "cell_type": "markdown",
   "metadata": {},
   "source": [
    "**Определение random_seed и версии пакетов**"
   ]
  },
  {
   "cell_type": "code",
   "execution_count": 8,
   "metadata": {},
   "outputs": [],
   "source": [
    "RANDOM_SEED = 42\n",
    "!pip freeze > requirements.txt"
   ]
  },
  {
   "cell_type": "markdown",
   "metadata": {},
   "source": [
    "**Добавление признаков на проверку на NaN перед их заменой в колонках**"
   ]
  },
  {
   "cell_type": "code",
   "execution_count": 9,
   "metadata": {},
   "outputs": [],
   "source": [
    "df['number_of_reviews_is_nan'] = pd.isna(df['reviews_number']).astype('uint8')\n",
    "df['price_range_is_nan'] = pd.isna(df['price_range']).astype('uint8')"
   ]
  },
  {
   "cell_type": "markdown",
   "metadata": {},
   "source": [
    "**Добавление относительного ранга ресторана по городам в зависимости от числа ресторанов в нем**"
   ]
  },
  {
   "cell_type": "code",
   "execution_count": 10,
   "metadata": {},
   "outputs": [],
   "source": [
    "rest_count = df.city.value_counts()\n",
    "def get_rest_count(value):\n",
    "    return rest_count[value]\n",
    "#чем больше к единице, тем выше ранг ресторана\n",
    "df['relative_ranking'] = 1-(df['ranking'] / df['city'].map(df.groupby(['city'])['ranking'].max()))"
   ]
  },
  {
   "cell_type": "markdown",
   "metadata": {},
   "source": [
    "**Замена интервалов цен на 0 (низкая), 1 (средняя) и 2 (высокая), NaN - на 1 (как медианное значение), а также вычисление среднего ценового уровня в разных городах**"
   ]
  },
  {
   "cell_type": "code",
   "execution_count": 11,
   "metadata": {},
   "outputs": [],
   "source": [
    "df['price_range'].value_counts()\n",
    "replace_price_range = {'$$ - $$$':1,'$':0,'$$$$':2,float('nan'):1}\n",
    "df['price_range'] = df['price_range'].map(replace_price_range)\n",
    "df['mean_price'] = df['city'].map(df.groupby('city')['price_range'].mean())"
   ]
  },
  {
   "cell_type": "markdown",
   "metadata": {},
   "source": [
    "**Добавление признака, находится ли ресторан в столичном городе**"
   ]
  },
  {
   "cell_type": "code",
   "execution_count": 12,
   "metadata": {},
   "outputs": [],
   "source": [
    "capitals = ['London','Paris','Madrid','Berlin','Rome','Prague','Lisbon','Vienna','Amsterdam',\n",
    "            'Brussels','Stockholm','Budapest','Warsaw','Copenhagen','Athens','Dublin','Oslo','Helsinki',\n",
    "            'Bratislava','Luxembourg','Ljubljana','Edinburgh']\n",
    "def check_if_capital(value):\n",
    "    return 1 if value in capitals else 0\n",
    "df['is_capital'] = df['city'].apply(check_if_capital)"
   ]
  },
  {
   "cell_type": "markdown",
   "metadata": {},
   "source": [
    "**Добавление количества типов кухонь для ресторанов и вычисление количества типов кухонь по городам (будет нужно для признака в дальнейшем)**"
   ]
  },
  {
   "cell_type": "code",
   "execution_count": 13,
   "metadata": {},
   "outputs": [
    {
     "data": {
      "text/plain": [
       "0        None\n",
       "1        None\n",
       "2        None\n",
       "3        None\n",
       "4        None\n",
       "         ... \n",
       "49995    None\n",
       "49996    None\n",
       "49997    None\n",
       "49998    None\n",
       "49999    None\n",
       "Length: 50000, dtype: object"
      ]
     },
     "execution_count": 13,
     "metadata": {},
     "output_type": "execute_result"
    }
   ],
   "source": [
    "cuisine_dict = {}\n",
    "cuisine_list = []\n",
    "import re\n",
    "re_cuisine = re.compile(r\"'([^']+)'\")\n",
    "def get_cuisines_list(value):\n",
    "    if type(value) is not str:\n",
    "        cuisine_list.append('Vegetarian Friendly')\n",
    "        return ['Vegetarian Friendly']#как медианное значение\n",
    "    else:\n",
    "        cuisine_list.extend(re_cuisine.findall(value))\n",
    "        return re_cuisine.findall(value)\n",
    "def create_cuisine_dictionary(raw):\n",
    "    if raw[1] not in cuisine_dict.keys():\n",
    "        cuisine_dict[raw[1]] = []\n",
    "    cuisine_dict[raw[1]].extend(raw[2])\n",
    "\n",
    "df['cuisine_style'] = df['cuisine_style'].apply(get_cuisines_list)\n",
    "df.apply(create_cuisine_dictionary,axis=1)"
   ]
  },
  {
   "cell_type": "markdown",
   "metadata": {},
   "source": [
    "**Вычисление коэффициентов популярности кухни по городам**"
   ]
  },
  {
   "cell_type": "code",
   "execution_count": 14,
   "metadata": {},
   "outputs": [],
   "source": [
    "for key in cuisine_dict.keys():\n",
    "    cuisine_series = pd.Series(cuisine_dict[key]).value_counts()\n",
    "    cuisines_count = cuisine_series.sum()\n",
    "    cuisines = {}\n",
    "    for cuisine in cuisine_series.index:\n",
    "        cuisines[cuisine] = cuisine_series[cuisine] / cuisines_count\n",
    "    cuisine_dict[key] = cuisines"
   ]
  },
  {
   "cell_type": "markdown",
   "metadata": {},
   "source": [
    "**Вычисление количества кухонь для каждого ресторана**"
   ]
  },
  {
   "cell_type": "code",
   "execution_count": 15,
   "metadata": {},
   "outputs": [],
   "source": [
    "df['cuisine_count'] = df['cuisine_style'].apply(lambda x: len(x) if type(x) is list else 1)"
   ]
  },
  {
   "cell_type": "markdown",
   "metadata": {},
   "source": [
    "**Вычисление среднего количества кухонь в ресторанах по городам**"
   ]
  },
  {
   "cell_type": "code",
   "execution_count": 16,
   "metadata": {},
   "outputs": [],
   "source": [
    "df['cuisine_count_mean'] = df['city'].map(df.groupby('city')['cuisine_count'].mean())"
   ]
  },
  {
   "cell_type": "markdown",
   "metadata": {},
   "source": [
    "**Добавление совместного коэффициента популярности кухонь ресторана по городам**"
   ]
  },
  {
   "cell_type": "code",
   "execution_count": 17,
   "metadata": {},
   "outputs": [],
   "source": [
    "def get_cuisines_popularity(raw):\n",
    "    result = 0\n",
    "    if type(raw[2]) is list:\n",
    "        for item in raw[2]:\n",
    "            result = result+cuisine_dict[raw[1]][item]\n",
    "    return result\n",
    "df['cuisine_popularity'] = df.apply(get_cuisines_popularity,axis=1)"
   ]
  },
  {
   "cell_type": "markdown",
   "metadata": {},
   "source": [
    "**Заполнение пропусков в количестве отзывов**"
   ]
  },
  {
   "cell_type": "code",
   "execution_count": 18,
   "metadata": {},
   "outputs": [],
   "source": [
    "df['reviews_number'].fillna(0,inplace=True)"
   ]
  },
  {
   "cell_type": "markdown",
   "metadata": {},
   "source": [
    "**Вычисление количества дней между отзывами**"
   ]
  },
  {
   "cell_type": "code",
   "execution_count": 19,
   "metadata": {},
   "outputs": [],
   "source": [
    "import datetime\n",
    "pattern = re.compile('\\d+\\W\\d+\\W\\d+')\n",
    "def choose_date(reviews):\n",
    "    dates = []\n",
    "    if type(reviews) is str:\n",
    "        dates = pattern.findall(reviews)\n",
    "    return dates\n",
    "def compute_days_reviews(value):\n",
    "    if type(value) is list:\n",
    "        if len(value) == 2:\n",
    "            return abs((pd.to_datetime(str(value[0]))-pd.to_datetime(str(value[1]))).days)\n",
    "    return 0\n",
    "\n",
    "df['dates'] = df['reviews'].apply(choose_date)\n",
    "df['days_between_reviews'] = df['dates'].apply(compute_days_reviews)"
   ]
  },
  {
   "cell_type": "markdown",
   "metadata": {},
   "source": [
    "**Создание dummy variables из price_range**"
   ]
  },
  {
   "cell_type": "code",
   "execution_count": 20,
   "metadata": {},
   "outputs": [],
   "source": [
    "price_dummies = pd.get_dummies(df['price_range'])\n",
    "df = pd.concat([df, price_dummies], axis = 1)"
   ]
  },
  {
   "cell_type": "markdown",
   "metadata": {},
   "source": [
    "**Создание признаков из всех типов кухонь в ресторанах**"
   ]
  },
  {
   "cell_type": "code",
   "execution_count": 21,
   "metadata": {},
   "outputs": [],
   "source": [
    "cuisines = pd.Series(cuisine_list).unique()\n",
    "for cuisine in cuisines:\n",
    "    df[cuisine] = df['cuisine_style'].apply(lambda x: 1 if cuisine in x else 0)"
   ]
  },
  {
   "cell_type": "markdown",
   "metadata": {},
   "source": [
    "**Создание dummy variables из городов датасета**"
   ]
  },
  {
   "cell_type": "code",
   "execution_count": 22,
   "metadata": {},
   "outputs": [],
   "source": [
    "city_dummies = pd.get_dummies(df['city'])\n",
    "df = pd.concat([df, city_dummies], axis = 1)"
   ]
  },
  {
   "cell_type": "markdown",
   "metadata": {},
   "source": [
    "**Добавление уровня среднего дохода в месяц по странам в долларах**"
   ]
  },
  {
   "cell_type": "code",
   "execution_count": 23,
   "metadata": {},
   "outputs": [],
   "source": [
    "#данные взяты из Википедии\n",
    "average_income = {'Paris': 3332, 'Stockholm': 2893, 'London': 2703, 'Berlin': 4392, 'Munich': 4392, 'Oporto': 1288,\n",
    "       'Milan':2726, 'Bratislava':1283, 'Vienna':2940, 'Rome':2726, 'Barcelona':2133, 'Madrid':2133,\n",
    "       'Dublin':3671, 'Brussels':3930, 'Zurich':6244, 'Warsaw':1253, 'Budapest':1187, 'Copenhagen':6192,\n",
    "       'Amsterdam':3238, 'Lyon':3332, 'Hamburg':4392, 'Lisbon':1288, 'Prague':1454, 'Oslo':5450,\n",
    "       'Helsinki':3908, 'Edinburgh':2703, 'Geneva':6244, 'Ljubljana':1914, 'Athens':1203,\n",
    "       'Luxembourg':5854, 'Krakow':1253}\n",
    "df['average_income'] = df['city'].map(average_income)"
   ]
  },
  {
   "cell_type": "markdown",
   "metadata": {},
   "source": [
    "**Добавление плотности населения по городам**"
   ]
  },
  {
   "cell_type": "code",
   "execution_count": 24,
   "metadata": {},
   "outputs": [],
   "source": [
    "#данные взяты из Википедии\n",
    "population_density = {'Paris': 20781, 'Stockholm': 5139.7, 'London': 5667, 'Berlin': 4088, 'Munich': 4713, 'Oporto': 5703,\n",
    "       'Milan':7588.97, 'Bratislava':1171, 'Vienna':4502.88, 'Rome':2234, 'Barcelona':15779, 'Madrid':8653.5,\n",
    "       'Dublin':3689, 'Brussels':5497, 'Zurich':4666, 'Warsaw':3449, 'Budapest':3330.5, 'Copenhagen':6214.7,\n",
    "       'Amsterdam':4768, 'Lyon':10041, 'Hamburg':2388.57, 'Lisbon':6243.9, 'Prague':2506, 'Oslo':1483.41,\n",
    "       'Helsinki':899, 'Edinburgh':4140, 'Geneva':12589, 'Ljubljana':1736, 'Athens':7500,\n",
    "       'Luxembourg':2240, 'Krakow':2344}\n",
    "\n",
    "df['population_density'] = df['city'].map(population_density)"
   ]
  },
  {
   "cell_type": "markdown",
   "metadata": {},
   "source": [
    "**Выбор числовых признаков из датасета**"
   ]
  },
  {
   "cell_type": "code",
   "execution_count": 25,
   "metadata": {},
   "outputs": [],
   "source": [
    "df = df.select_dtypes(include = ['float64', 'int64'])\n",
    "df = df.drop(['ranking','price_range'], axis = 1)"
   ]
  },
  {
   "cell_type": "markdown",
   "metadata": {},
   "source": [
    "**Разделение датасета на части, необходимые для обучения и тестирования модели**"
   ]
  },
  {
   "cell_type": "code",
   "execution_count": 26,
   "metadata": {},
   "outputs": [],
   "source": [
    "train_data = df.query('sample == 1').drop(['sample'], axis=1)\n",
    "test_data = df.query('sample == 0').drop(['sample'], axis=1)\n",
    "\n",
    "y = train_data.rating.values# наш таргет\n",
    "X = train_data.drop(['rating'], axis=1)\n",
    "\n",
    "X_train, X_test, y_train, y_test = train_test_split(X, y, test_size=0.2, random_state=RANDOM_SEED)"
   ]
  },
  {
   "cell_type": "markdown",
   "metadata": {},
   "source": [
    "**Создание, обучение и тестирование модели**"
   ]
  },
  {
   "cell_type": "code",
   "execution_count": 27,
   "metadata": {},
   "outputs": [
    {
     "name": "stderr",
     "output_type": "stream",
     "text": [
      "[Parallel(n_jobs=-1)]: Using backend ThreadingBackend with 12 concurrent workers.\n",
      "[Parallel(n_jobs=-1)]: Done  26 tasks      | elapsed:    1.7s\n"
     ]
    },
    {
     "name": "stdout",
     "output_type": "stream",
     "text": [
      "MAE: 0.174625\n"
     ]
    },
    {
     "name": "stderr",
     "output_type": "stream",
     "text": [
      "[Parallel(n_jobs=-1)]: Done 100 out of 100 | elapsed:    5.3s finished\n",
      "[Parallel(n_jobs=12)]: Using backend ThreadingBackend with 12 concurrent workers.\n",
      "[Parallel(n_jobs=12)]: Done  26 tasks      | elapsed:    0.0s\n",
      "[Parallel(n_jobs=12)]: Done 100 out of 100 | elapsed:    0.0s finished\n"
     ]
    }
   ],
   "source": [
    "from sklearn.ensemble import RandomForestRegressor\n",
    "from sklearn import metrics\n",
    "\n",
    "def result_round(value):\n",
    "    return np.fromiter(map(lambda x: round(x*2,0)/2,value), dtype=np.float)\n",
    "\n",
    "model = RandomForestRegressor(n_estimators=100, verbose=1, n_jobs=-1, random_state=RANDOM_SEED)\n",
    "\n",
    "model.fit(X_train, y_train)\n",
    "\n",
    "y_pred = model.predict(X_test)\n",
    "\n",
    "y_pred_round = result_round(y_pred)\n",
    "print('MAE:', metrics.mean_absolute_error(y_test, y_pred_round))"
   ]
  },
  {
   "cell_type": "code",
   "execution_count": 29,
   "metadata": {},
   "outputs": [
    {
     "data": {
      "text/plain": [
       "<matplotlib.axes._subplots.AxesSubplot at 0x7fa9293dc250>"
      ]
     },
     "execution_count": 29,
     "metadata": {},
     "output_type": "execute_result"
    },
    {
     "data": {
      "image/png": "[encoded data removed]",
      "text/plain": [
       "<Figure size 720x720 with 1 Axes>"
      ]
     },
     "metadata": {
      "needs_background": "light"
     },
     "output_type": "display_data"
    }
   ],
   "source": [
    "plt.figure(figsize=(10,10))\n",
    "feat_importances = pd.Series(model.feature_importances_, index=X.columns)\n",
    "feat_importances.nlargest(15).plot(kind='barh')"
   ]
  },
  {
   "cell_type": "code",
   "execution_count": null,
   "metadata": {},
   "outputs": [],
   "source": []
  }
 ],
 "metadata": {
  "kernelspec": {
   "display_name": "Python 3",
   "language": "python",
   "name": "python3"
  },
  "language_info": {
   "codemirror_mode": {
    "name": "ipython",
    "version": 3
   },
   "file_extension": ".py",
   "mimetype": "text/x-python",
   "name": "python",
   "nbconvert_exporter": "python",
   "pygments_lexer": "ipython3",
   "version": "3.7.4"
  }
 },
 "nbformat": 4,
 "nbformat_minor": 4
}

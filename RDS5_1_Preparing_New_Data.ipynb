{
 "cells": [
  {
   "cell_type": "code",
   "execution_count": 12,
   "metadata": {},
   "outputs": [],
   "source": [
    "import pandas as pd\n",
    "import numpy as np\n",
    "import re"
   ]
  },
  {
   "cell_type": "code",
   "execution_count": 13,
   "metadata": {},
   "outputs": [],
   "source": [
    "df = pd.read_csv('ta_scrapy/fresh_data.csv')"
   ]
  },
  {
   "cell_type": "code",
   "execution_count": 14,
   "metadata": {},
   "outputs": [],
   "source": [
    "df['Is Closed'] = df['Name'].apply(lambda Name: Name.find('CLOSED') != -1)"
   ]
  },
  {
   "cell_type": "code",
   "execution_count": 15,
   "metadata": {},
   "outputs": [],
   "source": [
    "df.loc[df['Is Closed'], 'City'] = None"
   ]
  },
  {
   "cell_type": "code",
   "execution_count": 16,
   "metadata": {},
   "outputs": [
    {
     "data": {
      "text/plain": [
       "17       None\n",
       "23       None\n",
       "35       None\n",
       "38       None\n",
       "44       None\n",
       "         ... \n",
       "48768    None\n",
       "48773    None\n",
       "48774    None\n",
       "48777    None\n",
       "48790    None\n",
       "Name: City, Length: 4939, dtype: object"
      ]
     },
     "execution_count": 16,
     "metadata": {},
     "output_type": "execute_result"
    }
   ],
   "source": [
    "df.loc[df['Is Closed'], 'City']"
   ]
  },
  {
   "cell_type": "code",
   "execution_count": 17,
   "metadata": {},
   "outputs": [],
   "source": [
    "df.drop('Average Marks', axis=1, inplace=True)"
   ]
  },
  {
   "cell_type": "code",
   "execution_count": 18,
   "metadata": {},
   "outputs": [
    {
     "name": "stdout",
     "output_type": "stream",
     "text": [
      "<class 'pandas.core.frame.DataFrame'>\n",
      "RangeIndex: 48809 entries, 0 to 48808\n",
      "Data columns (total 15 columns):\n",
      "Name                 48809 non-null object\n",
      "City                 43829 non-null object\n",
      "Cuisine Style        45619 non-null object\n",
      "Ranking              43837 non-null float64\n",
      "Restaurants Count    43837 non-null float64\n",
      "Relative Ranking     43837 non-null float64\n",
      "Rating               48772 non-null float64\n",
      "Price Range          38980 non-null object\n",
      "Number of Reviews    47288 non-null float64\n",
      "Excellent Marks      48623 non-null float64\n",
      "Very Good Marks      48761 non-null float64\n",
      "Poor Marks           48773 non-null float64\n",
      "Terrible Marks       48773 non-null float64\n",
      "URL_TA               48809 non-null object\n",
      "Is Closed            48809 non-null bool\n",
      "dtypes: bool(1), float64(9), object(5)\n",
      "memory usage: 5.3+ MB\n"
     ]
    }
   ],
   "source": [
    "df.info()"
   ]
  },
  {
   "cell_type": "code",
   "execution_count": 21,
   "metadata": {},
   "outputs": [
    {
     "data": {
      "text/plain": [
       "array(['French, European, International', 'German, Central European',\n",
       "       'Italian', ..., 'Cafe, European, Italian, Bar',\n",
       "       'Pub, Czech, Eastern European, Central European',\n",
       "       'Quick Bites, Caribbean, Fast Food, Barbecue, Jamaican, Halal'],\n",
       "      dtype=object)"
      ]
     },
     "execution_count": 21,
     "metadata": {},
     "output_type": "execute_result"
    }
   ],
   "source": [
    "df['Cuisine Style'].unique()"
   ]
  },
  {
   "cell_type": "code",
   "execution_count": 23,
   "metadata": {},
   "outputs": [],
   "source": [
    "# Создадим функцию, приводящую текст к нижнему регистру и очищающую его от знаков пунктуации\n",
    "def get_cuisines(text):\n",
    "    '''\n",
    "        Функция get_cuisine(text) возвращает список с видами кухонь\n",
    "        из строки вида ''French, European, International'.\n",
    "        Аргументы:\n",
    "            text - строка с текстом\n",
    "        Результат:\n",
    "            список видов (python list)\n",
    "        Пример испольования:\n",
    "            get_words('Hello, world!')\n",
    "        вернет:\n",
    "            ['hello', 'world']\n",
    "    '''\n",
    "    clean_text = ''.join(c for c in clean_text if c not in string.punctuation)\n",
    "    words = clean_text.split()\n",
    "    return words"
   ]
  },
  {
   "cell_type": "code",
   "execution_count": 22,
   "metadata": {},
   "outputs": [],
   "source": [
    "def get_cuisines_list(cuisine):\n",
    "    try:\n",
    "        return '[' + cuisine + ']'\n",
    "    except:\n",
    "        pass\n",
    "    return None"
   ]
  },
  {
   "cell_type": "code",
   "execution_count": 8,
   "metadata": {},
   "outputs": [],
   "source": [
    "df['Cuisine Style'] = df['Cuisine Style'].apply(get_cuisines_list)"
   ]
  },
  {
   "cell_type": "code",
   "execution_count": 9,
   "metadata": {},
   "outputs": [],
   "source": [
    "columns = list()\n",
    "for column in df.columns:\n",
    "    columns.append('New ' + column)\n",
    "\n",
    "df.columns = columns\n",
    "\n",
    "df.to_csv('data/new_data.csv')"
   ]
  },
  {
   "cell_type": "code",
   "execution_count": null,
   "metadata": {},
   "outputs": [],
   "source": []
  }
 ],
 "metadata": {
  "kernelspec": {
   "display_name": "Python 3",
   "language": "python",
   "name": "python3"
  },
  "language_info": {
   "codemirror_mode": {
    "name": "ipython",
    "version": 3
   },
   "file_extension": ".py",
   "mimetype": "text/x-python",
   "name": "python",
   "nbconvert_exporter": "python",
   "pygments_lexer": "ipython3",
   "version": "3.7.4"
  }
 },
 "nbformat": 4,
 "nbformat_minor": 4
}

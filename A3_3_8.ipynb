{
 "cells": [
  {
   "cell_type": "markdown",
   "metadata": {},
   "source": [
    "### Part 1. Introduction"
   ]
  },
  {
   "cell_type": "code",
   "execution_count": 4,
   "metadata": {},
   "outputs": [],
   "source": [
    "math = []\n",
    "\n",
    "f = open('StudentsPerformance.csv')\n",
    "\n",
    "for line in f:\n",
    "    info = line.split(',')\n",
    "    if info[0] == '\"gender\"':\n",
    "        continue\n",
    "    else:\n",
    "        mark = int(info[5][1:-1])\n",
    "        math.append(mark)\n",
    "\n",
    "f.close()"
   ]
  },
  {
   "cell_type": "code",
   "execution_count": 2,
   "metadata": {},
   "outputs": [
    {
     "name": "stdout",
     "output_type": "stream",
     "text": [
      "66.089\n"
     ]
    }
   ],
   "source": [
    "math_avg = sum(math)/len(math)\n",
    "print(math_avg)"
   ]
  },
  {
   "cell_type": "code",
   "execution_count": 3,
   "metadata": {},
   "outputs": [
    {
     "name": "stdout",
     "output_type": "stream",
     "text": [
      "0.493\n"
     ]
    }
   ],
   "source": [
    "above_avg = 0\n",
    "for mark in math:\n",
    "    if mark > math_avg:\n",
    "        above_avg += 1\n",
    "print(above_avg / 1000)"
   ]
  },
  {
   "cell_type": "markdown",
   "metadata": {},
   "source": [
    "### Part 2. Nested lists"
   ]
  },
  {
   "cell_type": "code",
   "execution_count": 5,
   "metadata": {},
   "outputs": [],
   "source": [
    "import re\n",
    "pattern = re.compile('\\d+')\n",
    "\n",
    "exams = []\n",
    "\n",
    "with open('StudentsPerformance.csv') as f:\n",
    "\n",
    "    for line in f:\n",
    "        info = line.split(',')\n",
    "        if info[0] == '\"gender\"':\n",
    "            continue\n",
    "        else:\n",
    "            new_line = []\n",
    "            for item in info:\n",
    "                search_result = pattern.search(item)\n",
    "                if search_result != None:\n",
    "                    new_line.append(int(search_result[0]))\n",
    "                else:\n",
    "                    new_line.append(item[1:-1])\n",
    "            exams.append(new_line)"
   ]
  },
  {
   "cell_type": "code",
   "execution_count": 6,
   "metadata": {},
   "outputs": [
    {
     "data": {
      "text/plain": [
       "[['female', 'group B', \"bachelor's degree\", 'standard', 'none', 72, 72, 74],\n",
       " ['female', 'group C', 'some college', 'standard', 'completed', 69, 90, 88],\n",
       " ['female', 'group B', \"master's degree\", 'standard', 'none', 90, 95, 93],\n",
       " ['male', 'group A', \"associate's degree\", 'free/reduced', 'none', 47, 57, 44],\n",
       " ['male', 'group C', 'some college', 'standard', 'none', 76, 78, 75]]"
      ]
     },
     "execution_count": 6,
     "metadata": {},
     "output_type": "execute_result"
    }
   ],
   "source": [
    "exams[:5]"
   ]
  },
  {
   "cell_type": "code",
   "execution_count": 14,
   "metadata": {},
   "outputs": [
    {
     "name": "stdout",
     "output_type": "stream",
     "text": [
      "Средний бал на тестах по чтению: 69.169\n"
     ]
    }
   ],
   "source": [
    "reading_score_sum = sum(result[6] for result in exams)\n",
    "reading_score_mean = reading_score_sum/len(exams)\n",
    "print(f'Средний бал на тестах по чтению: {reading_score_mean}')"
   ]
  },
  {
   "cell_type": "code",
   "execution_count": 15,
   "metadata": {},
   "outputs": [
    {
     "name": "stdout",
     "output_type": "stream",
     "text": [
      "Количество студентов с оценкой теста по чтению ниже средней: 487\n"
     ]
    }
   ],
   "source": [
    "above_mean_readers_cnt = sum(result[6] < reading_score_mean for result in exams)\n",
    "print(f'Количество студентов с оценкой теста по чтению ниже средней: {above_mean_readers_cnt}')"
   ]
  },
  {
   "cell_type": "code",
   "execution_count": 16,
   "metadata": {},
   "outputs": [],
   "source": [
    "exams_female = [result for result in exams if result[0] == 'female']"
   ]
  },
  {
   "cell_type": "code",
   "execution_count": 21,
   "metadata": {},
   "outputs": [
    {
     "name": "stdout",
     "output_type": "stream",
     "text": [
      "Средний бал девочек на тестах по чтению: 72.60810810810811\n"
     ]
    }
   ],
   "source": [
    "female_reading_score_sum = sum(result[6] for result in exams_female)\n",
    "female_reading_score_mean = female_reading_score_sum/len(exams_female)\n",
    "print(f'Средний бал девочек на тестах по чтению: {female_reading_score_mean}')"
   ]
  },
  {
   "cell_type": "code",
   "execution_count": 23,
   "metadata": {},
   "outputs": [
    {
     "name": "stdout",
     "output_type": "stream",
     "text": [
      "Количество студентов с оценкой теста по письму выше 90: 68\n"
     ]
    }
   ],
   "source": [
    "above_90_writers_exams = [result for result in exams if result[7] > 90]\n",
    "above_90_writers_cnt = len(above_90_writers_exams)\n",
    "\n",
    "print(f'Количество студентов с оценкой теста по письму выше 90: {above_90_writers_cnt}')"
   ]
  },
  {
   "cell_type": "code",
   "execution_count": 25,
   "metadata": {},
   "outputs": [
    {
     "name": "stdout",
     "output_type": "stream",
     "text": [
      "Процент хорошо пообедавших студентов из числа получивших более 90 баллов по письменному тесту: 86.76470588235294\n"
     ]
    }
   ],
   "source": [
    "had_standard_launch_cnt = sum(result[3] == 'standard' for result in above_90_writers_exams)\n",
    "had_standard_launch_pct = had_standard_launch_cnt/len(above_90_writers_exams) * 100.0\n",
    "print(f'Процент хорошо пообедавших студентов из числа получивших более 90 баллов по письменному тесту: {had_standard_launch_pct}')"
   ]
  },
  {
   "cell_type": "code",
   "execution_count": null,
   "metadata": {},
   "outputs": [],
   "source": []
  }
 ],
 "metadata": {
  "kernelspec": {
   "display_name": "Python 3",
   "language": "python",
   "name": "python3"
  },
  "language_info": {
   "codemirror_mode": {
    "name": "ipython",
    "version": 3
   },
   "file_extension": ".py",
   "mimetype": "text/x-python",
   "name": "python",
   "nbconvert_exporter": "python",
   "pygments_lexer": "ipython3",
   "version": "3.6.1"
  }
 },
 "nbformat": 4,
 "nbformat_minor": 2
}

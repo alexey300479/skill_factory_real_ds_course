{
 "cells": [
  {
   "cell_type": "code",
   "execution_count": 20,
   "metadata": {},
   "outputs": [],
   "source": [
    "import json\n",
    "from pprint import pprint"
   ]
  },
  {
   "cell_type": "code",
   "execution_count": 21,
   "metadata": {},
   "outputs": [],
   "source": [
    "with open('recipes.json') as f:\n",
    "    recipes = json.load(f)"
   ]
  },
  {
   "cell_type": "code",
   "execution_count": 49,
   "metadata": {},
   "outputs": [
    {
     "name": "stdout",
     "output_type": "stream",
     "text": [
      "CPU times: user 99.2 ms, sys: 0 ns, total: 99.2 ms\n",
      "Wall time: 98 ms\n"
     ]
    },
    {
     "data": {
      "text/plain": [
       "20"
      ]
     },
     "execution_count": 49,
     "metadata": {},
     "output_type": "execute_result"
    }
   ],
   "source": [
    "%%time\n",
    "for i in range(1000):\n",
    "    cuisines = []  # создаём пустой список для хранения уникальных значений кухонь\n",
    "    for recipe in recipes:  # начинаем перебор всех рецептов\n",
    "       if not(recipe['cuisine'] in cuisines):  # если тип кухни текущего блюда ещё не встречался\n",
    "            cuisines.append(recipe['cuisine']) # добавляем его к списку cuisines\n",
    "len(cuisines)"
   ]
  },
  {
   "cell_type": "code",
   "execution_count": 50,
   "metadata": {},
   "outputs": [
    {
     "name": "stdout",
     "output_type": "stream",
     "text": [
      "CPU times: user 83.2 ms, sys: 0 ns, total: 83.2 ms\n",
      "Wall time: 82 ms\n"
     ]
    }
   ],
   "source": [
    "%%time\n",
    "for i in range(1000):\n",
    "    cuisines = set()\n",
    "    for recipe in recipes:\n",
    "        cuisines.add(recipe['cuisine'])\n",
    "    len(cuisines)"
   ]
  },
  {
   "cell_type": "markdown",
   "metadata": {},
   "source": [
    "#### Task 1.\n",
    "Сколько ингредиентов включено в состав всех блюд, описанных в наборе данных?\n",
    "\n",
    "Подсказка: Обратите внимание, что для добавления в список или множество нового ингредиента вам нужно будет организовать перебор ингредиентов каждого блюда в отдельном вложенном цикле."
   ]
  },
  {
   "cell_type": "markdown",
   "metadata": {},
   "source": [
    "#### Solution:"
   ]
  },
  {
   "cell_type": "code",
   "execution_count": 54,
   "metadata": {},
   "outputs": [
    {
     "data": {
      "text/plain": [
       "1318"
      ]
     },
     "execution_count": 54,
     "metadata": {},
     "output_type": "execute_result"
    }
   ],
   "source": [
    "ingredients = set()\n",
    "for recipe in recipes:\n",
    "    ingredients = ingredients | set(recipe['ingredients'])\n",
    "len(ingredients)"
   ]
  },
  {
   "cell_type": "markdown",
   "metadata": {},
   "source": [
    "#### Conclusion: 1318 is the right answer!!!"
   ]
  },
  {
   "cell_type": "markdown",
   "metadata": {},
   "source": [
    "#### Task 2.\n",
    "Сколько ингредиентов встречается в рецептах блюд итальянской кухни ('cuisine' = italian)?"
   ]
  },
  {
   "cell_type": "markdown",
   "metadata": {},
   "source": [
    "#### Solution:"
   ]
  },
  {
   "cell_type": "code",
   "execution_count": 55,
   "metadata": {},
   "outputs": [
    {
     "data": {
      "text/plain": [
       "406"
      ]
     },
     "execution_count": 55,
     "metadata": {},
     "output_type": "execute_result"
    }
   ],
   "source": [
    "ingredients = set()\n",
    "for recipe in recipes:\n",
    "    if recipe['cuisine'] == 'italian':\n",
    "        ingredients = ingredients | set(recipe['ingredients'])\n",
    "len(ingredients)"
   ]
  },
  {
   "cell_type": "markdown",
   "metadata": {},
   "source": [
    "#### Conclusion: 406 is the right answer!!!"
   ]
  },
  {
   "cell_type": "markdown",
   "metadata": {},
   "source": [
    "#### Task 3.\n",
    "Какие ингредиенты не встречаются в рецептах блюд русской кухни ('cuisine' = 'russian')?\n",
    "- bacon\n",
    "- bread slices\n",
    "- buttermilk\n",
    "- red beets\n",
    "- mozzarella cheese\n",
    "- carrots"
   ]
  },
  {
   "cell_type": "markdown",
   "metadata": {},
   "source": [
    "#### Solution:"
   ]
  },
  {
   "cell_type": "code",
   "execution_count": 56,
   "metadata": {},
   "outputs": [
    {
     "data": {
      "text/plain": [
       "{'bacon', 'bread slices', 'carrots'}"
      ]
     },
     "execution_count": 56,
     "metadata": {},
     "output_type": "execute_result"
    }
   ],
   "source": [
    "ingredientns_to_find = {\n",
    "    'bacon',\n",
    "    'bread slices',\n",
    "    'buttermilk',\n",
    "    'red beets',\n",
    "    'mozzarella cheese',\n",
    "    'carrots',\n",
    "}\n",
    "\n",
    "russian_ingredients = set()\n",
    "for recipe in recipes:\n",
    "    if recipe['cuisine'] == 'russian':\n",
    "        russian_ingredients = russian_ingredients | set(recipe['ingredients'])\n",
    "\n",
    "ingredientns_to_find.difference(russian_ingredients)"
   ]
  },
  {
   "cell_type": "markdown",
   "metadata": {},
   "source": [
    "#### Conclusion: {'bacon', 'bread slices', 'carrots'} is the right answer!!!"
   ]
  },
  {
   "cell_type": "code",
   "execution_count": 59,
   "metadata": {},
   "outputs": [],
   "source": [
    "ingredients = set()\n",
    "\n",
    "for recipe in recipes:\n",
    "    ingredients = ingredients | set(recipe['ingredients'])\n",
    "\n",
    "food = dict()\n",
    "for ingredient in ingredients:\n",
    "    food[ingredient] = 0\n",
    "\n",
    "for recipe in recipes:\n",
    "    for ingredient in recipe['ingredients']:\n",
    "        food[ingredient] += 1"
   ]
  },
  {
   "cell_type": "markdown",
   "metadata": {},
   "source": [
    "#### Task 4.\n",
    "Какие ингредиенты входят в состав более чем 20% блюд, представленных в наборе данных?\n",
    "\n",
    "Подсказка: Напоминаем, что весь набор данных содержит сведения о 500 блюдах.\n",
    "- water\n",
    "- olive oil\n",
    "- salt\n",
    "- garlic\n",
    "- pepper "
   ]
  },
  {
   "cell_type": "markdown",
   "metadata": {},
   "source": [
    "#### Solution:"
   ]
  },
  {
   "cell_type": "code",
   "execution_count": 63,
   "metadata": {},
   "outputs": [
    {
     "data": {
      "text/plain": [
       "{'garlic', 'salt'}"
      ]
     },
     "execution_count": 63,
     "metadata": {},
     "output_type": "execute_result"
    }
   ],
   "source": [
    "ingredients_to_check = {\n",
    "    'water',\n",
    "    'olive oil',\n",
    "    'salt',\n",
    "    'garlic',\n",
    "    'pepper'\n",
    "}\n",
    "\n",
    "more_20pct_ingredients = set()\n",
    "\n",
    "for ingredient in ingredients_to_check:\n",
    "    if food[ingredient] > 100:\n",
    "        more_20pct_ingredients.add(ingredient)\n",
    "\n",
    "more_20pct_ingredients"
   ]
  },
  {
   "cell_type": "markdown",
   "metadata": {},
   "source": [
    "#### Conclusion: {'garlic', 'salt'} is the right answer!!!"
   ]
  },
  {
   "cell_type": "markdown",
   "metadata": {},
   "source": [
    "#### Task 5.\n",
    "Какой ингредиент входит в состав самого большого количества блюд?"
   ]
  },
  {
   "cell_type": "markdown",
   "metadata": {},
   "source": [
    "#### Solution:"
   ]
  },
  {
   "cell_type": "code",
   "execution_count": 64,
   "metadata": {},
   "outputs": [
    {
     "data": {
      "text/plain": [
       "'salt'"
      ]
     },
     "execution_count": 64,
     "metadata": {},
     "output_type": "execute_result"
    }
   ],
   "source": [
    "max_count = 0\n",
    "most_often_used_ingredient = ''\n",
    "\n",
    "for ingredient in ingredients:\n",
    "    if food[ingredient] > max_count:\n",
    "        max_count = food[ingredient]\n",
    "        most_often_used_ingredient = ingredient\n",
    "\n",
    "most_often_used_ingredient"
   ]
  },
  {
   "cell_type": "markdown",
   "metadata": {},
   "source": [
    "#### Conclusion: 'salt' is the right answer!!!"
   ]
  },
  {
   "cell_type": "markdown",
   "metadata": {},
   "source": [
    "#### Task 6.\n",
    "Сколько ингредиентов входит в состав только одного блюда?"
   ]
  },
  {
   "cell_type": "markdown",
   "metadata": {},
   "source": [
    "#### Solution:"
   ]
  },
  {
   "cell_type": "code",
   "execution_count": 66,
   "metadata": {},
   "outputs": [
    {
     "data": {
      "text/plain": [
       "684"
      ]
     },
     "execution_count": 66,
     "metadata": {},
     "output_type": "execute_result"
    }
   ],
   "source": [
    "one_food_count = 0\n",
    "for ingredient in ingredients:\n",
    "    if food[ingredient] == 1:\n",
    "        one_food_count += 1\n",
    "one_food_count"
   ]
  },
  {
   "cell_type": "markdown",
   "metadata": {},
   "source": [
    "#### Conclusion: 684 is the right answer!!!"
   ]
  },
  {
   "cell_type": "code",
   "execution_count": null,
   "metadata": {},
   "outputs": [],
   "source": []
  }
 ],
 "metadata": {
  "kernelspec": {
   "display_name": "Python 3",
   "language": "python",
   "name": "python3"
  },
  "language_info": {
   "codemirror_mode": {
    "name": "ipython",
    "version": 3
   },
   "file_extension": ".py",
   "mimetype": "text/x-python",
   "name": "python",
   "nbconvert_exporter": "python",
   "pygments_lexer": "ipython3",
   "version": "3.7.4"
  }
 },
 "nbformat": 4,
 "nbformat_minor": 4
}

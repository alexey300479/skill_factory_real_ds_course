{
 "cells": [
  {
   "cell_type": "code",
   "execution_count": 1,
   "metadata": {},
   "outputs": [],
   "source": [
    "y_happy = [4,20,110,15,23]"
   ]
  },
  {
   "cell_type": "code",
   "execution_count": 2,
   "metadata": {},
   "outputs": [],
   "source": [
    "y_happy_pred = [5,15,100,9,21]"
   ]
  },
  {
   "cell_type": "code",
   "execution_count": 3,
   "metadata": {},
   "outputs": [],
   "source": [
    "from sklearn import metrics"
   ]
  },
  {
   "cell_type": "code",
   "execution_count": 5,
   "metadata": {},
   "outputs": [
    {
     "data": {
      "text/plain": [
       "4.8"
      ]
     },
     "execution_count": 5,
     "metadata": {},
     "output_type": "execute_result"
    }
   ],
   "source": [
    "MAE = metrics.mean_absolute_error(y_happy, y_happy_pred)\n",
    "MAE"
   ]
  },
  {
   "cell_type": "code",
   "execution_count": 7,
   "metadata": {},
   "outputs": [
    {
     "data": {
      "text/plain": [
       "33.2"
      ]
     },
     "execution_count": 7,
     "metadata": {},
     "output_type": "execute_result"
    }
   ],
   "source": [
    "MSE = metrics.mean_squared_error(y_happy, y_happy_pred)\n",
    "MSE"
   ]
  },
  {
   "cell_type": "code",
   "execution_count": 9,
   "metadata": {},
   "outputs": [
    {
     "data": {
      "text/plain": [
       "0.9774247946472284"
      ]
     },
     "execution_count": 9,
     "metadata": {},
     "output_type": "execute_result"
    }
   ],
   "source": [
    "R_2 = metrics.r2_score(y_happy, y_happy_pred)\n",
    "R_2"
   ]
  },
  {
   "cell_type": "markdown",
   "metadata": {},
   "source": [
    "### Задание 3.3.1\n",
    "Чему равна MSE на этих данных\n",
    "<table style=\"width: 60%; border-collapse: collapse; border: 1px solid grey; background-color: #deffdf;\">\n",
    "  <tbody>\n",
    "    <tr style=\"height: 34px;\">\n",
    "      <td style=\"border: 1px solid grey; width: 20%; height: 34px; text-align: center;\">Предсказанное значение</td>\n",
    "      <td style=\"border: 1px solid grey; width: 20%; height: 34px; text-align: center;\">1</td>\n",
    "      <td style=\"border: 1px solid grey; width: 20%; height: 34px; text-align: center;\">3</td>\n",
    "      <td style=\"border: 1px solid grey; width: 20%; height: 34px; text-align: center;\">2</td>\n",
    "      <td style=\"border: 1px solid grey; width: 20%; height: 34px; text-align: center;\">5</td>\n",
    "    </tr>\n",
    "    <tr style=\"height: 17px;\">\n",
    "      <td style=\"border: 1px solid grey; width: 20%; height: 17px; text-align: center;\">Истинное значение</td>\n",
    "      <td style=\"border: 1px solid grey; width: 20%; height: 17px; text-align: center;\">2</td>\n",
    "      <td style=\"border: 1px solid grey; width: 20%; height: 17px; text-align: center;\">3</td>\n",
    "      <td style=\"border: 1px solid grey; width: 20%; height: 17px; text-align: center;\">-1</td>\n",
    "      <td style=\"border: 1px solid grey; width: 20%; height: 17px; text-align: center;\">4</td>\n",
    "    </tr>\n",
    "  </tbody>\n",
    "</table>"
   ]
  },
  {
   "cell_type": "code",
   "execution_count": 10,
   "metadata": {},
   "outputs": [],
   "source": [
    "y  = [1, 3, 2, 5]\n",
    "y_pred = [2, 3, -1, 4]"
   ]
  },
  {
   "cell_type": "code",
   "execution_count": 11,
   "metadata": {},
   "outputs": [
    {
     "data": {
      "text/plain": [
       "2.75"
      ]
     },
     "execution_count": 11,
     "metadata": {},
     "output_type": "execute_result"
    }
   ],
   "source": [
    "MSE = metrics.mean_squared_error(y, y_pred)\n",
    "MSE"
   ]
  },
  {
   "cell_type": "code",
   "execution_count": null,
   "metadata": {},
   "outputs": [],
   "source": []
  }
 ],
 "metadata": {
  "kernelspec": {
   "display_name": "Python 3",
   "language": "python",
   "name": "python3"
  },
  "language_info": {
   "codemirror_mode": {
    "name": "ipython",
    "version": 3
   },
   "file_extension": ".py",
   "mimetype": "text/x-python",
   "name": "python",
   "nbconvert_exporter": "python",
   "pygments_lexer": "ipython3",
   "version": "3.7.4"
  }
 },
 "nbformat": 4,
 "nbformat_minor": 4
}

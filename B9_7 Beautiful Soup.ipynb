{
 "cells": [
  {
   "cell_type": "code",
   "execution_count": 3,
   "metadata": {},
   "outputs": [],
   "source": [
    "# Импортируем наши библиотеки    \n",
    "from bs4 import BeautifulSoup\n",
    "import requests"
   ]
  },
  {
   "cell_type": "code",
   "execution_count": 4,
   "metadata": {},
   "outputs": [],
   "source": [
    "# Получаем данные, как и ранее    \n",
    "url = 'https://nplus1.ru/news/2019/06/04/slothbot'   \n",
    "response = requests.get(url) "
   ]
  },
  {
   "cell_type": "code",
   "execution_count": 5,
   "metadata": {},
   "outputs": [],
   "source": [
    "# Теперь создадим объект BeautifulSoup, указывая html парсер    \n",
    "page = BeautifulSoup(response.text, 'html.parser')"
   ]
  },
  {
   "cell_type": "code",
   "execution_count": 6,
   "metadata": {},
   "outputs": [
    {
     "name": "stdout",
     "output_type": "stream",
     "text": [
      "<title>Робота-ленивца научили лазать по паутине из тросов</title>\n"
     ]
    }
   ],
   "source": [
    "# Всё готово, чтобы получать данные из страницы    \n",
    "# Для начала получим title, отображающийся на закладках браузера    \n",
    "print(page.title)  \n",
    "# => <title>Робота-ленивца научили лазать по паутине из тросов</title>"
   ]
  },
  {
   "cell_type": "code",
   "execution_count": 7,
   "metadata": {},
   "outputs": [
    {
     "data": {
      "text/plain": [
       "'Робота-ленивца научили лазать по паутине из тросов'"
      ]
     },
     "execution_count": 7,
     "metadata": {},
     "output_type": "execute_result"
    }
   ],
   "source": [
    "# Мы получили тэг. Чтобы достать из него текст, вызовем атрибут text    \n",
    "page.title.text    \n",
    "# => 'Робота-ленивца научили лазать по паутине из тросов'  "
   ]
  },
  {
   "cell_type": "code",
   "execution_count": null,
   "metadata": {},
   "outputs": [],
   "source": []
  }
 ],
 "metadata": {
  "kernelspec": {
   "display_name": "Python 3",
   "language": "python",
   "name": "python3"
  },
  "language_info": {
   "codemirror_mode": {
    "name": "ipython",
    "version": 3
   },
   "file_extension": ".py",
   "mimetype": "text/x-python",
   "name": "python",
   "nbconvert_exporter": "python",
   "pygments_lexer": "ipython3",
   "version": "3.7.4"
  }
 },
 "nbformat": 4,
 "nbformat_minor": 4
}

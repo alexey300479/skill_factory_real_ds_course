{
 "cells": [
  {
   "cell_type": "code",
   "execution_count": 13,
   "metadata": {},
   "outputs": [],
   "source": [
    "import re"
   ]
  },
  {
   "cell_type": "code",
   "execution_count": 12,
   "metadata": {},
   "outputs": [],
   "source": [
    "def check_matches(pattern, strings):\n",
    "    pattern = re.compile(pattern)\n",
    "    results = [pattern.match(string)!=None for string in strings]\n",
    "    return dict(zip(strings, results))"
   ]
  },
  {
   "cell_type": "code",
   "execution_count": 18,
   "metadata": {},
   "outputs": [
    {
     "data": {
      "text/plain": [
       "{'Африка - моя любовь!': True,\n",
       " 'Арбуз полезен для здоровья.': False,\n",
       " 'А - первая буква в алфавите.': False,\n",
       " 'Ах - это вам не ох!': True}"
      ]
     },
     "execution_count": 18,
     "metadata": {},
     "output_type": "execute_result"
    }
   ],
   "source": [
    "pattern = r'[АЕИ][а-я]+\\s\\-\\s[а-я]+'\n",
    "\n",
    "strings = [\n",
    "    'Африка - моя любовь!',\n",
    "    'Арбуз полезен для здоровья.',\n",
    "    'А - первая буква в алфавите.',\n",
    "    'Ах - это вам не ох!'\n",
    "]\n",
    "\n",
    "check_matches(pattern, strings)"
   ]
  },
  {
   "cell_type": "code",
   "execution_count": 19,
   "metadata": {},
   "outputs": [
    {
     "data": {
      "text/plain": [
       "{'!13ff !': True, '~sss !': True, '*123456789abcdefgh !': True, '=13x !': True}"
      ]
     },
     "execution_count": 19,
     "metadata": {},
     "output_type": "execute_result"
    }
   ],
   "source": [
    "pattern = r'\\W\\d*\\w+\\s!'\n",
    "\n",
    "strings = [\n",
    "    '!13ff !',\n",
    "    '~sss !',\n",
    "    '*123456789abcdefgh !',\n",
    "    '=13x !'\n",
    "]\n",
    "\n",
    "check_matches(pattern, strings)"
   ]
  },
  {
   "cell_type": "code",
   "execution_count": 20,
   "metadata": {},
   "outputs": [],
   "source": [
    "import re\n",
    "pattern = re.compile('\\d\\d\\d')\n",
    "secret = pattern.findall('2 x 2 = 4') "
   ]
  },
  {
   "cell_type": "code",
   "execution_count": 21,
   "metadata": {},
   "outputs": [
    {
     "data": {
      "text/plain": [
       "[]"
      ]
     },
     "execution_count": 21,
     "metadata": {},
     "output_type": "execute_result"
    }
   ],
   "source": [
    "secret"
   ]
  },
  {
   "cell_type": "code",
   "execution_count": null,
   "metadata": {},
   "outputs": [],
   "source": []
  }
 ],
 "metadata": {
  "kernelspec": {
   "display_name": "Python 3",
   "language": "python",
   "name": "python3"
  },
  "language_info": {
   "codemirror_mode": {
    "name": "ipython",
    "version": 3
   },
   "file_extension": ".py",
   "mimetype": "text/x-python",
   "name": "python",
   "nbconvert_exporter": "python",
   "pygments_lexer": "ipython3",
   "version": "3.6.1"
  }
 },
 "nbformat": 4,
 "nbformat_minor": 2
}

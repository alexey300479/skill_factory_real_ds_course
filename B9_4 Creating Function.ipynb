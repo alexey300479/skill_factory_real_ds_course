{
 "cells": [
  {
   "cell_type": "code",
   "execution_count": 1,
   "metadata": {},
   "outputs": [],
   "source": [
    "import requests"
   ]
  },
  {
   "cell_type": "code",
   "execution_count": 2,
   "metadata": {},
   "outputs": [],
   "source": [
    "def exchange_rates(currency, format='full'):\n",
    "    url = 'https://www.cbr-xml-daily.ru/daily_json.js'\n",
    "    response = requests.get(url).json['Valute']\n",
    "    data = response[currency]\n",
    "    if format == 'full':\n",
    "        return data\n",
    "    else:\n",
    "        return data['Value']"
   ]
  },
  {
   "cell_type": "markdown",
   "metadata": {},
   "source": [
    "#### Task 1.\n",
    "Напишите функцию currency_name, которая по ID валюты возвращает ее название на русском языке.\n",
    "``` python\n",
    "currency_name('R01700J')\n",
    "#=> 'Турецкая лира' \n",
    "```"
   ]
  },
  {
   "cell_type": "markdown",
   "metadata": {},
   "source": [
    "#### Solution:"
   ]
  },
  {
   "cell_type": "code",
   "execution_count": 22,
   "metadata": {},
   "outputs": [],
   "source": [
    "def currency_name(currency_id):\n",
    "    url = 'https://www.cbr-xml-daily.ru/daily_json.js'\n",
    "    response = requests.get(url)\n",
    "    currencies = response.json()['Valute']\n",
    "    for currency, info in currencies.items():\n",
    "        if info['ID'] == currency_id:\n",
    "            return info['Name']"
   ]
  },
  {
   "cell_type": "code",
   "execution_count": 23,
   "metadata": {},
   "outputs": [
    {
     "data": {
      "text/plain": [
       "'Турецкая лира'"
      ]
     },
     "execution_count": 23,
     "metadata": {},
     "output_type": "execute_result"
    }
   ],
   "source": [
    "currency_name('R01700J')"
   ]
  },
  {
   "cell_type": "markdown",
   "metadata": {},
   "source": [
    "#### Conclusion: the code above is one of the right answers!!!"
   ]
  },
  {
   "cell_type": "code",
   "execution_count": null,
   "metadata": {},
   "outputs": [],
   "source": []
  }
 ],
 "metadata": {
  "kernelspec": {
   "display_name": "Python 3",
   "language": "python",
   "name": "python3"
  },
  "language_info": {
   "codemirror_mode": {
    "name": "ipython",
    "version": 3
   },
   "file_extension": ".py",
   "mimetype": "text/x-python",
   "name": "python",
   "nbconvert_exporter": "python",
   "pygments_lexer": "ipython3",
   "version": "3.7.4"
  }
 },
 "nbformat": 4,
 "nbformat_minor": 4
}

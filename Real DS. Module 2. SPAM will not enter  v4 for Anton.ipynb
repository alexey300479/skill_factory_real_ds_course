{
 "cells": [
  {
   "cell_type": "markdown",
   "metadata": {},
   "source": [
    "Модуль 2. Спам не пройдет"
   ]
  },
  {
   "cell_type": "markdown",
   "metadata": {},
   "source": [
    "# Модуль 2. Спам не пройдет"
   ]
  },
  {
   "cell_type": "code",
   "execution_count": 1,
   "metadata": {},
   "outputs": [],
   "source": [
    "from collections import Counter  #библиотека для словаря, который позволяет нам считать количество неизменяемых слов\n",
    "import re  #библиотека для очистки слов от знаков препинания\n",
    "import pandas as pd"
   ]
  },
  {
   "cell_type": "code",
   "execution_count": 2,
   "metadata": {},
   "outputs": [],
   "source": [
    "# в заданной обучающей выборке писем SPAM and NOT_SPAM\n",
    "# чтобы не менять их на строки вручную и чтобы Python не ругался при вводе, \n",
    "# зададим переменные SPAM and NOT_SPAM\n",
    "SPAM = 1\n",
    "NOT_SPAM = 0"
   ]
  },
  {
   "cell_type": "code",
   "execution_count": 3,
   "metadata": {},
   "outputs": [],
   "source": [
    "#обучаюшая выборка со SPAM and NOT_SPAM письмами из задания \n",
    "train_data = [['Купите новое чистящее средство', SPAM],\n",
    "              ['Купи мою новую книгу', SPAM],  \n",
    "              ['Подари себе новый телефон', SPAM],\n",
    "              ['Добро пожаловать и купите новый телевизор', SPAM],\n",
    "              ['Привет давно не виделись', NOT_SPAM], \n",
    "              ['Довезем до аэропорта из пригорода всего за 399 рублей', SPAM], \n",
    "              ['Добро пожаловать в Мой Круг', NOT_SPAM],  \n",
    "              ['Я все еще жду документы', NOT_SPAM],  \n",
    "              ['Приглашаем на конференцию Data Science', NOT_SPAM],\n",
    "              ['Потерял твой телефон напомни', NOT_SPAM],\n",
    "              ['Порадуй своего питомца новым костюмом', SPAM]]  "
   ]
  },
  {
   "cell_type": "code",
   "execution_count": 4,
   "metadata": {},
   "outputs": [],
   "source": [
    "# инициируем словари для слов из писем со SPAM and NOT_SPAM\n",
    "\n",
    "dict_of_Spam_words = Counter()\n",
    "dict_of_NOspam_words = Counter()"
   ]
  },
  {
   "cell_type": "code",
   "execution_count": 5,
   "metadata": {},
   "outputs": [],
   "source": [
    "# функцию которая заполняет словари. Она будет принимать на вход письмо и его метку \n",
    "# — спам это или не спам и раскладывать по словарям считая вхождения\n",
    "\n",
    "def calculate_word_frequencies(d_text, d_label):\n",
    "    list_of_words = d_text.lower().strip().split(\" \")  #делаем маленьким регистром и убираем пробелы\n",
    "    if d_label == 1:\n",
    "        for word in list_of_words:\n",
    "            dict_of_Spam_words[word] += 1  #если письмо спам (SPAM==1) тогда заполняем словарь SPAM\n",
    "    \n",
    "    else:\n",
    "        for word in list_of_words:\n",
    "            dict_of_NOspam_words[word] += 1  #если письмо не спам (SPAM!=1) тогда заполняем словарь NoSPAM\n",
    "    \n",
    "    return"
   ]
  },
  {
   "cell_type": "code",
   "execution_count": 6,
   "metadata": {},
   "outputs": [],
   "source": [
    "# инициируем переменные вероятностей A и not A — вероятность встретить спам и не встретить спам\n",
    "# в задании предлагаю назвать эти переменные pA и pNotA, но я назвал более понятно для себя\n",
    "freq_of_spam = 0.0\n",
    "freq_of_NOspam = 0.0\n"
   ]
  },
  {
   "cell_type": "code",
   "execution_count": 7,
   "metadata": {},
   "outputs": [],
   "source": [
    "# заполняем словари\n",
    "\n",
    "count_of_letter_of_SPAM = 0  # инициализируем переменнные счетчиков для подчета писем SPAM and NOspam\n",
    "count_of_letter_of_NOspam = 0\n",
    "\n",
    "for elem in train_data:\n",
    "    if elem[1] == 1:\n",
    "        count_of_letter_of_SPAM += 1\n",
    "    else:\n",
    "        count_of_letter_of_NOspam += 1\n",
    "    calculate_word_frequencies(*elem)\n",
    "\n",
    "freq_of_spam = count_of_letter_of_SPAM / (count_of_letter_of_SPAM + count_of_letter_of_NOspam)\n",
    "freq_of_NOspam = count_of_letter_of_NOspam / (count_of_letter_of_SPAM + count_of_letter_of_NOspam)"
   ]
  },
  {
   "cell_type": "code",
   "execution_count": 8,
   "metadata": {},
   "outputs": [
    {
     "data": {
      "text/plain": [
       "0.5454545454545454"
      ]
     },
     "execution_count": 8,
     "metadata": {},
     "output_type": "execute_result"
    }
   ],
   "source": [
    "freq_of_spam"
   ]
  },
  {
   "cell_type": "code",
   "execution_count": 9,
   "metadata": {},
   "outputs": [
    {
     "data": {
      "text/plain": [
       "0.45454545454545453"
      ]
     },
     "execution_count": 9,
     "metadata": {},
     "output_type": "execute_result"
    }
   ],
   "source": [
    "freq_of_NOspam"
   ]
  },
  {
   "cell_type": "code",
   "execution_count": 10,
   "metadata": {},
   "outputs": [],
   "source": [
    "# Пишем функцию для обучения\n",
    "\n",
    "def train(d_train_data):\n",
    "    \n",
    "    d_count_of_letter_of_SPAM = 0  # инициализируем переменнные счетчиков для подчета писем SPAM and NOspam\n",
    "    d_count_of_letter_of_NOspam = 0\n",
    "    \n",
    "    for elem in d_train_data:\n",
    "        global freq_of_spam, freq_of_NOspam  # пропишем глобальные переменные freq_of_spam, freq_of_NOspam\n",
    "        if elem[1] == 1:\n",
    "            d_count_of_letter_of_SPAM += 1\n",
    "           \n",
    "        else:\n",
    "            d_count_of_letter_of_NOspam += 1\n",
    "        calculate_word_frequencies(*elem)\n",
    "\n",
    "    freq_of_spam = d_count_of_letter_of_SPAM / (d_count_of_letter_of_SPAM + d_count_of_letter_of_NOspam)\n",
    "    freq_of_spam = round(freq_of_spam,4)\n",
    "    # подсчитываем частоту SPAM писем на тренировочных данных\n",
    "    # кол-во писем со спамом делим на общее кол-во писем\n",
    "    # это в задании называется pA - вероятность спама вообще\n",
    "    # округляем до 2 знака\n",
    "    \n",
    "    freq_of_NOspam = 1 - freq_of_spam\n",
    "    # подсчитываем частоту NOT_SPAM писем как раницу 1-pA\n",
    "    # это в задании pNotA - вероятность НЕ спама вообще\n",
    "    # 100% вычитаем pA - так как pA + pNotA = 1 = 100%\n",
    "    \n",
    "    return print(\"system message: def train completed successfully\")"
   ]
  },
  {
   "cell_type": "code",
   "execution_count": 11,
   "metadata": {},
   "outputs": [
    {
     "name": "stdout",
     "output_type": "stream",
     "text": [
      "system message: def train completed successfully\n"
     ]
    }
   ],
   "source": [
    "freq_of_spam = 0.0\n",
    "freq_of_NOspam = 0.0\n",
    "dict_of_Spam_words = Counter()\n",
    "dict_of_NOspam_words = Counter()\n",
    "train(train_data)"
   ]
  },
  {
   "cell_type": "code",
   "execution_count": 12,
   "metadata": {},
   "outputs": [],
   "source": [
    "# инициализируем глабальные константы для расчета вероятностей \n",
    "alfa = 1  #параметр для сглаживания\n",
    "N_spam = sum(dict_of_Spam_words.values())  # количество ВСЕХ слов входящих в тренировочную выборку писем SPAM\n",
    "N_nospam = sum(dict_of_NOspam_words.values())  # количество ВСЕХ слов входящих в тренировочную выборку писем NOT_SPAM\n",
    "NU_spam = len(dict_of_Spam_words)  # количество УНИКАЛЬНЫХ слов входящих в тренировочную выборку писем SPAM\n",
    "NU_nospam = len(dict_of_NOspam_words)  # количество УНИКАЛЬНЫХ слов входящих в тренировочную выборку писем NOT_SPAM"
   ]
  },
  {
   "cell_type": "code",
   "execution_count": 13,
   "metadata": {},
   "outputs": [],
   "source": [
    "# функцию подсчета вероятности вхождения слова Xi в класс d_label (SPAM or NOT_spam)\n",
    "# или другими словами для каждого слова вероятность того, что это спам, и того, что это не спам\n",
    "def calculate_P_Bi_A(d_word, d_label):\n",
    "    if d_label == 1:\n",
    "        temp_freq = (alfa + dict_of_Spam_words[d_word])/(alfa*NU_spam + N_spam)\n",
    "        # print(f\"{d_word} in {d_label} := {temp_freq}\")\n",
    "        return temp_freq\n",
    "    else:\n",
    "        temp_freq = (alfa + dict_of_NOspam_words[d_word])/(alfa* NU_nospam + N_nospam)\n",
    "        # print(f\"{d_word} in {d_label} := {temp_freq}\")      \n",
    "        return temp_freq"
   ]
  },
  {
   "cell_type": "code",
   "execution_count": 14,
   "metadata": {},
   "outputs": [
    {
     "data": {
      "text/plain": [
       "0.9999999999999994"
      ]
     },
     "execution_count": 14,
     "metadata": {},
     "output_type": "execute_result"
    }
   ],
   "source": [
    "# проверка Антона \n",
    "sum([calculate_P_Bi_A(w,SPAM) for w in dict_of_Spam_words.keys()])"
   ]
  },
  {
   "cell_type": "code",
   "execution_count": 15,
   "metadata": {},
   "outputs": [
    {
     "data": {
      "text/plain": [
       "0.9999999999999996"
      ]
     },
     "execution_count": 15,
     "metadata": {},
     "output_type": "execute_result"
    }
   ],
   "source": [
    "# проверка Антона \n",
    "sum([calculate_P_Bi_A(w,NOT_SPAM) for w in dict_of_NOspam_words.keys()])"
   ]
  },
  {
   "cell_type": "code",
   "execution_count": 16,
   "metadata": {},
   "outputs": [],
   "source": [
    "#инициирование новых глобальных переменных исходя из тесттекста\n",
    "    \n",
    "def initiation_of_new_global_var(d_text):\n",
    "    global N_spam, N_nospam, NU_spam, NU_nospam\n",
    "    \n",
    "    ws = set(re.sub(r\"[!?]+$\", \"\", elem) for elem in d_text.lower().strip().split(\" \"))\n",
    "    NU_nospam = len(ws)\n",
    "    NU_spam = NU_nospam\n",
    "    N_spam = len(set(dict_of_Spam_words.keys()) & ws)\n",
    "    N_nospam = len(set(dict_of_NOspam_words.keys()) & ws)\n",
    "    return"
   ]
  },
  {
   "cell_type": "code",
   "execution_count": 17,
   "metadata": {},
   "outputs": [],
   "source": [
    "# функция подсчитывает вероятность спама и неспама для строки\n",
    "def calculate_P_B_A(d_text, d_label):\n",
    "    \n",
    "    initiation_of_new_global_var(d_text)\n",
    "    \n",
    "    result = 1\n",
    "    for elem in d_text.lower().strip().split(\" \"):\n",
    "        word = re.sub(r\"[!?]+$\", '', elem)\n",
    "        result *= calculate_P_Bi_A(word, d_label)\n",
    "    return result"
   ]
  },
  {
   "cell_type": "code",
   "execution_count": 18,
   "metadata": {},
   "outputs": [],
   "source": [
    "def classify(email):\n",
    "    global alfa,N_spam,N_nospam,M,freq_of_spam,freq_of_NOspam\n",
    "    temp_freq = calculate_P_B_A(email, 1)\n",
    "#     print(f\"P_B_A in 1 := {temp_freq}\")\n",
    "    freq_of_hypothesis_Spam = freq_of_spam*temp_freq\n",
    "    \n",
    "    temp_freq = calculate_P_B_A(email, 0)\n",
    "#     print(f\"P_B_A in 0 := {temp_freq}\")\n",
    "    freq_of_hypothesis_NOspam = freq_of_NOspam*temp_freq\n",
    "    \n",
    "#     print()\n",
    "#     print(f\"freq_of_hypothesis_Spam  := {freq_of_hypothesis_Spam}\")\n",
    "#     print(f\"freq_of_hypothesis_NOspam:= {freq_of_hypothesis_NOspam}\")\n",
    "    \n",
    "    if freq_of_hypothesis_Spam > freq_of_hypothesis_NOspam:\n",
    "        return print(\"email is SPAM\")\n",
    "    else:\n",
    "        return print(\"email is NOT spam\")"
   ]
  },
  {
   "cell_type": "code",
   "execution_count": 19,
   "metadata": {},
   "outputs": [
    {
     "name": "stdout",
     "output_type": "stream",
     "text": [
      "email is SPAM\n"
     ]
    }
   ],
   "source": [
    "classify(\"Развивай бизнес на дому с услугой Безлимитный Интернет\")"
   ]
  },
  {
   "cell_type": "code",
   "execution_count": 20,
   "metadata": {},
   "outputs": [
    {
     "name": "stdout",
     "output_type": "stream",
     "text": [
      "email is NOT spam\n"
     ]
    }
   ],
   "source": [
    "    classify(\"Мы получили ваше сообщение о пропаже багажа и домашнего питомца в здании аэропорта. Конечно, нам жаль. Но что мы можем с этим сделать?\")"
   ]
  },
  {
   "cell_type": "code",
   "execution_count": 21,
   "metadata": {},
   "outputs": [
    {
     "name": "stdout",
     "output_type": "stream",
     "text": [
      "email is NOT spam\n"
     ]
    }
   ],
   "source": [
    "classify(\"Перезвони по номеру +799999999 в течение 6 секунд и выиграй миллион рублей!\")"
   ]
  },
  {
   "cell_type": "code",
   "execution_count": 22,
   "metadata": {
    "scrolled": true
   },
   "outputs": [
    {
     "data": {
      "text/plain": [
       "0.9999999999999998"
      ]
     },
     "execution_count": 22,
     "metadata": {},
     "output_type": "execute_result"
    }
   ],
   "source": [
    "# проверка Антона (2)\n",
    "t = \"Перезвони по номеру +799999999 в течение 6 секунд и выиграй миллион рублей!\"\n",
    "ws = set(re.sub(r\"[!?]+$\", \"\", elem) for elem in t.lower().strip().split(\" \"))\n",
    "\n",
    "initiation_of_new_global_var(' '.join(ws))\n",
    "\n",
    "sum([calculate_P_Bi_A(w,SPAM) for w in ws])"
   ]
  },
  {
   "cell_type": "code",
   "execution_count": 23,
   "metadata": {},
   "outputs": [
    {
     "data": {
      "text/plain": [
       "0.9999999999999998"
      ]
     },
     "execution_count": 23,
     "metadata": {},
     "output_type": "execute_result"
    }
   ],
   "source": [
    "sum([calculate_P_Bi_A(w,NOT_SPAM) for w in ws])"
   ]
  },
  {
   "cell_type": "code",
   "execution_count": 24,
   "metadata": {},
   "outputs": [
    {
     "data": {
      "text/plain": [
       "0.9999999999999997"
      ]
     },
     "execution_count": 24,
     "metadata": {},
     "output_type": "execute_result"
    }
   ],
   "source": [
    "# проверка Антона (2) на другом тексте\n",
    "t = \"Мы получили ваше сообщение о пропаже багажа и домашнего питомца в здании аэропорта. Конечно, нам жаль. Но что мы можем с этим сделать?\"\n",
    "ws = set(re.sub(r\"[!?]+$\", \"\", elem) for elem in t.lower().strip().split(\" \"))\n",
    "\n",
    "initiation_of_new_global_var(' '.join(ws))\n",
    "\n",
    "sum([calculate_P_Bi_A(w,SPAM) for w in ws])"
   ]
  },
  {
   "cell_type": "code",
   "execution_count": 25,
   "metadata": {},
   "outputs": [
    {
     "data": {
      "text/plain": [
       "0.9999999999999996"
      ]
     },
     "execution_count": 25,
     "metadata": {},
     "output_type": "execute_result"
    }
   ],
   "source": [
    "sum([calculate_P_Bi_A(w,NOT_SPAM) for w in ws])"
   ]
  },
  {
   "cell_type": "code",
   "execution_count": 26,
   "metadata": {},
   "outputs": [],
   "source": [
    "def classify_with_info(email):\n",
    "    global alfa,N_spam,N_nospam,M,freq_of_spam,freq_of_NOspam\n",
    "    temp_freq = calculate_P_B_A(email, 1)\n",
    "    print(f\"P_B_A in 1 := {temp_freq}\")\n",
    "    freq_of_hypothesis_Spam = freq_of_spam*temp_freq\n",
    "    \n",
    "    temp_freq = calculate_P_B_A(email, 0)\n",
    "    print(f\"P_B_A in 0 := {temp_freq}\")\n",
    "    freq_of_hypothesis_NOspam = freq_of_NOspam*temp_freq\n",
    "    \n",
    "    print()\n",
    "    print(f\"freq_of_hypothesis_Spam  := {freq_of_hypothesis_Spam}\")\n",
    "    print(f\"freq_of_hypothesis_NOspam:= {freq_of_hypothesis_NOspam}\")\n",
    "    \n",
    "    if freq_of_hypothesis_Spam > freq_of_hypothesis_NOspam:\n",
    "        return print(\"email is SPAM\")\n",
    "    else:\n",
    "        return print(\"email is NOT spam\")"
   ]
  },
  {
   "cell_type": "code",
   "execution_count": 27,
   "metadata": {},
   "outputs": [
    {
     "name": "stdout",
     "output_type": "stream",
     "text": [
      "P_B_A in 1 := 5.960464477539063e-08\n",
      "P_B_A in 0 := 4.6461146250837526e-08\n",
      "\n",
      "freq_of_hypothesis_Spam  := 3.2514333724975585e-08\n",
      "freq_of_hypothesis_NOspam:= 2.1116590971005657e-08\n",
      "email is SPAM\n"
     ]
    }
   ],
   "source": [
    "classify_with_info(\"Развивай бизнес на дому с услугой Безлимитный Интернет\")"
   ]
  },
  {
   "cell_type": "code",
   "execution_count": 28,
   "metadata": {},
   "outputs": [
    {
     "name": "stdout",
     "output_type": "stream",
     "text": [
      "P_B_A in 1 := 7.19782746075171e-32\n",
      "P_B_A in 0 := 9.578329374679561e-32\n",
      "\n",
      "freq_of_hypothesis_Spam  := 3.9264148798400577e-32\n",
      "freq_of_hypothesis_NOspam:= 4.353350700791861e-32\n",
      "email is NOT spam\n"
     ]
    }
   ],
   "source": [
    "classify_with_info(\"Мы получили ваше сообщение о пропаже багажа и домашнего питомца в здании аэропорта. Конечно, нам жаль. Но что мы можем с этим сделать?\")"
   ]
  },
  {
   "cell_type": "code",
   "execution_count": 29,
   "metadata": {},
   "outputs": [
    {
     "name": "stdout",
     "output_type": "stream",
     "text": [
      "P_B_A in 1 := 0.00038580246913580245\n",
      "P_B_A in 0 := 0.00032000000000000013\n",
      "\n",
      "freq_of_hypothesis_Spam  := 0.00021045524691358023\n",
      "freq_of_hypothesis_NOspam:= 0.00014544000000000007\n",
      "email is SPAM\n"
     ]
    }
   ],
   "source": [
    "classify_with_info(\"Купите три по цене двух!\")"
   ]
  },
  {
   "cell_type": "code",
   "execution_count": null,
   "metadata": {},
   "outputs": [],
   "source": []
  }
 ],
 "metadata": {
  "kernelspec": {
   "display_name": "Python 3",
   "language": "python",
   "name": "python3"
  },
  "language_info": {
   "codemirror_mode": {
    "name": "ipython",
    "version": 3
   },
   "file_extension": ".py",
   "mimetype": "text/x-python",
   "name": "python",
   "nbconvert_exporter": "python",
   "pygments_lexer": "ipython3",
   "version": "3.7.4"
  }
 },
 "nbformat": 4,
 "nbformat_minor": 4
}

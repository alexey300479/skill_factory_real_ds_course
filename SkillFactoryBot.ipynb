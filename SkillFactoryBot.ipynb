{
 "cells": [
  {
   "cell_type": "code",
   "execution_count": 1,
   "metadata": {},
   "outputs": [
    {
     "name": "stderr",
     "output_type": "stream",
     "text": [
      "/home/alexey300479/anaconda3/lib/python3.7/site-packages/ipykernel_launcher.py:4: TelegramDeprecationWarning: Old Handler API is deprecated - see https://git.io/fxJuV for details\n",
      "  after removing the cwd from sys.path.\n"
     ]
    }
   ],
   "source": [
    "# Настройки\n",
    "from telegram.ext import Updater, CommandHandler, MessageHandler, Filters\n",
    "import apiai, json\n",
    "updater = Updater(token='838126736:AAHAwrzewx3WL0S89FAX2v_JMRc7xUVWcqA') # Токен API к Telegram\n",
    "dispatcher = updater.dispatcher"
   ]
  },
  {
   "cell_type": "code",
   "execution_count": 2,
   "metadata": {},
   "outputs": [],
   "source": [
    "# Обработка команд\n",
    "def startCommand(bot, update):\n",
    "    bot.send_message(chat_id=update.message.chat_id, text='Привет, давай пообщаемся?')\n",
    "def textMessage(bot, update):\n",
    "    request = apiai.ApiAI('59dbdfe4d42546dfa642cf66d8b89eea').text_request() # Токен API к Dialogflow\n",
    "    request.lang = 'ru' # На каком языке будет послан запрос\n",
    "    request.session_id = 'BatlabAIBot' # ID Сессии диалога (нужно, чтобы потом учить бота)\n",
    "    request.query = update.message.text # Посылаем запрос к ИИ с сообщением от юзера\n",
    "    responseJson = json.loads(request.getresponse().read().decode('utf-8')) #грузим в json \n",
    "    response = responseJson['result']['fulfillment']['speech'] # Разбираем JSON и вытаскиваем ответ\n",
    "    # Если есть ответ от бота - присылаем юзеру, если нет - бот его не понял\n",
    "    if response:\n",
    "        bot.send_message(chat_id=update.message.chat_id, text=response)\n",
    "    else:\n",
    "        bot.send_message(chat_id=update.message.chat_id, text='Я Вас не совсем понял!')"
   ]
  },
  {
   "cell_type": "code",
   "execution_count": null,
   "metadata": {},
   "outputs": [],
   "source": [
    "# Хендлеры\n",
    "start_command_handler = CommandHandler('start', startCommand)\n",
    "text_message_handler = MessageHandler(Filters.text, textMessage)\n",
    "# Добавляем хендлеры в диспетчер\n",
    "dispatcher.add_handler(start_command_handler)\n",
    "dispatcher.add_handler(text_message_handler)\n",
    "# Начинаем поиск обновлений\n",
    "updater.start_polling(clean=True)\n",
    "# Останавливаем бота, если были нажаты Ctrl + C\n",
    "updater.idle()"
   ]
  },
  {
   "cell_type": "code",
   "execution_count": null,
   "metadata": {},
   "outputs": [],
   "source": []
  }
 ],
 "metadata": {
  "kernelspec": {
   "display_name": "Python 3",
   "language": "python",
   "name": "python3"
  },
  "language_info": {
   "codemirror_mode": {
    "name": "ipython",
    "version": 3
   },
   "file_extension": ".py",
   "mimetype": "text/x-python",
   "name": "python",
   "nbconvert_exporter": "python",
   "pygments_lexer": "ipython3",
   "version": "3.7.4"
  }
 },
 "nbformat": 4,
 "nbformat_minor": 4
}

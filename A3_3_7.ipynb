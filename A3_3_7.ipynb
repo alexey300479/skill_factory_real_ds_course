{
 "cells": [
  {
   "cell_type": "code",
   "execution_count": 25,
   "metadata": {},
   "outputs": [
    {
     "data": {
      "text/plain": [
       "['gender',\n",
       " 'race/ethnicity',\n",
       " 'parental level of education',\n",
       " 'lunch',\n",
       " 'test preparation course',\n",
       " 'math score',\n",
       " 'reading score',\n",
       " 'writing score']"
      ]
     },
     "execution_count": 25,
     "metadata": {},
     "output_type": "execute_result"
    }
   ],
   "source": [
    "data = []\n",
    "with open('StudentsPerformance.csv') as file:\n",
    "    for line in file:\n",
    "        right_line = line.replace('\"', '').replace('\\n', '')\n",
    "        data.append(right_line.split(','))\n",
    "\n",
    "header = data[0].copy()\n",
    "data.pop(0)"
   ]
  },
  {
   "cell_type": "code",
   "execution_count": 24,
   "metadata": {},
   "outputs": [
    {
     "data": {
      "text/plain": [
       "[['female',\n",
       "  'group B',\n",
       "  \"bachelor's degree\",\n",
       "  'standard',\n",
       "  'none',\n",
       "  '72',\n",
       "  '72',\n",
       "  '74'],\n",
       " ['female',\n",
       "  'group C',\n",
       "  'some college',\n",
       "  'standard',\n",
       "  'completed',\n",
       "  '69',\n",
       "  '90',\n",
       "  '88'],\n",
       " ['female',\n",
       "  'group B',\n",
       "  \"master's degree\",\n",
       "  'standard',\n",
       "  'none',\n",
       "  '90',\n",
       "  '95',\n",
       "  '93']]"
      ]
     },
     "execution_count": 24,
     "metadata": {},
     "output_type": "execute_result"
    }
   ],
   "source": [
    "data[:3]"
   ]
  },
  {
   "cell_type": "code",
   "execution_count": 33,
   "metadata": {},
   "outputs": [
    {
     "name": "stdout",
     "output_type": "stream",
     "text": [
      "Количество абитуриентов, чьи родители имеют диплом бакалавра: 118\n",
      "Количество различных значений в столбце \"parental level of education\": 6\n",
      "Доля абитуриентов, позавтракавших перед экзаменом: 64.500000%\n",
      "Количество абитуриентов с этнической принадлежностью \"group C\": 319\n",
      "Количество этнических групп: 6\n"
     ]
    }
   ],
   "source": [
    "bachelor_parents_count = 0\n",
    "\n",
    "parental_education_level_set = set([])\n",
    "\n",
    "has_breakfast_count = 0\n",
    "\n",
    "group_c_count = 0\n",
    "\n",
    "ethnical_groups_set = set([])\n",
    "\n",
    "for abiturient in data:\n",
    "    \n",
    "    parental_education_level = abiturient[2]\n",
    "    \n",
    "    parental_education_level_set.add(parental_education_level)\n",
    "    \n",
    "    if parental_education_level == \"bachelor's degree\":\n",
    "        bachelor_parents_count += 1\n",
    "    \n",
    "    breakfast = abiturient[3]\n",
    "    \n",
    "    if breakfast == 'standard':\n",
    "        has_breakfast_count += 1\n",
    "    \n",
    "    group = abiturient[1]\n",
    "    \n",
    "    if group == 'group C':\n",
    "        group_c_count += 1\n",
    "    \n",
    "    ethnical_groups_set.add(group)\n",
    "\n",
    "print(f'Количество абитуриентов, чьи родители имеют диплом бакалавра: {bachelor_parents_count}')\n",
    "\n",
    "different_parent_education_level_count = len(parental_education_level_set)\n",
    "\n",
    "print(f'Количество различных значений в столбце \"parental level of education\": {different_parent_education_level_count}')\n",
    "\n",
    "print(f'Доля абитуриентов, позавтракавших перед экзаменом: {has_breakfast_count/len(data):%}')\n",
    "\n",
    "print(f'Количество абитуриентов с этнической принадлежностью \"group C\": {group_c_count}')\n",
    "\n",
    "different_ethnical_groups_count = ethnical_groups_set.\n",
    "\n",
    "print(f'Количество этнических групп: {different_parent_education_level_count}')"
   ]
  },
  {
   "cell_type": "code",
   "execution_count": 34,
   "metadata": {},
   "outputs": [
    {
     "data": {
      "text/plain": [
       "{'group A', 'group B', 'group C', 'group D', 'group E'}"
      ]
     },
     "execution_count": 34,
     "metadata": {},
     "output_type": "execute_result"
    }
   ],
   "source": [
    "ethnical_groups_set"
   ]
  },
  {
   "cell_type": "code",
   "execution_count": null,
   "metadata": {},
   "outputs": [],
   "source": []
  }
 ],
 "metadata": {
  "kernelspec": {
   "display_name": "Python 3",
   "language": "python",
   "name": "python3"
  },
  "language_info": {
   "codemirror_mode": {
    "name": "ipython",
    "version": 3
   },
   "file_extension": ".py",
   "mimetype": "text/x-python",
   "name": "python",
   "nbconvert_exporter": "python",
   "pygments_lexer": "ipython3",
   "version": "3.6.1"
  }
 },
 "nbformat": 4,
 "nbformat_minor": 2
}

{
 "cells": [
  {
   "cell_type": "code",
   "execution_count": 1,
   "metadata": {},
   "outputs": [],
   "source": [
    "import numpy as np"
   ]
  },
  {
   "cell_type": "markdown",
   "metadata": {},
   "source": [
    "#### Task 2.\n",
    "Найдите скалярное произведение векторов $\\vec{x}=\\begin{pmatrix}4\\\\ 5\\\\ -1\\\\ \\end{pmatrix}, \\vec{y}=\\begin{pmatrix}2\\\\ 0\\\\ 1\\\\\\end{pmatrix}$"
   ]
  },
  {
   "cell_type": "code",
   "execution_count": 2,
   "metadata": {},
   "outputs": [],
   "source": [
    "x = np.array([4, 5, -1])\n",
    "y = np.array([2, 0, 1])"
   ]
  },
  {
   "cell_type": "code",
   "execution_count": 3,
   "metadata": {},
   "outputs": [
    {
     "data": {
      "text/plain": [
       "7"
      ]
     },
     "execution_count": 3,
     "metadata": {},
     "output_type": "execute_result"
    }
   ],
   "source": [
    "np.dot(x, y)"
   ]
  },
  {
   "cell_type": "markdown",
   "metadata": {},
   "source": [
    "#### Task 4.\n",
    "Вычислите длину вектора $\\vec{x}=\\begin{pmatrix}4\\\\ 6\\\\ 1\\\\\\end{pmatrix}$. Ответ округлите до сотых."
   ]
  },
  {
   "cell_type": "code",
   "execution_count": 7,
   "metadata": {},
   "outputs": [
    {
     "name": "stdout",
     "output_type": "stream",
     "text": [
      "Длина вектора x: 7.28\n"
     ]
    }
   ],
   "source": [
    "x = np.array([4, 6, 1])\n",
    "x_norm = np.linalg.norm(x)\n",
    "print(f'Длина вектора x: {x_norm:.2f}')"
   ]
  },
  {
   "cell_type": "markdown",
   "metadata": {},
   "source": [
    "#### Task 5. Какие пары векторов являются ортогональными?\n",
    "* $\\vec{x}=\\begin{pmatrix}4\\\\ 2\\\\ -1\\\\\\end{pmatrix}, \\vec{y}=\\begin{pmatrix}2\\\\ 0\\\\ 1\\\\\\end{pmatrix}$\n",
    "* $\\vec{x}=\\begin{pmatrix}4\\\\ 5\\\\ -1\\\\\\end{pmatrix}, \\vec{y}=\\begin{pmatrix}0\\\\ 0\\\\ 0\\\\\\end{pmatrix}$\n",
    "* $\\vec{x}=\\begin{pmatrix}4\\\\ -1\\\\\\end{pmatrix}, \\vec{y}=\\begin{pmatrix}-1\\\\ 4\\\\\\end{pmatrix}$\n",
    "* $\\vec{x}=\\begin{pmatrix}4\\\\ -1\\\\\\end{pmatrix}, \\vec{y}=\\begin{pmatrix}1\\\\ 4\\\\\\end{pmatrix}$"
   ]
  },
  {
   "cell_type": "code",
   "execution_count": 8,
   "metadata": {},
   "outputs": [
    {
     "data": {
      "text/plain": [
       "8"
      ]
     },
     "execution_count": 8,
     "metadata": {},
     "output_type": "execute_result"
    }
   ],
   "source": [
    "x1 = np.array([4, 2, -1])\n",
    "y1 = np.array([2, 0, 0])\n",
    "np.dot(x1, y1)"
   ]
  },
  {
   "cell_type": "code",
   "execution_count": 9,
   "metadata": {},
   "outputs": [
    {
     "data": {
      "text/plain": [
       "0"
      ]
     },
     "execution_count": 9,
     "metadata": {},
     "output_type": "execute_result"
    }
   ],
   "source": [
    "x2 = np.array([4, 5, -1])\n",
    "y2 = np.array([0, 0, 0])\n",
    "np.dot(x2, y2)"
   ]
  },
  {
   "cell_type": "code",
   "execution_count": 11,
   "metadata": {},
   "outputs": [
    {
     "data": {
      "text/plain": [
       "-8"
      ]
     },
     "execution_count": 11,
     "metadata": {},
     "output_type": "execute_result"
    }
   ],
   "source": [
    "x3 = np.array([4, -1])\n",
    "y3 = np.array([-1, 4])\n",
    "np.dot(x3, y3)"
   ]
  },
  {
   "cell_type": "code",
   "execution_count": 12,
   "metadata": {},
   "outputs": [
    {
     "data": {
      "text/plain": [
       "0"
      ]
     },
     "execution_count": 12,
     "metadata": {},
     "output_type": "execute_result"
    }
   ],
   "source": [
    "x4 = np.array([4, -1])\n",
    "y4 = np.array([1, 4])\n",
    "np.dot(x4, y4)"
   ]
  },
  {
   "cell_type": "code",
   "execution_count": null,
   "metadata": {},
   "outputs": [],
   "source": []
  }
 ],
 "metadata": {
  "kernelspec": {
   "display_name": "Python 3",
   "language": "python",
   "name": "python3"
  },
  "language_info": {
   "codemirror_mode": {
    "name": "ipython",
    "version": 3
   },
   "file_extension": ".py",
   "mimetype": "text/x-python",
   "name": "python",
   "nbconvert_exporter": "python",
   "pygments_lexer": "ipython3",
   "version": "3.7.4"
  }
 },
 "nbformat": 4,
 "nbformat_minor": 4
}

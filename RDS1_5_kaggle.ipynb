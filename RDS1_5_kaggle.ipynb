{
 "cells": [
  {
   "cell_type": "code",
   "execution_count": 1,
   "metadata": {},
   "outputs": [],
   "source": [
    "import os\n",
    "import pandas as pd"
   ]
  },
  {
   "cell_type": "code",
   "execution_count": 2,
   "metadata": {},
   "outputs": [],
   "source": [
    "kaggle_task_path = os.path.join('data', 'kaggle_task.csv')"
   ]
  },
  {
   "cell_type": "code",
   "execution_count": 3,
   "metadata": {},
   "outputs": [],
   "source": [
    "df = pd.read_csv(kaggle_task_path)"
   ]
  },
  {
   "cell_type": "code",
   "execution_count": 4,
   "metadata": {},
   "outputs": [
    {
     "data": {
      "text/html": [
       "<div>\n",
       "<style scoped>\n",
       "    .dataframe tbody tr th:only-of-type {\n",
       "        vertical-align: middle;\n",
       "    }\n",
       "\n",
       "    .dataframe tbody tr th {\n",
       "        vertical-align: top;\n",
       "    }\n",
       "\n",
       "    .dataframe thead th {\n",
       "        text-align: right;\n",
       "    }\n",
       "</style>\n",
       "<table border=\"1\" class=\"dataframe\">\n",
       "  <thead>\n",
       "    <tr style=\"text-align: right;\">\n",
       "      <th></th>\n",
       "      <th>Restaurant_id</th>\n",
       "      <th>Name</th>\n",
       "      <th>City</th>\n",
       "      <th>Cuisine Style</th>\n",
       "      <th>Ranking</th>\n",
       "      <th>Price Range</th>\n",
       "      <th>Number of Reviews</th>\n",
       "      <th>Reviews</th>\n",
       "      <th>URL_TA</th>\n",
       "      <th>ID_TA</th>\n",
       "    </tr>\n",
       "  </thead>\n",
       "  <tbody>\n",
       "    <tr>\n",
       "      <th>0</th>\n",
       "      <td>id_0</td>\n",
       "      <td>Le Perchoir</td>\n",
       "      <td>Paris</td>\n",
       "      <td>['Bar', 'Pub']</td>\n",
       "      <td>12963.0</td>\n",
       "      <td>$$ - $$$</td>\n",
       "      <td>4.0</td>\n",
       "      <td>[[], []]</td>\n",
       "      <td>/Restaurant_Review-g187147-d10746918-Reviews-L...</td>\n",
       "      <td>d10746918</td>\n",
       "    </tr>\n",
       "    <tr>\n",
       "      <th>1</th>\n",
       "      <td>id_1</td>\n",
       "      <td>Ravintola Kolmon3n</td>\n",
       "      <td>Helsinki</td>\n",
       "      <td>['European', 'Scandinavian', 'Gluten Free Opti...</td>\n",
       "      <td>106.0</td>\n",
       "      <td>$$ - $$$</td>\n",
       "      <td>97.0</td>\n",
       "      <td>[['Very good reviews!', 'Fine dining in Hakani...</td>\n",
       "      <td>/Restaurant_Review-g189934-d6674944-Reviews-Ra...</td>\n",
       "      <td>d6674944</td>\n",
       "    </tr>\n",
       "    <tr>\n",
       "      <th>2</th>\n",
       "      <td>id_2</td>\n",
       "      <td>Black Ivy</td>\n",
       "      <td>Edinburgh</td>\n",
       "      <td>['Vegetarian Friendly']</td>\n",
       "      <td>810.0</td>\n",
       "      <td>$$ - $$$</td>\n",
       "      <td>28.0</td>\n",
       "      <td>[['Better than the Links', 'Ivy Black'], ['12/...</td>\n",
       "      <td>/Restaurant_Review-g186525-d13129638-Reviews-B...</td>\n",
       "      <td>d13129638</td>\n",
       "    </tr>\n",
       "    <tr>\n",
       "      <th>3</th>\n",
       "      <td>id_3</td>\n",
       "      <td>Quirinale</td>\n",
       "      <td>London</td>\n",
       "      <td>['Italian', 'Mediterranean', 'European', 'Vege...</td>\n",
       "      <td>1669.0</td>\n",
       "      <td>$$$$</td>\n",
       "      <td>202.0</td>\n",
       "      <td>[['Most exquisite', 'Delicious and authentic']...</td>\n",
       "      <td>/Restaurant_Review-g186338-d680417-Reviews-Qui...</td>\n",
       "      <td>d680417</td>\n",
       "    </tr>\n",
       "    <tr>\n",
       "      <th>4</th>\n",
       "      <td>id_4</td>\n",
       "      <td>Massimo Ristorante</td>\n",
       "      <td>Bratislava</td>\n",
       "      <td>['Italian', 'Mediterranean', 'European', 'Seaf...</td>\n",
       "      <td>37.0</td>\n",
       "      <td>$$$$</td>\n",
       "      <td>162.0</td>\n",
       "      <td>[['Always the best in bratislava', 'Very good ...</td>\n",
       "      <td>/Restaurant_Review-g274924-d1112354-Reviews-Ma...</td>\n",
       "      <td>d1112354</td>\n",
       "    </tr>\n",
       "  </tbody>\n",
       "</table>\n",
       "</div>"
      ],
      "text/plain": [
       "  Restaurant_id                Name        City  \\\n",
       "0          id_0         Le Perchoir       Paris   \n",
       "1          id_1  Ravintola Kolmon3n    Helsinki   \n",
       "2          id_2           Black Ivy   Edinburgh   \n",
       "3          id_3           Quirinale      London   \n",
       "4          id_4  Massimo Ristorante  Bratislava   \n",
       "\n",
       "                                       Cuisine Style  Ranking Price Range  \\\n",
       "0                                     ['Bar', 'Pub']  12963.0    $$ - $$$   \n",
       "1  ['European', 'Scandinavian', 'Gluten Free Opti...    106.0    $$ - $$$   \n",
       "2                            ['Vegetarian Friendly']    810.0    $$ - $$$   \n",
       "3  ['Italian', 'Mediterranean', 'European', 'Vege...   1669.0        $$$$   \n",
       "4  ['Italian', 'Mediterranean', 'European', 'Seaf...     37.0        $$$$   \n",
       "\n",
       "   Number of Reviews                                            Reviews  \\\n",
       "0                4.0                                           [[], []]   \n",
       "1               97.0  [['Very good reviews!', 'Fine dining in Hakani...   \n",
       "2               28.0  [['Better than the Links', 'Ivy Black'], ['12/...   \n",
       "3              202.0  [['Most exquisite', 'Delicious and authentic']...   \n",
       "4              162.0  [['Always the best in bratislava', 'Very good ...   \n",
       "\n",
       "                                              URL_TA      ID_TA  \n",
       "0  /Restaurant_Review-g187147-d10746918-Reviews-L...  d10746918  \n",
       "1  /Restaurant_Review-g189934-d6674944-Reviews-Ra...   d6674944  \n",
       "2  /Restaurant_Review-g186525-d13129638-Reviews-B...  d13129638  \n",
       "3  /Restaurant_Review-g186338-d680417-Reviews-Qui...    d680417  \n",
       "4  /Restaurant_Review-g274924-d1112354-Reviews-Ma...   d1112354  "
      ]
     },
     "execution_count": 4,
     "metadata": {},
     "output_type": "execute_result"
    }
   ],
   "source": [
    "df.head()"
   ]
  },
  {
   "cell_type": "code",
   "execution_count": 5,
   "metadata": {},
   "outputs": [
    {
     "name": "stdout",
     "output_type": "stream",
     "text": [
      "<class 'pandas.core.frame.DataFrame'>\n",
      "RangeIndex: 10000 entries, 0 to 9999\n",
      "Data columns (total 10 columns):\n",
      " #   Column             Non-Null Count  Dtype  \n",
      "---  ------             --------------  -----  \n",
      " 0   Restaurant_id      10000 non-null  object \n",
      " 1   Name               10000 non-null  object \n",
      " 2   City               10000 non-null  object \n",
      " 3   Cuisine Style      7693 non-null   object \n",
      " 4   Ranking            10000 non-null  float64\n",
      " 5   Price Range        6525 non-null   object \n",
      " 6   Number of Reviews  9343 non-null   float64\n",
      " 7   Reviews            9998 non-null   object \n",
      " 8   URL_TA             10000 non-null  object \n",
      " 9   ID_TA              10000 non-null  object \n",
      "dtypes: float64(2), object(8)\n",
      "memory usage: 781.4+ KB\n"
     ]
    }
   ],
   "source": [
    "df.info()"
   ]
  },
  {
   "cell_type": "code",
   "execution_count": 6,
   "metadata": {},
   "outputs": [
    {
     "name": "stdout",
     "output_type": "stream",
     "text": [
      "<class 'pandas.core.frame.DataFrame'>\n",
      "RangeIndex: 10000 entries, 0 to 9999\n",
      "Data columns (total 10 columns):\n",
      " #   Column             Non-Null Count  Dtype  \n",
      "---  ------             --------------  -----  \n",
      " 0   Restaurant_id      10000 non-null  object \n",
      " 1   Name               10000 non-null  object \n",
      " 2   City               10000 non-null  object \n",
      " 3   Cuisine Style      7693 non-null   object \n",
      " 4   Ranking            10000 non-null  float64\n",
      " 5   Price Range        6525 non-null   object \n",
      " 6   Number of Reviews  10000 non-null  float64\n",
      " 7   Reviews            9998 non-null   object \n",
      " 8   URL_TA             10000 non-null  object \n",
      " 9   ID_TA              10000 non-null  object \n",
      "dtypes: float64(2), object(8)\n",
      "memory usage: 781.4+ KB\n"
     ]
    }
   ],
   "source": [
    "# Заполним пропуски в столбце количества отзывов\n",
    "df['Number of Reviews'].fillna(1, inplace=True)\n",
    "df.info()"
   ]
  },
  {
   "cell_type": "code",
   "execution_count": 7,
   "metadata": {},
   "outputs": [],
   "source": [
    "# Превратим данные в столбце Restaurant_id в числовые данные\n",
    "df['Restaurant_id'] = df['Restaurant_id'].apply(lambda id: int(id[3:]))"
   ]
  },
  {
   "cell_type": "code",
   "execution_count": 8,
   "metadata": {},
   "outputs": [
    {
     "data": {
      "text/html": [
       "<div>\n",
       "<style scoped>\n",
       "    .dataframe tbody tr th:only-of-type {\n",
       "        vertical-align: middle;\n",
       "    }\n",
       "\n",
       "    .dataframe tbody tr th {\n",
       "        vertical-align: top;\n",
       "    }\n",
       "\n",
       "    .dataframe thead th {\n",
       "        text-align: right;\n",
       "    }\n",
       "</style>\n",
       "<table border=\"1\" class=\"dataframe\">\n",
       "  <thead>\n",
       "    <tr style=\"text-align: right;\">\n",
       "      <th></th>\n",
       "      <th>Restaurant_id</th>\n",
       "      <th>Name</th>\n",
       "      <th>City</th>\n",
       "      <th>Cuisine Style</th>\n",
       "      <th>Ranking</th>\n",
       "      <th>Price Range</th>\n",
       "      <th>Number of Reviews</th>\n",
       "      <th>Reviews</th>\n",
       "      <th>URL_TA</th>\n",
       "      <th>ID_TA</th>\n",
       "    </tr>\n",
       "  </thead>\n",
       "  <tbody>\n",
       "    <tr>\n",
       "      <th>0</th>\n",
       "      <td>0</td>\n",
       "      <td>Le Perchoir</td>\n",
       "      <td>Paris</td>\n",
       "      <td>['Bar', 'Pub']</td>\n",
       "      <td>12963.0</td>\n",
       "      <td>$$ - $$$</td>\n",
       "      <td>4.0</td>\n",
       "      <td>[[], []]</td>\n",
       "      <td>/Restaurant_Review-g187147-d10746918-Reviews-L...</td>\n",
       "      <td>d10746918</td>\n",
       "    </tr>\n",
       "    <tr>\n",
       "      <th>1</th>\n",
       "      <td>1</td>\n",
       "      <td>Ravintola Kolmon3n</td>\n",
       "      <td>Helsinki</td>\n",
       "      <td>['European', 'Scandinavian', 'Gluten Free Opti...</td>\n",
       "      <td>106.0</td>\n",
       "      <td>$$ - $$$</td>\n",
       "      <td>97.0</td>\n",
       "      <td>[['Very good reviews!', 'Fine dining in Hakani...</td>\n",
       "      <td>/Restaurant_Review-g189934-d6674944-Reviews-Ra...</td>\n",
       "      <td>d6674944</td>\n",
       "    </tr>\n",
       "    <tr>\n",
       "      <th>2</th>\n",
       "      <td>2</td>\n",
       "      <td>Black Ivy</td>\n",
       "      <td>Edinburgh</td>\n",
       "      <td>['Vegetarian Friendly']</td>\n",
       "      <td>810.0</td>\n",
       "      <td>$$ - $$$</td>\n",
       "      <td>28.0</td>\n",
       "      <td>[['Better than the Links', 'Ivy Black'], ['12/...</td>\n",
       "      <td>/Restaurant_Review-g186525-d13129638-Reviews-B...</td>\n",
       "      <td>d13129638</td>\n",
       "    </tr>\n",
       "    <tr>\n",
       "      <th>3</th>\n",
       "      <td>3</td>\n",
       "      <td>Quirinale</td>\n",
       "      <td>London</td>\n",
       "      <td>['Italian', 'Mediterranean', 'European', 'Vege...</td>\n",
       "      <td>1669.0</td>\n",
       "      <td>$$$$</td>\n",
       "      <td>202.0</td>\n",
       "      <td>[['Most exquisite', 'Delicious and authentic']...</td>\n",
       "      <td>/Restaurant_Review-g186338-d680417-Reviews-Qui...</td>\n",
       "      <td>d680417</td>\n",
       "    </tr>\n",
       "    <tr>\n",
       "      <th>4</th>\n",
       "      <td>4</td>\n",
       "      <td>Massimo Ristorante</td>\n",
       "      <td>Bratislava</td>\n",
       "      <td>['Italian', 'Mediterranean', 'European', 'Seaf...</td>\n",
       "      <td>37.0</td>\n",
       "      <td>$$$$</td>\n",
       "      <td>162.0</td>\n",
       "      <td>[['Always the best in bratislava', 'Very good ...</td>\n",
       "      <td>/Restaurant_Review-g274924-d1112354-Reviews-Ma...</td>\n",
       "      <td>d1112354</td>\n",
       "    </tr>\n",
       "  </tbody>\n",
       "</table>\n",
       "</div>"
      ],
      "text/plain": [
       "   Restaurant_id                Name        City  \\\n",
       "0              0         Le Perchoir       Paris   \n",
       "1              1  Ravintola Kolmon3n    Helsinki   \n",
       "2              2           Black Ivy   Edinburgh   \n",
       "3              3           Quirinale      London   \n",
       "4              4  Massimo Ristorante  Bratislava   \n",
       "\n",
       "                                       Cuisine Style  Ranking Price Range  \\\n",
       "0                                     ['Bar', 'Pub']  12963.0    $$ - $$$   \n",
       "1  ['European', 'Scandinavian', 'Gluten Free Opti...    106.0    $$ - $$$   \n",
       "2                            ['Vegetarian Friendly']    810.0    $$ - $$$   \n",
       "3  ['Italian', 'Mediterranean', 'European', 'Vege...   1669.0        $$$$   \n",
       "4  ['Italian', 'Mediterranean', 'European', 'Seaf...     37.0        $$$$   \n",
       "\n",
       "   Number of Reviews                                            Reviews  \\\n",
       "0                4.0                                           [[], []]   \n",
       "1               97.0  [['Very good reviews!', 'Fine dining in Hakani...   \n",
       "2               28.0  [['Better than the Links', 'Ivy Black'], ['12/...   \n",
       "3              202.0  [['Most exquisite', 'Delicious and authentic']...   \n",
       "4              162.0  [['Always the best in bratislava', 'Very good ...   \n",
       "\n",
       "                                              URL_TA      ID_TA  \n",
       "0  /Restaurant_Review-g187147-d10746918-Reviews-L...  d10746918  \n",
       "1  /Restaurant_Review-g189934-d6674944-Reviews-Ra...   d6674944  \n",
       "2  /Restaurant_Review-g186525-d13129638-Reviews-B...  d13129638  \n",
       "3  /Restaurant_Review-g186338-d680417-Reviews-Qui...    d680417  \n",
       "4  /Restaurant_Review-g274924-d1112354-Reviews-Ma...   d1112354  "
      ]
     },
     "execution_count": 8,
     "metadata": {},
     "output_type": "execute_result"
    }
   ],
   "source": [
    "df.head()"
   ]
  },
  {
   "cell_type": "markdown",
   "metadata": {},
   "source": [
    "### 1.3.1 Вопросы о ценах"
   ]
  },
  {
   "cell_type": "markdown",
   "metadata": {},
   "source": [
    "#### Сколько вариантов непустых значений встречается в столбце 'Price Range'?"
   ]
  },
  {
   "cell_type": "code",
   "execution_count": 9,
   "metadata": {},
   "outputs": [
    {
     "data": {
      "text/plain": [
       "array(['$$ - $$$', '$$$$', '$'], dtype=object)"
      ]
     },
     "metadata": {},
     "output_type": "display_data"
    }
   ],
   "source": [
    "price_ranges = pd.Series(df[~df['Price Range'].isna()]['Price Range'])\n",
    "display(price_ranges.unique())"
   ]
  },
  {
   "cell_type": "markdown",
   "metadata": {},
   "source": [
    "#### Ответ: 3"
   ]
  },
  {
   "cell_type": "markdown",
   "metadata": {},
   "source": [
    "#### Как в датафрейме обозначается самый низкий уровень цен?"
   ]
  },
  {
   "cell_type": "markdown",
   "metadata": {},
   "source": [
    "#### Ответ: можно догадаться, что '$'"
   ]
  },
  {
   "cell_type": "markdown",
   "metadata": {},
   "source": [
    "#### Как в датафрейме обозначается самый высокий уровень цен?"
   ]
  },
  {
   "cell_type": "markdown",
   "metadata": {},
   "source": [
    "#### Ответ: можно догадаться, что \\\\$\\\\$\\\\$\\\\$"
   ]
  },
  {
   "cell_type": "markdown",
   "metadata": {},
   "source": [
    "#### Сколько ресторанов относятся к среднему ценовому сегменту?"
   ]
  },
  {
   "cell_type": "code",
   "execution_count": 10,
   "metadata": {},
   "outputs": [
    {
     "data": {
      "text/plain": [
       "4629"
      ]
     },
     "metadata": {},
     "output_type": "display_data"
    }
   ],
   "source": [
    "display(price_ranges.value_counts()[0])"
   ]
  },
  {
   "cell_type": "markdown",
   "metadata": {},
   "source": [
    "#### Ответ: 18412"
   ]
  },
  {
   "cell_type": "code",
   "execution_count": 11,
   "metadata": {},
   "outputs": [
    {
     "name": "stdout",
     "output_type": "stream",
     "text": [
      "<class 'pandas.core.frame.DataFrame'>\n",
      "RangeIndex: 10000 entries, 0 to 9999\n",
      "Data columns (total 10 columns):\n",
      " #   Column             Non-Null Count  Dtype  \n",
      "---  ------             --------------  -----  \n",
      " 0   Restaurant_id      10000 non-null  int64  \n",
      " 1   Name               10000 non-null  object \n",
      " 2   City               10000 non-null  object \n",
      " 3   Cuisine Style      7693 non-null   object \n",
      " 4   Ranking            10000 non-null  float64\n",
      " 5   Price Range        10000 non-null  object \n",
      " 6   Number of Reviews  10000 non-null  float64\n",
      " 7   Reviews            9998 non-null   object \n",
      " 8   URL_TA             10000 non-null  object \n",
      " 9   ID_TA              10000 non-null  object \n",
      "dtypes: float64(2), int64(1), object(7)\n",
      "memory usage: 781.4+ KB\n"
     ]
    }
   ],
   "source": [
    "# Заполним недостающие данные минимальным уровнем цен\n",
    "df['Price Range'].fillna('$', inplace=True)\n",
    "# И проверим изменение картины недостающих данных\n",
    "df.info()"
   ]
  },
  {
   "cell_type": "code",
   "execution_count": 12,
   "metadata": {},
   "outputs": [],
   "source": [
    "# На основе этих фактов создадим столбец с числовыми данными об уровне цен так, чтобы:\n",
    "# $ соответствовал 1, $$-$$$ - 100, а $$$$ - 1000\n",
    "def get_price_level(price_range):\n",
    "    if type(price_range) == str:\n",
    "        if price_range == '$':\n",
    "            return 1\n",
    "        if price_range == '$$-$$$':\n",
    "            return 100\n",
    "        if price_range == '$$$$':\n",
    "            return 1000\n",
    "    return 100\n",
    "\n",
    "df['price_level'] = df['Price Range'].apply(get_price_level)"
   ]
  },
  {
   "cell_type": "markdown",
   "metadata": {},
   "source": [
    "### 1.3.2 Вопросы о городах "
   ]
  },
  {
   "cell_type": "markdown",
   "metadata": {},
   "source": [
    "#### Сколько городов представлено в наборе данных?"
   ]
  },
  {
   "cell_type": "code",
   "execution_count": 13,
   "metadata": {},
   "outputs": [
    {
     "data": {
      "text/plain": [
       "31"
      ]
     },
     "execution_count": 13,
     "metadata": {},
     "output_type": "execute_result"
    }
   ],
   "source": [
    "df['City'].nunique()"
   ]
  },
  {
   "cell_type": "markdown",
   "metadata": {},
   "source": [
    "#### Ответ: 31"
   ]
  },
  {
   "cell_type": "markdown",
   "metadata": {},
   "source": [
    "#### Сколько ресторанов расположены в столичных городах?"
   ]
  },
  {
   "cell_type": "code",
   "execution_count": 14,
   "metadata": {},
   "outputs": [],
   "source": [
    "# Формируем множество столиц из датасета, найденного на data.world"
   ]
  },
  {
   "cell_type": "code",
   "execution_count": 15,
   "metadata": {},
   "outputs": [],
   "source": [
    "import json as js"
   ]
  },
  {
   "cell_type": "code",
   "execution_count": 16,
   "metadata": {},
   "outputs": [],
   "source": [
    "with open('data/country-by-capital-city.json') as json_file:\n",
    "    country_capital_city_dict = js.load(json_file)"
   ]
  },
  {
   "cell_type": "code",
   "execution_count": 17,
   "metadata": {},
   "outputs": [],
   "source": [
    "capitals = set()\n",
    "for row in country_capital_city_dict:\n",
    "    capitals.add(row['city'])"
   ]
  },
  {
   "cell_type": "code",
   "execution_count": 18,
   "metadata": {},
   "outputs": [
    {
     "data": {
      "text/plain": [
       "5299"
      ]
     },
     "execution_count": 18,
     "metadata": {},
     "output_type": "execute_result"
    }
   ],
   "source": [
    "# Добавим функцию определяющую входит ли город в множество столиц\n",
    "def is_capital(city):\n",
    "    return city in capitals\n",
    "\n",
    "# Применим эту функцию к столбцу 'City'и суммируем результат\n",
    "df[df['City'].apply(is_capital)]['Restaurant_id'].nunique()"
   ]
  },
  {
   "cell_type": "code",
   "execution_count": 19,
   "metadata": {},
   "outputs": [
    {
     "data": {
      "text/plain": [
       "0            Paris\n",
       "2        Edinburgh\n",
       "3           London\n",
       "4       Bratislava\n",
       "5            Paris\n",
       "           ...    \n",
       "9989         Paris\n",
       "9991        London\n",
       "9992        London\n",
       "9995        London\n",
       "9999         Paris\n",
       "Name: City, Length: 5299, dtype: object"
      ]
     },
     "execution_count": 19,
     "metadata": {},
     "output_type": "execute_result"
    }
   ],
   "source": [
    "df[df['City'].apply(is_capital)]['City']"
   ]
  },
  {
   "cell_type": "code",
   "execution_count": 20,
   "metadata": {},
   "outputs": [
    {
     "data": {
      "text/plain": [
       "Restaurant_id\n",
       "0     1\n",
       "1     1\n",
       "2     1\n",
       "3     1\n",
       "4     1\n",
       "5     1\n",
       "6     1\n",
       "7     1\n",
       "8     1\n",
       "9     1\n",
       "10    1\n",
       "11    1\n",
       "12    1\n",
       "13    1\n",
       "14    1\n",
       "15    1\n",
       "16    1\n",
       "17    1\n",
       "18    1\n",
       "19    1\n",
       "Name: Restaurant_id, dtype: int64"
      ]
     },
     "execution_count": 20,
     "metadata": {},
     "output_type": "execute_result"
    }
   ],
   "source": [
    "df.groupby('Restaurant_id')['Restaurant_id'].count().head(20)"
   ]
  },
  {
   "cell_type": "code",
   "execution_count": 21,
   "metadata": {},
   "outputs": [
    {
     "data": {
      "text/plain": [
       "0    Paris\n",
       "Name: City, dtype: object"
      ]
     },
     "execution_count": 21,
     "metadata": {},
     "output_type": "execute_result"
    }
   ],
   "source": [
    "df[df['Restaurant_id'] == 0]['City']"
   ]
  },
  {
   "cell_type": "code",
   "execution_count": 22,
   "metadata": {},
   "outputs": [
    {
     "data": {
      "text/plain": [
       "1"
      ]
     },
     "execution_count": 22,
     "metadata": {},
     "output_type": "execute_result"
    }
   ],
   "source": [
    "sum(df['Restaurant_id'] == 0)"
   ]
  },
  {
   "cell_type": "markdown",
   "metadata": {},
   "source": [
    "#### Ответ: 21436 - неправильный!!! Причины: был выбран недостаточно информативный датасет по городам. В этом датасете присутствовали только первичные столицы, а административные столицы отсутствовали. Вывод: использовать правильный датасет."
   ]
  },
  {
   "cell_type": "markdown",
   "metadata": {},
   "source": [
    "#### Благодаря члену группы sfdatascience1.slack.com с ником Mikhail решение проблемы было найдено в использовании датасета https://www.kaggle.com/viswanathanc/world-cities-datasets#worldcities.csv и в расширении понятия 'столица' кроме тех городов в поле 'capital', которых стоит значение 'primary' еще и городом 'Edinburgh'. Весьма странно, но куда деваться??? Еще раз огромное спасибо Mikhail за титаническую работу, которую он проделал."
   ]
  },
  {
   "cell_type": "code",
   "execution_count": 23,
   "metadata": {},
   "outputs": [],
   "source": [
    "cities = pd.read_csv('data/worldcities.csv')"
   ]
  },
  {
   "cell_type": "code",
   "execution_count": 24,
   "metadata": {},
   "outputs": [
    {
     "data": {
      "text/html": [
       "<div>\n",
       "<style scoped>\n",
       "    .dataframe tbody tr th:only-of-type {\n",
       "        vertical-align: middle;\n",
       "    }\n",
       "\n",
       "    .dataframe tbody tr th {\n",
       "        vertical-align: top;\n",
       "    }\n",
       "\n",
       "    .dataframe thead th {\n",
       "        text-align: right;\n",
       "    }\n",
       "</style>\n",
       "<table border=\"1\" class=\"dataframe\">\n",
       "  <thead>\n",
       "    <tr style=\"text-align: right;\">\n",
       "      <th></th>\n",
       "      <th>city</th>\n",
       "      <th>city_ascii</th>\n",
       "      <th>lat</th>\n",
       "      <th>lng</th>\n",
       "      <th>country</th>\n",
       "      <th>iso2</th>\n",
       "      <th>iso3</th>\n",
       "      <th>admin_name</th>\n",
       "      <th>capital</th>\n",
       "      <th>population</th>\n",
       "      <th>id</th>\n",
       "    </tr>\n",
       "  </thead>\n",
       "  <tbody>\n",
       "    <tr>\n",
       "      <th>1036</th>\n",
       "      <td>Edinburgh</td>\n",
       "      <td>Edinburgh</td>\n",
       "      <td>55.9483</td>\n",
       "      <td>-3.2191</td>\n",
       "      <td>United Kingdom</td>\n",
       "      <td>GB</td>\n",
       "      <td>GBR</td>\n",
       "      <td>Edinburgh, City of</td>\n",
       "      <td>admin</td>\n",
       "      <td>504966.0</td>\n",
       "      <td>1826492520</td>\n",
       "    </tr>\n",
       "  </tbody>\n",
       "</table>\n",
       "</div>"
      ],
      "text/plain": [
       "           city city_ascii      lat     lng         country iso2 iso3  \\\n",
       "1036  Edinburgh  Edinburgh  55.9483 -3.2191  United Kingdom   GB  GBR   \n",
       "\n",
       "              admin_name capital  population          id  \n",
       "1036  Edinburgh, City of   admin    504966.0  1826492520  "
      ]
     },
     "execution_count": 24,
     "metadata": {},
     "output_type": "execute_result"
    }
   ],
   "source": [
    "cities[cities['city'] == 'Edinburgh']"
   ]
  },
  {
   "cell_type": "code",
   "execution_count": 25,
   "metadata": {},
   "outputs": [
    {
     "data": {
      "text/html": [
       "<div>\n",
       "<style scoped>\n",
       "    .dataframe tbody tr th:only-of-type {\n",
       "        vertical-align: middle;\n",
       "    }\n",
       "\n",
       "    .dataframe tbody tr th {\n",
       "        vertical-align: top;\n",
       "    }\n",
       "\n",
       "    .dataframe thead th {\n",
       "        text-align: right;\n",
       "    }\n",
       "</style>\n",
       "<table border=\"1\" class=\"dataframe\">\n",
       "  <thead>\n",
       "    <tr style=\"text-align: right;\">\n",
       "      <th></th>\n",
       "      <th>city</th>\n",
       "      <th>city_ascii</th>\n",
       "      <th>lat</th>\n",
       "      <th>lng</th>\n",
       "      <th>country</th>\n",
       "      <th>iso2</th>\n",
       "      <th>iso3</th>\n",
       "      <th>admin_name</th>\n",
       "      <th>capital</th>\n",
       "      <th>population</th>\n",
       "      <th>id</th>\n",
       "    </tr>\n",
       "  </thead>\n",
       "  <tbody>\n",
       "    <tr>\n",
       "      <th>0</th>\n",
       "      <td>Tokyo</td>\n",
       "      <td>Tokyo</td>\n",
       "      <td>35.6850</td>\n",
       "      <td>139.7514</td>\n",
       "      <td>Japan</td>\n",
       "      <td>JP</td>\n",
       "      <td>JPN</td>\n",
       "      <td>Tōkyō</td>\n",
       "      <td>primary</td>\n",
       "      <td>35676000.0</td>\n",
       "      <td>1392685764</td>\n",
       "    </tr>\n",
       "    <tr>\n",
       "      <th>1</th>\n",
       "      <td>New York</td>\n",
       "      <td>New York</td>\n",
       "      <td>40.6943</td>\n",
       "      <td>-73.9249</td>\n",
       "      <td>United States</td>\n",
       "      <td>US</td>\n",
       "      <td>USA</td>\n",
       "      <td>New York</td>\n",
       "      <td>NaN</td>\n",
       "      <td>19354922.0</td>\n",
       "      <td>1840034016</td>\n",
       "    </tr>\n",
       "    <tr>\n",
       "      <th>2</th>\n",
       "      <td>Mexico City</td>\n",
       "      <td>Mexico City</td>\n",
       "      <td>19.4424</td>\n",
       "      <td>-99.1310</td>\n",
       "      <td>Mexico</td>\n",
       "      <td>MX</td>\n",
       "      <td>MEX</td>\n",
       "      <td>Ciudad de México</td>\n",
       "      <td>primary</td>\n",
       "      <td>19028000.0</td>\n",
       "      <td>1484247881</td>\n",
       "    </tr>\n",
       "    <tr>\n",
       "      <th>3</th>\n",
       "      <td>Mumbai</td>\n",
       "      <td>Mumbai</td>\n",
       "      <td>19.0170</td>\n",
       "      <td>72.8570</td>\n",
       "      <td>India</td>\n",
       "      <td>IN</td>\n",
       "      <td>IND</td>\n",
       "      <td>Mahārāshtra</td>\n",
       "      <td>admin</td>\n",
       "      <td>18978000.0</td>\n",
       "      <td>1356226629</td>\n",
       "    </tr>\n",
       "    <tr>\n",
       "      <th>4</th>\n",
       "      <td>São Paulo</td>\n",
       "      <td>Sao Paulo</td>\n",
       "      <td>-23.5587</td>\n",
       "      <td>-46.6250</td>\n",
       "      <td>Brazil</td>\n",
       "      <td>BR</td>\n",
       "      <td>BRA</td>\n",
       "      <td>São Paulo</td>\n",
       "      <td>admin</td>\n",
       "      <td>18845000.0</td>\n",
       "      <td>1076532519</td>\n",
       "    </tr>\n",
       "  </tbody>\n",
       "</table>\n",
       "</div>"
      ],
      "text/plain": [
       "          city   city_ascii      lat       lng        country iso2 iso3  \\\n",
       "0        Tokyo        Tokyo  35.6850  139.7514          Japan   JP  JPN   \n",
       "1     New York     New York  40.6943  -73.9249  United States   US  USA   \n",
       "2  Mexico City  Mexico City  19.4424  -99.1310         Mexico   MX  MEX   \n",
       "3       Mumbai       Mumbai  19.0170   72.8570          India   IN  IND   \n",
       "4    São Paulo    Sao Paulo -23.5587  -46.6250         Brazil   BR  BRA   \n",
       "\n",
       "         admin_name  capital  population          id  \n",
       "0             Tōkyō  primary  35676000.0  1392685764  \n",
       "1          New York      NaN  19354922.0  1840034016  \n",
       "2  Ciudad de México  primary  19028000.0  1484247881  \n",
       "3       Mahārāshtra    admin  18978000.0  1356226629  \n",
       "4         São Paulo    admin  18845000.0  1076532519  "
      ]
     },
     "execution_count": 25,
     "metadata": {},
     "output_type": "execute_result"
    }
   ],
   "source": [
    "cities.head()"
   ]
  },
  {
   "cell_type": "code",
   "execution_count": 26,
   "metadata": {},
   "outputs": [
    {
     "data": {
      "text/plain": [
       "array(['primary', nan, 'admin', 'minor'], dtype=object)"
      ]
     },
     "execution_count": 26,
     "metadata": {},
     "output_type": "execute_result"
    }
   ],
   "source": [
    "cities['capital'].unique()"
   ]
  },
  {
   "cell_type": "markdown",
   "metadata": {},
   "source": [
    "#### Как видно в датафрейме cities не столицами считаются только те города, поле capital которых не заполнено никакими данными"
   ]
  },
  {
   "cell_type": "code",
   "execution_count": 27,
   "metadata": {},
   "outputs": [],
   "source": [
    "# Вычистим города с отсутствующими данными в поле 'capital'\n",
    "capitals_df = cities.dropna(subset=['capital'])\n",
    "\n",
    "# Сформируем множество столиц всех типов, кроме типа 'minor'\n",
    "capitals = set(capitals_df[capitals_df['capital'] == 'primary']['city'])"
   ]
  },
  {
   "cell_type": "code",
   "execution_count": 28,
   "metadata": {},
   "outputs": [],
   "source": [
    "capitals.add('Edinburgh')"
   ]
  },
  {
   "cell_type": "code",
   "execution_count": 29,
   "metadata": {
    "scrolled": true
   },
   "outputs": [
    {
     "data": {
      "text/plain": [
       "7559"
      ]
     },
     "execution_count": 29,
     "metadata": {},
     "output_type": "execute_result"
    }
   ],
   "source": [
    "# Применим эту функцию к столбцу 'City'и суммируем результат\n",
    "sum(df['City'].apply(is_capital))"
   ]
  },
  {
   "cell_type": "markdown",
   "metadata": {},
   "source": [
    "#### Ответ: 30424, блин!!!"
   ]
  },
  {
   "cell_type": "code",
   "execution_count": 30,
   "metadata": {},
   "outputs": [
    {
     "name": "stdout",
     "output_type": "stream",
     "text": [
      "<class 'pandas.core.frame.DataFrame'>\n",
      "RangeIndex: 10000 entries, 0 to 9999\n",
      "Data columns (total 12 columns):\n",
      " #   Column             Non-Null Count  Dtype  \n",
      "---  ------             --------------  -----  \n",
      " 0   Restaurant_id      10000 non-null  int64  \n",
      " 1   Name               10000 non-null  object \n",
      " 2   City               10000 non-null  object \n",
      " 3   Cuisine Style      7693 non-null   object \n",
      " 4   Ranking            10000 non-null  float64\n",
      " 5   Price Range        10000 non-null  object \n",
      " 6   Number of Reviews  10000 non-null  float64\n",
      " 7   Reviews            9998 non-null   object \n",
      " 8   URL_TA             10000 non-null  object \n",
      " 9   ID_TA              10000 non-null  object \n",
      " 10  price_level        10000 non-null  int64  \n",
      " 11  is_capital         10000 non-null  bool   \n",
      "dtypes: bool(1), float64(2), int64(2), object(7)\n",
      "memory usage: 869.3+ KB\n"
     ]
    }
   ],
   "source": [
    "# А теперь на основе этих фактов создадим числовой столбец is_capital\n",
    "df['is_capital'] = df['City'].apply(is_capital)\n",
    "df.info()"
   ]
  },
  {
   "cell_type": "markdown",
   "metadata": {},
   "source": [
    "###  1.3.3. Вопросы о кухнях"
   ]
  },
  {
   "cell_type": "markdown",
   "metadata": {},
   "source": [
    "#### Сколько типов кухонь представлено в наборе данных?"
   ]
  },
  {
   "cell_type": "code",
   "execution_count": 31,
   "metadata": {},
   "outputs": [
    {
     "data": {
      "text/plain": [
       "0                                          ['Bar', 'Pub']\n",
       "1       ['European', 'Scandinavian', 'Gluten Free Opti...\n",
       "2                                 ['Vegetarian Friendly']\n",
       "3       ['Italian', 'Mediterranean', 'European', 'Vege...\n",
       "4       ['Italian', 'Mediterranean', 'European', 'Seaf...\n",
       "                              ...                        \n",
       "9993                           ['European', 'Portuguese']\n",
       "9994          ['Mediterranean', 'European', 'Portuguese']\n",
       "9995    ['Caribbean', 'Barbecue', 'Jamaican', 'Vegetar...\n",
       "9996         ['Indian', 'Asian', 'Nepali', 'Bangladeshi']\n",
       "9998                                          ['Italian']\n",
       "Name: Cuisine Style, Length: 7693, dtype: object"
      ]
     },
     "execution_count": 31,
     "metadata": {},
     "output_type": "execute_result"
    }
   ],
   "source": [
    "# Для начала получим Series столбца 'Cuisine Style' без пропусков данных\n",
    "cuisines = df['Cuisine Style'].dropna()\n",
    "cuisines"
   ]
  },
  {
   "cell_type": "code",
   "execution_count": 32,
   "metadata": {},
   "outputs": [
    {
     "data": {
      "text/plain": [
       "str"
      ]
     },
     "execution_count": 32,
     "metadata": {},
     "output_type": "execute_result"
    }
   ],
   "source": [
    "type(cuisines.iloc[0])"
   ]
  },
  {
   "cell_type": "markdown",
   "metadata": {},
   "source": [
    "#### Как видим, данные в этом Series представляют собой строковые представления списков в соответствии с синтаксисом языка Python."
   ]
  },
  {
   "cell_type": "code",
   "execution_count": 33,
   "metadata": {},
   "outputs": [
    {
     "name": "stdout",
     "output_type": "stream",
     "text": [
      "Множество различных кухонь: 115\n"
     ]
    }
   ],
   "source": [
    "# Применим библиотеку ast для перевода строковых представлений списков в соответствии с ситнтаксисом языка Python в списки Python\n",
    "import ast\n",
    "\n",
    "def get_list(list_string):\n",
    "    result_list = ast.literal_eval(list_string)\n",
    "    return result_list\n",
    "\n",
    "# Преобразуем данные в столбце 'Cuisine Style' к списку\n",
    "cuisines = cuisines.apply(get_list)\n",
    "\n",
    "# Создадим словарь кухонь\n",
    "cuisines_dict = dict()\n",
    "\n",
    "for cuisines_list in cuisines:\n",
    "    for cuisine in cuisines_list:\n",
    "        try:\n",
    "            cuisines_dict[cuisine] += 1\n",
    "        except:\n",
    "            cuisines_dict[cuisine] = 1\n",
    "\n",
    "# Выведем количество различных кухонь\n",
    "\n",
    "print(f'Множество различных кухонь: {len(cuisines_dict)}')"
   ]
  },
  {
   "cell_type": "markdown",
   "metadata": {},
   "source": [
    "#### Какая кухня представлена в наибольшем количестве ресторанов? Введите название кухни без кавычек или апострофов."
   ]
  },
  {
   "cell_type": "code",
   "execution_count": 34,
   "metadata": {},
   "outputs": [
    {
     "data": {
      "text/plain": [
       "('Vegetarian Friendly', 2832)"
      ]
     },
     "execution_count": 34,
     "metadata": {},
     "output_type": "execute_result"
    }
   ],
   "source": [
    "sorted(cuisines_dict.items(), key = lambda kv:(kv[1], kv[0]), reverse=True)[0]"
   ]
  },
  {
   "cell_type": "markdown",
   "metadata": {},
   "source": [
    "#### Сколько типов кухонь предлагается только в одном ресторане? Введите ответ в виде целого числа."
   ]
  },
  {
   "cell_type": "code",
   "execution_count": 35,
   "metadata": {},
   "outputs": [
    {
     "name": "stdout",
     "output_type": "stream",
     "text": [
      "Количество типов кухонь, предлагаемых только в одном ресторане: 7\n",
      "Уникальные кухни:\n"
     ]
    },
    {
     "data": {
      "text/plain": [
       "{'Azerbaijani',\n",
       " 'Georgian',\n",
       " 'Minority Chinese',\n",
       " 'Native American',\n",
       " 'New Zealand',\n",
       " 'Welsh',\n",
       " 'Yunnan'}"
      ]
     },
     "metadata": {},
     "output_type": "display_data"
    }
   ],
   "source": [
    "uno_cuisine_count = 0\n",
    "unique_cuisines = set()\n",
    "for cuisine, count in cuisines_dict.items():\n",
    "    if count == 1:\n",
    "        unique_cuisines.add(cuisine)\n",
    "        uno_cuisine_count += 1\n",
    "print(f'Количество типов кухонь, предлагаемых только в одном ресторане: {uno_cuisine_count}')\n",
    "print(f'Уникальные кухни:')\n",
    "display(unique_cuisines)"
   ]
  },
  {
   "cell_type": "markdown",
   "metadata": {},
   "source": [
    "#### Какое среднее количество кухонь предлагается в одном ресторане? Если в данных отсутствует информация о типах кухонь, то считайте, что в этом ресторане предлагается только один тип кухни. Ответ округлите до одного знака после запятой."
   ]
  },
  {
   "cell_type": "code",
   "execution_count": 36,
   "metadata": {},
   "outputs": [],
   "source": [
    "def get_cuisines_count(cuisines):\n",
    "    if type(cuisines) == str:\n",
    "        return len(get_list(cuisines))\n",
    "    return 1"
   ]
  },
  {
   "cell_type": "code",
   "execution_count": 37,
   "metadata": {},
   "outputs": [],
   "source": [
    "# Заполним недостающие данные в столбце типов кухонь\n",
    "df['Cuisine Style'].fillna(\"['usual cuisine']\", inplace=True)"
   ]
  },
  {
   "cell_type": "code",
   "execution_count": 38,
   "metadata": {},
   "outputs": [
    {
     "name": "stdout",
     "output_type": "stream",
     "text": [
      "<class 'pandas.core.frame.DataFrame'>\n",
      "RangeIndex: 10000 entries, 0 to 9999\n",
      "Data columns (total 13 columns):\n",
      " #   Column             Non-Null Count  Dtype  \n",
      "---  ------             --------------  -----  \n",
      " 0   Restaurant_id      10000 non-null  int64  \n",
      " 1   Name               10000 non-null  object \n",
      " 2   City               10000 non-null  object \n",
      " 3   Cuisine Style      10000 non-null  object \n",
      " 4   Ranking            10000 non-null  float64\n",
      " 5   Price Range        10000 non-null  object \n",
      " 6   Number of Reviews  10000 non-null  float64\n",
      " 7   Reviews            9998 non-null   object \n",
      " 8   URL_TA             10000 non-null  object \n",
      " 9   ID_TA              10000 non-null  object \n",
      " 10  price_level        10000 non-null  int64  \n",
      " 11  is_capital         10000 non-null  bool   \n",
      " 12  cuisines_count     10000 non-null  int64  \n",
      "dtypes: bool(1), float64(2), int64(3), object(7)\n",
      "memory usage: 947.4+ KB\n"
     ]
    }
   ],
   "source": [
    "# На основании этих фактов создадим числовой столбец 'cuisines_count'\n",
    "df['cuisines_count'] = df['Cuisine Style'].apply(get_cuisines_count)\n",
    "df.info()"
   ]
  },
  {
   "cell_type": "code",
   "execution_count": 39,
   "metadata": {},
   "outputs": [],
   "source": [
    "# На основе этих данных создадим столбец с числовыми данными is_unique_cuisine, указывающими на уникальную кухню данного ресторана\n",
    "def is_unique_cuisine(cuisine):\n",
    "    cuisines_list = get_list(cuisine)\n",
    "    cuisines_set = set(cuisines_list)\n",
    "    return not cuisines_set.isdisjoint(unique_cuisines)\n",
    "\n",
    "df['unique_cuisine'] = df['Cuisine Style'].apply(is_unique_cuisine)"
   ]
  },
  {
   "cell_type": "code",
   "execution_count": 40,
   "metadata": {},
   "outputs": [
    {
     "name": "stdout",
     "output_type": "stream",
     "text": [
      "Среднее количество кухонь предлагаемых в одном ресторане: 2.6\n"
     ]
    }
   ],
   "source": [
    "mean_cuisines_count = df['cuisines_count'].mean()\n",
    "print(f'Среднее количество кухонь предлагаемых в одном ресторане: {mean_cuisines_count:.1f}')"
   ]
  },
  {
   "cell_type": "markdown",
   "metadata": {},
   "source": [
    "### 1.3.4 Вопросы об отзывах"
   ]
  },
  {
   "cell_type": "markdown",
   "metadata": {},
   "source": [
    "#### Когда был оставлен самый свежий отзыв? Введите ответ в формате yyyy-mm-dd."
   ]
  },
  {
   "cell_type": "code",
   "execution_count": 41,
   "metadata": {},
   "outputs": [],
   "source": [
    "# Сначала заменим nan в строковых представлениях списков отзывов и их дат на строку с датой по-умолчанию\n",
    "# а также заменим пустой список вида [] на список с незаполненными элементами вида ['01/01/2000', '01/01/2000']\n",
    "def nan_to_default_date(list_string):\n",
    "    if type(list_string) == float:\n",
    "        return \"[['review1', 'review2'], ['01/01/2000', '01/01/2000']]\"\n",
    "    list_string = list_string.replace('[nan', \"['01/01/2000'\")\n",
    "    list_string = list_string.replace('nan]', \"'01/01/2000']\")\n",
    "    list_string = list_string.replace('[]', \"['01/01/2000', '01/01/2000']\")\n",
    "    return list_string\n",
    "\n",
    "df['Reviews'] = df['Reviews'].apply(nan_to_default_date)    "
   ]
  },
  {
   "cell_type": "code",
   "execution_count": 42,
   "metadata": {},
   "outputs": [],
   "source": [
    "# Преобразуем данные в столбце 'Reviews' к типу list\n",
    "last_review = []\n",
    "last_review_date = []\n",
    "prelast_review = []\n",
    "prelast_review_date = []\n",
    "for reviews in df['Reviews']:\n",
    "    reviews_list = get_list(reviews)\n",
    "    if len(reviews_list) == 2:\n",
    "        if (len(reviews_list[0]) == 2 and len(reviews_list[1]) == 2):\n",
    "            last_review.append(reviews_list[0][0])\n",
    "            last_review_date.append(reviews_list[1][0])\n",
    "            prelast_review.append(reviews_list[0][1])\n",
    "            prelast_review_date.append(reviews_list[1][1])\n",
    "        elif (len(reviews_list[0]) == 1 and len(reviews_list[1]) == 1):\n",
    "            last_review.append(reviews_list[0][0])\n",
    "            last_review_date.append(reviews_list[1][0])\n",
    "            prelast_review.append('None review')\n",
    "            prelast_review_date.append('01/01/2000')\n",
    "        else:\n",
    "            print(reviews_list)"
   ]
  },
  {
   "cell_type": "code",
   "execution_count": 43,
   "metadata": {},
   "outputs": [],
   "source": [
    "df['last_review'] = last_review\n",
    "df['last_review_date'] = last_review_date\n",
    "df['prelast_review'] = prelast_review\n",
    "df['prelast_review_date'] = prelast_review_date"
   ]
  },
  {
   "cell_type": "code",
   "execution_count": 44,
   "metadata": {},
   "outputs": [
    {
     "name": "stdout",
     "output_type": "stream",
     "text": [
      "<class 'pandas.core.frame.DataFrame'>\n",
      "RangeIndex: 10000 entries, 0 to 9999\n",
      "Data columns (total 18 columns):\n",
      " #   Column               Non-Null Count  Dtype         \n",
      "---  ------               --------------  -----         \n",
      " 0   Restaurant_id        10000 non-null  int64         \n",
      " 1   Name                 10000 non-null  object        \n",
      " 2   City                 10000 non-null  object        \n",
      " 3   Cuisine Style        10000 non-null  object        \n",
      " 4   Ranking              10000 non-null  float64       \n",
      " 5   Price Range          10000 non-null  object        \n",
      " 6   Number of Reviews    10000 non-null  float64       \n",
      " 7   Reviews              10000 non-null  object        \n",
      " 8   URL_TA               10000 non-null  object        \n",
      " 9   ID_TA                10000 non-null  object        \n",
      " 10  price_level          10000 non-null  int64         \n",
      " 11  is_capital           10000 non-null  bool          \n",
      " 12  cuisines_count       10000 non-null  int64         \n",
      " 13  unique_cuisine       10000 non-null  bool          \n",
      " 14  last_review          10000 non-null  object        \n",
      " 15  last_review_date     10000 non-null  datetime64[ns]\n",
      " 16  prelast_review       10000 non-null  object        \n",
      " 17  prelast_review_date  10000 non-null  datetime64[ns]\n",
      "dtypes: bool(2), datetime64[ns](2), float64(2), int64(3), object(9)\n",
      "memory usage: 1.2+ MB\n"
     ]
    }
   ],
   "source": [
    "df['last_review_date'] = pd.to_datetime(df['last_review_date'])\n",
    "df['prelast_review_date'] = pd.to_datetime(df['prelast_review_date'])\n",
    "df.info()"
   ]
  },
  {
   "cell_type": "code",
   "execution_count": 45,
   "metadata": {},
   "outputs": [
    {
     "name": "stdout",
     "output_type": "stream",
     "text": [
      "Дата самого свежего отзыва: 2018-02-26\n"
     ]
    }
   ],
   "source": [
    "newest_review_date = str(df['last_review_date'].dropna().sort_values(ascending=False).iloc[0])[:10]\n",
    "print(f'Дата самого свежего отзыва: {newest_review_date}')"
   ]
  },
  {
   "cell_type": "markdown",
   "metadata": {},
   "source": [
    "#### Какое максимальное количество дней отделяет даты публикации отзывов, размещённых на сайте ресторана? Введите количество дней в виде целого числа."
   ]
  },
  {
   "cell_type": "code",
   "execution_count": 46,
   "metadata": {},
   "outputs": [
    {
     "name": "stdout",
     "output_type": "stream",
     "text": [
      "Максимальное количество дней между датами публикации отзывов, размещенных на сайте ресторана составило 6625 дней.\n"
     ]
    }
   ],
   "source": [
    "clear_df = df.dropna(subset=['last_review_date', 'prelast_review_date'])\n",
    "clear_df['timedelta'] = (df['last_review_date'] - df['prelast_review_date'])\n",
    "def get_days(timedelta):\n",
    "    return timedelta.days\n",
    "clear_df['timedelta'] = clear_df['timedelta'].apply(get_days)\n",
    "max_days_between_reviews = clear_df['timedelta'].sort_values(ascending=False).iloc[0]\n",
    "print(f'Максимальное количество дней между датами публикации отзывов, размещенных на сайте ресторана составило {max_days_between_reviews} дней.')"
   ]
  },
  {
   "cell_type": "code",
   "execution_count": 47,
   "metadata": {},
   "outputs": [
    {
     "name": "stdout",
     "output_type": "stream",
     "text": [
      "<class 'pandas.core.frame.DataFrame'>\n",
      "Int64Index: 10000 entries, 0 to 9999\n",
      "Data columns (total 19 columns):\n",
      " #   Column               Non-Null Count  Dtype         \n",
      "---  ------               --------------  -----         \n",
      " 0   Restaurant_id        10000 non-null  int64         \n",
      " 1   Name                 10000 non-null  object        \n",
      " 2   City                 10000 non-null  object        \n",
      " 3   Cuisine Style        10000 non-null  object        \n",
      " 4   Ranking              10000 non-null  float64       \n",
      " 5   Price Range          10000 non-null  object        \n",
      " 6   Number of Reviews    10000 non-null  float64       \n",
      " 7   Reviews              10000 non-null  object        \n",
      " 8   URL_TA               10000 non-null  object        \n",
      " 9   ID_TA                10000 non-null  object        \n",
      " 10  price_level          10000 non-null  int64         \n",
      " 11  is_capital           10000 non-null  bool          \n",
      " 12  cuisines_count       10000 non-null  int64         \n",
      " 13  unique_cuisine       10000 non-null  bool          \n",
      " 14  last_review          10000 non-null  object        \n",
      " 15  last_review_date     10000 non-null  datetime64[ns]\n",
      " 16  prelast_review       10000 non-null  object        \n",
      " 17  prelast_review_date  10000 non-null  datetime64[ns]\n",
      " 18  timedelta            10000 non-null  int64         \n",
      "dtypes: bool(2), datetime64[ns](2), float64(2), int64(4), object(9)\n",
      "memory usage: 1.4+ MB\n"
     ]
    }
   ],
   "source": [
    "clear_df.info()"
   ]
  },
  {
   "cell_type": "code",
   "execution_count": 48,
   "metadata": {},
   "outputs": [],
   "source": [
    "# Удалим все столбцы, которые содержат нечисловые данные\n",
    "non_numeric_fields = [\n",
    "#     'Restaurant_id',\n",
    "    'City',\n",
    "    'Cuisine Style',\n",
    "    'Price Range',\n",
    "    'Reviews',\n",
    "    'URL_TA',\n",
    "    'ID_TA',\n",
    "    'last_review',\n",
    "    'last_review_date',\n",
    "    'prelast_review',\n",
    "    'prelast_review_date'\n",
    "]\n",
    "clear_df = clear_df.drop(non_numeric_fields, axis=1)"
   ]
  },
  {
   "cell_type": "code",
   "execution_count": 49,
   "metadata": {},
   "outputs": [
    {
     "data": {
      "text/html": [
       "<div>\n",
       "<style scoped>\n",
       "    .dataframe tbody tr th:only-of-type {\n",
       "        vertical-align: middle;\n",
       "    }\n",
       "\n",
       "    .dataframe tbody tr th {\n",
       "        vertical-align: top;\n",
       "    }\n",
       "\n",
       "    .dataframe thead th {\n",
       "        text-align: right;\n",
       "    }\n",
       "</style>\n",
       "<table border=\"1\" class=\"dataframe\">\n",
       "  <thead>\n",
       "    <tr style=\"text-align: right;\">\n",
       "      <th></th>\n",
       "      <th>Restaurant_id</th>\n",
       "      <th>Name</th>\n",
       "      <th>Ranking</th>\n",
       "      <th>Number of Reviews</th>\n",
       "      <th>price_level</th>\n",
       "      <th>is_capital</th>\n",
       "      <th>cuisines_count</th>\n",
       "      <th>unique_cuisine</th>\n",
       "      <th>timedelta</th>\n",
       "    </tr>\n",
       "  </thead>\n",
       "  <tbody>\n",
       "    <tr>\n",
       "      <th>0</th>\n",
       "      <td>0</td>\n",
       "      <td>Le Perchoir</td>\n",
       "      <td>12963.0</td>\n",
       "      <td>4.0</td>\n",
       "      <td>100</td>\n",
       "      <td>True</td>\n",
       "      <td>2</td>\n",
       "      <td>False</td>\n",
       "      <td>0</td>\n",
       "    </tr>\n",
       "    <tr>\n",
       "      <th>1</th>\n",
       "      <td>1</td>\n",
       "      <td>Ravintola Kolmon3n</td>\n",
       "      <td>106.0</td>\n",
       "      <td>97.0</td>\n",
       "      <td>100</td>\n",
       "      <td>True</td>\n",
       "      <td>5</td>\n",
       "      <td>False</td>\n",
       "      <td>37</td>\n",
       "    </tr>\n",
       "    <tr>\n",
       "      <th>2</th>\n",
       "      <td>2</td>\n",
       "      <td>Black Ivy</td>\n",
       "      <td>810.0</td>\n",
       "      <td>28.0</td>\n",
       "      <td>100</td>\n",
       "      <td>True</td>\n",
       "      <td>1</td>\n",
       "      <td>False</td>\n",
       "      <td>22</td>\n",
       "    </tr>\n",
       "    <tr>\n",
       "      <th>3</th>\n",
       "      <td>3</td>\n",
       "      <td>Quirinale</td>\n",
       "      <td>1669.0</td>\n",
       "      <td>202.0</td>\n",
       "      <td>1000</td>\n",
       "      <td>True</td>\n",
       "      <td>5</td>\n",
       "      <td>False</td>\n",
       "      <td>14</td>\n",
       "    </tr>\n",
       "    <tr>\n",
       "      <th>4</th>\n",
       "      <td>4</td>\n",
       "      <td>Massimo Ristorante</td>\n",
       "      <td>37.0</td>\n",
       "      <td>162.0</td>\n",
       "      <td>1000</td>\n",
       "      <td>True</td>\n",
       "      <td>6</td>\n",
       "      <td>False</td>\n",
       "      <td>15</td>\n",
       "    </tr>\n",
       "  </tbody>\n",
       "</table>\n",
       "</div>"
      ],
      "text/plain": [
       "   Restaurant_id                Name  Ranking  Number of Reviews  price_level  \\\n",
       "0              0         Le Perchoir  12963.0                4.0          100   \n",
       "1              1  Ravintola Kolmon3n    106.0               97.0          100   \n",
       "2              2           Black Ivy    810.0               28.0          100   \n",
       "3              3           Quirinale   1669.0              202.0         1000   \n",
       "4              4  Massimo Ristorante     37.0              162.0         1000   \n",
       "\n",
       "   is_capital  cuisines_count  unique_cuisine  timedelta  \n",
       "0        True               2           False          0  \n",
       "1        True               5           False         37  \n",
       "2        True               1           False         22  \n",
       "3        True               5           False         14  \n",
       "4        True               6           False         15  "
      ]
     },
     "execution_count": 49,
     "metadata": {},
     "output_type": "execute_result"
    }
   ],
   "source": [
    "# Посмотрим на таблицу\n",
    "clear_df.head()"
   ]
  },
  {
   "cell_type": "code",
   "execution_count": 50,
   "metadata": {},
   "outputs": [
    {
     "name": "stdout",
     "output_type": "stream",
     "text": [
      "<class 'pandas.core.frame.DataFrame'>\n",
      "Int64Index: 10000 entries, 0 to 9999\n",
      "Data columns (total 9 columns):\n",
      " #   Column             Non-Null Count  Dtype  \n",
      "---  ------             --------------  -----  \n",
      " 0   Restaurant_id      10000 non-null  int64  \n",
      " 1   Name               10000 non-null  object \n",
      " 2   Ranking            10000 non-null  float64\n",
      " 3   Number of Reviews  10000 non-null  float64\n",
      " 4   price_level        10000 non-null  int64  \n",
      " 5   is_capital         10000 non-null  bool   \n",
      " 6   cuisines_count     10000 non-null  int64  \n",
      " 7   unique_cuisine     10000 non-null  bool   \n",
      " 8   timedelta          10000 non-null  int64  \n",
      "dtypes: bool(2), float64(2), int64(4), object(1)\n",
      "memory usage: 644.5+ KB\n"
     ]
    }
   ],
   "source": [
    "# Проверим таблицу на предмет отсутствующих данных\n",
    "clear_df.info()"
   ]
  },
  {
   "cell_type": "code",
   "execution_count": 51,
   "metadata": {},
   "outputs": [],
   "source": [
    "# Как видно, данные присутствуют везде"
   ]
  },
  {
   "cell_type": "markdown",
   "metadata": {},
   "source": [
    "# Подготовка к моделированию"
   ]
  },
  {
   "cell_type": "code",
   "execution_count": 52,
   "metadata": {},
   "outputs": [],
   "source": [
    "# Загружаем специальный инструмент для разбивки:\n",
    "from sklearn.model_selection import train_test_split"
   ]
  },
  {
   "cell_type": "code",
   "execution_count": 53,
   "metadata": {},
   "outputs": [],
   "source": [
    "# Импортируем необходимые библиотеки:\n",
    "from sklearn.ensemble import RandomForestRegressor # инструмент для создания и обучения модели\n",
    "from sklearn import metrics # инструменты для оценки точности модели"
   ]
  },
  {
   "cell_type": "code",
   "execution_count": 54,
   "metadata": {},
   "outputs": [],
   "source": [
    "# Создадим функцию, осуществляющую разделение данных, тренировку модели\n",
    "# и возвращающую MAE по результатам тестирования модели\n",
    "def fit_test_model(df, feature_set, output_feature):\n",
    "    # Х - данные с информацией о ресторанах, у - целевая переменная (рейтинги ресторанов)\n",
    "    X = df[feature_set]\n",
    "    y = df[output_feature]\n",
    "    \n",
    "    # Наборы данных с меткой \"train\" будут использоваться для обучения модели, \"test\" - для тестирования.\n",
    "    # Для тестирования мы будем использовать 25% от исходного датасета.\n",
    "    X_train, X_test, y_train, y_test = train_test_split(X, y, test_size=0.25, random_state=101)\n",
    "    \n",
    "    # Создаём модель\n",
    "    regr = RandomForestRegressor(n_estimators=100)\n",
    "\n",
    "    # Обучаем модель на тестовом наборе данных\n",
    "    regr.fit(X_train, y_train)\n",
    "\n",
    "    # Используем обученную модель для предсказания рейтинга ресторанов в тестовой выборке.\n",
    "    # Предсказанные значения записываем в переменную y_pred\n",
    "    y_pred = regr.predict(X_test)\n",
    "    \n",
    "    # Сравниваем предсказанные значения (y_pred) с реальными (y_test), и смотрим насколько они в среднем отличаются\n",
    "    # Метрика называется Mean Absolute Error (MAE) и показывает среднее отклонение предсказанных значений от фактических.\n",
    "    mae = metrics.mean_absolute_error(y_test, y_pred)\n",
    "    return mae"
   ]
  },
  {
   "cell_type": "markdown",
   "metadata": {},
   "source": [
    "# Первичное моделирование без добавленных признаков"
   ]
  },
  {
   "cell_type": "code",
   "execution_count": 55,
   "metadata": {},
   "outputs": [
    {
     "name": "stdout",
     "output_type": "stream",
     "text": [
      "<class 'pandas.core.frame.DataFrame'>\n",
      "Int64Index: 10000 entries, 0 to 9999\n",
      "Data columns (total 9 columns):\n",
      " #   Column             Non-Null Count  Dtype  \n",
      "---  ------             --------------  -----  \n",
      " 0   Restaurant_id      10000 non-null  int64  \n",
      " 1   Name               10000 non-null  object \n",
      " 2   Ranking            10000 non-null  float64\n",
      " 3   Number of Reviews  10000 non-null  float64\n",
      " 4   price_level        10000 non-null  int64  \n",
      " 5   is_capital         10000 non-null  bool   \n",
      " 6   cuisines_count     10000 non-null  int64  \n",
      " 7   unique_cuisine     10000 non-null  bool   \n",
      " 8   timedelta          10000 non-null  int64  \n",
      "dtypes: bool(2), float64(2), int64(4), object(1)\n",
      "memory usage: 644.5+ KB\n"
     ]
    }
   ],
   "source": [
    "clear_df.info()"
   ]
  },
  {
   "cell_type": "code",
   "execution_count": 56,
   "metadata": {},
   "outputs": [
    {
     "ename": "KeyError",
     "evalue": "'Rating'",
     "output_type": "error",
     "traceback": [
      "\u001b[0;31m---------------------------------------------------------------------------\u001b[0m",
      "\u001b[0;31mKeyError\u001b[0m                                  Traceback (most recent call last)",
      "\u001b[0;32m~/anaconda3/lib/python3.7/site-packages/pandas/core/indexes/base.py\u001b[0m in \u001b[0;36mget_loc\u001b[0;34m(self, key, method, tolerance)\u001b[0m\n\u001b[1;32m   2645\u001b[0m             \u001b[0;32mtry\u001b[0m\u001b[0;34m:\u001b[0m\u001b[0;34m\u001b[0m\u001b[0;34m\u001b[0m\u001b[0m\n\u001b[0;32m-> 2646\u001b[0;31m                 \u001b[0;32mreturn\u001b[0m \u001b[0mself\u001b[0m\u001b[0;34m.\u001b[0m\u001b[0m_engine\u001b[0m\u001b[0;34m.\u001b[0m\u001b[0mget_loc\u001b[0m\u001b[0;34m(\u001b[0m\u001b[0mkey\u001b[0m\u001b[0;34m)\u001b[0m\u001b[0;34m\u001b[0m\u001b[0;34m\u001b[0m\u001b[0m\n\u001b[0m\u001b[1;32m   2647\u001b[0m             \u001b[0;32mexcept\u001b[0m \u001b[0mKeyError\u001b[0m\u001b[0;34m:\u001b[0m\u001b[0;34m\u001b[0m\u001b[0;34m\u001b[0m\u001b[0m\n",
      "\u001b[0;32mpandas/_libs/index.pyx\u001b[0m in \u001b[0;36mpandas._libs.index.IndexEngine.get_loc\u001b[0;34m()\u001b[0m\n",
      "\u001b[0;32mpandas/_libs/index.pyx\u001b[0m in \u001b[0;36mpandas._libs.index.IndexEngine.get_loc\u001b[0;34m()\u001b[0m\n",
      "\u001b[0;32mpandas/_libs/hashtable_class_helper.pxi\u001b[0m in \u001b[0;36mpandas._libs.hashtable.PyObjectHashTable.get_item\u001b[0;34m()\u001b[0m\n",
      "\u001b[0;32mpandas/_libs/hashtable_class_helper.pxi\u001b[0m in \u001b[0;36mpandas._libs.hashtable.PyObjectHashTable.get_item\u001b[0;34m()\u001b[0m\n",
      "\u001b[0;31mKeyError\u001b[0m: 'Rating'",
      "\nDuring handling of the above exception, another exception occurred:\n",
      "\u001b[0;31mKeyError\u001b[0m                                  Traceback (most recent call last)",
      "\u001b[0;32m<ipython-input-56-52e5f4c3bc28>\u001b[0m in \u001b[0;36m<module>\u001b[0;34m\u001b[0m\n\u001b[1;32m      3\u001b[0m     \u001b[0;34m'Number of Reviews'\u001b[0m\u001b[0;34m\u001b[0m\u001b[0;34m\u001b[0m\u001b[0m\n\u001b[1;32m      4\u001b[0m ]\n\u001b[0;32m----> 5\u001b[0;31m \u001b[0mbase_mae\u001b[0m \u001b[0;34m=\u001b[0m \u001b[0mfit_test_model\u001b[0m\u001b[0;34m(\u001b[0m\u001b[0mclear_df\u001b[0m\u001b[0;34m,\u001b[0m \u001b[0mbase_feature_set\u001b[0m\u001b[0;34m,\u001b[0m \u001b[0;34m'Rating'\u001b[0m\u001b[0;34m)\u001b[0m\u001b[0;34m\u001b[0m\u001b[0;34m\u001b[0m\u001b[0m\n\u001b[0m\u001b[1;32m      6\u001b[0m \u001b[0mprint\u001b[0m\u001b[0;34m(\u001b[0m\u001b[0;34mf'Базовое значение MAE, достигнутое без добавления признаков: {base_mae}'\u001b[0m\u001b[0;34m)\u001b[0m\u001b[0;34m\u001b[0m\u001b[0;34m\u001b[0m\u001b[0m\n",
      "\u001b[0;32m<ipython-input-54-92e6e0d5638c>\u001b[0m in \u001b[0;36mfit_test_model\u001b[0;34m(df, feature_set, output_feature)\u001b[0m\n\u001b[1;32m      4\u001b[0m     \u001b[0;31m# Х - данные с информацией о ресторанах, у - целевая переменная (рейтинги ресторанов)\u001b[0m\u001b[0;34m\u001b[0m\u001b[0;34m\u001b[0m\u001b[0;34m\u001b[0m\u001b[0m\n\u001b[1;32m      5\u001b[0m     \u001b[0mX\u001b[0m \u001b[0;34m=\u001b[0m \u001b[0mdf\u001b[0m\u001b[0;34m[\u001b[0m\u001b[0mfeature_set\u001b[0m\u001b[0;34m]\u001b[0m\u001b[0;34m\u001b[0m\u001b[0;34m\u001b[0m\u001b[0m\n\u001b[0;32m----> 6\u001b[0;31m     \u001b[0my\u001b[0m \u001b[0;34m=\u001b[0m \u001b[0mdf\u001b[0m\u001b[0;34m[\u001b[0m\u001b[0moutput_feature\u001b[0m\u001b[0;34m]\u001b[0m\u001b[0;34m\u001b[0m\u001b[0;34m\u001b[0m\u001b[0m\n\u001b[0m\u001b[1;32m      7\u001b[0m \u001b[0;34m\u001b[0m\u001b[0m\n\u001b[1;32m      8\u001b[0m     \u001b[0;31m# Наборы данных с меткой \"train\" будут использоваться для обучения модели, \"test\" - для тестирования.\u001b[0m\u001b[0;34m\u001b[0m\u001b[0;34m\u001b[0m\u001b[0;34m\u001b[0m\u001b[0m\n",
      "\u001b[0;32m~/anaconda3/lib/python3.7/site-packages/pandas/core/frame.py\u001b[0m in \u001b[0;36m__getitem__\u001b[0;34m(self, key)\u001b[0m\n\u001b[1;32m   2798\u001b[0m             \u001b[0;32mif\u001b[0m \u001b[0mself\u001b[0m\u001b[0;34m.\u001b[0m\u001b[0mcolumns\u001b[0m\u001b[0;34m.\u001b[0m\u001b[0mnlevels\u001b[0m \u001b[0;34m>\u001b[0m \u001b[0;36m1\u001b[0m\u001b[0;34m:\u001b[0m\u001b[0;34m\u001b[0m\u001b[0;34m\u001b[0m\u001b[0m\n\u001b[1;32m   2799\u001b[0m                 \u001b[0;32mreturn\u001b[0m \u001b[0mself\u001b[0m\u001b[0;34m.\u001b[0m\u001b[0m_getitem_multilevel\u001b[0m\u001b[0;34m(\u001b[0m\u001b[0mkey\u001b[0m\u001b[0;34m)\u001b[0m\u001b[0;34m\u001b[0m\u001b[0;34m\u001b[0m\u001b[0m\n\u001b[0;32m-> 2800\u001b[0;31m             \u001b[0mindexer\u001b[0m \u001b[0;34m=\u001b[0m \u001b[0mself\u001b[0m\u001b[0;34m.\u001b[0m\u001b[0mcolumns\u001b[0m\u001b[0;34m.\u001b[0m\u001b[0mget_loc\u001b[0m\u001b[0;34m(\u001b[0m\u001b[0mkey\u001b[0m\u001b[0;34m)\u001b[0m\u001b[0;34m\u001b[0m\u001b[0;34m\u001b[0m\u001b[0m\n\u001b[0m\u001b[1;32m   2801\u001b[0m             \u001b[0;32mif\u001b[0m \u001b[0mis_integer\u001b[0m\u001b[0;34m(\u001b[0m\u001b[0mindexer\u001b[0m\u001b[0;34m)\u001b[0m\u001b[0;34m:\u001b[0m\u001b[0;34m\u001b[0m\u001b[0;34m\u001b[0m\u001b[0m\n\u001b[1;32m   2802\u001b[0m                 \u001b[0mindexer\u001b[0m \u001b[0;34m=\u001b[0m \u001b[0;34m[\u001b[0m\u001b[0mindexer\u001b[0m\u001b[0;34m]\u001b[0m\u001b[0;34m\u001b[0m\u001b[0;34m\u001b[0m\u001b[0m\n",
      "\u001b[0;32m~/anaconda3/lib/python3.7/site-packages/pandas/core/indexes/base.py\u001b[0m in \u001b[0;36mget_loc\u001b[0;34m(self, key, method, tolerance)\u001b[0m\n\u001b[1;32m   2646\u001b[0m                 \u001b[0;32mreturn\u001b[0m \u001b[0mself\u001b[0m\u001b[0;34m.\u001b[0m\u001b[0m_engine\u001b[0m\u001b[0;34m.\u001b[0m\u001b[0mget_loc\u001b[0m\u001b[0;34m(\u001b[0m\u001b[0mkey\u001b[0m\u001b[0;34m)\u001b[0m\u001b[0;34m\u001b[0m\u001b[0;34m\u001b[0m\u001b[0m\n\u001b[1;32m   2647\u001b[0m             \u001b[0;32mexcept\u001b[0m \u001b[0mKeyError\u001b[0m\u001b[0;34m:\u001b[0m\u001b[0;34m\u001b[0m\u001b[0;34m\u001b[0m\u001b[0m\n\u001b[0;32m-> 2648\u001b[0;31m                 \u001b[0;32mreturn\u001b[0m \u001b[0mself\u001b[0m\u001b[0;34m.\u001b[0m\u001b[0m_engine\u001b[0m\u001b[0;34m.\u001b[0m\u001b[0mget_loc\u001b[0m\u001b[0;34m(\u001b[0m\u001b[0mself\u001b[0m\u001b[0;34m.\u001b[0m\u001b[0m_maybe_cast_indexer\u001b[0m\u001b[0;34m(\u001b[0m\u001b[0mkey\u001b[0m\u001b[0;34m)\u001b[0m\u001b[0;34m)\u001b[0m\u001b[0;34m\u001b[0m\u001b[0;34m\u001b[0m\u001b[0m\n\u001b[0m\u001b[1;32m   2649\u001b[0m         \u001b[0mindexer\u001b[0m \u001b[0;34m=\u001b[0m \u001b[0mself\u001b[0m\u001b[0;34m.\u001b[0m\u001b[0mget_indexer\u001b[0m\u001b[0;34m(\u001b[0m\u001b[0;34m[\u001b[0m\u001b[0mkey\u001b[0m\u001b[0;34m]\u001b[0m\u001b[0;34m,\u001b[0m \u001b[0mmethod\u001b[0m\u001b[0;34m=\u001b[0m\u001b[0mmethod\u001b[0m\u001b[0;34m,\u001b[0m \u001b[0mtolerance\u001b[0m\u001b[0;34m=\u001b[0m\u001b[0mtolerance\u001b[0m\u001b[0;34m)\u001b[0m\u001b[0;34m\u001b[0m\u001b[0;34m\u001b[0m\u001b[0m\n\u001b[1;32m   2650\u001b[0m         \u001b[0;32mif\u001b[0m \u001b[0mindexer\u001b[0m\u001b[0;34m.\u001b[0m\u001b[0mndim\u001b[0m \u001b[0;34m>\u001b[0m \u001b[0;36m1\u001b[0m \u001b[0;32mor\u001b[0m \u001b[0mindexer\u001b[0m\u001b[0;34m.\u001b[0m\u001b[0msize\u001b[0m \u001b[0;34m>\u001b[0m \u001b[0;36m1\u001b[0m\u001b[0;34m:\u001b[0m\u001b[0;34m\u001b[0m\u001b[0;34m\u001b[0m\u001b[0m\n",
      "\u001b[0;32mpandas/_libs/index.pyx\u001b[0m in \u001b[0;36mpandas._libs.index.IndexEngine.get_loc\u001b[0;34m()\u001b[0m\n",
      "\u001b[0;32mpandas/_libs/index.pyx\u001b[0m in \u001b[0;36mpandas._libs.index.IndexEngine.get_loc\u001b[0;34m()\u001b[0m\n",
      "\u001b[0;32mpandas/_libs/hashtable_class_helper.pxi\u001b[0m in \u001b[0;36mpandas._libs.hashtable.PyObjectHashTable.get_item\u001b[0;34m()\u001b[0m\n",
      "\u001b[0;32mpandas/_libs/hashtable_class_helper.pxi\u001b[0m in \u001b[0;36mpandas._libs.hashtable.PyObjectHashTable.get_item\u001b[0;34m()\u001b[0m\n",
      "\u001b[0;31mKeyError\u001b[0m: 'Rating'"
     ]
    }
   ],
   "source": [
    "base_feature_set = [\n",
    "    'Ranking',\n",
    "    'Number of Reviews'\n",
    "]\n",
    "base_mae = fit_test_model(clear_df, base_feature_set, 'Rating')\n",
    "print(f'Базовое значение MAE, достигнутое без добавления признаков: {base_mae}')"
   ]
  },
  {
   "cell_type": "markdown",
   "metadata": {},
   "source": [
    "# Создаём, обучаем и тестируем модель с добавлением различных признаков и сохраняем полученные результаты"
   ]
  },
  {
   "cell_type": "code",
   "execution_count": null,
   "metadata": {},
   "outputs": [],
   "source": [
    "clear_df.info()"
   ]
  },
  {
   "cell_type": "code",
   "execution_count": null,
   "metadata": {},
   "outputs": [],
   "source": [
    "# Формируем список дополнительных признаков\n",
    "augmented_feature_set = [\n",
    "    'Restaurant_id',\n",
    "    'Ranking',\n",
    "    'price_level',\n",
    "    'is_capital',\n",
    "    'cuisines_count',\n",
    "    'unique_cuisine',\n",
    "    'timedelta'\n",
    "]"
   ]
  },
  {
   "cell_type": "code",
   "execution_count": null,
   "metadata": {},
   "outputs": [],
   "source": [
    "# Тренируем и тестируем модель на выборке с базовыми признаками и одним из дополнительных по очереди\n",
    "# Сохраняем изменения относительно базового значения MAE в справочник\n",
    "model_test_results = dict()\n",
    "\n",
    "step = 1\n",
    "\n",
    "for augmented_feature in augmented_feature_set:\n",
    "    feature_set = base_feature_set.copy()\n",
    "    feature_set.append(augmented_feature)\n",
    "    print(f'Step {step}. Train and test started...')\n",
    "    mae = fit_test_model(clear_df, feature_set, 'Rating')\n",
    "    mae_change = base_mae - mae\n",
    "    model_test_results[augmented_feature] = mae_change\n",
    "    print(f'Train and test model with {augmented_feature} augmented feature completed.')\n",
    "    print(f'Achieved MAE change: {mae_change}')\n",
    "    step += 1\n",
    "    \n",
    "import collections\n",
    "\n",
    "sorted_model_test_results = collections.OrderedDict(model_test_results)"
   ]
  },
  {
   "cell_type": "code",
   "execution_count": null,
   "metadata": {},
   "outputs": [],
   "source": [
    "sorted_model_test_results"
   ]
  },
  {
   "cell_type": "code",
   "execution_count": null,
   "metadata": {},
   "outputs": [],
   "source": [
    "# Как видно из результатов тестирования, признаки Ranking и uniqie_cuisine только ухудшают результат\n",
    "# Сформируем список признаков, дающих лучший результат и проведем тренировку и тестирование модели\n",
    "\n",
    "best_feature_set = [\n",
    "    'Restaurant_id',\n",
    "    'price_level',\n",
    "    'is_capital',\n",
    "    'cuisines_count',\n",
    "    'timedelta'\n",
    "]\n",
    "\n",
    "best_mae = fit_test_model(clear_df, base_feature_set+best_feature_set, 'Rating')\n",
    "print(f'Базовое значение MAE: {base_mae}')\n",
    "print(f'Лучшее значение MAE: {best_mae}')\n",
    "print(f'Изменение MAE: {base_mae - best_mae}')"
   ]
  },
  {
   "cell_type": "markdown",
   "metadata": {},
   "source": [
    "# Используем sklearn.preprocessing.MultiLabelBinarizer кодирование для признака Cuisine Style"
   ]
  },
  {
   "cell_type": "code",
   "execution_count": null,
   "metadata": {},
   "outputs": [],
   "source": [
    "from sklearn.preprocessing import MultiLabelBinarizer"
   ]
  },
  {
   "cell_type": "code",
   "execution_count": null,
   "metadata": {},
   "outputs": [],
   "source": [
    "mlb = MultiLabelBinarizer()\n",
    "encoded = pd.DataFrame(mlb.fit_transform(df['Cuisine Style'].apply(get_list)), columns=mlb.classes_, index=df.index)\n",
    "mlb_df = pd.concat([clear_df[['Rating']+base_feature_set+best_feature_set], encoded], axis=1)\n",
    "mlb_feature_set = base_feature_set + best_feature_set + list(mlb.classes_)\n",
    "mlb_df"
   ]
  },
  {
   "cell_type": "code",
   "execution_count": null,
   "metadata": {},
   "outputs": [],
   "source": [
    "mlb_mae = fit_test_model(mlb_df, mlb_feature_set, 'Rating')"
   ]
  },
  {
   "cell_type": "code",
   "execution_count": null,
   "metadata": {},
   "outputs": [],
   "source": [
    "print(f'При тренировке на данных с применением MiltiLabelBinarizer в отношении признака Cuisine Style достигнуто значение MAE: {mlb_mae}')\n",
    "print(f'Уменьшение MAE относительно базового: {base_mae - mlb_mae}')\n",
    "print(f'Уменьшение MAE относительно лучшего значения, достигнутого ранее: {best_mae - mlb_mae}')"
   ]
  },
  {
   "cell_type": "code",
   "execution_count": null,
   "metadata": {},
   "outputs": [],
   "source": [
    "# Создадим справочник вида {city: country}\n",
    "countries = dict()\n",
    "for city in cities['city']:\n",
    "    countries[city] = cities[cities['city'] == city]['country'].iloc[0]"
   ]
  },
  {
   "cell_type": "code",
   "execution_count": null,
   "metadata": {},
   "outputs": [],
   "source": [
    "# Добавляем к основному датафрейму столбец с названиями стран\n",
    "def get_country(city):\n",
    "    try:\n",
    "        return countries[city]\n",
    "    except:\n",
    "        return 'The World'\n",
    "\n",
    "df['country'] = df['City'].apply(get_country)\n",
    "df.head(1)"
   ]
  },
  {
   "cell_type": "code",
   "execution_count": null,
   "metadata": {},
   "outputs": [],
   "source": [
    "df.info()"
   ]
  },
  {
   "cell_type": "code",
   "execution_count": null,
   "metadata": {},
   "outputs": [],
   "source": [
    "# Применим sklearn.preprocessing.LabelEcoder\n",
    "from sklearn.preprocessing import LabelEncoder\n",
    "\n",
    "le = LabelEncoder()\n",
    "le.fit(df['country'])\n",
    "\n",
    "# Добавим коды лейблов к датафрейму mlb_df\n",
    "mlb_df['country_label'] = le.transform(df['country'])\n",
    "mlb_df"
   ]
  },
  {
   "cell_type": "code",
   "execution_count": null,
   "metadata": {},
   "outputs": [],
   "source": [
    "# Тренируем и тестируем модель на новых данных\n",
    "countries_feature_set = mlb_feature_set + ['country_label']\n",
    "countries_mae = fit_test_model(mlb_df, countries_feature_set, 'Rating')"
   ]
  },
  {
   "cell_type": "code",
   "execution_count": null,
   "metadata": {},
   "outputs": [],
   "source": [
    "print(f'При тренировке на данных с применением LabelEncoder в отношении признака coutry достигнуто значение MAE: {countries_mae}')\n",
    "print(f'Уменьшение MAE относительно базового: {base_mae - countries_mae}')\n",
    "print(f'Уменьшение MAE относительно лучшего значения, достигнутого ранее: {mlb_mae - countries_mae}')"
   ]
  },
  {
   "cell_type": "code",
   "execution_count": null,
   "metadata": {},
   "outputs": [],
   "source": []
  }
 ],
 "metadata": {
  "kernelspec": {
   "display_name": "Python 3",
   "language": "python",
   "name": "python3"
  },
  "language_info": {
   "codemirror_mode": {
    "name": "ipython",
    "version": 3
   },
   "file_extension": ".py",
   "mimetype": "text/x-python",
   "name": "python",
   "nbconvert_exporter": "python",
   "pygments_lexer": "ipython3",
   "version": "3.7.4"
  }
 },
 "nbformat": 4,
 "nbformat_minor": 4
}

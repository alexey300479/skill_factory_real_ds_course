{
 "cells": [
  {
   "cell_type": "code",
   "execution_count": 8,
   "metadata": {},
   "outputs": [
    {
     "name": "stdout",
     "output_type": "stream",
     "text": [
      "16647931507746.96\n"
     ]
    }
   ],
   "source": [
    "import pandas as pd\n",
    "import numpy as np\n",
    "from sklearn.model_selection import train_test_split\n",
    "from sklearn.metrics import mean_squared_error as mse\n",
    "from sklearn.preprocessing import RobustScaler\n",
    "from sklearn.linear_model import LinearRegression\n",
    "data = pd.read_csv('data_flats2.csv', sep=';')\n",
    "data['price_doc'] = data['price_doc'].apply(lambda w: np.log(w+1))\n",
    "data = data.drop(['id','preschool_education_centers_raion','kindergarten_km',\n",
    "                  'park_km','kremlin_km','life_sq'], axis=1)\n",
    "data = data.dropna()\n",
    "X = data.drop(['price_doc'], axis=1)\n",
    "Y = data.price_doc\n",
    "X_train,X_test,Y_train,Y_test = train_test_split(X,Y,test_size = 0.2, random_state=77)\n",
    "scaler = RobustScaler()\n",
    "norm_X_train = scaler.fit_transform(X_train)\n",
    "norm_X_test = scaler.fit_transform(X_test)\n",
    "myModel = LinearRegression().fit(norm_X_train,Y_train) #обучаем модель на обучающих данных\n",
    "y_pred = myModel.predict(norm_X_test)\n",
    "print(np.round(mse(np.exp(Y_test) - 1, np.exp(y_pred) - 1), 2)) "
   ]
  },
  {
   "cell_type": "code",
   "execution_count": null,
   "metadata": {},
   "outputs": [],
   "source": []
  }
 ],
 "metadata": {
  "kernelspec": {
   "display_name": "Python 3",
   "language": "python",
   "name": "python3"
  },
  "language_info": {
   "codemirror_mode": {
    "name": "ipython",
    "version": 3
   },
   "file_extension": ".py",
   "mimetype": "text/x-python",
   "name": "python",
   "nbconvert_exporter": "python",
   "pygments_lexer": "ipython3",
   "version": "3.7.4"
  }
 },
 "nbformat": 4,
 "nbformat_minor": 4
}

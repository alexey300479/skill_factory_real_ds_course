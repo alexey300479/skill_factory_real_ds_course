{
 "cells": [
  {
   "cell_type": "markdown",
   "metadata": {},
   "source": [
    "#### Task 1."
   ]
  },
  {
   "cell_type": "markdown",
   "metadata": {},
   "source": [
    "Что из этого могло бы быть корректным вызовом функции?\n",
    "\n",
    "- ``` python\n",
    "build_the_wall()\n",
    "```\n",
    "- ``` python\n",
    "send_the_package(data='paff', 10)\n",
    "```\n",
    "- ``` python\n",
    "load_img(img, height=10)\n",
    "```\n",
    "- ``` python\n",
    "get_top_scorer('ascend')\n",
    "```"
   ]
  },
  {
   "cell_type": "markdown",
   "metadata": {},
   "source": [
    "#### Problem: this task is not described full enough. What arguments has build_the_wall() function? We doesn't see how all of called functions was defined!!!"
   ]
  },
  {
   "cell_type": "markdown",
   "metadata": {},
   "source": [
    "#### Solution: 1st, 3rd and 4th ways are right!!!"
   ]
  },
  {
   "cell_type": "code",
   "execution_count": null,
   "metadata": {},
   "outputs": [],
   "source": []
  }
 ],
 "metadata": {
  "kernelspec": {
   "display_name": "Python 3",
   "language": "python",
   "name": "python3"
  },
  "language_info": {
   "codemirror_mode": {
    "name": "ipython",
    "version": 3
   },
   "file_extension": ".py",
   "mimetype": "text/x-python",
   "name": "python",
   "nbconvert_exporter": "python",
   "pygments_lexer": "ipython3",
   "version": "3.6.1"
  }
 },
 "nbformat": 4,
 "nbformat_minor": 2
}

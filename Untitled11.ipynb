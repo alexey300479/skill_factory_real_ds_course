{
 "cells": [
  {
   "cell_type": "code",
   "execution_count": 5,
   "metadata": {},
   "outputs": [
    {
     "name": "stdout",
     "output_type": "stream",
     "text": [
      "16647931507746.96\n"
     ]
    }
   ],
   "source": [
    "import pandas as pd\n",
    "import numpy as np\n",
    "import matplotlib.pyplot as plt\n",
    "from sklearn.model_selection import train_test_split\n",
    "from sklearn.linear_model import LinearRegression\n",
    "from sklearn import metrics\n",
    "from sklearn.preprocessing import MinMaxScaler, RobustScaler\n",
    "# %matplotlib inline\n",
    "# загружаем данные\n",
    "data = pd.read_csv('data_flats2.csv', sep =';')\n",
    "# логарифмируем целевую переменную для нормального распределения\n",
    "data['price_doc'] = data['price_doc'].apply(lambda w: np.log(w + 1))\n",
    "# изучая матрицу корреляции, убираем сильнокоррелирующие признаки\n",
    "data = data.drop(columns = ['life_sq','preschool_education_centers_raion', 'kindergarten_km','park_km', 'kremlin_km'])\n",
    "# убираем пропуски\n",
    "data = data.dropna()\n",
    "# выбираем целевую переменную\n",
    "y = data.price_doc\n",
    "# выбираем признаки\n",
    "X = data.iloc[:,1:-1]\n",
    "# делим данные\n",
    "X_train, X_test, Y_train, Y_test = train_test_split(X, y, test_size=0.2, random_state=77)\n",
    "# нормализуем признаки\n",
    "scaler = RobustScaler()\n",
    "X_train = scaler.fit_transform(X_train)\n",
    "X_test  = scaler.fit_transform(X_test)\n",
    "#Обозначаем, что наша модель - линейная регрессия\n",
    "Model = LinearRegression() \n",
    "# обучаем модель\n",
    "Model.fit(X_train,Y_train)\n",
    "# предсказываем целевые значения\n",
    "y_pred = Model.predict(X_test)\n",
    "# находим метрики, предварительно экспонируя целевую переменную\n",
    "MSE = np.round(metrics.mean_squared_error((np.exp(Y_test) - 1), (np.exp(y_pred) - 1)), 2)\n",
    "print(MSE)"
   ]
  },
  {
   "cell_type": "code",
   "execution_count": null,
   "metadata": {},
   "outputs": [],
   "source": []
  }
 ],
 "metadata": {
  "kernelspec": {
   "display_name": "Python 3",
   "language": "python",
   "name": "python3"
  },
  "language_info": {
   "codemirror_mode": {
    "name": "ipython",
    "version": 3
   },
   "file_extension": ".py",
   "mimetype": "text/x-python",
   "name": "python",
   "nbconvert_exporter": "python",
   "pygments_lexer": "ipython3",
   "version": "3.7.4"
  }
 },
 "nbformat": 4,
 "nbformat_minor": 4
}

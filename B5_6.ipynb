{
 "cells": [
  {
   "cell_type": "code",
   "execution_count": 6,
   "metadata": {},
   "outputs": [],
   "source": [
    "import numpy as np\n",
    "import os\n",
    "import pandas as pd"
   ]
  },
  {
   "cell_type": "code",
   "execution_count": 7,
   "metadata": {},
   "outputs": [],
   "source": [
    "base_dir = os.path.join('data', 'bookmaker')\n",
    "log_filename = os.path.join(base_dir, 'log.csv')"
   ]
  },
  {
   "cell_type": "code",
   "execution_count": 21,
   "metadata": {},
   "outputs": [],
   "source": [
    "# прочитаем файл в переменную log\n",
    "log = pd.read_csv(log_filename, header=None)\n",
    "\n",
    "# добавим названия колонок user_id, time, bet, win\n",
    "log.columns = ['user_id','time','bet','win']"
   ]
  },
  {
   "cell_type": "code",
   "execution_count": 23,
   "metadata": {},
   "outputs": [],
   "source": [
    "log['bet'].fillna(0, inplace=True)\n",
    "log['win'].fillna(0, inplace=True)"
   ]
  },
  {
   "cell_type": "code",
   "execution_count": 24,
   "metadata": {},
   "outputs": [],
   "source": [
    "log['net'] = log['win'] - log['bet']"
   ]
  },
  {
   "cell_type": "code",
   "execution_count": 25,
   "metadata": {},
   "outputs": [
    {
     "name": "stdout",
     "output_type": "stream",
     "text": [
      "Доля посетителей, которые сделали ставку: 48.5%\n"
     ]
    }
   ],
   "source": [
    "bet_pct = sum(log['bet']>0)/len(log['bet'])\n",
    "print(f'Доля посетителей, которые сделали ставку: {bet_pct:.1%}')"
   ]
  },
  {
   "cell_type": "code",
   "execution_count": 26,
   "metadata": {},
   "outputs": [
    {
     "name": "stdout",
     "output_type": "stream",
     "text": [
      "Средняя ставка среди всех, кто вообще сделал ставку: 6785.738144329897\n"
     ]
    }
   ],
   "source": [
    "mean_bet = log[log['bet']>0]['bet'].mean()\n",
    "print(f'Средняя ставка среди всех, кто вообще сделал ставку: {mean_bet}')"
   ]
  },
  {
   "cell_type": "code",
   "execution_count": 27,
   "metadata": {},
   "outputs": [
    {
     "name": "stdout",
     "output_type": "stream",
     "text": [
      "Средний выигрыш среди тех, кто вообще сделал ставку: 20421.892783505155\n"
     ]
    }
   ],
   "source": [
    "mean_net = log[log['bet']>0]['net'].mean()\n",
    "print(f'Средний выигрыш среди тех, кто вообще сделал ставку: {mean_net}')"
   ]
  },
  {
   "cell_type": "code",
   "execution_count": 28,
   "metadata": {},
   "outputs": [
    {
     "name": "stdout",
     "output_type": "stream",
     "text": [
      "Средняя сумма потерь при проигрыше: -3372.743515850144\n"
     ]
    }
   ],
   "source": [
    "mean_net_losses = log[log['net']<0]['net'].mean()\n",
    "print(f'Средняя сумма потерь при проигрыше: {mean_net_losses}')"
   ]
  },
  {
   "cell_type": "code",
   "execution_count": 30,
   "metadata": {},
   "outputs": [
    {
     "name": "stdout",
     "output_type": "stream",
     "text": [
      "Выигрышем заканчивается 13.80% ставок\n",
      "Проигрышем заканчивается 34.70% ставок\n"
     ]
    }
   ],
   "source": [
    "win_pct = sum(log['net'] > 0)/len(log['net'])\n",
    "print(f'Выигрышем заканчивается {win_pct:.2%} ставок')\n",
    "loss_pct = sum(log['net'] < 0)/len(log['net'])\n",
    "print(f'Проигрышем заканчивается {loss_pct:.2%} ставок')"
   ]
  },
  {
   "cell_type": "code",
   "execution_count": 33,
   "metadata": {},
   "outputs": [],
   "source": [
    "# прочитаем файл в переменную log\n",
    "log = pd.read_csv(log_filename, header=None)\n",
    "\n",
    "# добавим названия колонок user_id, time, bet, win\n",
    "log.columns = ['user_id','time','bet','win']"
   ]
  },
  {
   "cell_type": "code",
   "execution_count": 34,
   "metadata": {},
   "outputs": [],
   "source": [
    "log['bet'].dropna(inplace=True)"
   ]
  },
  {
   "cell_type": "code",
   "execution_count": 35,
   "metadata": {},
   "outputs": [],
   "source": [
    "min_bet = log['bet'].min()\n",
    "min_bet_amount = sum(log['bet'] == min_bet)"
   ]
  },
  {
   "cell_type": "code",
   "execution_count": 36,
   "metadata": {},
   "outputs": [
    {
     "data": {
      "text/plain": [
       "48"
      ]
     },
     "execution_count": 36,
     "metadata": {},
     "output_type": "execute_result"
    }
   ],
   "source": [
    "min_bet_amount"
   ]
  },
  {
   "cell_type": "code",
   "execution_count": null,
   "metadata": {},
   "outputs": [],
   "source": []
  }
 ],
 "metadata": {
  "kernelspec": {
   "display_name": "Python 3",
   "language": "python",
   "name": "python3"
  },
  "language_info": {
   "codemirror_mode": {
    "name": "ipython",
    "version": 3
   },
   "file_extension": ".py",
   "mimetype": "text/x-python",
   "name": "python",
   "nbconvert_exporter": "python",
   "pygments_lexer": "ipython3",
   "version": "3.7.4"
  }
 },
 "nbformat": 4,
 "nbformat_minor": 4
}

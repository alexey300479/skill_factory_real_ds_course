{
 "cells": [
  {
   "cell_type": "code",
   "execution_count": 1,
   "metadata": {},
   "outputs": [],
   "source": [
    "import numpy as np\n",
    "import os\n",
    "import pandas as pd"
   ]
  },
  {
   "cell_type": "code",
   "execution_count": 2,
   "metadata": {},
   "outputs": [],
   "source": [
    "base_dir = os.path.join('data', 'bookmaker')\n",
    "log_filename = os.path.join(base_dir, 'log.csv')"
   ]
  },
  {
   "cell_type": "code",
   "execution_count": 23,
   "metadata": {},
   "outputs": [],
   "source": [
    "# прочитаем файл в переменную log\n",
    "log = pd.read_csv(log_filename, header=None)\n",
    "\n",
    "# добавим названия колонок user_id, time, bet, win\n",
    "log.columns = ['user_id','time','bet','win']\n",
    "\n",
    "log = log[log['user_id'] != '#error']"
   ]
  },
  {
   "cell_type": "code",
   "execution_count": 24,
   "metadata": {},
   "outputs": [],
   "source": [
    "log['bet'].fillna(0, inplace=True)\n",
    "log['win'].fillna(0, inplace=True)"
   ]
  },
  {
   "cell_type": "code",
   "execution_count": 25,
   "metadata": {},
   "outputs": [],
   "source": [
    "log['net'] = log['win'] - log['bet']"
   ]
  },
  {
   "cell_type": "code",
   "execution_count": 26,
   "metadata": {},
   "outputs": [
    {
     "name": "stdout",
     "output_type": "stream",
     "text": [
      "Доля посетителей, которые сделали ставку: 47.9%\n"
     ]
    }
   ],
   "source": [
    "bet_pct = sum(log['bet']>0)/len(log['bet'])\n",
    "print(f'Доля посетителей, которые сделали ставку: {bet_pct:.1%}')"
   ]
  },
  {
   "cell_type": "code",
   "execution_count": 27,
   "metadata": {},
   "outputs": [
    {
     "name": "stdout",
     "output_type": "stream",
     "text": [
      "Средняя ставка среди всех, кто вообще сделал ставку: 6806.578389830508\n"
     ]
    }
   ],
   "source": [
    "mean_bet = log[log['bet']>0]['bet'].mean()\n",
    "print(f'Средняя ставка среди всех, кто вообще сделал ставку: {mean_bet}')"
   ]
  },
  {
   "cell_type": "code",
   "execution_count": 28,
   "metadata": {},
   "outputs": [
    {
     "name": "stdout",
     "output_type": "stream",
     "text": [
      "Средний выигрыш среди тех, кто вообще сделал ставку: 20879.180084745763\n"
     ]
    }
   ],
   "source": [
    "mean_net = log[log['bet']>0]['net'].mean()\n",
    "print(f'Средний выигрыш среди тех, кто вообще сделал ставку: {mean_net}')"
   ]
  },
  {
   "cell_type": "code",
   "execution_count": 29,
   "metadata": {},
   "outputs": [
    {
     "name": "stdout",
     "output_type": "stream",
     "text": [
      "Средняя сумма потерь при проигрыше: -3345.958702064897\n"
     ]
    }
   ],
   "source": [
    "mean_net_losses = log[log['net']<0]['net'].mean()\n",
    "print(f'Средняя сумма потерь при проигрыше: {mean_net_losses}')"
   ]
  },
  {
   "cell_type": "code",
   "execution_count": 30,
   "metadata": {},
   "outputs": [
    {
     "name": "stdout",
     "output_type": "stream",
     "text": [
      "Выигрышем заканчивается 13.50% ставок\n",
      "Проигрышем заканчивается 34.42% ставок\n"
     ]
    }
   ],
   "source": [
    "win_pct = sum(log['net'] > 0)/len(log['net'])\n",
    "print(f'Выигрышем заканчивается {win_pct:.2%} ставок')\n",
    "loss_pct = sum(log['net'] < 0)/len(log['net'])\n",
    "print(f'Проигрышем заканчивается {loss_pct:.2%} ставок')"
   ]
  },
  {
   "cell_type": "code",
   "execution_count": 33,
   "metadata": {},
   "outputs": [
    {
     "data": {
      "text/plain": [
       "2202.0"
      ]
     },
     "execution_count": 33,
     "metadata": {},
     "output_type": "execute_result"
    }
   ],
   "source": [
    "log.groupby('user_id').net.sum().median()"
   ]
  },
  {
   "cell_type": "code",
   "execution_count": 11,
   "metadata": {},
   "outputs": [],
   "source": [
    "# прочитаем файл в переменную log\n",
    "log = pd.read_csv(log_filename, header=None)\n",
    "\n",
    "# добавим названия колонок user_id, time, bet, win\n",
    "log.columns = ['user_id','time','bet','win']"
   ]
  },
  {
   "cell_type": "code",
   "execution_count": 12,
   "metadata": {},
   "outputs": [],
   "source": [
    "log['bet'].dropna(inplace=True)"
   ]
  },
  {
   "cell_type": "code",
   "execution_count": 13,
   "metadata": {},
   "outputs": [],
   "source": [
    "min_bet = log['bet'].min()\n",
    "min_bet_amount = sum(log['bet'] == min_bet)"
   ]
  },
  {
   "cell_type": "code",
   "execution_count": 14,
   "metadata": {},
   "outputs": [
    {
     "data": {
      "text/plain": [
       "48"
      ]
     },
     "execution_count": 14,
     "metadata": {},
     "output_type": "execute_result"
    }
   ],
   "source": [
    "min_bet_amount"
   ]
  },
  {
   "cell_type": "code",
   "execution_count": 20,
   "metadata": {},
   "outputs": [
    {
     "data": {
      "text/html": [
       "<div>\n",
       "<style scoped>\n",
       "    .dataframe tbody tr th:only-of-type {\n",
       "        vertical-align: middle;\n",
       "    }\n",
       "\n",
       "    .dataframe tbody tr th {\n",
       "        vertical-align: top;\n",
       "    }\n",
       "\n",
       "    .dataframe thead th {\n",
       "        text-align: right;\n",
       "    }\n",
       "</style>\n",
       "<table border=\"1\" class=\"dataframe\">\n",
       "  <thead>\n",
       "    <tr style=\"text-align: right;\">\n",
       "      <th></th>\n",
       "      <th>bet</th>\n",
       "      <th>win</th>\n",
       "      <th>net</th>\n",
       "    </tr>\n",
       "    <tr>\n",
       "      <th>user_id</th>\n",
       "      <th></th>\n",
       "      <th></th>\n",
       "      <th></th>\n",
       "    </tr>\n",
       "  </thead>\n",
       "  <tbody>\n",
       "    <tr>\n",
       "      <th>#error</th>\n",
       "      <td>78378.0</td>\n",
       "      <td>128023.0</td>\n",
       "      <td>85707.0</td>\n",
       "    </tr>\n",
       "    <tr>\n",
       "      <th>Запись пользователя № - user_1000</th>\n",
       "      <td>1600.0</td>\n",
       "      <td>4701.0</td>\n",
       "      <td>4301.0</td>\n",
       "    </tr>\n",
       "    <tr>\n",
       "      <th>Запись пользователя № - user_900</th>\n",
       "      <td>3800.0</td>\n",
       "      <td>24497.0</td>\n",
       "      <td>22197.0</td>\n",
       "    </tr>\n",
       "    <tr>\n",
       "      <th>Запись пользователя № - user_901</th>\n",
       "      <td>600.0</td>\n",
       "      <td>0.0</td>\n",
       "      <td>0.0</td>\n",
       "    </tr>\n",
       "    <tr>\n",
       "      <th>Запись пользователя № - user_902</th>\n",
       "      <td>1700.0</td>\n",
       "      <td>4021.0</td>\n",
       "      <td>3821.0</td>\n",
       "    </tr>\n",
       "    <tr>\n",
       "      <th>...</th>\n",
       "      <td>...</td>\n",
       "      <td>...</td>\n",
       "      <td>...</td>\n",
       "    </tr>\n",
       "    <tr>\n",
       "      <th>Запись пользователя № - user_995</th>\n",
       "      <td>12854.0</td>\n",
       "      <td>5889.0</td>\n",
       "      <td>5489.0</td>\n",
       "    </tr>\n",
       "    <tr>\n",
       "      <th>Запись пользователя № - user_996</th>\n",
       "      <td>1000.0</td>\n",
       "      <td>4056.0</td>\n",
       "      <td>3956.0</td>\n",
       "    </tr>\n",
       "    <tr>\n",
       "      <th>Запись пользователя № - user_997</th>\n",
       "      <td>1200.0</td>\n",
       "      <td>0.0</td>\n",
       "      <td>0.0</td>\n",
       "    </tr>\n",
       "    <tr>\n",
       "      <th>Запись пользователя № - user_998</th>\n",
       "      <td>15554.0</td>\n",
       "      <td>41749.0</td>\n",
       "      <td>30095.0</td>\n",
       "    </tr>\n",
       "    <tr>\n",
       "      <th>Запись пользователя № - user_999</th>\n",
       "      <td>1600.0</td>\n",
       "      <td>0.0</td>\n",
       "      <td>0.0</td>\n",
       "    </tr>\n",
       "  </tbody>\n",
       "</table>\n",
       "<p>102 rows × 3 columns</p>\n",
       "</div>"
      ],
      "text/plain": [
       "                                       bet       win      net\n",
       "user_id                                                      \n",
       "#error                             78378.0  128023.0  85707.0\n",
       "Запись пользователя № - user_1000   1600.0    4701.0   4301.0\n",
       "Запись пользователя № - user_900    3800.0   24497.0  22197.0\n",
       "Запись пользователя № - user_901     600.0       0.0      0.0\n",
       "Запись пользователя № - user_902    1700.0    4021.0   3821.0\n",
       "...                                    ...       ...      ...\n",
       "Запись пользователя № - user_995   12854.0    5889.0   5489.0\n",
       "Запись пользователя № - user_996    1000.0    4056.0   3956.0\n",
       "Запись пользователя № - user_997    1200.0       0.0      0.0\n",
       "Запись пользователя № - user_998   15554.0   41749.0  30095.0\n",
       "Запись пользователя № - user_999    1600.0       0.0      0.0\n",
       "\n",
       "[102 rows x 3 columns]"
      ]
     },
     "execution_count": 20,
     "metadata": {},
     "output_type": "execute_result"
    }
   ],
   "source": [
    "log.groupby('user_id').sum()"
   ]
  },
  {
   "cell_type": "code",
   "execution_count": null,
   "metadata": {},
   "outputs": [],
   "source": []
  }
 ],
 "metadata": {
  "kernelspec": {
   "display_name": "Python 3",
   "language": "python",
   "name": "python3"
  },
  "language_info": {
   "codemirror_mode": {
    "name": "ipython",
    "version": 3
   },
   "file_extension": ".py",
   "mimetype": "text/x-python",
   "name": "python",
   "nbconvert_exporter": "python",
   "pygments_lexer": "ipython3",
   "version": "3.7.4"
  }
 },
 "nbformat": 4,
 "nbformat_minor": 4
}

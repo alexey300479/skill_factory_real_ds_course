{
 "cells": [
  {
   "cell_type": "markdown",
   "metadata": {},
   "source": [
    "Задача и листинги приведены в статье:\n",
    "https://habr.com/ru/post/330648/"
   ]
  },
  {
   "cell_type": "code",
   "execution_count": 38,
   "metadata": {},
   "outputs": [
    {
     "name": "stdout",
     "output_type": "stream",
     "text": [
      "Результат:\n",
      "x1 = 0.0\n",
      "x2 = 45.0\n",
      "x3 = 0.0\n",
      "x4 = 0.0\n",
      "x5 = 0.0\n",
      "x6 = 30.0\n",
      "x7 = 20.0\n",
      "x8 = 0.0\n",
      "x9 = 0.0\n",
      "Стоимость доставки:\n",
      "215.0\n",
      "Время :\n",
      "0.015438556671142578\n"
     ]
    }
   ],
   "source": [
    "from pulp import *\n",
    "import time\n",
    "start = time.time()\n",
    "x1 = pulp.LpVariable(\"x1\", lowBound=0)\n",
    "x2 = pulp.LpVariable(\"x2\", lowBound=0)\n",
    "x3 = pulp.LpVariable(\"x3\", lowBound=0)\n",
    "x4 = pulp.LpVariable(\"x4\", lowBound=0)\n",
    "x5 = pulp.LpVariable(\"x5\", lowBound=0)\n",
    "x6 = pulp.LpVariable(\"x6\", lowBound=0)\n",
    "x7 = pulp.LpVariable(\"x7\", lowBound=0)\n",
    "x8 = pulp.LpVariable(\"x8\", lowBound=0)\n",
    "x9 = pulp.LpVariable(\"x9\", lowBound=0)\n",
    "problem = pulp.LpProblem('0',pulp.LpMaximize)\n",
    "problem += -7*x1 - 3*x2 - 6* x3 - 4*x4 - 8*x5 -2* x6-1*x7- 5*x8-9* x9, \"Функция цели\"\n",
    "problem +=x1 + x2 +x3<= 74,\"1\" \n",
    "problem +=x4 + x5 +x6 <= 40, \"2\"\n",
    "problem +=x7 + x8+ x9 <= 36, \"3\"\n",
    "problem +=x1+ x4+ x7 == 20, \"4\"\n",
    "problem +=x2+x5+ x8 == 45, \"5\"\n",
    "problem +=x3 + x6+x9 == 30, \"6\"                     \n",
    "problem.solve()\n",
    "print (\"Результат:\")\n",
    "for variable in problem.variables():\n",
    "    print (variable.name, \"=\", variable.varValue)\n",
    "print (\"Стоимость доставки:\")\n",
    "print (abs(value(problem.objective)))\n",
    "stop = time.time()\n",
    "print (\"Время :\")\n",
    "print(stop - start)"
   ]
  },
  {
   "cell_type": "code",
   "execution_count": 39,
   "metadata": {},
   "outputs": [
    {
     "name": "stdout",
     "output_type": "stream",
     "text": [
      "Результат:\n",
      "[ 0.00e+00]\n",
      "[ 4.50e+01]\n",
      "[ 0.00e+00]\n",
      "[ 0.00e+00]\n",
      "[ 0.00e+00]\n",
      "[ 3.00e+01]\n",
      "[ 2.00e+01]\n",
      "[ 0.00e+00]\n",
      "[ 0.00e+00]\n",
      "\n",
      "Стоимость доставки:\n",
      "215.0\n",
      "Время :\n",
      "0.0028336048126220703\n"
     ]
    }
   ],
   "source": [
    "from cvxopt.modeling import variable, op\n",
    "import time\n",
    "start = time.time()\n",
    "x = variable(9, 'x')\n",
    "z=(7*x[0] + 3*x[1] +6* x[2] +4*x[3] + 8*x[4] +2* x[5]+x[6] + 5*x[7] +9* x[8])\n",
    "mass1 = (x[0] + x[1] +x[2] <= 74)\n",
    "mass2 = (x[3] + x[4] +x[5] <= 40)\n",
    "mass3 = (x[6] + x[7] + x[8] <= 36)\n",
    "mass4 = (x[0] + x[3] + x[6] == 20)\n",
    "mass5 = (x[1] +x[4] + x[7] == 45)\n",
    "mass6 = (x[2] + x[5] + x[8] == 30)\n",
    "x_non_negative = (x >= 0)    \n",
    "problem =op(z,[mass1,mass2,mass3,mass4 ,mass5,mass6, x_non_negative])\n",
    "problem.solve(solver='glpk')  \n",
    "problem.status\n",
    "print(\"Результат:\")\n",
    "print(x.value)\n",
    "print(\"Стоимость доставки:\")\n",
    "print(problem.objective.value()[0])\n",
    "stop = time.time()\n",
    "print (\"Время :\")\n",
    "print(stop - start)"
   ]
  },
  {
   "cell_type": "code",
   "execution_count": 40,
   "metadata": {},
   "outputs": [
    {
     "name": "stdout",
     "output_type": "stream",
     "text": [
      "     con: array([8.03399409e-08, 1.98486902e-07, 1.27598682e-07])\n",
      "     fun: 214.99999944270843\n",
      " message: 'Optimization terminated successfully.'\n",
      "     nit: 5\n",
      "   slack: array([29.00000022, 10.00000009, 16.0000001 ])\n",
      "  status: 0\n",
      " success: True\n",
      "       x: array([1.17814759e-08, 4.49999998e+01, 8.01637322e-09, 4.06707740e-08,\n",
      "       9.61431590e-09, 2.99999999e+01, 1.99999999e+01, 3.01544961e-08,\n",
      "       5.79416775e-09])\n",
      "Время :\n",
      "0.006292104721069336\n"
     ]
    }
   ],
   "source": [
    "from scipy.optimize import linprog\t\n",
    "import time\n",
    "start = time.time()\n",
    "c = [7, 3, 6,4,8,2,1,5,9]\n",
    "A_ub = [[1,1,1,0,0,0,0,0,0],\n",
    "               [0,0,0,1,1,1,0,0,0],\n",
    "               [0,0,0,0,0,0,1,1,1]] \n",
    "b_ub = [74,40,36] \n",
    "A_eq = [[1,0,0,1,0,0,1,0,0],\n",
    "               [0,1,0,0,1,0,0,1,0],\n",
    "               [0,0,1,0,0,1,0,0,1]] \n",
    "b_eq = [20,45,30] \n",
    "print(linprog(c, A_ub, b_ub, A_eq, b_eq))\n",
    "stop = time.time()\n",
    "print (\"Время :\")\n",
    "print(stop - start)"
   ]
  },
  {
   "cell_type": "code",
   "execution_count": 41,
   "metadata": {},
   "outputs": [],
   "source": [
    "import cvxpy"
   ]
  },
  {
   "cell_type": "code",
   "execution_count": 42,
   "metadata": {},
   "outputs": [
    {
     "data": {
      "text/plain": [
       "'1.0.28'"
      ]
     },
     "execution_count": 42,
     "metadata": {},
     "output_type": "execute_result"
    }
   ],
   "source": [
    "cvxpy.__version__"
   ]
  },
  {
   "cell_type": "code",
   "execution_count": 44,
   "metadata": {},
   "outputs": [],
   "source": [
    "import cvxopt"
   ]
  },
  {
   "cell_type": "code",
   "execution_count": 45,
   "metadata": {},
   "outputs": [
    {
     "data": {
      "text/plain": [
       "'1.2.4'"
      ]
     },
     "execution_count": 45,
     "metadata": {},
     "output_type": "execute_result"
    }
   ],
   "source": [
    "cvxopt.__version__"
   ]
  },
  {
   "cell_type": "code",
   "execution_count": null,
   "metadata": {},
   "outputs": [],
   "source": []
  }
 ],
 "metadata": {
  "kernelspec": {
   "display_name": "Python 3",
   "language": "python",
   "name": "python3"
  },
  "language_info": {
   "codemirror_mode": {
    "name": "ipython",
    "version": 3
   },
   "file_extension": ".py",
   "mimetype": "text/x-python",
   "name": "python",
   "nbconvert_exporter": "python",
   "pygments_lexer": "ipython3",
   "version": "3.7.4"
  }
 },
 "nbformat": 4,
 "nbformat_minor": 4
}

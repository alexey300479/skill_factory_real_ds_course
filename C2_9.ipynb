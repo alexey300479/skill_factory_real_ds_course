{
 "cells": [
  {
   "cell_type": "markdown",
   "metadata": {},
   "source": [
    "# 2.9 Детали try-except"
   ]
  },
  {
   "cell_type": "markdown",
   "metadata": {},
   "source": [
    "## Детали try-except"
   ]
  },
  {
   "cell_type": "markdown",
   "metadata": {},
   "source": [
    "Мы рассмотрели базовый синтаксис try-except, однако у него есть ещё несколько вариаций. Они не часто встречаются на практике, но мы о них расскажем. Иногда в блоке except нам нужен доступ к самому объекту исключения, например, мы хотим получить поясняющее сообщение и вывести его на экран, но при этом продолжить программу дальше. Мы можем это сделать с помощью ключевого слова 'as', за которым идёт имя новой переменной."
   ]
  },
  {
   "cell_type": "code",
   "execution_count": 2,
   "metadata": {},
   "outputs": [
    {
     "name": "stdout",
     "output_type": "stream",
     "text": [
      "division by zero\n",
      "Program ends correctly\n"
     ]
    }
   ],
   "source": [
    "try:  \n",
    "    5/0  \n",
    "except ZeroDivisionError as zero_error:  \n",
    "    # здесь в zero_error мы получаем сам объект исключения  \n",
    "    # print как раз выведет его поясняющее сообщение  \n",
    "    print(zero_error)  \n",
    "  \n",
    "print(\"Program ends correctly\")  \n",
    "  \n",
    "# => division by zero  \n",
    "# => Program ends correctly"
   ]
  },
  {
   "cell_type": "markdown",
   "metadata": {},
   "source": [
    "Ещё один распространённый подход: мы совершаем какое-то промежуточное действие, а потом перевыбрасываем исключение."
   ]
  },
  {
   "cell_type": "code",
   "execution_count": 3,
   "metadata": {},
   "outputs": [
    {
     "name": "stdout",
     "output_type": "stream",
     "text": [
      "Mail to administrator has been sent about invalid literal for int() with base 10: 'poem'\n"
     ]
    },
    {
     "ename": "ValueError",
     "evalue": "invalid literal for int() with base 10: 'poem'",
     "output_type": "error",
     "traceback": [
      "\u001b[0;31m---------------------------------------------------------------------------\u001b[0m",
      "\u001b[0;31mValueError\u001b[0m                                Traceback (most recent call last)",
      "\u001b[0;32m<ipython-input-3-32012dd40c0b>\u001b[0m in \u001b[0;36m<module>\u001b[0;34m\u001b[0m\n\u001b[1;32m      8\u001b[0m \u001b[0;32mexcept\u001b[0m \u001b[0mValueError\u001b[0m \u001b[0;32mas\u001b[0m \u001b[0mdigitized_error\u001b[0m\u001b[0;34m:\u001b[0m\u001b[0;34m\u001b[0m\u001b[0m\n\u001b[1;32m      9\u001b[0m     \u001b[0mnotify_admin\u001b[0m\u001b[0;34m(\u001b[0m\u001b[0mdigitized_error\u001b[0m\u001b[0;34m)\u001b[0m\u001b[0;34m\u001b[0m\u001b[0m\n\u001b[0;32m---> 10\u001b[0;31m     \u001b[0;32mraise\u001b[0m \u001b[0mdigitized_error\u001b[0m\u001b[0;34m\u001b[0m\u001b[0m\n\u001b[0m\u001b[1;32m     11\u001b[0m \u001b[0;34m\u001b[0m\u001b[0m\n\u001b[1;32m     12\u001b[0m \u001b[0;31m# => Mail to administrator has been sent about invalid literal for int() with base 10: 'poem'\u001b[0m\u001b[0;34m\u001b[0m\u001b[0;34m\u001b[0m\u001b[0m\n",
      "\u001b[0;32m<ipython-input-3-32012dd40c0b>\u001b[0m in \u001b[0;36m<module>\u001b[0;34m\u001b[0m\n\u001b[1;32m      5\u001b[0m \u001b[0mvalue\u001b[0m \u001b[0;34m=\u001b[0m \u001b[0;34m\"poem\"\u001b[0m\u001b[0;34m\u001b[0m\u001b[0m\n\u001b[1;32m      6\u001b[0m \u001b[0;32mtry\u001b[0m\u001b[0;34m:\u001b[0m\u001b[0;34m\u001b[0m\u001b[0m\n\u001b[0;32m----> 7\u001b[0;31m     \u001b[0mdigitized\u001b[0m \u001b[0;34m=\u001b[0m \u001b[0mint\u001b[0m\u001b[0;34m(\u001b[0m\u001b[0mvalue\u001b[0m\u001b[0;34m)\u001b[0m\u001b[0;34m\u001b[0m\u001b[0m\n\u001b[0m\u001b[1;32m      8\u001b[0m \u001b[0;32mexcept\u001b[0m \u001b[0mValueError\u001b[0m \u001b[0;32mas\u001b[0m \u001b[0mdigitized_error\u001b[0m\u001b[0;34m:\u001b[0m\u001b[0;34m\u001b[0m\u001b[0m\n\u001b[1;32m      9\u001b[0m     \u001b[0mnotify_admin\u001b[0m\u001b[0;34m(\u001b[0m\u001b[0mdigitized_error\u001b[0m\u001b[0;34m)\u001b[0m\u001b[0;34m\u001b[0m\u001b[0m\n",
      "\u001b[0;31mValueError\u001b[0m: invalid literal for int() with base 10: 'poem'"
     ]
    }
   ],
   "source": [
    "# Пусть у нас есть функция, которая шлёт емейл разработчику об ошибке  \n",
    "def notify_admin(error):  \n",
    "    print(\"Mail to administrator has been sent about\", error)  \n",
    "      \n",
    "value = \"poem\"  \n",
    "try:  \n",
    "    digitized = int(value)  \n",
    "except ValueError as digitized_error:  \n",
    "    notify_admin(digitized_error)  \n",
    "    raise digitized_error  \n",
    "      \n",
    "# => Mail to administrator has been sent about invalid literal for int() with base 10: 'poem'  \n",
    "# ---------------------------------------------------------------------------  \n",
    "# ValueError                                Traceback (most recent call last)  \n",
    "# <ipython-input-121-3fd4cd869d2d> in <module>  \n",
    "#       8 except ValueError as digitized_error:  \n",
    "#       9     notify_admin(digitized_error)  \n",
    "# ---> 10     raise digitized_error  \n",
    "#      11   \n",
    "#      12   \n",
    "  \n",
    "# <ipython-input-121-3fd4cd869d2d> in <module>  \n",
    "#       5 value = \"poem\"  \n",
    "#       6 try:  \n",
    "# ----> 7     digitized = int(value)  \n",
    "#       8 except ValueError as digitized_error:  \n",
    "#       9     notify_admin(digitized_error)  \n",
    "  \n",
    "# ValueError: invalid literal for int() with base 10: 'poem'"
   ]
  },
  {
   "cell_type": "markdown",
   "metadata": {},
   "source": [
    "Обратите внимание, что в начале ошибки есть уведомление о том, что email отправлен. Еще одна полезная функция: для одного try вы можете писать сразу много except на разные исключения."
   ]
  },
  {
   "cell_type": "code",
   "execution_count": 4,
   "metadata": {},
   "outputs": [
    {
     "name": "stdout",
     "output_type": "stream",
     "text": [
      "OS error: [Errno 2] No such file or directory: 'valuble_data.txt'\n"
     ]
    }
   ],
   "source": [
    "try:  \n",
    "    # открываем файл и считываем строку  \n",
    "    data_file = open(\"valuable_data.txt\")  \n",
    "    s = data_file.readline()  \n",
    "    # пробуем преобразовать её в число  \n",
    "    i = float(s.strip())  \n",
    "except OSError as err:  \n",
    "    # если файла нет или его не удаётся прочитать, мы получил ошибку операционной системы   \n",
    "    print(\"OS error: {0}\".format(err))  \n",
    "except ValueError:  \n",
    "    # если данные не преобразуется в число, мы получим ValueError  \n",
    "    print(\"Could not convert data to float\")  \n",
    "  \n",
    "# => OS error: [Errno 2] No such file or directory: 'valuble_data.txt'  "
   ]
  },
  {
   "cell_type": "markdown",
   "metadata": {},
   "source": [
    "У try-except есть блоки else и finally; первый выполняется в случае, если мы не встретили исключение в try, и используется в основном для написания чуть более чистого кода. Finally выполняется в любом случае, даже если возникло непредвиденное исключение или выход с помощью return. Обычно используется для корректного освобождения ресурсов, например, закрытия файлов."
   ]
  },
  {
   "cell_type": "code",
   "execution_count": 8,
   "metadata": {},
   "outputs": [
    {
     "name": "stdout",
     "output_type": "stream",
     "text": [
      "There was some error!\n",
      "Executing final code...\n"
     ]
    }
   ],
   "source": [
    "try:\n",
    "    a = 2 / 0\n",
    "except:\n",
    "    print('There was some error!')\n",
    "else:\n",
    "    print('There is no errors!')\n",
    "finally:\n",
    "    print('Executing final code...')"
   ]
  },
  {
   "cell_type": "code",
   "execution_count": 6,
   "metadata": {},
   "outputs": [
    {
     "name": "stdout",
     "output_type": "stream",
     "text": [
      "There is no errors\n",
      "Executing final code...\n"
     ]
    }
   ],
   "source": [
    "try:\n",
    "    a = 2 * 2\n",
    "except:\n",
    "    print('There was some error!')\n",
    "else:\n",
    "    print('There is no errors')\n",
    "finally:\n",
    "    print('Executing final code...')\n"
   ]
  },
  {
   "cell_type": "markdown",
   "metadata": {},
   "source": [
    "Надеемся, что система исключения для вас стала более понятной, и вы сможете более свободно работать с ошибками."
   ]
  },
  {
   "cell_type": "code",
   "execution_count": null,
   "metadata": {},
   "outputs": [],
   "source": []
  }
 ],
 "metadata": {
  "kernelspec": {
   "display_name": "Python 3",
   "language": "python",
   "name": "python3"
  },
  "language_info": {
   "codemirror_mode": {
    "name": "ipython",
    "version": 3
   },
   "file_extension": ".py",
   "mimetype": "text/x-python",
   "name": "python",
   "nbconvert_exporter": "python",
   "pygments_lexer": "ipython3",
   "version": "3.6.1"
  }
 },
 "nbformat": 4,
 "nbformat_minor": 2
}

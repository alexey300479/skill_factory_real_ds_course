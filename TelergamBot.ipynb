{
 "cells": [
  {
   "cell_type": "code",
   "execution_count": 1,
   "metadata": {},
   "outputs": [],
   "source": [
    "from telegram.ext import Updater, CommandHandler, MessageHandler, Filters"
   ]
  },
  {
   "cell_type": "code",
   "execution_count": 2,
   "metadata": {},
   "outputs": [
    {
     "name": "stderr",
     "output_type": "stream",
     "text": [
      "/home/alexey300479/anaconda3/lib/python3.7/site-packages/ipykernel_launcher.py:1: TelegramDeprecationWarning: Old Handler API is deprecated - see https://git.io/fxJuV for details\n",
      "  \"\"\"Entry point for launching an IPython kernel.\n"
     ]
    }
   ],
   "source": [
    "updater = Updater(token='838126736:AAHAwrzewx3WL0S89FAX2v_JMRc7xUVWcqA')"
   ]
  },
  {
   "cell_type": "code",
   "execution_count": 3,
   "metadata": {},
   "outputs": [],
   "source": [
    "dispatcher = updater.dispatcher"
   ]
  },
  {
   "cell_type": "code",
   "execution_count": 4,
   "metadata": {},
   "outputs": [],
   "source": [
    "def startCommand(bot, update):\n",
    "    print('We are at startCommand now!')\n",
    "    bot.send_message(chat_id=update.message.chat_id, text='Привет, давай пообщаемся!')\n",
    "\n",
    "def stopCommand(bot, update):\n",
    "    print('We are at stopCommand now!')\n",
    "    bot.send_message(chat_id=update.message.chat_id, text='Был рад пообщаться!')\n",
    "\n",
    "def textMessage(bot, update):\n",
    "    print('We are at textMessage now!')\n",
    "    response = 'Получил Ваше сообщение: ' + update.message.text\n",
    "    bot.send_message(chat_id=update.message.chat_id, text=response)"
   ]
  },
  {
   "cell_type": "code",
   "execution_count": 5,
   "metadata": {},
   "outputs": [],
   "source": [
    "start_command_handler = CommandHandler('start', startCommand)"
   ]
  },
  {
   "cell_type": "code",
   "execution_count": 6,
   "metadata": {},
   "outputs": [],
   "source": [
    "stop_command_handler = CommandHandler('stop', stopCommand)"
   ]
  },
  {
   "cell_type": "code",
   "execution_count": 7,
   "metadata": {},
   "outputs": [],
   "source": [
    "text_message_handler = MessageHandler(Filters.text, textMessage)"
   ]
  },
  {
   "cell_type": "code",
   "execution_count": 8,
   "metadata": {},
   "outputs": [],
   "source": [
    "dispatcher.add_handler(start_command_handler)"
   ]
  },
  {
   "cell_type": "code",
   "execution_count": 9,
   "metadata": {},
   "outputs": [],
   "source": [
    "dispatcher.add_handler(stop_command_handler)"
   ]
  },
  {
   "cell_type": "code",
   "execution_count": 10,
   "metadata": {},
   "outputs": [],
   "source": [
    "dispatcher.add_handler(text_message_handler)"
   ]
  },
  {
   "cell_type": "code",
   "execution_count": null,
   "metadata": {},
   "outputs": [
    {
     "name": "stdout",
     "output_type": "stream",
     "text": [
      "We are at textMessage now!\n"
     ]
    }
   ],
   "source": [
    "updater.start_polling(clean=True)\n",
    "updater.idle()"
   ]
  },
  {
   "cell_type": "code",
   "execution_count": null,
   "metadata": {},
   "outputs": [],
   "source": []
  }
 ],
 "metadata": {
  "kernelspec": {
   "display_name": "Python 3",
   "language": "python",
   "name": "python3"
  },
  "language_info": {
   "codemirror_mode": {
    "name": "ipython",
    "version": 3
   },
   "file_extension": ".py",
   "mimetype": "text/x-python",
   "name": "python",
   "nbconvert_exporter": "python",
   "pygments_lexer": "ipython3",
   "version": "3.7.4"
  }
 },
 "nbformat": 4,
 "nbformat_minor": 4
}

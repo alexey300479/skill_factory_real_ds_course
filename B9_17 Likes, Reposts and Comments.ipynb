{
 "cells": [
  {
   "cell_type": "code",
   "execution_count": 1,
   "metadata": {},
   "outputs": [],
   "source": [
    "import requests\n",
    "from pprint import pprint"
   ]
  },
  {
   "cell_type": "code",
   "execution_count": 2,
   "metadata": {},
   "outputs": [],
   "source": [
    "token = 'e8b9a6e6e8b9a6e6e8b9a6e625e8d65b26ee8b9e8b9a6e6b6e05e02384bb4ba4bedff06'"
   ]
  },
  {
   "cell_type": "code",
   "execution_count": 3,
   "metadata": {},
   "outputs": [],
   "source": [
    "url = 'https://api.vk.com/method/wall.get'  \n",
    "params = {  \n",
    "    'domain': 'habr',\n",
    "    'filter': 'owner',\n",
    "    'count': 10,\n",
    "    'offset': 0,\n",
    "    'access_token': token,\n",
    "    'v': 5.95\n",
    "}  \n",
    "response = requests.get(url, params = params) "
   ]
  },
  {
   "cell_type": "code",
   "execution_count": 26,
   "metadata": {},
   "outputs": [
    {
     "data": {
      "text/plain": [
       "{'id': 1279600,\n",
       " 'from_id': -20629724,\n",
       " 'owner_id': -20629724,\n",
       " 'date': 1582959678,\n",
       " 'marked_as_ads': 0,\n",
       " 'post_type': 'post',\n",
       " 'text': 'Главные IT-новости к этом часу.\\n\\nPlague Inc. убрали из App Store в Китае по требованию властей: http://amp.gs/JRKK\\n\\nСенат США одобрил выделение 1 млрд долларов для замены китайского оборудования: http://amp.gs/JRK3\\n\\nФинтех-стартап Revolut отказался выходить на российский рынок: http://amp.gs/JRKH\\n\\nNASA рассказала об изменениях в программе высадки на Луну «Артемида» в 2024 году: http://amp.gs/JRK2\\n\\nFacebook отменил конференцию F8 из-за коронавируса. Game Developers Conference — тоже под угрозой срыва: http://amp.gs/JRKw\\n\\nХакеры взломали систему распознавания лиц Clearview AI, которой пользовались спецслужбы США и Канады: http://amp.gs/JRKF\\n\\nПользователи Facebook в Германии готовы делиться личной информацией за $8, в США — за $3,5: http://amp.gs/JRKX\\n\\nCitrоёn представила электрокар, который можно водить без прав в Европе: http://amp.gs/JRKL\\n\\nИнсайдер рассказал о «Half-Life: Alyx»: http://amp.gs/JRKW\\n\\n#новости@habr',\n",
       " 'attachments': [{'type': 'photo',\n",
       "   'photo': {'id': 457277022,\n",
       "    'album_id': -7,\n",
       "    'owner_id': -20629724,\n",
       "    'user_id': 100,\n",
       "    'sizes': [{'type': 'm',\n",
       "      'url': 'https://sun1-92.userapi.com/oZ7P3M_spkKpzf7sLYq7jL12k-ApcJVFisxf0Q/GbvW9CyUqow.jpg',\n",
       "      'width': 130,\n",
       "      'height': 73},\n",
       "     {'type': 'o',\n",
       "      'url': 'https://sun1-88.userapi.com/fKb2ZJ175z_WmZmm-oMLDrqhs8FCVizJSOb57Q/RbvOW3p_f00.jpg',\n",
       "      'width': 130,\n",
       "      'height': 87},\n",
       "     {'type': 'p',\n",
       "      'url': 'https://sun1-28.userapi.com/c7TPtinOIOR7tcJMp85lhRn3GOBmSLgNbbOUNg/vLqgWO46jOo.jpg',\n",
       "      'width': 200,\n",
       "      'height': 133},\n",
       "     {'type': 'q',\n",
       "      'url': 'https://sun1-26.userapi.com/qpUQlvTFPaR6goavNy7DH6qs1hRraESR5_HxGQ/Mc0CcZ3xKi0.jpg',\n",
       "      'width': 320,\n",
       "      'height': 213},\n",
       "     {'type': 'r',\n",
       "      'url': 'https://sun1-29.userapi.com/mGDqsgJCHKwRSckHawSdAPKLzGs642pOfyoEcw/9CDdU-oxpj8.jpg',\n",
       "      'width': 510,\n",
       "      'height': 340},\n",
       "     {'type': 's',\n",
       "      'url': 'https://sun1-22.userapi.com/BSqiAGphkAzTxBM9D8a4MVMJ-bsuF2NPCjStqQ/8ZqQUGLHGBo.jpg',\n",
       "      'width': 75,\n",
       "      'height': 42},\n",
       "     {'type': 'x',\n",
       "      'url': 'https://sun1-26.userapi.com/RDAICAD5SVfbRTNuQ3qG4X9k_VkPCKqDxg0cNw/Gcfuf3J1zSE.jpg',\n",
       "      'width': 604,\n",
       "      'height': 340},\n",
       "     {'type': 'y',\n",
       "      'url': 'https://sun1-14.userapi.com/HmtTsktYdDgUYCVecOkCp96rqgxe_aZBx-RmxA/QnPHaTDmz3g.jpg',\n",
       "      'width': 807,\n",
       "      'height': 454},\n",
       "     {'type': 'z',\n",
       "      'url': 'https://sun1-94.userapi.com/FvcxgZ-XpL_EyAiKOWmTh7Ve_3RmbIMJ6zkRPA/jiTh9BWsWik.jpg',\n",
       "      'width': 1280,\n",
       "      'height': 720}],\n",
       "    'text': 'Главные IT-новости к этом часу.\\n\\nPlague Inc. убрали из App Store в Китае по требованию властей: http://amp.gs/JRKK\\n\\nСенат США одобрил выделение 1 млрд долларов для замены китайского оборудования: http://amp.gs/JRK3\\n\\nФинтех-стартап Revolut отказался выходить на российский рынок: http://amp.gs/JRKH\\n\\nNASA рассказала об изменениях в программе высадки на Луну «Артемида» в 2024 году: http://amp.gs/JRK2\\n\\nFacebook отменил конференцию F8 из-за коронавируса. Game Developers Conference — тоже под угрозой срыва: http://amp.gs/JRKw\\n\\nХакеры взломали систему распознавания лиц Clearview AI, которой пользовались спецслужбы США и Канады: http://amp.gs/JRKF\\n\\nПользователи Facebook в Германии готовы делиться личной информацией за $8, в США — за $3,5: http://amp.gs/JRKX\\n\\nCitrоёn представила электрокар, который можно водить без прав в Европе: http://amp.gs/JRKL\\n\\nИнсайдер рассказал о «Half-Life: Alyx»: http://amp.gs/JRKW\\n\\n#новости@habr',\n",
       "    'date': 1582959678,\n",
       "    'post_id': 1279600,\n",
       "    'access_key': '0241eda75969d81802'}}],\n",
       " 'post_source': {'type': 'api'},\n",
       " 'comments': {'count': 2, 'can_post': 1},\n",
       " 'likes': {'count': 14, 'user_likes': 0, 'can_like': 1, 'can_publish': 1},\n",
       " 'reposts': {'count': 1, 'user_reposted': 0},\n",
       " 'views': {'count': 3696}}"
      ]
     },
     "execution_count": 26,
     "metadata": {},
     "output_type": "execute_result"
    }
   ],
   "source": [
    "response.json()['response']['items'][1]  "
   ]
  },
  {
   "cell_type": "code",
   "execution_count": 7,
   "metadata": {},
   "outputs": [
    {
     "name": "stdout",
     "output_type": "stream",
     "text": [
      "{'DNS-поиск в Kubernetes.\\n\\nDevOp': [0, 63, 16, 1582909157],\n",
      " '«Полиграф бывал, посылать инте': [3, 127, 11, 1582916406],\n",
      " 'Будни сисадмина: что бесит бол': [7, 83, 10, 1582804919],\n",
      " 'Главные IT-новости к этом часу': [0, 6, 1, 1582959678],\n",
      " 'Может, нам слегка успокоиться ': [0, 33, 0, 1582956066],\n",
      " 'Причуды эволюции: открытие орг': [9, 53, 4, 1582914636],\n",
      " 'Профессия: тестировщик.\\n\\n«Если': [4, 166, 16, 1582911042],\n",
      " 'Работа с GeoJSON в среде Node.': [0, 46, 8, 1582912889],\n",
      " '🇬🇧 Англоязычное за день (28 фе': [0, 14, 2, 1582918269]}\n"
     ]
    }
   ],
   "source": [
    "stats = {}  \n",
    "              \n",
    "for record in response.json()['response']['items'][:]:  \n",
    "    title = record['text'][:30]  \n",
    "    if title:  \n",
    "        stats[title] = [record['comments']['count'], record['likes']['count'], record['reposts']['count'], record['date'] ]  \n",
    "pprint(stats) "
   ]
  },
  {
   "cell_type": "markdown",
   "metadata": {},
   "source": [
    "#### Task 1.\n",
    "Напишите функцию get_smm_index(group_name, token), которая по имени группы и авторизационному токену API возвращает smm_index группы: сумму лайков, комментариев и репостов для последних 10 постов, поделённую на количество участников в группе."
   ]
  },
  {
   "cell_type": "markdown",
   "metadata": {},
   "source": [
    "#### Solution:"
   ]
  },
  {
   "cell_type": "code",
   "execution_count": 28,
   "metadata": {},
   "outputs": [],
   "source": [
    "def get_smm_index(group_name, token):\n",
    "    url = 'https://api.vk.com/method/wall.get'  \n",
    "    params = {  \n",
    "        'domain': group_name,  \n",
    "        'filter': 'owner',  \n",
    "        'count': 10,  \n",
    "        'offset': 0,  \n",
    "        'access_token': token,  \n",
    "        'v': 5.95  \n",
    "    }\n",
    "    \n",
    "    response = requests.get(url, params = params)\n",
    "    \n",
    "    json_response = response.json()['response']\n",
    "    \n",
    "    count = 701443\n",
    "    comments = 0\n",
    "    likes = 0\n",
    "    reposts = 0\n",
    "\n",
    "    for item in json_response['items']:\n",
    "        comments += item['comments']['count']\n",
    "        likes += item['likes']['count']\n",
    "        reposts += item['reposts']['count']\n",
    "\n",
    "    smm_index = (comments + likes + reposts) / count\n",
    "    return smm_index"
   ]
  },
  {
   "cell_type": "code",
   "execution_count": 29,
   "metadata": {},
   "outputs": [
    {
     "data": {
      "text/plain": [
       "0.0011020139911582267"
      ]
     },
     "execution_count": 29,
     "metadata": {},
     "output_type": "execute_result"
    }
   ],
   "source": [
    "get_smm_index('habr', token)"
   ]
  },
  {
   "cell_type": "markdown",
   "metadata": {},
   "source": [
    "#### Conclusion: it's strange, but code above is the one of the right answers!!!"
   ]
  },
  {
   "cell_type": "code",
   "execution_count": null,
   "metadata": {},
   "outputs": [],
   "source": []
  }
 ],
 "metadata": {
  "kernelspec": {
   "display_name": "Python 3",
   "language": "python",
   "name": "python3"
  },
  "language_info": {
   "codemirror_mode": {
    "name": "ipython",
    "version": 3
   },
   "file_extension": ".py",
   "mimetype": "text/x-python",
   "name": "python",
   "nbconvert_exporter": "python",
   "pygments_lexer": "ipython3",
   "version": "3.7.4"
  }
 },
 "nbformat": 4,
 "nbformat_minor": 4
}

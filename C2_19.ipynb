{
 "cells": [
  {
   "cell_type": "markdown",
   "metadata": {},
   "source": [
    "#### Task 1."
   ]
  },
  {
   "cell_type": "markdown",
   "metadata": {},
   "source": [
    "Вы получили сообщение об ошибке. Назовите имя исключения:\n",
    "``` python\n",
    "---------------------------------------------------------------------------\n",
    "TypeError                                 Traceback (most recent call last)\n",
    "ipython-input-207-9a69df7712c2 in module\n",
    "     23     reader = csv.reader(csvfile)\n",
    "     24     # строим таблицу\n",
    "---> 25     imdb_data = build_table(reader)\n",
    "     26 \n",
    "     27 # ---------------------------------------------------------------------------\n",
    "\n",
    "ipython-input-207-9a69df7712c2 in build_table(reader)\n",
    "     15     for row in reader:\n",
    "     16         for header in headers:\n",
    "---> 17             table[header].append(row[header])\n",
    "     18 \n",
    "     19     return table\n",
    "TypeError: list indices must be integers or slices, not str\n",
    "```"
   ]
  },
  {
   "cell_type": "markdown",
   "metadata": {},
   "source": [
    "##### Conclusion: TypeError is the right answer!"
   ]
  },
  {
   "cell_type": "markdown",
   "metadata": {},
   "source": [
    "#### Task 2."
   ]
  },
  {
   "cell_type": "markdown",
   "metadata": {},
   "source": [
    "Напишите функцию safe_exec(ext_func), которая получает на вход функцию func и пробует её выполнить. Если func выбрасывает исключение, то safe_exec выводит поясняющее сообщение этого исключения и возвращает 0. Если func завершается корректно, то мы возращаем результат выполнения функции."
   ]
  },
  {
   "cell_type": "markdown",
   "metadata": {},
   "source": [
    "``` python\n",
    "def zero_div():\n",
    "    return 5/0\n",
    "\n",
    "safe_exec(zero_div)\n",
    "\n",
    "=> division by zero\n",
    "=> 0\n",
    "\n",
    "def normal_div():\n",
    "    return 5/1\n",
    "\n",
    "safe_exec(normal_div)\n",
    "\n",
    "=> 5\n",
    "```"
   ]
  },
  {
   "cell_type": "markdown",
   "metadata": {},
   "source": [
    "#### Solution:"
   ]
  },
  {
   "cell_type": "code",
   "execution_count": 8,
   "metadata": {},
   "outputs": [],
   "source": [
    "def safe_exec(func):\n",
    "    try:\n",
    "        result = func()\n",
    "    except Exception as exception:\n",
    "        print(exception)\n",
    "        return 0\n",
    "    else:\n",
    "        return result"
   ]
  },
  {
   "cell_type": "markdown",
   "metadata": {},
   "source": [
    "#### Tests:"
   ]
  },
  {
   "cell_type": "code",
   "execution_count": 9,
   "metadata": {},
   "outputs": [
    {
     "name": "stdout",
     "output_type": "stream",
     "text": [
      "division by zero\n"
     ]
    },
    {
     "data": {
      "text/plain": [
       "0"
      ]
     },
     "execution_count": 9,
     "metadata": {},
     "output_type": "execute_result"
    }
   ],
   "source": [
    "def zero_div():\n",
    "    return 5/0\n",
    "\n",
    "safe_exec(zero_div)"
   ]
  },
  {
   "cell_type": "code",
   "execution_count": 10,
   "metadata": {},
   "outputs": [
    {
     "data": {
      "text/plain": [
       "5.0"
      ]
     },
     "execution_count": 10,
     "metadata": {},
     "output_type": "execute_result"
    }
   ],
   "source": [
    "def normal_div():\n",
    "    return 5/1\n",
    "\n",
    "safe_exec(normal_div)"
   ]
  },
  {
   "cell_type": "code",
   "execution_count": 15,
   "metadata": {},
   "outputs": [],
   "source": [
    "a = 0.75"
   ]
  },
  {
   "cell_type": "code",
   "execution_count": 16,
   "metadata": {},
   "outputs": [
    {
     "data": {
      "text/plain": [
       "(3, 4)"
      ]
     },
     "execution_count": 16,
     "metadata": {},
     "output_type": "execute_result"
    }
   ],
   "source": [
    "a.as_integer_ratio()"
   ]
  },
  {
   "cell_type": "code",
   "execution_count": 21,
   "metadata": {},
   "outputs": [],
   "source": [
    "class DepartmentReport():\n",
    "\n",
    "    def add_revenue(self, revenue):\n",
    "        \n",
    "        if not hasattr(self, 'revenues'):\n",
    "            self.revenues = []\n",
    "        \n",
    "        self.revenues.append(revenue)\n",
    "    \n",
    "    def average_revenue(self):\n",
    "\n",
    "        if not hasattr(self, 'revenues'):\n",
    "            self.revenues = []\n",
    "            return 0\n",
    "        \n",
    "        return sum(self.revenues) / len(self.revenues)"
   ]
  },
  {
   "cell_type": "code",
   "execution_count": 22,
   "metadata": {},
   "outputs": [
    {
     "name": "stdout",
     "output_type": "stream",
     "text": [
      "[1000000, 400000]\n",
      "700000.0\n"
     ]
    }
   ],
   "source": [
    "report = DepartmentReport()\n",
    "report.add_revenue(1000000)\n",
    "report.add_revenue(400000)\n",
    "print(report.revenues)\n",
    "print(report.average_revenue())"
   ]
  },
  {
   "cell_type": "code",
   "execution_count": null,
   "metadata": {},
   "outputs": [],
   "source": []
  }
 ],
 "metadata": {
  "kernelspec": {
   "display_name": "Python 3",
   "language": "python",
   "name": "python3"
  },
  "language_info": {
   "codemirror_mode": {
    "name": "ipython",
    "version": 3
   },
   "file_extension": ".py",
   "mimetype": "text/x-python",
   "name": "python",
   "nbconvert_exporter": "python",
   "pygments_lexer": "ipython3",
   "version": "3.6.1"
  }
 },
 "nbformat": 4,
 "nbformat_minor": 2
}
